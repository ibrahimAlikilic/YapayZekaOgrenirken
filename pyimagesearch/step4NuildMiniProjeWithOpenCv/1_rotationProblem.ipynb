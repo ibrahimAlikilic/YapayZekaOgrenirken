{
 "cells": [
  {
   "cell_type": "code",
   "execution_count": 1,
   "metadata": {},
   "outputs": [],
   "source": [
    "import numpy as np\n",
    "import argparse\n",
    "import imutils\n",
    "import cv2"
   ]
  },
  {
   "cell_type": "markdown",
   "metadata": {},
   "source": [
    "argparse Modülü <br>\n",
    "Giriş : <br>\n",
    "Yazdığımız her uygulama grafik arayüzüne sahip olmaz. Bazı uygulamalar komut satırına daha uygundur ve bu uygulamalar bazı parametrelere ihtiyaç duyar. argparse modülü kullanıcıdan aldığımız parametreler için yardım mesajları, nasıl kullanıldığına yönelik mesajları üretir. Ayrıca bu modül kullanıcı geçersiz parametre girerse uygun hata mesajını bastırır.<br>\n",
    "Bunu okuduğum site linki : https://python-istihza.yazbel.com/standart_moduller/argparse.html"
   ]
  },
  {
   "cell_type": "markdown",
   "metadata": {},
   "source": [
    "# imutils : <br>\n",
    "Yaya tanıma (pedestrian detection) video takip, kişi davranış analizi, akıllı arabalar için sürücü destek sistemi gibi farklı uygulamalarda kullanılabilir. Yaya tespiti probleminde makine öğrenmesi teknikleri yaygın olarak kullanılmaktadır, bu tekniklerde eğitilmiş sınıflandırıcılar ile görüntü içerisindeki yaya tespit edilmeye çalışılır. Sınıflama yapılırken yani bizim örneğimizde görüntüdeki insanları bulurken, uygun bir sınıflandırıcı bulmak kadar bulunacak nesneye ait olan seçici/ayırt edici bir özelliğin (feature) çıkarılabilir olması da çok önemlidir. Yayaların tanınması probleminde HOG (Histograms of Oriented Gradient) ile özellik çıkarılması yönteminin başarılı sonuçlar verdiği gösterilmiştir.<br>\n",
    "HOG sadece kişi tanıma değil farklı nesnelerin tanınmasında da özellik çıkarımı için kullanılmaktadır ve OPENCV içerisinde implementasyonu gerçekleştirilmiştir. Bizim örneğimizde HOG kullanarak görüntü üzerindeki insanları tanımaya çalışacağız. Burada tahmin edeceğiniz üzere görüntü üzerinde bir pencere dolaştırmak ve bu pencerelerde arama yapmak gerekecek, Çünkü amacımız kişileri bulmak ve bir dikdörtgen içerisine almak. Görüntü üzerinde pencere gezdiriyoruz diyelim, kişileri neye göre ve nasıl tanıyacağız. Yani gezdirilen pencerenin içinde ağaç mı var, tabela mı, araba mı yoksa insan mı? Cevabını aradığımız soru bu!. İşte burada yazının başında bahsettiğimiz HOG iyi sonuçlar verdiği için tercih edilmekte. Tabi burada bir tanıma işlemi yapmak istediğimiz için, aslında bir makine öğrenmesi tekniği uygulamamız gerekiyor. Yani önce bir grup etiketlenmiş veriye HOG ile özellik çıkarımı yapıp, seçtiğimiz bir sınıflandırıcıya verip, bu sınıflandırıcıyı eğitmemiz gerekiyor. Daha sonra verdiğimiz yeni bir girdide, sınıflandırıcımız öğrenme kapasitesine göre bize bir cevap veriyor.\n",
    "\n",
    "Neyseki OPENCV içerisinde halihazırda eğitilmiş HOG + Linear SVM modeli mevcut. Biz de bunu kullanarak görüntü ya da video üzerinde yaya tanıma işlemini gerçekleştirebiliriz. Bu yazı kapsamında vereceğim örnekte KAIST Multispectral Pedestrian Detection  veri seti kullanılmıştır Bu veri setinin avantajı RGB + Thermal band içermesidir. Hem böylelikle yaya tespitine örnek vermekle birlikte thermal bandının bu problemde kullanımının getirdiği avantajları da görmüş olacağız.<br>\n",
    "Bunu okuduğum site linki : https://ibrahimdelibasoglu.blogspot.com/2017/01/python-yaya-tespiti-goruntu-isleme.html"
   ]
  },
  {
   "cell_type": "code",
   "execution_count": 1,
   "metadata": {},
   "outputs": [
    {
     "ename": "NameError",
     "evalue": "name 'argparse' is not defined",
     "output_type": "error",
     "traceback": [
      "\u001b[1;31m---------------------------------------------------------------------------\u001b[0m",
      "\u001b[1;31mNameError\u001b[0m                                 Traceback (most recent call last)",
      "\u001b[1;32mc:\\Users\\ibo_m\\Desktop\\Yapay Zeka\\pyimagesearch\\step4NuildMiniProjeWithOpenCv\\1_rotationProblem.ipynb Cell 4\u001b[0m line \u001b[0;36m2\n\u001b[0;32m      <a href='vscode-notebook-cell:/c%3A/Users/ibo_m/Desktop/Yapay%20Zeka/pyimagesearch/step4NuildMiniProjeWithOpenCv/1_rotationProblem.ipynb#W3sZmlsZQ%3D%3D?line=0'>1</a>\u001b[0m \u001b[39m# construct the argument parse and parse the arguments\u001b[39;00m\n\u001b[1;32m----> <a href='vscode-notebook-cell:/c%3A/Users/ibo_m/Desktop/Yapay%20Zeka/pyimagesearch/step4NuildMiniProjeWithOpenCv/1_rotationProblem.ipynb#W3sZmlsZQ%3D%3D?line=1'>2</a>\u001b[0m ap \u001b[39m=\u001b[39m argparse\u001b[39m.\u001b[39mArgumentParser()\n\u001b[0;32m      <a href='vscode-notebook-cell:/c%3A/Users/ibo_m/Desktop/Yapay%20Zeka/pyimagesearch/step4NuildMiniProjeWithOpenCv/1_rotationProblem.ipynb#W3sZmlsZQ%3D%3D?line=2'>3</a>\u001b[0m ap\u001b[39m.\u001b[39madd_argument(\u001b[39m\"\u001b[39m\u001b[39m-i\u001b[39m\u001b[39m\"\u001b[39m, \u001b[39m\"\u001b[39m\u001b[39m--img1\u001b[39m\u001b[39m\"\u001b[39m, required\u001b[39m=\u001b[39m\u001b[39mTrue\u001b[39;00m,\n\u001b[0;32m      <a href='vscode-notebook-cell:/c%3A/Users/ibo_m/Desktop/Yapay%20Zeka/pyimagesearch/step4NuildMiniProjeWithOpenCv/1_rotationProblem.ipynb#W3sZmlsZQ%3D%3D?line=3'>4</a>\u001b[0m \thelp\u001b[39m=\u001b[39m\u001b[39m\"\u001b[39m\u001b[39mpath to the image file\u001b[39m\u001b[39m\"\u001b[39m)\n\u001b[0;32m      <a href='vscode-notebook-cell:/c%3A/Users/ibo_m/Desktop/Yapay%20Zeka/pyimagesearch/step4NuildMiniProjeWithOpenCv/1_rotationProblem.ipynb#W3sZmlsZQ%3D%3D?line=4'>5</a>\u001b[0m args \u001b[39m=\u001b[39m \u001b[39mvars\u001b[39m(ap\u001b[39m.\u001b[39mparse_args())\n",
      "\u001b[1;31mNameError\u001b[0m: name 'argparse' is not defined"
     ]
    }
   ],
   "source": []
  },
  {
   "cell_type": "code",
   "execution_count": null,
   "metadata": {},
   "outputs": [],
   "source": []
  }
 ],
 "metadata": {
  "kernelspec": {
   "display_name": "Python 3",
   "language": "python",
   "name": "python3"
  },
  "language_info": {
   "codemirror_mode": {
    "name": "ipython",
    "version": 3
   },
   "file_extension": ".py",
   "mimetype": "text/x-python",
   "name": "python",
   "nbconvert_exporter": "python",
   "pygments_lexer": "ipython3",
   "version": "3.11.4"
  }
 },
 "nbformat": 4,
 "nbformat_minor": 2
}
