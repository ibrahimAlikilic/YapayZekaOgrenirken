{
 "cells": [
  {
   "cell_type": "code",
   "execution_count": 6,
   "metadata": {},
   "outputs": [
    {
     "ename": "AttributeError",
     "evalue": "'NoneType' object has no attribute 'flatten'",
     "output_type": "error",
     "traceback": [
      "\u001b[1;31m---------------------------------------------------------------------------\u001b[0m",
      "\u001b[1;31mAttributeError\u001b[0m                            Traceback (most recent call last)",
      "\u001b[1;32mc:\\Users\\ibo_m\\Desktop\\Yapay Zeka\\pyimagesearch\\step4NuildMiniProjeWithOpenCv\\src\\grfikCikarmaHatirlamam.ipynb Cell 1\u001b[0m line \u001b[0;36m9\n\u001b[0;32m      <a href='vscode-notebook-cell:/c%3A/Users/ibo_m/Desktop/Yapay%20Zeka/pyimagesearch/step4NuildMiniProjeWithOpenCv/src/grfikCikarmaHatirlamam.ipynb#W0sZmlsZQ%3D%3D?line=5'>6</a>\u001b[0m img \u001b[39m=\u001b[39m cv2\u001b[39m.\u001b[39mimread(\u001b[39m\"\u001b[39m\u001b[39minput\u001b[39m\u001b[39m\\\\\u001b[39;00m\u001b[39mmanzara-fotografciligi-1.jpg\u001b[39m\u001b[39m\"\u001b[39m, cv2\u001b[39m.\u001b[39mIMREAD_GRAYSCALE)\n\u001b[0;32m      <a href='vscode-notebook-cell:/c%3A/Users/ibo_m/Desktop/Yapay%20Zeka/pyimagesearch/step4NuildMiniProjeWithOpenCv/src/grfikCikarmaHatirlamam.ipynb#W0sZmlsZQ%3D%3D?line=7'>8</a>\u001b[0m \u001b[39m# Histogramı hesapla\u001b[39;00m\n\u001b[1;32m----> <a href='vscode-notebook-cell:/c%3A/Users/ibo_m/Desktop/Yapay%20Zeka/pyimagesearch/step4NuildMiniProjeWithOpenCv/src/grfikCikarmaHatirlamam.ipynb#W0sZmlsZQ%3D%3D?line=8'>9</a>\u001b[0m hist, bins \u001b[39m=\u001b[39m np\u001b[39m.\u001b[39mhistogram(img\u001b[39m.\u001b[39;49mflatten(), \u001b[39m256\u001b[39m, [\u001b[39m0\u001b[39m, \u001b[39m256\u001b[39m])\n\u001b[0;32m     <a href='vscode-notebook-cell:/c%3A/Users/ibo_m/Desktop/Yapay%20Zeka/pyimagesearch/step4NuildMiniProjeWithOpenCv/src/grfikCikarmaHatirlamam.ipynb#W0sZmlsZQ%3D%3D?line=10'>11</a>\u001b[0m \u001b[39m# Kumulatif histogramu oluştur\u001b[39;00m\n\u001b[0;32m     <a href='vscode-notebook-cell:/c%3A/Users/ibo_m/Desktop/Yapay%20Zeka/pyimagesearch/step4NuildMiniProjeWithOpenCv/src/grfikCikarmaHatirlamam.ipynb#W0sZmlsZQ%3D%3D?line=11'>12</a>\u001b[0m cdf \u001b[39m=\u001b[39m hist\u001b[39m.\u001b[39mcumsum()\n",
      "\u001b[1;31mAttributeError\u001b[0m: 'NoneType' object has no attribute 'flatten'"
     ]
    }
   ],
   "source": [
    "import cv2\n",
    "import matplotlib.pyplot as plt\n",
    "import numpy as np\n",
    "\n",
    "# Fotoğrafı oku\n",
    "img = cv2.imread(\"C:\\\\Users\\\\ibo_m\\\\Desktop\\\\Yapay Zeka\\\\pyimagesearch\\\\step4NuildMiniProjeWithOpenCv\\\\input\\\\manzara-fotografciligi-1.jpg\", cv2.IMREAD_GRAYSCALE)\n",
    "\n",
    "# Histogramı hesapla\n",
    "hist, bins = np.histogram(img.flatten(), 256, [0, 256])\n",
    "\n",
    "# Kumulatif histogramu oluştur\n",
    "cdf = hist.cumsum()\n",
    "\n",
    "# Normalize et\n",
    "cdf_normalized = cdf * hist.max() / cdf.max()\n",
    "\n",
    "# Histogram ve kümülatif histogramu çiz\n",
    "plt.subplot(121)\n",
    "plt.hist(img.flatten(), 256, [0, 256], color='r')\n",
    "plt.xlim([0, 256])\n",
    "plt.title('Histogram')\n",
    "\n",
    "plt.subplot(122)\n",
    "plt.plot(cdf_normalized, color='b')\n",
    "plt.title('Cumulative Distribution Function (CDF)')\n",
    "\n",
    "plt.show()\n"
   ]
  },
  {
   "cell_type": "code",
   "execution_count": null,
   "metadata": {},
   "outputs": [],
   "source": []
  }
 ],
 "metadata": {
  "kernelspec": {
   "display_name": "Python 3",
   "language": "python",
   "name": "python3"
  },
  "language_info": {
   "codemirror_mode": {
    "name": "ipython",
    "version": 3
   },
   "file_extension": ".py",
   "mimetype": "text/x-python",
   "name": "python",
   "nbconvert_exporter": "python",
   "pygments_lexer": "ipython3",
   "version": "3.11.4"
  }
 },
 "nbformat": 4,
 "nbformat_minor": 2
}
