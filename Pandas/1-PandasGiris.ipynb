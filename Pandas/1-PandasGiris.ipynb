{
 "cells": [
  {
   "cell_type": "code",
   "execution_count": 1,
   "id": "4b861902",
   "metadata": {},
   "outputs": [],
   "source": [
    "import numpy as np\n",
    "import pandas as pd"
   ]
  },
  {
   "cell_type": "markdown",
   "id": "d241164b",
   "metadata": {},
   "source": [
    "# Seriler\n"
   ]
  },
  {
   "cell_type": "code",
   "execution_count": 2,
   "id": "023f08ed",
   "metadata": {},
   "outputs": [],
   "source": [
    "benimSozlugum={\"ALi\":50,\"Veli\":80,\"Hasan\":28}"
   ]
  },
  {
   "cell_type": "code",
   "execution_count": 3,
   "id": "32a337c9",
   "metadata": {},
   "outputs": [
    {
     "data": {
      "text/plain": [
       "ALi      50\n",
       "Veli     80\n",
       "Hasan    28\n",
       "dtype: int64"
      ]
     },
     "execution_count": 3,
     "metadata": {},
     "output_type": "execute_result"
    }
   ],
   "source": [
    "pd.Series(benimSozlugum)"
   ]
  },
  {
   "cell_type": "code",
   "execution_count": 4,
   "id": "4e2225f8",
   "metadata": {},
   "outputs": [],
   "source": [
    "benimYaslarim=[50,80,28]"
   ]
  },
  {
   "cell_type": "code",
   "execution_count": 7,
   "id": "dc9160c5",
   "metadata": {},
   "outputs": [],
   "source": [
    "benimIsimlerim=[\"ALi\",\"Veli\",\"Hasan\"]"
   ]
  },
  {
   "cell_type": "code",
   "execution_count": 8,
   "id": "8589152b",
   "metadata": {},
   "outputs": [
    {
     "data": {
      "text/plain": [
       "ALi      50\n",
       "Veli     80\n",
       "Hasan    28\n",
       "dtype: int64"
      ]
     },
     "execution_count": 8,
     "metadata": {},
     "output_type": "execute_result"
    }
   ],
   "source": [
    "pd.Series(data = benimYaslarim , index = benimIsimlerim)"
   ]
  },
  {
   "cell_type": "code",
   "execution_count": 9,
   "id": "85cf3a9f",
   "metadata": {},
   "outputs": [],
   "source": [
    "numpyDizisi=[50,80,28]"
   ]
  },
  {
   "cell_type": "code",
   "execution_count": 10,
   "id": "8fd31ad8",
   "metadata": {},
   "outputs": [
    {
     "data": {
      "text/plain": [
       "0    50\n",
       "1    80\n",
       "2    28\n",
       "dtype: int64"
      ]
     },
     "execution_count": 10,
     "metadata": {},
     "output_type": "execute_result"
    }
   ],
   "source": [
    "pd.Series(numpyDizisi)"
   ]
  },
  {
   "cell_type": "code",
   "execution_count": 11,
   "id": "b889d648",
   "metadata": {},
   "outputs": [
    {
     "data": {
      "text/plain": [
       "ALi      50\n",
       "Veli     80\n",
       "Hasan    28\n",
       "dtype: int64"
      ]
     },
     "execution_count": 11,
     "metadata": {},
     "output_type": "execute_result"
    }
   ],
   "source": [
    "pd.Series(numpyDizisi,benimIsimlerim)"
   ]
  },
  {
   "cell_type": "code",
   "execution_count": 13,
   "id": "a29e8c79",
   "metadata": {},
   "outputs": [
    {
     "data": {
      "text/plain": [
       "1      Ali\n",
       "2     Veli\n",
       "3    Hasan\n",
       "dtype: object"
      ]
     },
     "execution_count": 13,
     "metadata": {},
     "output_type": "execute_result"
    }
   ],
   "source": [
    "pd.Series([\"Ali\",\"Veli\",\"Hasan\"],[1,2,3])"
   ]
  },
  {
   "cell_type": "markdown",
   "id": "566dd772",
   "metadata": {},
   "source": [
    "# Örnek"
   ]
  },
  {
   "cell_type": "code",
   "execution_count": 15,
   "id": "fcd0620b",
   "metadata": {},
   "outputs": [],
   "source": [
    "yarismaSonucu1=pd.Series([20,10,5],[\"ali\",\"veli\",\"hasan\"])"
   ]
  },
  {
   "cell_type": "code",
   "execution_count": 18,
   "id": "bf441e5f",
   "metadata": {},
   "outputs": [],
   "source": [
    "yarismaSonucu2=pd.Series([10,5,20],[\"ali\",\"veli\",\"hasan\"])"
   ]
  },
  {
   "cell_type": "code",
   "execution_count": 19,
   "id": "451982e1",
   "metadata": {},
   "outputs": [
    {
     "data": {
      "text/plain": [
       "20"
      ]
     },
     "execution_count": 19,
     "metadata": {},
     "output_type": "execute_result"
    }
   ],
   "source": [
    "yarismaSonucu1[\"ali\"]"
   ]
  },
  {
   "cell_type": "code",
   "execution_count": 22,
   "id": "260e7bf8",
   "metadata": {},
   "outputs": [],
   "source": [
    "sonSonuc=(yarismaSonucu1+yarismaSonucu2)/2"
   ]
  },
  {
   "cell_type": "code",
   "execution_count": 23,
   "id": "8589f44b",
   "metadata": {},
   "outputs": [
    {
     "data": {
      "text/plain": [
       "ali      15.0\n",
       "veli      7.5\n",
       "hasan    12.5\n",
       "dtype: float64"
      ]
     },
     "execution_count": 23,
     "metadata": {},
     "output_type": "execute_result"
    }
   ],
   "source": [
    "sonSonuc"
   ]
  },
  {
   "cell_type": "markdown",
   "id": "fdb411ef",
   "metadata": {},
   "source": [
    "# Farklı olunca ne oluyor Örnek 2"
   ]
  },
  {
   "cell_type": "code",
   "execution_count": 27,
   "id": "c391ffb7",
   "metadata": {},
   "outputs": [],
   "source": [
    "a=pd.Series([1,2,5,3,4,77,8,95],[\"q\",\"w\",\"e\",\"r\",\"t\",\"t\",\"y\",\"u\"])"
   ]
  },
  {
   "cell_type": "code",
   "execution_count": 28,
   "id": "212dcdcb",
   "metadata": {},
   "outputs": [],
   "source": [
    "b=pd.Series([11,22,33,44,55,66],[\"q\",\"w\",\"a\",\"d\",\"f\",\"u\"])"
   ]
  },
  {
   "cell_type": "code",
   "execution_count": 29,
   "id": "f71895d6",
   "metadata": {},
   "outputs": [
    {
     "data": {
      "text/plain": [
       "a      NaN\n",
       "d      NaN\n",
       "e      NaN\n",
       "f      NaN\n",
       "q     12.0\n",
       "r      NaN\n",
       "t      NaN\n",
       "t      NaN\n",
       "u    161.0\n",
       "w     24.0\n",
       "y      NaN\n",
       "dtype: float64"
      ]
     },
     "execution_count": 29,
     "metadata": {},
     "output_type": "execute_result"
    }
   ],
   "source": [
    "a+b"
   ]
  },
  {
   "cell_type": "code",
   "execution_count": null,
   "id": "38939f5a",
   "metadata": {},
   "outputs": [],
   "source": []
  }
 ],
 "metadata": {
  "kernelspec": {
   "display_name": "Python 3 (ipykernel)",
   "language": "python",
   "name": "python3"
  },
  "language_info": {
   "codemirror_mode": {
    "name": "ipython",
    "version": 3
   },
   "file_extension": ".py",
   "mimetype": "text/x-python",
   "name": "python",
   "nbconvert_exporter": "python",
   "pygments_lexer": "ipython3",
   "version": "3.9.13"
  }
 },
 "nbformat": 4,
 "nbformat_minor": 5
}
