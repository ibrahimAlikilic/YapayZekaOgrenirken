{
 "cells": [
  {
   "cell_type": "code",
   "execution_count": 1,
   "id": "c02418d6",
   "metadata": {},
   "outputs": [],
   "source": [
    "import numpy as np"
   ]
  },
  {
   "cell_type": "code",
   "execution_count": 2,
   "id": "7f772a43",
   "metadata": {},
   "outputs": [
    {
     "data": {
      "text/plain": [
       "array([ 0,  1,  2,  3,  4,  5,  6,  7,  8,  9, 10, 11, 12, 13, 14])"
      ]
     },
     "execution_count": 2,
     "metadata": {},
     "output_type": "execute_result"
    }
   ],
   "source": [
    "benimDizim=np.arange(0,15)\n",
    "benimDizim"
   ]
  },
  {
   "cell_type": "code",
   "execution_count": 3,
   "id": "c6e7dd9a",
   "metadata": {},
   "outputs": [],
   "source": [
    "benimDizim[3:7]=-2 # 3. index dahil 7. index hariç -2 yap demek"
   ]
  },
  {
   "cell_type": "code",
   "execution_count": 5,
   "id": "f2aecc57",
   "metadata": {},
   "outputs": [
    {
     "data": {
      "text/plain": [
       "array([ 0,  1,  2, -2, -2, -2, -2,  7,  8,  9, 10, 11, 12, 13, 14])"
      ]
     },
     "execution_count": 5,
     "metadata": {},
     "output_type": "execute_result"
    }
   ],
   "source": [
    "benimDizim\n"
   ]
  },
  {
   "cell_type": "markdown",
   "id": "fce2f4cb",
   "metadata": {},
   "source": [
    "# Diziden eleman alıp başka diziye koyup sonra o dizide o elemanları değiştirince orjinalinde de değişiyor"
   ]
  },
  {
   "cell_type": "code",
   "execution_count": 7,
   "id": "8463ca43",
   "metadata": {},
   "outputs": [],
   "source": [
    "slicingDizisi=benimDizim[2:10]"
   ]
  },
  {
   "cell_type": "code",
   "execution_count": 8,
   "id": "e22749ff",
   "metadata": {},
   "outputs": [],
   "source": [
    "slicingDizisi[:]=13"
   ]
  },
  {
   "cell_type": "code",
   "execution_count": 9,
   "id": "9557612b",
   "metadata": {},
   "outputs": [
    {
     "data": {
      "text/plain": [
       "array([13, 13, 13, 13, 13, 13, 13, 13])"
      ]
     },
     "execution_count": 9,
     "metadata": {},
     "output_type": "execute_result"
    }
   ],
   "source": [
    "slicingDizisi"
   ]
  },
  {
   "cell_type": "code",
   "execution_count": 10,
   "id": "dc72d3d2",
   "metadata": {},
   "outputs": [
    {
     "data": {
      "text/plain": [
       "array([ 0,  1, 13, 13, 13, 13, 13, 13, 13, 13, 10, 11, 12, 13, 14])"
      ]
     },
     "execution_count": 10,
     "metadata": {},
     "output_type": "execute_result"
    }
   ],
   "source": [
    "benimDizim"
   ]
  },
  {
   "cell_type": "markdown",
   "id": "2353e089",
   "metadata": {},
   "source": [
    "# Değiştirmeme yolu : \n"
   ]
  },
  {
   "cell_type": "code",
   "execution_count": 11,
   "id": "81277806",
   "metadata": {},
   "outputs": [],
   "source": [
    "ornekDizi=np.arange(0,30)"
   ]
  },
  {
   "cell_type": "code",
   "execution_count": 12,
   "id": "304a2345",
   "metadata": {},
   "outputs": [],
   "source": [
    "ornekdiziCopy=ornekDizi.copy()"
   ]
  },
  {
   "cell_type": "code",
   "execution_count": 13,
   "id": "801179b5",
   "metadata": {},
   "outputs": [],
   "source": [
    "ornekdiziCopyAlım=ornekdiziCopy[3:13]"
   ]
  },
  {
   "cell_type": "code",
   "execution_count": 14,
   "id": "86c37a56",
   "metadata": {},
   "outputs": [],
   "source": [
    "ornekdiziCopyAlım[5:12]=888"
   ]
  },
  {
   "cell_type": "code",
   "execution_count": 15,
   "id": "2bbccbce",
   "metadata": {},
   "outputs": [
    {
     "data": {
      "text/plain": [
       "array([ 0,  1,  2,  3,  4,  5,  6,  7,  8,  9, 10, 11, 12, 13, 14, 15, 16,\n",
       "       17, 18, 19, 20, 21, 22, 23, 24, 25, 26, 27, 28, 29])"
      ]
     },
     "execution_count": 15,
     "metadata": {},
     "output_type": "execute_result"
    }
   ],
   "source": [
    "ornekDizi"
   ]
  },
  {
   "cell_type": "code",
   "execution_count": 16,
   "id": "f8a4aab2",
   "metadata": {},
   "outputs": [
    {
     "data": {
      "text/plain": [
       "array([  0,   1,   2,   3,   4,   5,   6,   7, 888, 888, 888, 888, 888,\n",
       "        13,  14,  15,  16,  17,  18,  19,  20,  21,  22,  23,  24,  25,\n",
       "        26,  27,  28,  29])"
      ]
     },
     "execution_count": 16,
     "metadata": {},
     "output_type": "execute_result"
    }
   ],
   "source": [
    "ornekdiziCopy"
   ]
  },
  {
   "cell_type": "code",
   "execution_count": 17,
   "id": "42a4f123",
   "metadata": {},
   "outputs": [
    {
     "data": {
      "text/plain": [
       "array([  3,   4,   5,   6,   7, 888, 888, 888, 888, 888])"
      ]
     },
     "execution_count": 17,
     "metadata": {},
     "output_type": "execute_result"
    }
   ],
   "source": [
    "ornekdiziCopyAlım"
   ]
  },
  {
   "cell_type": "markdown",
   "id": "c8a23e78",
   "metadata": {},
   "source": [
    "# matrix"
   ]
  },
  {
   "cell_type": "code",
   "execution_count": 37,
   "id": "2ece6f47",
   "metadata": {},
   "outputs": [],
   "source": [
    "benimMatrixim=np.random.randint(0,14,(3,3))"
   ]
  },
  {
   "cell_type": "code",
   "execution_count": 38,
   "id": "19172bc7",
   "metadata": {},
   "outputs": [
    {
     "data": {
      "text/plain": [
       "array([[ 3,  3,  5],\n",
       "       [13, 12, 12],\n",
       "       [ 0, 11,  0]])"
      ]
     },
     "execution_count": 38,
     "metadata": {},
     "output_type": "execute_result"
    }
   ],
   "source": [
    "benimMatrixim"
   ]
  },
  {
   "cell_type": "code",
   "execution_count": 39,
   "id": "44fc0fbf",
   "metadata": {},
   "outputs": [
    {
     "data": {
      "text/plain": [
       "11"
      ]
     },
     "execution_count": 39,
     "metadata": {},
     "output_type": "execute_result"
    }
   ],
   "source": [
    "benimMatrixim[2][1]"
   ]
  },
  {
   "cell_type": "code",
   "execution_count": 40,
   "id": "c6dbb7a4",
   "metadata": {},
   "outputs": [
    {
     "data": {
      "text/plain": [
       "array([11,  0])"
      ]
     },
     "execution_count": 40,
     "metadata": {},
     "output_type": "execute_result"
    }
   ],
   "source": [
    "benimMatrixim[2][1:]"
   ]
  },
  {
   "cell_type": "code",
   "execution_count": 45,
   "id": "ff651967",
   "metadata": {},
   "outputs": [],
   "source": [
    "benimNumpyDizim=np.arange(0,60,5)"
   ]
  },
  {
   "cell_type": "code",
   "execution_count": 49,
   "id": "a54d9a91",
   "metadata": {},
   "outputs": [],
   "source": [
    "YenibenimNumpyDizim=benimNumpyDizim.reshape(4,3)"
   ]
  },
  {
   "cell_type": "code",
   "execution_count": 50,
   "id": "62e5a4d6",
   "metadata": {},
   "outputs": [
    {
     "data": {
      "text/plain": [
       "array([[ 0,  5, 10],\n",
       "       [30, 35, 40],\n",
       "       [45, 50, 55]])"
      ]
     },
     "execution_count": 50,
     "metadata": {},
     "output_type": "execute_result"
    }
   ],
   "source": [
    "YenibenimNumpyDizim[[0,2,3]]"
   ]
  },
  {
   "cell_type": "markdown",
   "id": "9436d194",
   "metadata": {},
   "source": [
    "# Operasyonlar"
   ]
  },
  {
   "cell_type": "code",
   "execution_count": 55,
   "id": "b8b17c4a",
   "metadata": {},
   "outputs": [],
   "source": [
    "yeniBirDizi=np.random.randint(1,100,20)"
   ]
  },
  {
   "cell_type": "code",
   "execution_count": 56,
   "id": "513679dc",
   "metadata": {},
   "outputs": [
    {
     "data": {
      "text/plain": [
       "array([95, 94, 14, 63, 11, 97, 82, 29, 78, 76, 14, 49, 67, 78, 13,  5, 79,\n",
       "       85, 15, 27])"
      ]
     },
     "execution_count": 56,
     "metadata": {},
     "output_type": "execute_result"
    }
   ],
   "source": [
    "yeniBirDizi"
   ]
  },
  {
   "cell_type": "code",
   "execution_count": 59,
   "id": "8fbce47c",
   "metadata": {},
   "outputs": [],
   "source": [
    "sonucDizisi=yeniBirDizi>53"
   ]
  },
  {
   "cell_type": "code",
   "execution_count": 60,
   "id": "26424bf2",
   "metadata": {},
   "outputs": [
    {
     "data": {
      "text/plain": [
       "array([95, 94, 63, 97, 82, 78, 76, 67, 78, 79, 85])"
      ]
     },
     "execution_count": 60,
     "metadata": {},
     "output_type": "execute_result"
    }
   ],
   "source": [
    "yeniBirDizi[sonucDizisi]"
   ]
  },
  {
   "cell_type": "code",
   "execution_count": 61,
   "id": "a5f0e33e",
   "metadata": {},
   "outputs": [
    {
     "data": {
      "text/plain": [
       "array([95, 94, 63, 97, 82, 78, 76, 67, 78, 79, 85])"
      ]
     },
     "execution_count": 61,
     "metadata": {},
     "output_type": "execute_result"
    }
   ],
   "source": [
    "yeniBirDizi[yeniBirDizi>53]"
   ]
  },
  {
   "cell_type": "code",
   "execution_count": 62,
   "id": "a94ebc5a",
   "metadata": {},
   "outputs": [],
   "source": [
    "sonDizi=np.arange(0,24)"
   ]
  },
  {
   "cell_type": "code",
   "execution_count": 64,
   "id": "36850d84",
   "metadata": {},
   "outputs": [
    {
     "data": {
      "text/plain": [
       "array([ 0,  2,  4,  6,  8, 10, 12, 14, 16, 18, 20, 22, 24, 26, 28, 30, 32,\n",
       "       34, 36, 38, 40, 42, 44, 46])"
      ]
     },
     "execution_count": 64,
     "metadata": {},
     "output_type": "execute_result"
    }
   ],
   "source": [
    "sonDizi+sonDizi"
   ]
  },
  {
   "cell_type": "code",
   "execution_count": 67,
   "id": "e9c287ef",
   "metadata": {},
   "outputs": [
    {
     "data": {
      "text/plain": [
       "array([  0,   1,   4,   9,  16,  25,  36,  49,  64,  81, 100, 121, 144,\n",
       "       169, 196, 225, 256, 289, 324, 361, 400, 441, 484, 529])"
      ]
     },
     "execution_count": 67,
     "metadata": {},
     "output_type": "execute_result"
    }
   ],
   "source": [
    "sonDizi*sonDizi"
   ]
  },
  {
   "cell_type": "code",
   "execution_count": 68,
   "id": "d8f2f210",
   "metadata": {},
   "outputs": [
    {
     "name": "stderr",
     "output_type": "stream",
     "text": [
      "C:\\Users\\ibo_m\\AppData\\Local\\Temp\\ipykernel_20272\\1954055075.py:1: RuntimeWarning: invalid value encountered in true_divide\n",
      "  sonDizi/sonDizi\n"
     ]
    },
    {
     "data": {
      "text/plain": [
       "array([nan,  1.,  1.,  1.,  1.,  1.,  1.,  1.,  1.,  1.,  1.,  1.,  1.,\n",
       "        1.,  1.,  1.,  1.,  1.,  1.,  1.,  1.,  1.,  1.,  1.])"
      ]
     },
     "execution_count": 68,
     "metadata": {},
     "output_type": "execute_result"
    }
   ],
   "source": [
    "sonDizi/sonDizi"
   ]
  },
  {
   "cell_type": "code",
   "execution_count": 69,
   "id": "f0550abd",
   "metadata": {},
   "outputs": [
    {
     "data": {
      "text/plain": [
       "array([0, 0, 0, 0, 0, 0, 0, 0, 0, 0, 0, 0, 0, 0, 0, 0, 0, 0, 0, 0, 0, 0,\n",
       "       0, 0])"
      ]
     },
     "execution_count": 69,
     "metadata": {},
     "output_type": "execute_result"
    }
   ],
   "source": [
    "sonDizi-sonDizi"
   ]
  },
  {
   "cell_type": "code",
   "execution_count": 70,
   "id": "b5c39aca",
   "metadata": {},
   "outputs": [
    {
     "data": {
      "text/plain": [
       "array([0.        , 1.        , 1.41421356, 1.73205081, 2.        ,\n",
       "       2.23606798, 2.44948974, 2.64575131, 2.82842712, 3.        ,\n",
       "       3.16227766, 3.31662479, 3.46410162, 3.60555128, 3.74165739,\n",
       "       3.87298335, 4.        , 4.12310563, 4.24264069, 4.35889894,\n",
       "       4.47213595, 4.58257569, 4.69041576, 4.79583152])"
      ]
     },
     "execution_count": 70,
     "metadata": {},
     "output_type": "execute_result"
    }
   ],
   "source": [
    "np.sqrt(sonDizi)"
   ]
  },
  {
   "cell_type": "code",
   "execution_count": 71,
   "id": "5440747b",
   "metadata": {},
   "outputs": [
    {
     "data": {
      "text/plain": [
       "0"
      ]
     },
     "execution_count": 71,
     "metadata": {},
     "output_type": "execute_result"
    }
   ],
   "source": [
    "np.min(sonDizi)"
   ]
  },
  {
   "cell_type": "code",
   "execution_count": null,
   "id": "0bee3dee",
   "metadata": {},
   "outputs": [],
   "source": []
  }
 ],
 "metadata": {
  "kernelspec": {
   "display_name": "Python 3 (ipykernel)",
   "language": "python",
   "name": "python3"
  },
  "language_info": {
   "codemirror_mode": {
    "name": "ipython",
    "version": 3
   },
   "file_extension": ".py",
   "mimetype": "text/x-python",
   "name": "python",
   "nbconvert_exporter": "python",
   "pygments_lexer": "ipython3",
   "version": "3.11.4"
  }
 },
 "nbformat": 4,
 "nbformat_minor": 5
}
