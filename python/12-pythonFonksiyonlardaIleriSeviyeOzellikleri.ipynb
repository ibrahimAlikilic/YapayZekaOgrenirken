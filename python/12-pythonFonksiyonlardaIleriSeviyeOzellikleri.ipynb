{
 "cells": [
  {
   "cell_type": "markdown",
   "metadata": {},
   "source": [
    "# 12_1 İç içe fonksiyonlar"
   ]
  },
  {
   "cell_type": "code",
   "execution_count": 1,
   "metadata": {},
   "outputs": [
    {
     "name": "stdout",
     "output_type": "stream",
     "text": [
      "outer\n"
     ]
    }
   ],
   "source": [
    "def outer(num1):\n",
    "    print(\"outer\")\n",
    "    def inner(num1):\n",
    "        print(inner)\n",
    "outer(10)"
   ]
  },
  {
   "cell_type": "code",
   "execution_count": 3,
   "metadata": {},
   "outputs": [
    {
     "name": "stdout",
     "output_type": "stream",
     "text": [
      "outer\n",
      "inner\n"
     ]
    }
   ],
   "source": [
    "# encapsulation\n",
    "def outer(num1):\n",
    "    print(\"outer\")\n",
    "    def inner(num1):\n",
    "        print(\"inner\")\n",
    "        return num1+1\n",
    "    num2=inner(num1) #çağırırsan çalışır\n",
    "outer(10)"
   ]
  },
  {
   "cell_type": "code",
   "execution_count": 12,
   "metadata": {},
   "outputs": [
    {
     "name": "stdout",
     "output_type": "stream",
     "text": [
      "Number must be intagier\n"
     ]
    }
   ],
   "source": [
    "def factorial(number):\n",
    "    if not isinstance(number,int):\n",
    "        raise TypeError(\"Number must be intagier\") # intagier kontrol\n",
    "    if not number>=0:\n",
    "        raise ValueError(\"Number should be bigger or equal than 0\")\n",
    "    def inner_factorial(number):\n",
    "        if number<=1:\n",
    "            return 1\n",
    "        return number*inner_factorial(number-1)\n",
    "    return inner_factorial(number)\n",
    "try:\n",
    "    factorial(1.2)\n",
    "except Exception as ex:\n",
    "    print(ex)"
   ]
  },
  {
   "cell_type": "code",
   "execution_count": 14,
   "metadata": {},
   "outputs": [
    {
     "name": "stdout",
     "output_type": "stream",
     "text": [
      "Number should be bigger or equal than 0\n"
     ]
    }
   ],
   "source": [
    "def factorial(number):\n",
    "    if not isinstance(number,int):\n",
    "        raise TypeError(\"Number must be intagier\") # intagier kontrol\n",
    "    if not number>=0:\n",
    "        raise ValueError(\"Number should be bigger or equal than 0\")\n",
    "    def inner_factorial(number):\n",
    "        if number<=1:\n",
    "            return 1\n",
    "        return number*inner_factorial(number-1)\n",
    "    return inner_factorial(number)\n",
    "try:\n",
    "    factorial(-1)\n",
    "except Exception as ex:\n",
    "    print(ex)"
   ]
  },
  {
   "cell_type": "markdown",
   "metadata": {},
   "source": [
    "# 12_2 Fonksiyondan fonsiyon döndürme"
   ]
  },
  {
   "cell_type": "code",
   "execution_count": 18,
   "metadata": {},
   "outputs": [
    {
     "name": "stdout",
     "output_type": "stream",
     "text": [
      "8\n"
     ]
    }
   ],
   "source": [
    "def usalma(number):\n",
    "    def inner(power):\n",
    "        return number**power\n",
    "    return inner\n",
    "two=usalma(2)\n",
    "us=3\n",
    "print(two(us))"
   ]
  },
  {
   "cell_type": "code",
   "execution_count": 25,
   "metadata": {},
   "outputs": [
    {
     "name": "stdout",
     "output_type": "stream",
     "text": [
      "Admin rolunün Ana Sayfa sayfasına ulaşma yetkisi vardır\n",
      "User rolunün Ana Sayfa sayfasına ulaşma yetkisi yok\n"
     ]
    }
   ],
   "source": [
    "def yetki_sorgula(page):\n",
    "    def inner(role):\n",
    "        if role==\"Admin\":\n",
    "            return \"{0} rolunün {1} sayfasına ulaşma yetkisi vardır\".format(role,page)\n",
    "        else:\n",
    "            return \"{0} rolunün {1} sayfasına ulaşma yetkisi yok\".format(role,page)\n",
    "    return inner\n",
    "user1=yetki_sorgula(\"Ana Sayfa\")\n",
    "print(user1(\"Admin\"))\n",
    "print(user1(\"User\"))"
   ]
  },
  {
   "cell_type": "code",
   "execution_count": 40,
   "metadata": {},
   "outputs": [
    {
     "name": "stdout",
     "output_type": "stream",
     "text": [
      "18\n",
      "210\n"
     ]
    }
   ],
   "source": [
    "def islem(islem_adi):\n",
    "    def toplama(*args):\n",
    "        toplam=0\n",
    "        for i in args:\n",
    "            toplam+=i\n",
    "        return toplam\n",
    "    \n",
    "    def carpma(*args):\n",
    "        carpim=1\n",
    "        for i in args:\n",
    "            carpim*=i\n",
    "        return carpim\n",
    "    if islem_adi=='toplama':\n",
    "        return toplama\n",
    "    elif islem_adi=='carpma':\n",
    "        return carpma\n",
    "    else:\n",
    "        raise TypeError(\"yok\")\n",
    "try:\n",
    "    islemim=islem('toplama')\n",
    "    print(islemim(7,5,6))\n",
    "    islemim2=islem('carpma')\n",
    "    print(islemim2(7,5,6))\n",
    "except Exception as ex:\n",
    "    print(ex)"
   ]
  },
  {
   "cell_type": "markdown",
   "metadata": {},
   "source": [
    "# 12_3 Fonksiyonları parametre olarak gönderme"
   ]
  },
  {
   "cell_type": "code",
   "execution_count": 41,
   "metadata": {},
   "outputs": [
    {
     "name": "stdout",
     "output_type": "stream",
     "text": [
      "12\n",
      "8\n",
      "20\n",
      "5.0\n",
      "hata\n"
     ]
    }
   ],
   "source": [
    "def top(a,b):\n",
    "    return a+b\n",
    "def cikar(a,b):\n",
    "    return a-b\n",
    "def carp(a,b):\n",
    "    return a*b\n",
    "def bol(a,b):\n",
    "    return a/b\n",
    "def islem(f1,f2,f3,f4,islem_adi):\n",
    "    if islem_adi==\"top\":\n",
    "        print(f1(10,2))\n",
    "    elif islem_adi==\"cikar\":\n",
    "        print(f2(10,2))\n",
    "    elif islem_adi==\"carp\":\n",
    "        print(f3(10,2))\n",
    "    elif islem_adi==\"bol\":\n",
    "        print(f4(10,2))\n",
    "    else:\n",
    "        print(\"hata\")\n",
    "islem(top,cikar,carp,bol,\"top\")\n",
    "islem(top,cikar,carp,bol,\"cikar\")\n",
    "islem(top,cikar,carp,bol,\"carp\")\n",
    "islem(top,cikar,carp,bol,\"bol\")\n",
    "islem(top,cikar,carp,bol,\"hata\")"
   ]
  },
  {
   "cell_type": "markdown",
   "metadata": {},
   "source": [
    "# 12_4 Decoratif fonksiyonlar"
   ]
  },
  {
   "cell_type": "code",
   "execution_count": 12,
   "metadata": {},
   "outputs": [
    {
     "name": "stdout",
     "output_type": "stream",
     "text": [
      "Fonksiyondan önceki işlemler\n",
      "SEA\n",
      "Fonksiyondan sonraki işlemler\n"
     ]
    }
   ],
   "source": [
    "def my_decorator(func):\n",
    "    def wrapper():\n",
    "        print(\"Fonksiyondan önceki işlemler\")\n",
    "        func() # fonksiyon\n",
    "        print(\"Fonksiyondan sonraki işlemler\")\n",
    "    return wrapper\n",
    "\n",
    "def sayHello():\n",
    "    print(\"SEA\")\n",
    "\n",
    "# hello veya greeting çağırıldığunda wrapper da çalışmasını istiyoruz\n",
    "sayHello=my_decorator(sayHello)\n",
    "sayHello()\n",
    "\n"
   ]
  },
  {
   "cell_type": "code",
   "execution_count": 14,
   "metadata": {},
   "outputs": [
    {
     "name": "stdout",
     "output_type": "stream",
     "text": [
      "Fonksiyondan önceki işlemler\n",
      "greeting\n",
      "Fonksiyondan sonraki işlemler\n"
     ]
    }
   ],
   "source": [
    "@my_decorator # tanımlayınca direk func yerine yerleştiriyor  sayHello=my_decorator(sayHello) yerine kullanabiliyoruz\n",
    "def sayGreeting():\n",
    "    print(\"greeting\")\n",
    "sayGreeting()"
   ]
  },
  {
   "cell_type": "code",
   "execution_count": 16,
   "metadata": {},
   "outputs": [
    {
     "name": "stdout",
     "output_type": "stream",
     "text": [
      "Fonksiyondan önceki işlemler\n",
      "SEA İbrahim\n",
      "Fonksiyondan sonraki işlemler\n"
     ]
    }
   ],
   "source": [
    "# parametreli durumda\n",
    "def my_decorator(func):\n",
    "    def wrapper(name):\n",
    "        print(\"Fonksiyondan önceki işlemler\")\n",
    "        func(name) # fonksiyon\n",
    "        print(\"Fonksiyondan sonraki işlemler\")\n",
    "    return wrapper\n",
    "@my_decorator\n",
    "def sayHello(name):\n",
    "    print(\"SEA\",name)\n",
    "sayHello(\"İbrahim\")"
   ]
  },
  {
   "cell_type": "code",
   "execution_count": 21,
   "metadata": {},
   "outputs": [
    {
     "name": "stdout",
     "output_type": "stream",
     "text": [
      "243.0\n",
      "geçen süre : usalma 1.006645679473877\n",
      "5040\n",
      "geçen süre : faktoriyel 1.0005097389221191\n"
     ]
    }
   ],
   "source": [
    "import math\n",
    "import time\n",
    "\n",
    "def calculate_time(func):\n",
    "    def inner(*args,**kwargs): # **kwargs kafanı karıştırmasın denedim onsuz da çalışıyor büyük ihitmalle adam gerekirse diye yazdı\n",
    "        start=time.time()\n",
    "        time.sleep(1)\n",
    "        func(*args,**kwargs)\n",
    "        finish=time.time()\n",
    "        print(\"geçen süre : \"+func.__name__+\" \"+str(finish-start)) # func.__name__ fonksiyon adını veriri\n",
    "    return inner\n",
    "\n",
    "@calculate_time\n",
    "def usalma(a,b):\n",
    "    print(math.pow(a,b))\n",
    "@calculate_time\n",
    "def faktoriyel(num):\n",
    "    print(math.factorial(num))\n",
    "usalma(3,5)\n",
    "faktoriyel(7)"
   ]
  },
  {
   "cell_type": "code",
   "execution_count": null,
   "metadata": {},
   "outputs": [],
   "source": []
  }
 ],
 "metadata": {
  "kernelspec": {
   "display_name": "Python 3",
   "language": "python",
   "name": "python3"
  },
  "language_info": {
   "codemirror_mode": {
    "name": "ipython",
    "version": 3
   },
   "file_extension": ".py",
   "mimetype": "text/x-python",
   "name": "python",
   "nbconvert_exporter": "python",
   "pygments_lexer": "ipython3",
   "version": "3.11.4"
  },
  "orig_nbformat": 4
 },
 "nbformat": 4,
 "nbformat_minor": 2
}
