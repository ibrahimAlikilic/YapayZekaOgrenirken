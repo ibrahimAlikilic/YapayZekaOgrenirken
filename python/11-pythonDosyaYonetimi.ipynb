{
 "cells": [
  {
   "cell_type": "markdown",
   "metadata": {},
   "source": [
    "# 1_1 Dosya açma ve yazma"
   ]
  },
  {
   "cell_type": "code",
   "execution_count": 40,
   "metadata": {},
   "outputs": [
    {
     "name": "stdout",
     "output_type": "stream",
     "text": [
      "<_io.TextIOWrapper name='new_file' mode='w' encoding='cp1254'>\n"
     ]
    }
   ],
   "source": [
    "# \"w\" yazma modu\n",
    "# w modunda yeni bir şey yazmak istediğinde içerisinde bulunanlar silinir\n",
    "file=open(\"new_file\",\"w\")\n",
    "print(file)\n",
    "file.close() # işin bitince kapat boşuna enerji tüketmesin"
   ]
  },
  {
   "cell_type": "code",
   "execution_count": 41,
   "metadata": {},
   "outputs": [],
   "source": [
    "# Başka bir konumda dosya oluşturma\n",
    "# file=open(\"bilgisyardaki konumu\"),\"w\""
   ]
  },
  {
   "cell_type": "code",
   "execution_count": 42,
   "metadata": {},
   "outputs": [],
   "source": [
    "file=open(\"new_file\",\"w\",encoding='utf-8') #encoding='utf-8' türkçe karakter için\n",
    "file.write(\"İbrahim ALİKILIÇ\")\n",
    "file.close()"
   ]
  },
  {
   "cell_type": "code",
   "execution_count": 43,
   "metadata": {},
   "outputs": [],
   "source": [
    "file=open(\"new_file\",\"w\")\n",
    "file.write(\"Silindiginin ispati\")\n",
    "file.close()"
   ]
  },
  {
   "cell_type": "code",
   "execution_count": 44,
   "metadata": {},
   "outputs": [],
   "source": [
    "# \"a\" modu yani append var olanın üzerine ekler\n",
    "file=open(\"new_file\",\"a\",encoding='utf-8') #encoding='utf-8' türkçe karakter için\n",
    "file.write(\"\\nAppend yani a ile İbrahim ALİKILIÇ\")\n",
    "file.close()"
   ]
  },
  {
   "cell_type": "code",
   "execution_count": 45,
   "metadata": {},
   "outputs": [
    {
     "ename": "FileExistsError",
     "evalue": "[Errno 17] File exists: 'new_file2'",
     "output_type": "error",
     "traceback": [
      "\u001b[1;31m---------------------------------------------------------------------------\u001b[0m",
      "\u001b[1;31mFileExistsError\u001b[0m                           Traceback (most recent call last)",
      "Cell \u001b[1;32mIn[45], line 2\u001b[0m\n\u001b[0;32m      1\u001b[0m \u001b[39m# \"x\" modu içerisine bir şey yazmak istemeyip direk oluşturmak istediğimizde x modunu kullanırız\u001b[39;00m\n\u001b[1;32m----> 2\u001b[0m file\u001b[39m=\u001b[39m\u001b[39mopen\u001b[39;49m(\u001b[39m\"\u001b[39;49m\u001b[39mnew_file2\u001b[39;49m\u001b[39m\"\u001b[39;49m,\u001b[39m\"\u001b[39;49m\u001b[39mx\u001b[39;49m\u001b[39m\"\u001b[39;49m,encoding\u001b[39m=\u001b[39;49m\u001b[39m'\u001b[39;49m\u001b[39mutf-8\u001b[39;49m\u001b[39m'\u001b[39;49m) \u001b[39m# burayı 2. kez çalıştırınca zaten var olan bir şeyden oluşturmaya çalıştırdığın için hata verir\u001b[39;00m\n",
      "File \u001b[1;32m~\\AppData\\Roaming\\Python\\Python311\\site-packages\\IPython\\core\\interactiveshell.py:284\u001b[0m, in \u001b[0;36m_modified_open\u001b[1;34m(file, *args, **kwargs)\u001b[0m\n\u001b[0;32m    277\u001b[0m \u001b[39mif\u001b[39;00m file \u001b[39min\u001b[39;00m {\u001b[39m0\u001b[39m, \u001b[39m1\u001b[39m, \u001b[39m2\u001b[39m}:\n\u001b[0;32m    278\u001b[0m     \u001b[39mraise\u001b[39;00m \u001b[39mValueError\u001b[39;00m(\n\u001b[0;32m    279\u001b[0m         \u001b[39mf\u001b[39m\u001b[39m\"\u001b[39m\u001b[39mIPython won\u001b[39m\u001b[39m'\u001b[39m\u001b[39mt let you open fd=\u001b[39m\u001b[39m{\u001b[39;00mfile\u001b[39m}\u001b[39;00m\u001b[39m by default \u001b[39m\u001b[39m\"\u001b[39m\n\u001b[0;32m    280\u001b[0m         \u001b[39m\"\u001b[39m\u001b[39mas it is likely to crash IPython. If you know what you are doing, \u001b[39m\u001b[39m\"\u001b[39m\n\u001b[0;32m    281\u001b[0m         \u001b[39m\"\u001b[39m\u001b[39myou can use builtins\u001b[39m\u001b[39m'\u001b[39m\u001b[39m open.\u001b[39m\u001b[39m\"\u001b[39m\n\u001b[0;32m    282\u001b[0m     )\n\u001b[1;32m--> 284\u001b[0m \u001b[39mreturn\u001b[39;00m io_open(file, \u001b[39m*\u001b[39;49margs, \u001b[39m*\u001b[39;49m\u001b[39m*\u001b[39;49mkwargs)\n",
      "\u001b[1;31mFileExistsError\u001b[0m: [Errno 17] File exists: 'new_file2'"
     ]
    }
   ],
   "source": [
    "# \"x\" modu içerisine bir şey yazmak istemeyip direk oluşturmak istediğimizde x modunu kullanırız\n",
    "file=open(\"new_file2\",\"x\",encoding='utf-8') # burayı 2. kez çalıştırınca zaten var olan bir şeyden oluşturmaya çalıştırdığın için hata verir\n"
   ]
  },
  {
   "cell_type": "markdown",
   "metadata": {},
   "source": [
    "# 11_2 Dosya okuma"
   ]
  },
  {
   "cell_type": "code",
   "execution_count": 46,
   "metadata": {},
   "outputs": [
    {
     "name": "stdout",
     "output_type": "stream",
     "text": [
      "<_io.TextIOWrapper name='new_file' mode='r' encoding='cp1254'>\n",
      "Dosya Kapandı\n"
     ]
    }
   ],
   "source": [
    "# okuma için \"r\"\n",
    "try:\n",
    "    file=open(\"new_file\",\"r\")\n",
    "    print(file)\n",
    "except FileNotFoundError:\n",
    "    print(\"! Dosya Bulunamadı !\")\n",
    "finally:\n",
    "    file.close()\n",
    "    print(\"Dosya Kapandı\")"
   ]
  },
  {
   "cell_type": "code",
   "execution_count": 47,
   "metadata": {},
   "outputs": [
    {
     "name": "stdout",
     "output_type": "stream",
     "text": [
      "Silindiginin ispati\n",
      "Append yani a ile İbrahim ALİKILIÇ"
     ]
    }
   ],
   "source": [
    "file=open(\"new_file\",\"r\",encoding=\"utf-8\")\n",
    "# for ile okuma\n",
    "for i in file:\n",
    "    print(i,end=\"\") # print kendiliğinden alt satır için boşluk bırakıyor end ile boşluğu kaldırıyoz 2 kere olmasın diye\n",
    "file.close()"
   ]
  },
  {
   "cell_type": "code",
   "execution_count": 48,
   "metadata": {},
   "outputs": [
    {
     "name": "stdout",
     "output_type": "stream",
     "text": [
      "content 1 :\n",
      "Silindiginin ispati\n",
      "Append yani a ile İbrahim ALİKILIÇ\n",
      "content 2 :\n",
      "\n",
      "content 3 :\n",
      "Silindiginin ispati\n",
      "Append yani a ile İbrahim ALİKILIÇ\n"
     ]
    }
   ],
   "source": [
    "# read() fonksiyonuyla\n",
    "file=open(\"new_file\",\"r\",encoding=\"utf-8\")\n",
    "print(\"content 1 :\")\n",
    "content1=file.read()\n",
    "print(content1)\n",
    "# burada dosya kapatıp açmadığımız için 2. seferde kaldığı yerden okumayı dener orası da boşluktur\n",
    "print(\"content 2 :\")\n",
    "content2=file.read()\n",
    "print(content2)\n",
    "\n",
    "file=open(\"new_file\",\"r\",encoding=\"utf-8\") # tekrar tanıtınca başa döndü\n",
    "print(\"content 3 :\")\n",
    "content3=file.read()\n",
    "print(content3)\n",
    "file.close()"
   ]
  },
  {
   "cell_type": "code",
   "execution_count": 49,
   "metadata": {},
   "outputs": [
    {
     "name": "stdout",
     "output_type": "stream",
     "text": [
      "content 1 :\n",
      "Silindi\n",
      "ginin i\n"
     ]
    }
   ],
   "source": [
    "# sınırlayarak okuma\n",
    "file=open(\"new_file\",\"r\",encoding=\"utf-8\")\n",
    "print(\"content 1 :\")\n",
    "content1=file.read(7) # aslında kaç byte olduğu o da aynı miktarda karakter sayısına tekamül ediyor\n",
    "print(content1)\n",
    "content1=file.read(7)\n",
    "print(content1)\n",
    "file.close()"
   ]
  },
  {
   "cell_type": "code",
   "execution_count": 50,
   "metadata": {},
   "outputs": [
    {
     "name": "stdout",
     "output_type": "stream",
     "text": [
      "Silindiginin ispati\n",
      "*********************\n",
      "Append yani a ile İbrahim ALİKILIÇ"
     ]
    }
   ],
   "source": [
    "# readline() = her seferinde 1 satır\n",
    "file=open(\"new_file\",\"r\",encoding=\"utf-8\")\n",
    "content1=file.readline()\n",
    "print(content1,end=\"\")\n",
    "print(\"*********************\")\n",
    "content2=file.readline()\n",
    "print(content2,end=\"\")\n",
    "file.close()"
   ]
  },
  {
   "cell_type": "code",
   "execution_count": 51,
   "metadata": {},
   "outputs": [
    {
     "name": "stdout",
     "output_type": "stream",
     "text": [
      "['Silindiginin ispati\\n', 'Append yani a ile İbrahim ALİKILIÇ']\n"
     ]
    }
   ],
   "source": [
    "# readlines() = liste şeklinde yazdırma\n",
    "file=open(\"new_file\",\"r\",encoding=\"utf-8\")\n",
    "liste=file.readlines()\n",
    "print(liste)\n",
    "file.close()"
   ]
  },
  {
   "cell_type": "code",
   "execution_count": 52,
   "metadata": {},
   "outputs": [
    {
     "name": "stdout",
     "output_type": "stream",
     "text": [
      "Silindiginin ispati\n",
      "\n"
     ]
    }
   ],
   "source": [
    "file=open(\"new_file\",\"r\",encoding=\"utf-8\")\n",
    "liste=file.readlines()\n",
    "print(liste[0])\n",
    "file.close()"
   ]
  },
  {
   "cell_type": "markdown",
   "metadata": {},
   "source": [
    "# 11_3 Dosya okuma fonksiyonları"
   ]
  },
  {
   "cell_type": "code",
   "execution_count": 53,
   "metadata": {},
   "outputs": [
    {
     "name": "stdout",
     "output_type": "stream",
     "text": [
      "Silindiginin ispati\n",
      "Append yani a ile İbrahim ALİKILIÇ\n",
      "58\n",
      "in ispati\n",
      "Append yani a ile İbrahim ALİKILIÇ\n"
     ]
    }
   ],
   "source": [
    "# with kullanınca ayriyetten kapat demene gerek kalmıyor\n",
    "with open(\"new_file\",\"r\",encoding=\"utf-8\") as file:\n",
    "    content=file.read()\n",
    "    print(content)\n",
    "    print(file.tell()) # imlecin (kürsör) nerede olduğunu yani kaç karakter okuduğunu veriyor\n",
    "    file.seek(10) # kürsör nereden itibaren alacağı 10. karakter dahil değil\n",
    "    content2=file.read()\n",
    "    print(content2)"
   ]
  },
  {
   "cell_type": "markdown",
   "metadata": {},
   "source": [
    "# 11_4 Fosyada güncelleme yapma"
   ]
  },
  {
   "cell_type": "code",
   "execution_count": null,
   "metadata": {},
   "outputs": [
    {
     "name": "stdout",
     "output_type": "stream",
     "text": [
      "Silindiginin ispati\n",
      "Normalde 20. yere çekmezsen en başa yazar biz 20ye aldık  \n"
     ]
    }
   ],
   "source": [
    "# \"r+\" demek hem okuma hem yazma anlamına geliyor\n",
    "with open(\"new_file\",\"r+\",encoding=\"utf-8\") as file:\n",
    "    file.seek(20)\n",
    "    file.write(\"Normalde 20. yere çekmezsen en başa yazar biz 20ye aldık \")\n",
    "    \n",
    "with open(\"new_file\",\"r+\",encoding=\"utf-8\") as file:\n",
    "    print(file.read())"
   ]
  },
  {
   "cell_type": "code",
   "execution_count": 54,
   "metadata": {},
   "outputs": [
    {
     "name": "stdout",
     "output_type": "stream",
     "text": [
      "Başa ekledim \n",
      "Silindiginin ispati\n",
      "Append yani a ile İbrahim ALİKILIÇ\n"
     ]
    }
   ],
   "source": [
    "with open(\"new_file\",\"r+\",encoding=\"utf-8\") as file:\n",
    "    content=file.read()\n",
    "    content=\"Başa ekledim \\n\"+content\n",
    "    file.seek(0) # kürsörü en başa aldık\n",
    "    file.write(content)\n",
    "with open(\"new_file\",\"r+\",encoding=\"utf-8\") as file:\n",
    "    print(file.read()) "
   ]
  },
  {
   "cell_type": "code",
   "execution_count": 57,
   "metadata": {},
   "outputs": [
    {
     "name": "stdout",
     "output_type": "stream",
     "text": [
      "Başa ekledim \n",
      "İstenilen index e ekledik \n",
      "Silindiginin ispati\n",
      "Append yani a ile İbrahim ALİKILIÇ\n"
     ]
    }
   ],
   "source": [
    "with open(\"new_file\",\"r+\",encoding=\"utf-8\") as file:\n",
    "    liste=file.readlines()\n",
    "    liste.insert(1,\"İstenilen index e ekledik \\n\")\n",
    "    file.seek(0)\n",
    "    for i in liste:\n",
    "        file.write(i)\n",
    "with open(\"new_file\",\"r\",encoding=\"utf-8\") as file:\n",
    "    print(file.read()) "
   ]
  },
  {
   "cell_type": "code",
   "execution_count": 59,
   "metadata": {},
   "outputs": [
    {
     "name": "stdout",
     "output_type": "stream",
     "text": [
      "Başa ekledim \n",
      "İstenilen index e ekledik \n",
      "İstenilen index e  method ile ekledik \n",
      "Silindiginin ispati\n",
      "Append yani a ile İbrahim ALİKILIÇ\n"
     ]
    }
   ],
   "source": [
    "# for yerine method kullanarak\n",
    "with open(\"new_file\",\"r+\",encoding=\"utf-8\") as file:\n",
    "    liste=file.readlines()\n",
    "    liste.insert(2,\"İstenilen index e  method ile ekledik \\n\")\n",
    "    file.seek(0)\n",
    "    file.writelines(liste)\n",
    "with open(\"new_file\",\"r\",encoding=\"utf-8\") as file:\n",
    "    print(file.read()) \n"
   ]
  },
  {
   "cell_type": "markdown",
   "metadata": {},
   "source": [
    "# 11_5 Öğrenci Kayıt Uygulaması"
   ]
  },
  {
   "cell_type": "code",
   "execution_count": 79,
   "metadata": {},
   "outputs": [
    {
     "name": "stdout",
     "output_type": "stream",
     "text": [
      "İbrahim ALİKILIÇ : 100.0\n",
      "\n",
      "Doğan Kimsesiz : 80.0\n",
      "\n",
      "Hızır ÇAKIRBEYLİ : 66.66666666666667\n",
      "\n"
     ]
    }
   ],
   "source": [
    "def not_hesapla(satir):\n",
    "    satir=satir[:-1] # aradaki boşlukları aldık\n",
    "    liste=satir.split(':')\n",
    "    ogrenciAdi=liste[0]\n",
    "    notlar=liste[1].split(',')\n",
    "    not1=int(notlar[0])\n",
    "    not2=int(notlar[1])\n",
    "    not3=int(notlar[2])\n",
    "    ortalama=str((not1+not2+not3)/3)\n",
    "    return ogrenciAdi+\" : \"+ortalama+\"\\n\"\n",
    "\n",
    "def ortalamalari_oku():\n",
    "    with open(\"sinav_notlari.txt\",\"r\",encoding=\"utf-8\") as file:\n",
    "        for satir in file:\n",
    "            print(not_hesapla(satir))\n",
    "def not_gir():\n",
    "    ad=input(\"ad : \")\n",
    "    soyad=input(\"soyad : \")\n",
    "    not1=input(\"not1 : \")\n",
    "    not2=input(\"not2 : \")\n",
    "    not3=input(\"not3 : \")\n",
    "    with open(\"sinav_notlari.txt\",\"a\",encoding=\"utf-8\") as file:\n",
    "        file.write(ad+\" \"+soyad+\":\"+not1+\",\"+not2+\",\"+not3+\"\\n\")\n",
    "\n",
    "def notlari_kayit_et():\n",
    "    with open(\"sinav_notlari.txt\",\"r\",encoding=\"utf-8\") as file:\n",
    "        liste=[]\n",
    "        for i in file:\n",
    "            liste.append(not_hesapla(i))\n",
    "        with open(\"sonuclar.txt\",\"w\",encoding=\"utf-8\") as file2:\n",
    "            for i in liste:\n",
    "                file2.write(i)\n",
    "while True:\n",
    "    islem=input(\"1-Notları Oku\\n2- Not Gir\\n3- Notları Kayıt Et\\n4- Çıkış\\n\")\n",
    "    if islem==\"1\":\n",
    "        ortalamalari_oku()\n",
    "    elif islem=='2':\n",
    "        not_gir()\n",
    "    elif islem==\"3\":\n",
    "        notlari_kayit_et()\n",
    "    else:\n",
    "        break"
   ]
  },
  {
   "cell_type": "code",
   "execution_count": null,
   "metadata": {},
   "outputs": [],
   "source": []
  }
 ],
 "metadata": {
  "kernelspec": {
   "display_name": "Python 3",
   "language": "python",
   "name": "python3"
  },
  "language_info": {
   "codemirror_mode": {
    "name": "ipython",
    "version": 3
   },
   "file_extension": ".py",
   "mimetype": "text/x-python",
   "name": "python",
   "nbconvert_exporter": "python",
   "pygments_lexer": "ipython3",
   "version": "3.11.4"
  },
  "orig_nbformat": 4
 },
 "nbformat": 4,
 "nbformat_minor": 2
}
