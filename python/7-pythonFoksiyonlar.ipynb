{
 "cells": [
  {
   "attachments": {},
   "cell_type": "markdown",
   "metadata": {},
   "source": [
    "# 7_2 Fonksiyon Kullanımı "
   ]
  },
  {
   "cell_type": "code",
   "execution_count": 1,
   "metadata": {},
   "outputs": [
    {
     "name": "stdout",
     "output_type": "stream",
     "text": [
      "Hi ali\n",
      "Hi user\n"
     ]
    }
   ],
   "source": [
    "def sayHello(name=\"user\"): # fonksiyonu def ile oluşturuyoruz\n",
    "    '''\n",
    "    DOCSTRİNG : buraya fonksiyonun kullanım amacını yazıyoruz\n",
    "    INPUT: Girenler\n",
    "    OUTPUT: Çıkanlar\n",
    "    '''\n",
    "    print(\"Hi \"+name)\n",
    "sayHello(\"ali\")\n",
    "sayHello()\n"
   ]
  },
  {
   "cell_type": "code",
   "execution_count": 2,
   "metadata": {},
   "outputs": [
    {
     "name": "stdout",
     "output_type": "stream",
     "text": [
      "Help on function sayHello in module __main__:\n",
      "\n",
      "sayHello(name='user')\n",
      "    DOCSTRİNG : buraya fonksiyonun kullanım amacını yazıyoruz\n",
      "    INPUT: Girenler\n",
      "    OUTPUT: Çıkanlar\n",
      "\n",
      "None\n"
     ]
    }
   ],
   "source": [
    "print(help(sayHello)) # açıklamadaki yeri yazdırıyor"
   ]
  },
  {
   "cell_type": "code",
   "execution_count": 3,
   "metadata": {},
   "outputs": [
    {
     "name": "stdout",
     "output_type": "stream",
     "text": [
      "Help on built-in function append:\n",
      "\n",
      "append(object, /) method of builtins.list instance\n",
      "    Append object to the end of the list.\n",
      "\n",
      "None\n"
     ]
    }
   ],
   "source": [
    "# help örn\n",
    "list=[1,2,3]\n",
    "print(help(list.append))"
   ]
  },
  {
   "attachments": {},
   "cell_type": "markdown",
   "metadata": {},
   "source": [
    "# 7_3 Fonksiyon Parametreleri"
   ]
  },
  {
   "attachments": {},
   "cell_type": "markdown",
   "metadata": {},
   "source": [
    "### C dekiyle aynı mandık liste elemanına fonksiyon içerisinde değişiklik yapınca bellekteki yerde değişiklik yaptığından değişir ama isim değişmez"
   ]
  },
  {
   "cell_type": "code",
   "execution_count": 4,
   "metadata": {},
   "outputs": [
    {
     "data": {
      "text/plain": [
       "'ali'"
      ]
     },
     "execution_count": 4,
     "metadata": {},
     "output_type": "execute_result"
    }
   ],
   "source": [
    "def isimdegis(name):\n",
    "    name=\"aaa\"\n",
    "isim=\"ali\"\n",
    "isimdegis(isim)\n",
    "isim"
   ]
  },
  {
   "cell_type": "code",
   "execution_count": 5,
   "metadata": {},
   "outputs": [
    {
     "data": {
      "text/plain": [
       "['ankara', 'istanbul']"
      ]
     },
     "execution_count": 5,
     "metadata": {},
     "output_type": "execute_result"
    }
   ],
   "source": [
    "def bellekdegis(sehir):\n",
    "    sehir[0]=\"ankara\"\n",
    "sehirler=[\"sakarya\",\"istanbul\"]\n",
    "bellekdegis(sehirler)\n",
    "sehirler"
   ]
  },
  {
   "cell_type": "code",
   "execution_count": 6,
   "metadata": {},
   "outputs": [
    {
     "name": "stdout",
     "output_type": "stream",
     "text": [
      "['ankara', 'istanbul']\n",
      "['sakarya', 'istanbul']\n"
     ]
    }
   ],
   "source": [
    "# ana listeyi bozmadan değişiklik yapma\n",
    "def bellekdegis(sehir):\n",
    "    sehir[0]=\"ankara\"\n",
    "    print(sehir)\n",
    "sehirler=[\"sakarya\",\"istanbul\"]\n",
    "bellekdegis(sehirler[:]) # slicing işlemi sayesinde elemanları yolluyom\n",
    "print(sehirler)"
   ]
  },
  {
   "attachments": {},
   "cell_type": "markdown",
   "metadata": {},
   "source": [
    "# ----------------------------------------------------------------------------------------------------------\n"
   ]
  },
  {
   "attachments": {},
   "cell_type": "markdown",
   "metadata": {},
   "source": [
    "### sum toplama yapıyor "
   ]
  },
  {
   "cell_type": "code",
   "execution_count": 7,
   "metadata": {},
   "outputs": [
    {
     "name": "stdout",
     "output_type": "stream",
     "text": [
      "30\n"
     ]
    }
   ],
   "source": [
    "def toplama(a,b):\n",
    "    return sum((a,b))\n",
    "print(toplama(10,20))"
   ]
  },
  {
   "cell_type": "code",
   "execution_count": 8,
   "metadata": {},
   "outputs": [
    {
     "name": "stdout",
     "output_type": "stream",
     "text": [
      "100\n"
     ]
    }
   ],
   "source": [
    "def toplama(*params): # * sayesinde sınırsız parametre\n",
    "    return sum((params))\n",
    "print(toplama(10,20,30,40))"
   ]
  },
  {
   "cell_type": "code",
   "execution_count": 9,
   "metadata": {},
   "outputs": [
    {
     "name": "stdout",
     "output_type": "stream",
     "text": [
      "name is ali\n",
      "-----\n",
      "name is veli\n",
      "year is 3\n",
      "-----\n",
      "name is hasan\n",
      "year is 30\n",
      "work is engineer\n",
      "-----\n"
     ]
    }
   ],
   "source": [
    "def users(**args): # dictionary gelecek dedik\n",
    "    i=0\n",
    "    for key, value in args.items():\n",
    "        print('{} is {}' .format(key,value))\n",
    "        i+=1\n",
    "        if(i==len(args)):\n",
    "            print(\"-----\")\n",
    "users(name=\"ali\")\n",
    "users(name=\"veli\",year=3)\n",
    "users(name=\"hasan\",year=30,work=\"engineer\")"
   ]
  },
  {
   "cell_type": "code",
   "execution_count": 10,
   "metadata": {},
   "outputs": [
    {
     "name": "stdout",
     "output_type": "stream",
     "text": [
      "10\n",
      "20\n",
      "300\n",
      "(40, 50, 60, 70, 80, 90)\n",
      "{'key': 'value 100', 'key2': 'value 1000'}\n"
     ]
    }
   ],
   "source": [
    "# çoklu atama şekli\n",
    "def coklu(a,b,c,*args,**keywords):\n",
    "    print(a)\n",
    "    print(b)\n",
    "    print(c)\n",
    "    print(args)\n",
    "    print(keywords)\n",
    "coklu(10,20,300,40,50,60,70,80,90,key=\"value 100\" , key2=\"value 1000\")"
   ]
  },
  {
   "attachments": {},
   "cell_type": "markdown",
   "metadata": {},
   "source": [
    "# 7_4 Uygulama"
   ]
  },
  {
   "attachments": {},
   "cell_type": "markdown",
   "metadata": {},
   "source": [
    "### 1 - Gönderilen kelimeyi belirtilen kez ekrana yazdırma"
   ]
  },
  {
   "cell_type": "code",
   "execution_count": 11,
   "metadata": {},
   "outputs": [
    {
     "name": "stdout",
     "output_type": "stream",
     "text": [
      "ibrahim\n",
      "ibrahim\n",
      "ibrahim\n",
      "ibrahim\n",
      "ibrahim\n"
     ]
    }
   ],
   "source": [
    "def kelimeYaz(name,kackere):\n",
    "    for i in range(kackere):\n",
    "        print(name)\n",
    "kelimeYaz(\"ibrahim\",5)"
   ]
  },
  {
   "attachments": {},
   "cell_type": "markdown",
   "metadata": {},
   "source": [
    "### 2 - Sınırsız sayıdaki kelimeyi listeye çevirme"
   ]
  },
  {
   "cell_type": "code",
   "execution_count": 12,
   "metadata": {},
   "outputs": [
    {
     "data": {
      "text/plain": [
       "['a', 'bb', 'ccc']"
      ]
     },
     "execution_count": 12,
     "metadata": {},
     "output_type": "execute_result"
    }
   ],
   "source": [
    "\n",
    "def listeDon(*kelimeler):\n",
    "    liste=[]\n",
    "    for kelime in kelimeler:\n",
    "        liste.append(kelime)\n",
    "    return liste\n",
    "listem=listeDon(\"a\",\"bb\",\"ccc\")\n",
    "listem"
   ]
  },
  {
   "attachments": {},
   "cell_type": "markdown",
   "metadata": {},
   "source": [
    "# 7_5 Lambda Expression , Map and Filter"
   ]
  },
  {
   "attachments": {},
   "cell_type": "markdown",
   "metadata": {},
   "source": [
    "## Map kullanımı"
   ]
  },
  {
   "cell_type": "code",
   "execution_count": 1,
   "metadata": {},
   "outputs": [
    {
     "data": {
      "text/plain": [
       "[4, 16, 36, 64, 100]"
      ]
     },
     "execution_count": 1,
     "metadata": {},
     "output_type": "execute_result"
    }
   ],
   "source": [
    "def karesi(num): return num**2\n",
    "numbers=[2,4,6,8,10]\n",
    "result=list(map(karesi,numbers)) # list demeyince bellekteki yerini veriyor map içine d eönce fonksiyonu ardından diziyi veriyoruz\n",
    "result"
   ]
  },
  {
   "cell_type": "code",
   "execution_count": 3,
   "metadata": {},
   "outputs": [
    {
     "name": "stdout",
     "output_type": "stream",
     "text": [
      "4\n",
      "16\n",
      "36\n",
      "64\n",
      "100\n"
     ]
    }
   ],
   "source": [
    "# ya da \n",
    "for item in map(karesi,numbers):\n",
    "    print(item)"
   ]
  },
  {
   "attachments": {},
   "cell_type": "markdown",
   "metadata": {},
   "source": [
    "## Lambda kullanımı"
   ]
  },
  {
   "cell_type": "code",
   "execution_count": 5,
   "metadata": {},
   "outputs": [
    {
     "data": {
      "text/plain": [
       "[4, 16, 36, 64, 100]"
      ]
     },
     "execution_count": 5,
     "metadata": {},
     "output_type": "execute_result"
    }
   ],
   "source": [
    "# isimsiz fonksiyonla yapıyoruz\n",
    "numbers=[2,4,6,8,10]\n",
    "result=list(map(lambda num:num**2,numbers)) \n",
    "result"
   ]
  },
  {
   "cell_type": "code",
   "execution_count": 6,
   "metadata": {},
   "outputs": [
    {
     "data": {
      "text/plain": [
       "[4, 16, 36, 64, 100]"
      ]
     },
     "execution_count": 6,
     "metadata": {},
     "output_type": "execute_result"
    }
   ],
   "source": [
    "# böyle de olur\n",
    "square=lambda num:num**2\n",
    "numbers=[2,4,6,8,10]\n",
    "result=list(map(square,numbers)) \n",
    "result"
   ]
  },
  {
   "cell_type": "code",
   "execution_count": 8,
   "metadata": {},
   "outputs": [
    {
     "data": {
      "text/plain": [
       "[2, 4, 6, 8]"
      ]
     },
     "execution_count": 8,
     "metadata": {},
     "output_type": "execute_result"
    }
   ],
   "source": [
    "def chack_even(num): return num%2==0\n",
    "'''\n",
    "Filter()\n",
    "Adından da anlaşılabileceği gibi bir filtreleme yapan fonksiyondur.\n",
    "\n",
    "Filter (func, iter) şeklinde kullanılır, iter öğelerini true veya false döndüren bir filtre işlevi olarak kullanır. Func (x) işlevinin doğru olduğu tüm x öğelerini içeren yeni bir liste döndürülür.\n",
    "'''\n",
    "numbers=[1,2,3,4,5,6,7,8,9]\n",
    "result=list(filter(chack_even,numbers))\n",
    "result"
   ]
  },
  {
   "cell_type": "code",
   "execution_count": 9,
   "metadata": {},
   "outputs": [
    {
     "data": {
      "text/plain": [
       "[2, 4, 6, 8]"
      ]
     },
     "execution_count": 9,
     "metadata": {},
     "output_type": "execute_result"
    }
   ],
   "source": [
    "numbers=[1,2,3,4,5,6,7,8,9]\n",
    "result=list(filter(lambda num: num%2==0,numbers))\n",
    "result"
   ]
  },
  {
   "cell_type": "code",
   "execution_count": 10,
   "metadata": {},
   "outputs": [
    {
     "data": {
      "text/plain": [
       "[2, 4, 6, 8]"
      ]
     },
     "execution_count": 10,
     "metadata": {},
     "output_type": "execute_result"
    }
   ],
   "source": [
    "chacke_even2=lambda num: num%2==0\n",
    "numbers=[1,2,3,4,5,6,7,8,9]\n",
    "result=list(filter(chacke_even2,numbers))\n",
    "result"
   ]
  },
  {
   "cell_type": "code",
   "execution_count": 11,
   "metadata": {},
   "outputs": [
    {
     "data": {
      "text/plain": [
       "False"
      ]
     },
     "execution_count": 11,
     "metadata": {},
     "output_type": "execute_result"
    }
   ],
   "source": [
    "result=chack_even(numbers[2])\n",
    "result"
   ]
  },
  {
   "attachments": {},
   "cell_type": "markdown",
   "metadata": {},
   "source": [
    "# 7_6 Fonksiyonları Kapsamları\n"
   ]
  },
  {
   "cell_type": "code",
   "execution_count": 1,
   "metadata": {},
   "outputs": [
    {
     "name": "stdout",
     "output_type": "stream",
     "text": [
      "local x\n",
      "global x\n"
     ]
    }
   ],
   "source": [
    "# global scope\n",
    "x=\"global x\"\n",
    "def function():\n",
    "    #local\n",
    "    x=\"local x\"\n",
    "    print(x)\n",
    "function()\n",
    "print(x)"
   ]
  },
  {
   "cell_type": "code",
   "execution_count": 2,
   "metadata": {},
   "outputs": [
    {
     "name": "stdout",
     "output_type": "stream",
     "text": [
      "global x\n",
      "global x\n"
     ]
    }
   ],
   "source": [
    "x=\"global x\"\n",
    "def function():\n",
    "    print(x)\n",
    "function()\n",
    "print(x)"
   ]
  },
  {
   "cell_type": "code",
   "execution_count": 4,
   "metadata": {},
   "outputs": [
    {
     "name": "stdout",
     "output_type": "stream",
     "text": [
      "veli\n",
      "ali\n"
     ]
    }
   ],
   "source": [
    "# global\n",
    "name=\"ali\"\n",
    "def change_name(new_Name):\n",
    "    # local\n",
    "    name=new_Name\n",
    "    print(name)\n",
    "change_name(\"veli\")\n",
    "# global\n",
    "print(name)"
   ]
  },
  {
   "cell_type": "code",
   "execution_count": 7,
   "metadata": {},
   "outputs": [
    {
     "name": "stdout",
     "output_type": "stream",
     "text": [
      "hello hasan\n"
     ]
    }
   ],
   "source": [
    "nane=\"global string\"\n",
    "def greeting():\n",
    "    # bu function içerisinde bunda olan değişiklikleri kabule dip uygular\n",
    "    name=\"hasan\"\n",
    "    def hello():\n",
    "        print(\"hello \"+name)\n",
    "    hello()\n",
    "greeting()"
   ]
  },
  {
   "cell_type": "code",
   "execution_count": 9,
   "metadata": {},
   "outputs": [
    {
     "name": "stdout",
     "output_type": "stream",
     "text": [
      "50\n",
      "150\n"
     ]
    }
   ],
   "source": [
    "# function içerisindeki x'i değiştirmek için\n",
    "x=50\n",
    "def degistir():\n",
    "    global x\n",
    "    print(x)\n",
    "    x=150\n",
    "degistir()\n",
    "print(x)"
   ]
  },
  {
   "attachments": {},
   "cell_type": "markdown",
   "metadata": {},
   "source": [
    " # 7_7 Bankamatik örneği\n",
    " "
   ]
  },
  {
   "cell_type": "code",
   "execution_count": 24,
   "metadata": {},
   "outputs": [],
   "source": [
    "ibrahimHesap={\n",
    "    \"adi\":\"İbrahim ALİKILIÇ\",\n",
    "    \"HesapNo  \":\"123456789\",\n",
    "    \"bakiye\":61000,\n",
    "    \"ekBakiye\":50000\n",
    "}\n",
    "aliHesap={\n",
    "    \"adi\":\"Ali KILIÇ\",\n",
    "    \"HesapNo  \":\"123456789\",\n",
    "    \"bakiye\":51000,\n",
    "    \"ekBakiye\":40000\n",
    "}"
   ]
  },
  {
   "cell_type": "code",
   "execution_count": 25,
   "metadata": {},
   "outputs": [],
   "source": [
    "def hesap(hesapSahibi):\n",
    "    print(f\"Hoşgeldiniz {hesapSahibi['adi']}\")\n",
    "    print(f\"Bakiyeniz : {hesapSahibi['bakiye']}\")\n",
    "    print(f\"Ek bakiyeniz : {hesapSahibi['ekBakiye']}\")\n",
    "    cekilecekMiktar=int(input(\"Çekmek istediğiniz miktarı giriniz1\"))\n",
    "    BakiyeYeterlilikKontrol(hesapSahibi,cekilecekMiktar)\n",
    "def BakiyeYeterlilikKontrol(hesapSahibi,cekilecekMiktar):\n",
    "    if hesapSahibi[\"bakiye\"]<cekilecekMiktar:\n",
    "        if hesapSahibi[\"bakiye\"]+hesapSahibi[\"ekBakiye\"]<cekilecekMiktar:\n",
    "            print(\"var olan paranız yetmiyor '\")\n",
    "        else:\n",
    "            print(\"ek bakiyeden de çekiliyor\") # bakiyeden çekmek ister misiniz diye if oluşturmak istemedim\n",
    "            print(\"bakiye : 0TL\")\n",
    "            ektenCekilecek=cekilecekMiktar-hesapSahibi['bakiye']\n",
    "            kalanEkBakiye=hesapSahibi['ekBakiye']-ektenCekilecek\n",
    "            hesapSahibi['ekBakiye']=kalanEkBakiye\n",
    "            print(f\"Ek bakiye : {hesapSahibi['ekBakiye']}\")\n",
    "    else:\n",
    "        kalanBakiye=hesapSahibi['bakiye']-cekilecekMiktar\n",
    "        hesapSahibi['bakiye']=kalanBakiye\n",
    "        print(f\"kalan bakiyeniz  : {hesapSahibi['bakiye']}\")"
   ]
  },
  {
   "attachments": {},
   "cell_type": "markdown",
   "metadata": {},
   "source": [
    "#### Çift tırnaklı yaptırdığım matematiksel işlemleri kabul etmedi"
   ]
  },
  {
   "cell_type": "code",
   "execution_count": 26,
   "metadata": {},
   "outputs": [
    {
     "name": "stdout",
     "output_type": "stream",
     "text": [
      "Hoşgeldiniz İbrahim ALİKILIÇ\n",
      "Bakiyeniz : 61000\n",
      "Ek bakiyeniz : 50000\n",
      "kalan bakiyeniz  : 11000\n"
     ]
    }
   ],
   "source": [
    "hesap(ibrahimHesap)"
   ]
  },
  {
   "cell_type": "code",
   "execution_count": null,
   "metadata": {},
   "outputs": [],
   "source": []
  }
 ],
 "metadata": {
  "kernelspec": {
   "display_name": "base",
   "language": "python",
   "name": "python3"
  },
  "language_info": {
   "codemirror_mode": {
    "name": "ipython",
    "version": 3
   },
   "file_extension": ".py",
   "mimetype": "text/x-python",
   "name": "python",
   "nbconvert_exporter": "python",
   "pygments_lexer": "ipython3",
   "version": "3.10.9"
  },
  "orig_nbformat": 4
 },
 "nbformat": 4,
 "nbformat_minor": 2
}
