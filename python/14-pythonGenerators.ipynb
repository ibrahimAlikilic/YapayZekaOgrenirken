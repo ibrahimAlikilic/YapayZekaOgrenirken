{
 "cells": [
  {
   "cell_type": "markdown",
   "metadata": {},
   "source": [
    "# Generators\n",
    "## Genel anlamda bellekte yer ayıran interator\n",
    "## Bellekte boş yer ayırmayı engelliyoz\n",
    "## Anlık ihitiyacımız olup tekrar kullanmayacağımız durumlarda kullanırız"
   ]
  },
  {
   "cell_type": "code",
   "execution_count": 3,
   "metadata": {},
   "outputs": [
    {
     "name": "stdout",
     "output_type": "stream",
     "text": [
      "<generator object cube at 0x000001C73CCDCC70>\n"
     ]
    }
   ],
   "source": [
    "# yield bir değer döndürüyor ve bu değer bellekte saklanmıyor\n",
    "def cube():\n",
    "    for i in range(5):\n",
    "        yield i**3\n",
    "print(cube())"
   ]
  },
  {
   "cell_type": "code",
   "execution_count": 4,
   "metadata": {},
   "outputs": [
    {
     "name": "stdout",
     "output_type": "stream",
     "text": [
      "0\n",
      "1\n",
      "8\n",
      "27\n",
      "64\n"
     ]
    }
   ],
   "source": [
    "generator=cube()\n",
    "iterator=iter(generator)\n",
    "while True:\n",
    "    try:\n",
    "        element=next(iterator)\n",
    "        print(element)\n",
    "    except StopIteration:\n",
    "        break"
   ]
  },
  {
   "cell_type": "code",
   "execution_count": 6,
   "metadata": {},
   "outputs": [
    {
     "name": "stdout",
     "output_type": "stream",
     "text": [
      "0\n",
      "1\n",
      "8\n",
      "27\n",
      "64\n"
     ]
    }
   ],
   "source": [
    "# zaten cube bir iterator olduğundan dönüşüne gerek yok\n",
    "iterator=cube()\n",
    "while True:\n",
    "    try:\n",
    "        element=next(iterator)\n",
    "        print(element)\n",
    "    except StopIteration:\n",
    "        break\n",
    "# aynı şey oluyor"
   ]
  },
  {
   "cell_type": "code",
   "execution_count": 9,
   "metadata": {},
   "outputs": [
    {
     "name": "stdout",
     "output_type": "stream",
     "text": [
      "0\n",
      "1\n",
      "8\n",
      "27\n",
      "64\n"
     ]
    }
   ],
   "source": [
    "iterator=cube()\n",
    "for i in iterator:\n",
    "    print(i) # şeklinde de olur"
   ]
  },
  {
   "cell_type": "code",
   "execution_count": 11,
   "metadata": {},
   "outputs": [
    {
     "name": "stdout",
     "output_type": "stream",
     "text": [
      "<generator object <genexpr> at 0x000001C73CCDF6B0>\n",
      "0\n",
      "1\n",
      "8\n",
      "27\n",
      "64\n"
     ]
    }
   ],
   "source": [
    "# başka bir şekilde oluşturma\n",
    "generator=(i**3 for i in range(5)) # dikkat et [] değil () kullandık\n",
    "print(generator)\n",
    "while True:\n",
    "    try:\n",
    "        element=next(generator)\n",
    "        print(element)\n",
    "    except StopIteration:\n",
    "        break"
   ]
  },
  {
   "cell_type": "code",
   "execution_count": null,
   "metadata": {},
   "outputs": [],
   "source": []
  }
 ],
 "metadata": {
  "kernelspec": {
   "display_name": "Python 3",
   "language": "python",
   "name": "python3"
  },
  "language_info": {
   "codemirror_mode": {
    "name": "ipython",
    "version": 3
   },
   "file_extension": ".py",
   "mimetype": "text/x-python",
   "name": "python",
   "nbconvert_exporter": "python",
   "pygments_lexer": "ipython3",
   "version": "3.11.4"
  },
  "orig_nbformat": 4
 },
 "nbformat": 4,
 "nbformat_minor": 2
}
