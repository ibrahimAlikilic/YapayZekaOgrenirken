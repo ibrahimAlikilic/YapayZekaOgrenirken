{
 "cells": [
  {
   "attachments": {},
   "cell_type": "markdown",
   "metadata": {},
   "source": [
    "# 8_2 Class Oluşturma"
   ]
  },
  {
   "cell_type": "code",
   "execution_count": 3,
   "metadata": {},
   "outputs": [
    {
     "name": "stdout",
     "output_type": "stream",
     "text": [
      "init çalıştı\n",
      "init çalıştı\n",
      "ali we now\n",
      "I'm method ali\n"
     ]
    }
   ],
   "source": [
    "class Person:\n",
    "    # class attributes\n",
    "    adress=' no info'\n",
    "    # constructor(yapıcı method)\n",
    "    def __init__(self,name,year): # self yerine başka bir isim de diyebilirsin  this felan ...\n",
    "        # object attributes\n",
    "        self.nameem=name\n",
    "        self.year=year\n",
    "        print(\"init çalıştı\") # her object üretiminde self çalışır\n",
    "        # instance methods\n",
    "    def intro(self):\n",
    "        print(\"I'm method \" + self.nameem)\n",
    "    pass # boş geçmesini sağlıyor bu sayede hata almıyoruz\n",
    "\n",
    "#objects (instance) isimleri\n",
    "p1=Person(\"ali\",1999)\n",
    "p2=Person(\"VEli\",1988)\n",
    "\n",
    "# updating\n",
    "p1.adress=' we now'\n",
    "#accessing object attributes\n",
    "print(p1.nameem+p1.adress)\n",
    "p1==p2\n",
    "p1.intro()"
   ]
  },
  {
   "attachments": {},
   "cell_type": "markdown",
   "metadata": {},
   "source": [
    "# 8_4 inheritance"
   ]
  },
  {
   "cell_type": "code",
   "execution_count": 19,
   "metadata": {},
   "outputs": [
    {
     "name": "stdout",
     "output_type": "stream",
     "text": [
      "Person çalıştı\n",
      "Student çalışıt\n",
      "ali\n",
      "Student\n",
      "Person çalıştı\n",
      "Person\n"
     ]
    }
   ],
   "source": [
    "class Person():\n",
    "    def __init__(self,name,sname):\n",
    "        self.name=name\n",
    "        self.sname=name\n",
    "        print(\"Person çalıştı\")\n",
    "\n",
    "    def ayniIsim(self):\n",
    "        print(\"Person\")\n",
    "\n",
    "class Student(Person):\n",
    "    def __init__(self,name,sname):\n",
    "        Person.__init__(self,name,sname) # person un init inin çalışmasını sağlıyor\n",
    "        print(\"Student çalışıt\")\n",
    "    \n",
    "    #override\n",
    "    def ayniIsim(self):\n",
    "        print(\"Student\")\n",
    "\n",
    "class Teacher(Person):\n",
    "    def __init__(self,name,sname) :\n",
    "        super().__init__(name,sname) # Person olarak yazmak yerine super methodu kullanılabilir\n",
    "        '''\n",
    "        Miras alınan üst sınıfa atıfta bulunan super() fonksiyonu, miras aldığımız bir üst sınıfın nitelik ve metotları üzerinde değişiklik yaparken, mevcut özellikleri de muhafaza edebilmemizi sağlar.\n",
    "        '''\n",
    "        \n",
    "s1=Student(\"ali\",\"kılıç\")\n",
    "print(s1.name)\n",
    "s1.ayniIsim()\n",
    "t1=Teacher(\"hasan\",\"hüseyin\")\n",
    "t1.ayniIsim()"
   ]
  },
  {
   "attachments": {},
   "cell_type": "markdown",
   "metadata": {},
   "source": [
    "# 8_5 Özel Methodlar"
   ]
  },
  {
   "cell_type": "code",
   "execution_count": 29,
   "metadata": {},
   "outputs": [
    {
     "name": "stdout",
     "output_type": "stream",
     "text": [
      "oluşturduğun nesneyi yazdırmaya kalkınca bu çalışır\n",
      "120\n",
      "silindi\n"
     ]
    }
   ],
   "source": [
    "# Normalde kullanılan methodları class da kullanmak için kendin tanımlaman lazım c++ daki overloading gibi\n",
    "class Movie():\n",
    "    def __str__(self) :\n",
    "        return \"oluşturduğun nesneyi yazdırmaya kalkınca bu çalışır\"\n",
    "    def __len__(self):\n",
    "        return 120\n",
    "    def __del__(self):\n",
    "        print(\"silindi\")\n",
    "m1=Movie()\n",
    "print(m1) #print(str(m1)) olarak de yazabilirsin\n",
    "print(len(m1))\n",
    "\n",
    "\n",
    "del(m1) # objeyi sildim\n",
    "# kendin silmesen bile bir süre sonra bellek kendisi siliyor o yuzden sen yazmasan dahi del çalışıyor"
   ]
  },
  {
   "attachments": {},
   "cell_type": "markdown",
   "metadata": {},
   "source": [
    "# 8_6 Örnek"
   ]
  },
  {
   "cell_type": "code",
   "execution_count": 20,
   "metadata": {},
   "outputs": [
    {
     "name": "stdout",
     "output_type": "stream",
     "text": [
      "1. Soru : hangisi\n",
      "- c++\n",
      "- c#\n",
      "- python\n",
      "2/3 . soru\n",
      "2. Soru : olsun\n",
      "- c#\n",
      "- c++\n",
      "- python\n",
      "3/3 . soru\n",
      "3. Soru : bakalım\n",
      "- c++\n",
      "- python\n",
      "- c#\n",
      "scorer :  0\n"
     ]
    }
   ],
   "source": [
    "class Questions():\n",
    "    def __init__(self,text,choices,answer):\n",
    "        self.text=text\n",
    "        self.choices=choices\n",
    "        self.answer=answer\n",
    "    \n",
    "    def ChackAnswear(self,answer):\n",
    "        return self.answer==answer\n",
    "\n",
    "\n",
    "class Quiz():\n",
    "    def __init__(self,question):\n",
    "        self.question=question\n",
    "        self.questionIndex=0\n",
    "        self.score=0\n",
    "    \n",
    "    def getQuestion(self):\n",
    "        return self.question[self.questionIndex]\n",
    "    \n",
    "    def displayQuestion(self):\n",
    "        question=self.getQuestion()\n",
    "        print(f'{self.questionIndex+1}. Soru : {question.text}')\n",
    "\n",
    "        for q in question.choices:\n",
    "            print(\"- \"+q)\n",
    "        \n",
    "        answer=input('cevap :')\n",
    "        self.guess(answer)\n",
    "    \n",
    "    def guess(self,answer):\n",
    "        question=self.getQuestion()\n",
    "\n",
    "        if question.ChackAnswear(answer):\n",
    "            self.score+=1\n",
    "        self.questionIndex+=1\n",
    "        self.loadQuestion()\n",
    "\n",
    "    def loadQuestion(self):\n",
    "        if len(self.question)==self.questionIndex:\n",
    "            self.ShowScore()\n",
    "        else:\n",
    "            self.DisplayProgress()\n",
    "            self.displayQuestion()\n",
    "\n",
    "    def DisplayProgress(self):\n",
    "        totalQuestion=len(self.question)\n",
    "        questionNumber=self.questionIndex+1\n",
    "        print(f\"{questionNumber}/{totalQuestion} . soru\")\n",
    "        \n",
    "    def ShowScore(self):\n",
    "        print(\"scorer : \", self.score)\n",
    "q1=Questions(\"hangisi\",[\"c++\",\"c#\",\"python\"],\"python\")\n",
    "q2=Questions(\"olsun\",[\"c#\",\"c++\",\"python\"],\"python\")\n",
    "q3=Questions(\"bakalım\",[\"c++\",\"python\",\"c#\"],\"python\")\n",
    "question=[q1,q2,q3]\n",
    "quiz=Quiz(question)\n",
    "quiz.displayQuestion()\n"
   ]
  },
  {
   "cell_type": "code",
   "execution_count": null,
   "metadata": {},
   "outputs": [],
   "source": []
  }
 ],
 "metadata": {
  "kernelspec": {
   "display_name": "base",
   "language": "python",
   "name": "python3"
  },
  "language_info": {
   "codemirror_mode": {
    "name": "ipython",
    "version": 3
   },
   "file_extension": ".py",
   "mimetype": "text/x-python",
   "name": "python",
   "nbconvert_exporter": "python",
   "pygments_lexer": "ipython3",
   "version": "3.10.9"
  },
  "orig_nbformat": 4
 },
 "nbformat": 4,
 "nbformat_minor": 2
}
