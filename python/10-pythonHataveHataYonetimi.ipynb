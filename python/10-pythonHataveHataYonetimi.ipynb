{
 "cells": [
  {
   "cell_type": "markdown",
   "metadata": {},
   "source": [
    "# 10_2 Hata alma"
   ]
  },
  {
   "cell_type": "markdown",
   "metadata": {},
   "source": [
    "## ZeroDevisionError"
   ]
  },
  {
   "cell_type": "code",
   "execution_count": 1,
   "metadata": {},
   "outputs": [
    {
     "name": "stdout",
     "output_type": "stream",
     "text": [
      "Hatalı bilgi girdiniz\n",
      "invalid literal for int() with base 10: 'a'\n"
     ]
    }
   ],
   "source": [
    "try:\n",
    "    x=int(input('x : '))\n",
    "    y=int(input('y'))\n",
    "    print(x/y)\n",
    "# except ZeroDivisionError:\n",
    "#     print('y 0 olamaz')\n",
    "# except ValueError:\n",
    "#     print('x ve y sayısal değer olmalı')\n",
    "except (ZeroDivisionError,ValueError) as e: \n",
    "    print('Hatalı bilgi girdiniz')\n",
    "    print(e) # e bize hata sebebini verecek"
   ]
  },
  {
   "cell_type": "code",
   "execution_count": 2,
   "metadata": {},
   "outputs": [
    {
     "name": "stdout",
     "output_type": "stream",
     "text": [
      "2.0\n"
     ]
    }
   ],
   "source": [
    "try:\n",
    "    x=int(input('x : '))\n",
    "    y=int(input('y'))\n",
    "    print(x/y)\n",
    "except: # bu bize ne tür hata olduğunu vermez\n",
    "    print('Hatalı bilgi girdiniz')"
   ]
  },
  {
   "cell_type": "code",
   "execution_count": 3,
   "metadata": {},
   "outputs": [
    {
     "name": "stdout",
     "output_type": "stream",
     "text": [
      "Hatalı bilgi girdiniz\n"
     ]
    }
   ],
   "source": [
    "try:\n",
    "    x=int(input('x : '))\n",
    "    y=int(input('y'))\n",
    "    print(x/y)\n",
    "except: # bu bize ne tür hata olduğunu vermez\n",
    "    print('Hatalı bilgi girdiniz')\n",
    "else:\n",
    "    print('Everything ok :)')\n",
    "    print('bunu döngü durdurmada kullanabiliyoz')"
   ]
  },
  {
   "cell_type": "code",
   "execution_count": 11,
   "metadata": {},
   "outputs": [
    {
     "name": "stdout",
     "output_type": "stream",
     "text": [
      "Hatalı bilgi girdiniz  invalid literal for int() with base 10: 'a'\n",
      "Sonlandı , Dosya kapatmak için kullanırız\n",
      "5.0\n",
      "Sonlandı , Dosya kapatmak için kullanırız\n"
     ]
    }
   ],
   "source": [
    "while True:\n",
    "    try:\n",
    "        x=int(input('x : '))\n",
    "        y=int(input('y'))\n",
    "        print(x/y)\n",
    "    except Exception as ex: # Exception base class olduğundan veriyor \n",
    "        print('Hatalı bilgi girdiniz ',ex)\n",
    "    else:\n",
    "        break\n",
    "    finally: # Her seferinde çalışır\n",
    "        print('Sonlandı , Dosya kapatmak için kullanırız')"
   ]
  },
  {
   "cell_type": "markdown",
   "metadata": {},
   "source": [
    "# 10_3 Hata nesnesi oluşturma "
   ]
  },
  {
   "cell_type": "code",
   "execution_count": 15,
   "metadata": {},
   "outputs": [
    {
     "ename": "Exception",
     "evalue": "x 5ten büyük olamaz",
     "output_type": "error",
     "traceback": [
      "\u001b[1;31m---------------------------------------------------------------------------\u001b[0m",
      "\u001b[1;31mException\u001b[0m                                 Traceback (most recent call last)",
      "Cell \u001b[1;32mIn[15], line 3\u001b[0m\n\u001b[0;32m      1\u001b[0m x\u001b[39m=\u001b[39m\u001b[39m10\u001b[39m\n\u001b[0;32m      2\u001b[0m \u001b[39mif\u001b[39;00m x\u001b[39m>\u001b[39m\u001b[39m5\u001b[39m:\n\u001b[1;32m----> 3\u001b[0m     \u001b[39mraise\u001b[39;00m \u001b[39mException\u001b[39;00m(\u001b[39m\"\u001b[39m\u001b[39mx 5ten büyük olamaz\u001b[39m\u001b[39m\"\u001b[39m)\n",
      "\u001b[1;31mException\u001b[0m: x 5ten büyük olamaz"
     ]
    }
   ],
   "source": [
    "x=10\n",
    "if x>5:\n",
    "    raise Exception(\"x 5ten büyük olamaz\")"
   ]
  },
  {
   "cell_type": "code",
   "execution_count": 31,
   "metadata": {},
   "outputs": [],
   "source": [
    "def ChackPassword(pwr):\n",
    "    import re # bu aşşağıdaki sınırlamalar için\n",
    "    if len(pwr)<8:\n",
    "        raise Exception(\"parola en az 8 karakte olmalı\")\n",
    "    elif not re.search(\"[a-z]\",pwr):\n",
    "        raise Exception(\"Şifer küçük harf içermeli\")\n",
    "    elif not re.search(\"[A-Z]\",pwr):\n",
    "        raise Exception(\"Şifer büyük harf içermeli\")\n",
    "    elif not re.search(\"[a-z]\",pwr):\n",
    "        raise Exception(\"Şifer küçük harf içermeli\")\n",
    "    elif not re.search(\"[0-9]\",pwr):\n",
    "        raise Exception(\"Şifer rakam içermeli\")\n",
    "    elif not re.search(\"[&@$]\",pwr):\n",
    "        raise Exception(\"Şifer & @ $ karakterlerinden birini içermeli içermeli\")\n",
    "    elif re.search(\"\\s\",pwr): # \\s boşluk demek\n",
    "        raise Exception(\"Şifrede boşluk olamaz\")"
   ]
  },
  {
   "cell_type": "code",
   "execution_count": 37,
   "metadata": {},
   "outputs": [
    {
     "name": "stdout",
     "output_type": "stream",
     "text": [
      "Şifer rakam içermeli\n",
      "Validation tamamlandı\n"
     ]
    }
   ],
   "source": [
    "try:\n",
    "    ChackPassword('asdasdaB@')\n",
    "except Exception as ex:\n",
    "    print(ex)\n",
    "# try except içine almayınca hata line felan her şeyi yazıyor\n",
    "else:\n",
    "    print(\"Geçerli parola\")\n",
    "finally:\n",
    "    print(\"Validation tamamlandı\")"
   ]
  },
  {
   "cell_type": "code",
   "execution_count": 38,
   "metadata": {},
   "outputs": [],
   "source": [
    "class Person():\n",
    "    def __init__(self,name):\n",
    "        if len(name)>7:\n",
    "            raise Exception(\"7 karakterden büyük olamaz\")\n",
    "        else:\n",
    "            self.name=name"
   ]
  },
  {
   "cell_type": "code",
   "execution_count": 42,
   "metadata": {},
   "outputs": [
    {
     "name": "stdout",
     "output_type": "stream",
     "text": [
      "7 karakterden büyük olamaz\n"
     ]
    }
   ],
   "source": [
    "try:\n",
    "    Person(\"aaa66678\")\n",
    "except Exception as ex:\n",
    "    print(ex)"
   ]
  },
  {
   "cell_type": "markdown",
   "metadata": {},
   "source": [
    "# 10_4 Örn"
   ]
  },
  {
   "cell_type": "markdown",
   "metadata": {},
   "source": [
    "## 1) Listedeki sadece sayısal değer olanları bulma"
   ]
  },
  {
   "cell_type": "code",
   "execution_count": 3,
   "metadata": {},
   "outputs": [
    {
     "name": "stdout",
     "output_type": "stream",
     "text": [
      "1\n",
      "5\n",
      "7\n",
      "11\n"
     ]
    }
   ],
   "source": [
    "liste=[\"1\",\"5\",\"6a10\",\"7\",\"10b\",\"11\"]\n",
    "for x in liste:\n",
    "    try:\n",
    "        value=int(x)\n",
    "        print(value)\n",
    "    except ValueError:\n",
    "        continue"
   ]
  },
  {
   "cell_type": "markdown",
   "metadata": {},
   "source": [
    "## 2) q girilmedikçe sayı mı diye kontrol etme"
   ]
  },
  {
   "cell_type": "code",
   "execution_count": 5,
   "metadata": {},
   "outputs": [
    {
     "name": "stdout",
     "output_type": "stream",
     "text": [
      "10\n",
      "11\n",
      "geçersiz\n"
     ]
    }
   ],
   "source": [
    "while True:\n",
    "    sayi=input('sayı  :')\n",
    "    if sayi==\"q\":\n",
    "        break\n",
    "    try:\n",
    "        value=int(sayi)\n",
    "        print(value)\n",
    "    except ValueError:\n",
    "        print(\"geçersiz\")"
   ]
  },
  {
   "cell_type": "markdown",
   "metadata": {},
   "source": [
    "## 3) Türkçe karakter hatası"
   ]
  },
  {
   "cell_type": "code",
   "execution_count": 10,
   "metadata": {},
   "outputs": [
    {
     "name": "stdout",
     "output_type": "stream",
     "text": [
      "Türkçe karakter içermemeli\n"
     ]
    }
   ],
   "source": [
    "def Chack_password(parola):\n",
    "    turkce_karakterler='İşıçöğ'\n",
    "    for i in parola:\n",
    "        if i in turkce_karakterler:\n",
    "            raise TypeError(\"Türkçe karakter içermemeli\")\n",
    "        else:\n",
    "            pass\n",
    "    print(\"geçerli parola\")\n",
    "\n",
    "parola=input(\"parola\")\n",
    "try:\n",
    "    Chack_password(parola)\n",
    "except TypeError as te:\n",
    "    print(te)\n"
   ]
  },
  {
   "cell_type": "markdown",
   "metadata": {},
   "source": [
    "## 4) Faktoriyel"
   ]
  },
  {
   "cell_type": "code",
   "execution_count": 17,
   "metadata": {},
   "outputs": [
    {
     "name": "stdout",
     "output_type": "stream",
     "text": [
      "1\n",
      "120\n",
      "145183092028285869634070784086308284983740379224208358846781574688061991349156420080065207861248000000000000000000\n",
      "invalid literal for int() with base 10: '10a'\n",
      "0dan küçük olamaz\n"
     ]
    }
   ],
   "source": [
    "def Faktoriyel(x):\n",
    "    x=int(x)\n",
    "    result=1\n",
    "    if x<0 :\n",
    "        raise ValueError(\"0dan küçük olamaz\")\n",
    "    for i in range(1,x+1):\n",
    "        result*=i\n",
    "    return result\n",
    "\n",
    "for a in [\"1\",\"5\",\"77\" , \"10a\",\"-3\"]:\n",
    "    try:\n",
    "        value=Faktoriyel(a)\n",
    "    except ValueError as ve:\n",
    "        print(ve)\n",
    "        continue\n",
    "    print(value)\n"
   ]
  },
  {
   "cell_type": "code",
   "execution_count": null,
   "metadata": {},
   "outputs": [],
   "source": []
  }
 ],
 "metadata": {
  "kernelspec": {
   "display_name": "Python 3",
   "language": "python",
   "name": "python3"
  },
  "language_info": {
   "codemirror_mode": {
    "name": "ipython",
    "version": 3
   },
   "file_extension": ".py",
   "mimetype": "text/x-python",
   "name": "python",
   "nbconvert_exporter": "python",
   "pygments_lexer": "ipython3",
   "version": "3.11.4"
  },
  "orig_nbformat": 4
 },
 "nbformat": 4,
 "nbformat_minor": 2
}
