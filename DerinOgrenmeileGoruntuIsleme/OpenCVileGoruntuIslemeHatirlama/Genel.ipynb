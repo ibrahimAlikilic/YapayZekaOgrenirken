{
 "cells": [
  {
   "cell_type": "markdown",
   "metadata": {},
   "source": [
    "# Resimleri yan yana ya da üst üste olacak şekilde birleştirme"
   ]
  },
  {
   "cell_type": "code",
   "execution_count": null,
   "metadata": {},
   "outputs": [],
   "source": [
    "import cv2\n",
    "import numpy as np\n",
    "img=cv2.imread(\"path\")\n",
    "# yatay\n",
    "hop=np.hastack((img,img))\n",
    "# dikey\n",
    "ver=np.vstack((img,img))"
   ]
  },
  {
   "cell_type": "markdown",
   "metadata": {},
   "source": [
    "# Resim döndürme"
   ]
  },
  {
   "cell_type": "code",
   "execution_count": null,
   "metadata": {},
   "outputs": [],
   "source": [
    "pts1=np.float32([],[],[],[]) # yamuk halindeki köşelerin koordinatları\n",
    "pts2=np.float32([],[],[],[]) # olmasını istediğim halindeki köşelerin koordinatları\n",
    "matrix=cv2.getPerspectiveTransform(pts1,pts2)\n",
    "cv2.warpPerspective(img,matrix,(width,height))"
   ]
  }
 ],
 "metadata": {
  "language_info": {
   "name": "python"
  }
 },
 "nbformat": 4,
 "nbformat_minor": 2
}
