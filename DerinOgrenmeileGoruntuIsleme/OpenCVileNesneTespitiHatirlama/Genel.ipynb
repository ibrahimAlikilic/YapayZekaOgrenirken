{
 "cells": [
  {
   "cell_type": "code",
   "execution_count": null,
   "metadata": {},
   "outputs": [],
   "source": []
  },
  {
   "cell_type": "markdown",
   "metadata": {},
   "source": [
    "# cv2.Canny()\n",
    "threshold1 için low ve threshold2 için upper değeri hesaplarken medyandan yola çıkarak şu değerleri kullanmak elverişliymiş\n",
    "1) med_val=np.median(img)\n",
    "2) low = int(max(0 , (1 - 0.33)*med_val))\n",
    "3) high = int(max(255 , (1 + 0.33)*med_val))"
   ]
  },
  {
   "cell_type": "markdown",
   "metadata": {},
   "source": [
    "# Blur \n",
    "Blur uygulaman gerektiğinde bu güne kadar hep tüm resme uyguladım ama gereksinime göre resimde uygulamak istediğim kısmı kesip o kısıma uygulayıp sonra ana resimle birleştirerek istediğin bölgeyi blurlamış olabilirsin . Yani illa durmadan ksize ile oynamak zorunda değilsin"
   ]
  },
  {
   "cell_type": "markdown",
   "metadata": {},
   "source": [
    "# Renk ile tespit\n",
    "1) Blur uyguladın\n",
    "2) hsv formatına çevirdin\n",
    "3) mask = cv2.inRange() diyerek maskeleme gerçekleştirdin\n",
    "* Şimdi bu aşamada kalan gürültülerden kurtulmak için sırasıyla erezyon ve genişleme işlemleri gerçekleştirebilirsin\n",
    "1) mask = cv2.errode()\n",
    "2) mask = cv2.dilate()"
   ]
  },
  {
   "cell_type": "markdown",
   "metadata": {},
   "source": []
  }
 ],
 "metadata": {
  "language_info": {
   "name": "python"
  }
 },
 "nbformat": 4,
 "nbformat_minor": 2
}
