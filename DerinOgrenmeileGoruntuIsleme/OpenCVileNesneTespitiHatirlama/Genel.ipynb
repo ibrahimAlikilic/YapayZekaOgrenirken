{
 "cells": [
  {
   "cell_type": "markdown",
   "metadata": {},
   "source": [
    "# cv2.Canny()\n",
    "threshold1 için low ve threshold2 için upper değeri hesaplarken medyandan yola çıkarak şu değerleri kullanmak elverişliymiş\n",
    "1) med_val=np.median(img)\n",
    "2) low = int(max(0 , (1 - 0.33)*med_val))\n",
    "3) high = int(max(255 , (1 + 0.33)*med_val))"
   ]
  },
  {
   "cell_type": "markdown",
   "metadata": {},
   "source": [
    "# Blur \n",
    "Blur uygulaman gerektiğinde bu güne kadar hep tüm resme uyguladım ama gereksinime göre resimde uygulamak istediğim kısmı kesip o kısıma uygulayıp sonra ana resimle birleştirerek istediğin bölgeyi blurlamış olabilirsin . Yani illa durmadan ksize ile oynamak zorunda değilsin"
   ]
  },
  {
   "cell_type": "markdown",
   "metadata": {},
   "source": [
    "# Renk ile tespit\n",
    "1) Blur uyguladın\n",
    "2) hsv formatına çevirdin\n",
    "3) mask = cv2.inRange() diyerek maskeleme gerçekleştirdin\n",
    "* Şimdi bu aşamada kalan gürültülerden kurtulmak için sırasıyla erezyon ve genişleme işlemleri gerçekleştirebilirsin\n",
    "1) mask = cv2.errode()\n",
    "2) mask = cv2.dilate()"
   ]
  },
  {
   "cell_type": "markdown",
   "metadata": {},
   "source": [
    "# Kendi HaarCascade oluşturma"
   ]
  },
  {
   "cell_type": "code",
   "execution_count": 1,
   "metadata": {},
   "outputs": [],
   "source": [
    "# Kameramın çözünürlüğünü bilmem lazım\n",
    "import cv2\n",
    "def Cozunurluk(cap):\n",
    "    width=0\n",
    "    height=0\n",
    "    if not cap.isOpened():\n",
    "        print(\"Kamera açılamadı!\")\n",
    "    else:\n",
    "        # Kamera çözünürlüğünü al\n",
    "        width = int(cap.get(cv2.CAP_PROP_FRAME_WIDTH))\n",
    "        height = int(cap.get(cv2.CAP_PROP_FRAME_HEIGHT))\n",
    "\n",
    "        print(f\"Kamera Çözünürlüğü: {width} x {height}\")\n",
    "\n",
    "    # Kamerayı serbest bırak\n",
    "    cap.release()\n",
    "    cv2.destroyAllWindows()\n",
    "    return width,height"
   ]
  },
  {
   "cell_type": "code",
   "execution_count": 2,
   "metadata": {},
   "outputs": [
    {
     "name": "stdout",
     "output_type": "stream",
     "text": [
      "Kamera Çözünürlüğü: 640 x 480\n"
     ]
    }
   ],
   "source": [
    "\"\"\"\n",
    "1) veri seti : n,p\n",
    "2) cascade programı indir\n",
    "3) cascade\n",
    "4) cascade kullanarak\n",
    "\"\"\"\n",
    "\n",
    "import cv2\n",
    "import os\n",
    "\n",
    "path=\"images\"\n",
    "img_width=180\n",
    "img_height=120\n",
    "cap=cv2.VideoCapture(0)\n",
    "width,height=Cozunurluk(cap)\n",
    "cap.set(height,width)"
   ]
  },
  {
   "cell_type": "code",
   "execution_count": null,
   "metadata": {},
   "outputs": [],
   "source": []
  }
 ],
 "metadata": {
  "kernelspec": {
   "display_name": "Python 3",
   "language": "python",
   "name": "python3"
  },
  "language_info": {
   "codemirror_mode": {
    "name": "ipython",
    "version": 3
   },
   "file_extension": ".py",
   "mimetype": "text/x-python",
   "name": "python",
   "nbconvert_exporter": "python",
   "pygments_lexer": "ipython3",
   "version": "3.10.12"
  }
 },
 "nbformat": 4,
 "nbformat_minor": 2
}
