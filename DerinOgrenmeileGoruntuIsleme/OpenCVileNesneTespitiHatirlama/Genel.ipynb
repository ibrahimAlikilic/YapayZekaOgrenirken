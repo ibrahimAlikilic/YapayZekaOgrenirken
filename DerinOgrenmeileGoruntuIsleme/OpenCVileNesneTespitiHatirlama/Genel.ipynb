{
 "cells": [
  {
   "cell_type": "markdown",
   "metadata": {},
   "source": [
    "# cv2.Canny()\n",
    "threshold1 için low ve threshold2 için upper değeri hesaplarken medyandan yola çıkarak şu değerleri kullanmak elverişliymiş\n",
    "1) med_val=np.median(img)\n",
    "2) low = int(max(0 , (1 - 0.33)*med_val))\n",
    "3) high = int(max(255 , (1 + 0.33)*med_val))"
   ]
  },
  {
   "cell_type": "markdown",
   "metadata": {},
   "source": [
    "# Blur \n",
    "Blur uygulaman gerektiğinde bu güne kadar hep tüm resme uyguladım ama gereksinime göre resimde uygulamak istediğim kısmı kesip o kısıma uygulayıp sonra ana resimle birleştirerek istediğin bölgeyi blurlamış olabilirsin . Yani illa durmadan ksize ile oynamak zorunda değilsin"
   ]
  },
  {
   "cell_type": "markdown",
   "metadata": {},
   "source": [
    "# Renk ile tespit\n",
    "1) Blur uyguladın\n",
    "2) hsv formatına çevirdin\n",
    "3) mask = cv2.inRange() diyerek maskeleme gerçekleştirdin\n",
    "* Şimdi bu aşamada kalan gürültülerden kurtulmak için sırasıyla erezyon ve genişleme işlemleri gerçekleştirebilirsin\n",
    "1) mask = cv2.errode()\n",
    "2) mask = cv2.dilate()"
   ]
  },
  {
   "cell_type": "markdown",
   "metadata": {},
   "source": [
    "# Kendi HaarCascade oluşturma"
   ]
  },
  {
   "cell_type": "code",
   "execution_count": 1,
   "metadata": {},
   "outputs": [],
   "source": [
    "# Kameramın çözünürlüğünü bilmem lazım\n",
    "import cv2\n",
    "def Cozunurluk(cap):\n",
    "    width=0\n",
    "    height=0\n",
    "    brightness=0\n",
    "    if not cap.isOpened():\n",
    "        print(\"Kamera açılamadı!\")\n",
    "    else:\n",
    "        # Kamera çözünürlüğünü al\n",
    "        width = int(cap.get(cv2.CAP_PROP_FRAME_WIDTH))\n",
    "        height = int(cap.get(cv2.CAP_PROP_FRAME_HEIGHT))\n",
    "\n",
    "        print(f\"Kamera Çözünürlüğü: {width} x {height}\")\n",
    "        brightness = cap.get(cv2.CAP_PROP_BRIGHTNESS)\n",
    "        print(f\"Kamera Parlaklık Seviyesi: {brightness}\")\n",
    "\n",
    "    # Kamerayı serbest bırak\n",
    "    cap.release()\n",
    "    cv2.destroyAllWindows()\n",
    "    return width,height,brightness"
   ]
  },
  {
   "cell_type": "code",
   "execution_count": 2,
   "metadata": {},
   "outputs": [],
   "source": [
    "\"\"\"\n",
    "1) veri seti : n,p\n",
    "2) cascade programı indir\n",
    "3) cascade\n",
    "4) cascade kullanarak\n",
    "\"\"\"\n",
    "\n",
    "import cv2\n",
    "import os\n",
    "\n",
    "path=\"output/images\"\n",
    "img_width=180\n",
    "img_height=120\n",
    "def CapSet():\n",
    "    cap=cv2.VideoCapture(0)\n",
    "    width,height,brightness=Cozunurluk(cap)\n",
    "    cap.set(3,width) # 640 genişlik\n",
    "    cap.set(4,height) # 480 yükseklik ayarladık\n",
    "    cap.set(10,180) # 0 döndürdü parlaklık seviyesini\n",
    "    return cap\n",
    "\n",
    "# şimdi de dosyalama işlemi\n",
    "global countFolder\n",
    "def Dosyalama():\n",
    "    global countFolder\n",
    "    countFolder=0\n",
    "    while os.path.exists(path+str(countFolder)): # Aynı isimde klasör olup olmadığını kontrol eden döngü\n",
    "        countFolder+=1\n",
    "    os.mkdir(path+str(countFolder)) # Yeni bir klasör oluşturuluyor\n",
    "Dosyalama()\n",
    "\n",
    "#########################################################\n",
    "\n",
    "count=0\n",
    "countSave=0\n",
    "def NegatifValue():\n",
    "    cap=CapSet()\n",
    "    while True:\n",
    "        ret , frame=cap.read()\n",
    "        if ret:\n",
    "            frame=cv2.resize(frame,(img_width,img_height))\n",
    "            if count%5==0: # tüm gördüğünü değil de 5 tanede 1 kaydetsin dedik\n",
    "                cv2.imwrite(path,str(countFolder)+\"/\"+str(countSave)+\"_\"+\".png\",frame)\n",
    "                countSave+=1\n",
    "                print(countSave)\n",
    "            count+=1\n",
    "            cv2.imshow(\"frame\",frame)\n",
    "        if cv2.waitKey(1)&0xff==ord(\"q\"):\n",
    "            break\n",
    "\n",
    "while True:\n",
    "    if cv2.waitKey(1) & 0xFF == ord('n'):\n",
    "        NegatifValue()\n",
    "    elif cv2.waitKey(1) & 0xFF == ord('q'):\n",
    "        break"
   ]
  },
  {
   "cell_type": "code",
   "execution_count": null,
   "metadata": {},
   "outputs": [],
   "source": []
  }
 ],
 "metadata": {
  "kernelspec": {
   "display_name": "Python 3",
   "language": "python",
   "name": "python3"
  },
  "language_info": {
   "codemirror_mode": {
    "name": "ipython",
    "version": 3
   },
   "file_extension": ".py",
   "mimetype": "text/x-python",
   "name": "python",
   "nbconvert_exporter": "python",
   "pygments_lexer": "ipython3",
   "version": "3.10.12"
  }
 },
 "nbformat": 4,
 "nbformat_minor": 2
}
