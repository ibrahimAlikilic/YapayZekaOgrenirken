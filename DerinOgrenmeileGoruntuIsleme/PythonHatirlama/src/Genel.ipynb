{
 "cells": [
  {
   "cell_type": "markdown",
   "metadata": {},
   "source": [
    "# Tuple : Değiştirilemez ve sıralı bir veri tipidir"
   ]
  },
  {
   "cell_type": "code",
   "execution_count": 1,
   "metadata": {},
   "outputs": [],
   "source": [
    "tuple_xyz=(1,2,3)\n",
    "x,y,z=tuple_xyz # ileride buna benzer kullanımlar oluyor"
   ]
  },
  {
   "cell_type": "markdown",
   "metadata": {},
   "source": [
    "# Deque : Boyutu önceden belirlenmiş liste ( c++ dizi olarak düşünebilirim )\n",
    "Kuyruk gibi bir yapısı var değerler başa ve sona ekleniyor ( eklemek için append ve appendlleft var )"
   ]
  },
  {
   "cell_type": "markdown",
   "metadata": {},
   "source": [
    "# Generator\n",
    "direk hafızada oluşturulup yer kaplamaz gerektiğinde üretilir"
   ]
  },
  {
   "cell_type": "code",
   "execution_count": 2,
   "metadata": {},
   "outputs": [],
   "source": [
    "generator=(x for x in range(1,4))\n",
    "for i in generator: # i=1 iken hafızada 1 var işi bitince hafızadan siliniyor sonra yerine sıradaki geliyor 111\n",
    "    pass"
   ]
  },
  {
   "cell_type": "markdown",
   "metadata": {},
   "source": [
    "# yield\n",
    "fonksiyon generator döndürecekse return değil de yield yazarız."
   ]
  },
  {
   "cell_type": "code",
   "execution_count": null,
   "metadata": {},
   "outputs": [],
   "source": []
  },
  {
   "cell_type": "markdown",
   "metadata": {},
   "source": [
    "# pandas\n",
    "DataFrame olan veride veri.describe : istatiksel özellikleri verir."
   ]
  },
  {
   "cell_type": "markdown",
   "metadata": {},
   "source": [
    "# os\n",
    "Resim yükleme , kaydetme gibi işlemler için kullandığımız kütüphane."
   ]
  },
  {
   "cell_type": "markdown",
   "metadata": {},
   "source": []
  }
 ],
 "metadata": {
  "kernelspec": {
   "display_name": "Python 3",
   "language": "python",
   "name": "python3"
  },
  "language_info": {
   "codemirror_mode": {
    "name": "ipython",
    "version": 3
   },
   "file_extension": ".py",
   "mimetype": "text/x-python",
   "name": "python",
   "nbconvert_exporter": "python",
   "pygments_lexer": "ipython3",
   "version": "3.10.12"
  }
 },
 "nbformat": 4,
 "nbformat_minor": 2
}
