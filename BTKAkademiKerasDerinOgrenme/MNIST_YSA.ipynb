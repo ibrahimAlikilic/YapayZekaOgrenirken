{
  "nbformat": 4,
  "nbformat_minor": 0,
  "metadata": {
    "colab": {
      "provenance": []
    },
    "kernelspec": {
      "name": "python3",
      "display_name": "Python 3"
    },
    "language_info": {
      "name": "python"
    }
  },
  "cells": [
    {
      "cell_type": "markdown",
      "source": [
        "MNIST VERİ KÜMESİNİ KULLANARAK YAPAY SİNİR AĞLARI İLE RAKAM SINIFLANDIRMA"
      ],
      "metadata": {
        "id": "XZLFeRVZgXuI"
      }
    },
    {
      "cell_type": "markdown",
      "source": [
        "## MNIST Veri Kümesini Yüklemek"
      ],
      "metadata": {
        "id": "n5wZ-2cqgI7m"
      }
    },
    {
      "cell_type": "code",
      "execution_count": 2,
      "metadata": {
        "colab": {
          "base_uri": "https://localhost:8080/"
        },
        "id": "d8UaRx5EcMw1",
        "outputId": "3215eac4-5a3d-4392-e26d-997b20a92a22"
      },
      "outputs": [
        {
          "output_type": "stream",
          "name": "stdout",
          "text": [
            "Downloading data from https://storage.googleapis.com/tensorflow/tf-keras-datasets/mnist.npz\n",
            "11490434/11490434 [==============================] - 0s 0us/step\n"
          ]
        }
      ],
      "source": [
        "from keras.datasets import mnist\n",
        "(train_images, train_labels),(test_images, test_labels)=mnist.load_data()"
      ]
    },
    {
      "cell_type": "code",
      "source": [
        "train_images.shape"
      ],
      "metadata": {
        "colab": {
          "base_uri": "https://localhost:8080/"
        },
        "id": "sAZ2WZ8Pffy5",
        "outputId": "101968f7-f396-44f7-98ce-b599bb6e4db4"
      },
      "execution_count": 4,
      "outputs": [
        {
          "output_type": "execute_result",
          "data": {
            "text/plain": [
              "(60000, 28, 28)"
            ]
          },
          "metadata": {},
          "execution_count": 4
        }
      ]
    },
    {
      "cell_type": "code",
      "source": [
        "len(train_images)"
      ],
      "metadata": {
        "colab": {
          "base_uri": "https://localhost:8080/"
        },
        "id": "l4HzJUukfuy-",
        "outputId": "29c3803b-9dc0-4756-8b61-ef405af76629"
      },
      "execution_count": 5,
      "outputs": [
        {
          "output_type": "execute_result",
          "data": {
            "text/plain": [
              "60000"
            ]
          },
          "metadata": {},
          "execution_count": 5
        }
      ]
    },
    {
      "cell_type": "code",
      "source": [
        "train_labels"
      ],
      "metadata": {
        "colab": {
          "base_uri": "https://localhost:8080/"
        },
        "id": "FN5ZQF0hf04N",
        "outputId": "4271b8af-3344-466e-fcc4-2145383a9f6b"
      },
      "execution_count": 6,
      "outputs": [
        {
          "output_type": "execute_result",
          "data": {
            "text/plain": [
              "array([5, 0, 4, ..., 5, 6, 8], dtype=uint8)"
            ]
          },
          "metadata": {},
          "execution_count": 6
        }
      ]
    },
    {
      "cell_type": "code",
      "source": [
        "test_images.shape"
      ],
      "metadata": {
        "colab": {
          "base_uri": "https://localhost:8080/"
        },
        "id": "hij1Htsrf7bP",
        "outputId": "085f00a2-0e29-4b72-e2dc-878bc0762a00"
      },
      "execution_count": 7,
      "outputs": [
        {
          "output_type": "execute_result",
          "data": {
            "text/plain": [
              "(10000, 28, 28)"
            ]
          },
          "metadata": {},
          "execution_count": 7
        }
      ]
    },
    {
      "cell_type": "code",
      "source": [
        "len(test_images)"
      ],
      "metadata": {
        "colab": {
          "base_uri": "https://localhost:8080/"
        },
        "id": "XbHgazfKf-_D",
        "outputId": "8fa5cb20-57e6-44a4-9e45-23f25a023bc5"
      },
      "execution_count": 8,
      "outputs": [
        {
          "output_type": "execute_result",
          "data": {
            "text/plain": [
              "10000"
            ]
          },
          "metadata": {},
          "execution_count": 8
        }
      ]
    },
    {
      "cell_type": "markdown",
      "source": [
        "## Yapay Sinir Ağı Mimarisi"
      ],
      "metadata": {
        "id": "a-mLatCmgkjJ"
      }
    },
    {
      "cell_type": "code",
      "source": [
        "from keras import models\n",
        "from keras import layers # katman"
      ],
      "metadata": {
        "id": "s6bjScaXgCgi"
      },
      "execution_count": 9,
      "outputs": []
    },
    {
      "cell_type": "code",
      "source": [
        "network=models.Sequential() # ilk önce boş bir model açıyoruz\n",
        "network.add(layers.Dense(512,activation='relu',input_shape=(28*28,))) # düz bir sinir ağı ekliyoruz ( kaç elemanlı olmasını istediğimiz)\n",
        "network.add(layers.Dense(10,activation='softmax')) # şimdi de sınıflandırıcı katmanımız(sınıf sayımız ( 0-9 rakam var yani 10 tane))"
      ],
      "metadata": {
        "id": "uZpeMF3kgzuj"
      },
      "execution_count": 11,
      "outputs": []
    },
    {
      "cell_type": "markdown",
      "source": [
        "network=models.Sequential(): Bu satırda, Keras'taki Sequential sınıfından bir örnek oluşturularak boş bir sinir ağı modeli başlatılır. Sequential modeli, katmanları sıralı bir şekilde eklemeyi sağlar.\n",
        "\n",
        "* network.add(layers.Dense(512, activation='relu', input_shape=(28*28,))): İlk katman, tam bağlantılı (dense) bir katmandır. Bu katmanda 512 nöron bulunur. activation='relu' ifadesi, Rectified Linear Unit (ReLU) aktivasyon fonksiyonunun kullanılacağını belirtir. ReLU, genellikle gizli katmanlarda kullanılan bir aktivasyon fonksiyonudur. input_shape=(28*28,) ifadesi, bu katmanın giriş boyutunu belirtir ve 28*28 piksel boyutundaki görüntülerin düzleştirilmiş halini (1D vektör) beklediğini gösterir.\n",
        "\n",
        "* network.add(layers.Dense(10, activation='softmax')): İkinci katman, 10 nörona sahip başka bir tam bağlantılı katmandır. Bu katman, sınıflandırma problemleri için yaygın olarak kullanılan bir aktivasyon fonksiyonu olan softmax aktivasyonunu kullanır. Softmax fonksiyonu, çıkışları bir olasılık dağılımına dönüştürerek, sınıflar arasında olasılıkları normalize eder. Bu, çok sınıflı sınıflandırma problemlerinde yaygın olarak kullanılır.\n",
        "\n",
        "* 28*28 den sonra neden , olduğu: Bu, giriş boyutunu belirten input_shape parametresidir. Genellikle giriş verileri bir matris veya görüntüdür, ancak sinir ağı bu verileri düzleştirilmiş bir vektör olarak bekler. Bu nedenle, input_shape=(28*28,) ifadesi, 28x28 boyutundaki görüntüleri düzleştirilmiş bir vektör olarak beklediğini belirtir. , ise birinci boyutun (batch boyutu) belirtilmediğini ve bu boyutun eğitim verileri ile otomatik olarak belirleneceğini gösterir."
      ],
      "metadata": {
        "id": "xJ6aCpKfiTHk"
      }
    },
    {
      "cell_type": "markdown",
      "source": [
        "## YSA modelin derlenmesi"
      ],
      "metadata": {
        "id": "485VGmurisU_"
      }
    },
    {
      "cell_type": "code",
      "source": [
        "network.compile(optimizer='rmsprop',\n",
        "                loss='categorical_crossentropy',\n",
        "                metrics=['accuracy'])"
      ],
      "metadata": {
        "id": "pqR2eYVJh8-T"
      },
      "execution_count": 12,
      "outputs": []
    },
    {
      "cell_type": "markdown",
      "source": [
        "* optimizer='rmsprop': Bu parametre, modelin güncellenmesi için kullanılan optimizasyon algoritmasını belirtir. RMSprop (Root Mean Square Propagation), öğrenme hızını düzenlemek için kullanılan bir optimizasyon algoritmasıdır. Her bir ağırlığın güncellenmesi için bir önceki ağırlığın karesinin hareketli ortalamasını kullanarak öğrenme hızını adapte eder.\n",
        "\n",
        "* loss='categorical_crossentropy': Bu parametre, modelin eğitimi sırasında kullanılan kayıp fonksiyonunu belirtir. Modelin ürettiği çıktı ile gerçek etiket arasındaki farkı ölçer. categorical_crossentropy, çok sınıflı sınıflandırma problemleri için yaygın olarak kullanılan bir kayıp fonksiyonudur. Eğitim verilerinde one-hot encoding kullanıldığında (etiketlerin binary vektörlere dönüştürülmesi), categorical_crossentropy tercih edilir.\n",
        "\n",
        "* metrics=['accuracy']: Bu parametre, modelin performansını değerlendirmek için kullanılan metrikleri belirtir. Burada, sınıflandırma doğruluğu (accuracy) kullanılmaktadır. Accuracy, modelin doğru tahmin ettiği örneklerin oranını ölçer.\n",
        "\n",
        "Bu derleme adımı, modelin eğitimi sırasında kullanılacak optimizasyon algoritması, kayıp fonksiyonu ve performans metriklerini belirler. Derleme işleminden sonra model eğitilmeye hazır hale gelir. Eğitim süreci, veri setindeki örneklerin model tarafından öğrenilmesi ve ayarlanması işlemini içerir."
      ],
      "metadata": {
        "id": "lfOHsFVllr4y"
      }
    },
    {
      "cell_type": "markdown",
      "source": [
        "## Girişlerin ve Etiketlerin Hazırlanması"
      ],
      "metadata": {
        "id": "ZvICJSY2lzK9"
      }
    },
    {
      "cell_type": "code",
      "source": [
        "train_images=train_images.reshape((60000,28*28))\n",
        "train_images=train_images.astype('float32')/255 # Normalize ediyoruz bu klasik bir normalize işlemidir\n",
        "\n",
        "test_images=test_images.reshape((10000,28*28))\n",
        "test_images=test_images.astype('float32')/255"
      ],
      "metadata": {
        "id": "aWOVNUCulN90"
      },
      "execution_count": 16,
      "outputs": []
    },
    {
      "cell_type": "markdown",
      "source": [
        "* train_images.reshape((60000, 28*28)): Bu satır, eğitim veri setinin şeklini değiştirmektedir. Eğitim verileri genellikle bir görüntü veri seti olarak saklanır, bu nedenle bu adımda veriyi 28x28 piksel boyutundaki görüntülerden oluşan düz bir vektör formatına dönüştürüyoruz. Bu, sinir ağı modelinin girişine uygun bir formatta veri sağlamak için yapılır.\n",
        "\n",
        "* train_images = train_images.astype('float32') / 255: Bu satırda, eğitim veri seti normalize edilmektedir. Görüntü piksel değerleri genellikle 0 ile 255 arasında değişir. Bu adımda, piksel değerleri 0 ile 1 arasında olacak şekilde normalize edilir. Bu, sinir ağı modelinin daha iyi performans göstermesine yardımcı olabilir, çünkü bu tür bir ölçekleme genellikle optimizasyon algoritmalarının daha iyi çalışmasını sağlar."
      ],
      "metadata": {
        "id": "Sxt3Qpifm3nC"
      }
    },
    {
      "cell_type": "code",
      "source": [
        "from keras.utils import to_categorical\n",
        "train_labels=to_categorical(train_labels)\n",
        "test_labels=to_categorical(test_labels)"
      ],
      "metadata": {
        "id": "swBOI0bMmiAr"
      },
      "execution_count": 17,
      "outputs": []
    },
    {
      "cell_type": "markdown",
      "source": [
        "* to_categorical(train_labels): Bu fonksiyon, eğitim veri setindeki etiketleri (labels) kategorik (one-hot) kodlamaya dönüştürür. Özellikle çok sınıflı sınıflandırma problemlerinde kullanılır. Örneğin, eğer orijinal etiketler 0, 1, 2, ... gibi sıralı tamsayılardan oluşuyorsa, to_categorical fonksiyonu bu tamsayı etiketleri binary matrislere dönüştürür. Örneğin, 3 etiketi [0, 0, 0, 1, 0, 0, 0, 0, 0, 0] olarak kodlanır.\n",
        "\n",
        "* train_labels: Bu, dönüştürülmüş kategorik etiketlerin eğitim veri setini temsil eder. Örneğin, eğer orijinal etiketler [1, 2, 0, 1, ...] gibi tamsayılar ise, bu etiketler to_categorical fonksiyonu ile kategorik formata dönüştürülmüş olur."
      ],
      "metadata": {
        "id": "nsjhoQwCnsYX"
      }
    },
    {
      "cell_type": "markdown",
      "source": [
        "YSA Modelinin Eğitilmesi"
      ],
      "metadata": {
        "id": "pSjrIEm1nzEJ"
      }
    },
    {
      "cell_type": "code",
      "source": [
        "network.fit(train_images, train_labels, epochs=5, batch_size=128)"
      ],
      "metadata": {
        "colab": {
          "base_uri": "https://localhost:8080/"
        },
        "id": "I_3KqccNnQmF",
        "outputId": "eed037d4-a991-4ec6-87d8-8a804f2500a9"
      },
      "execution_count": 18,
      "outputs": [
        {
          "output_type": "stream",
          "name": "stdout",
          "text": [
            "Epoch 1/5\n",
            "469/469 [==============================] - 5s 10ms/step - loss: 2.2372 - accuracy: 0.2636\n",
            "Epoch 2/5\n",
            "469/469 [==============================] - 7s 15ms/step - loss: 1.6785 - accuracy: 0.5972\n",
            "Epoch 3/5\n",
            "469/469 [==============================] - 5s 10ms/step - loss: 1.0468 - accuracy: 0.7487\n",
            "Epoch 4/5\n",
            "469/469 [==============================] - 5s 10ms/step - loss: 0.7473 - accuracy: 0.8127\n",
            "Epoch 5/5\n",
            "469/469 [==============================] - 6s 13ms/step - loss: 0.6019 - accuracy: 0.8414\n"
          ]
        },
        {
          "output_type": "execute_result",
          "data": {
            "text/plain": [
              "<keras.src.callbacks.History at 0x7bf65b9e6530>"
            ]
          },
          "metadata": {},
          "execution_count": 18
        }
      ]
    },
    {
      "cell_type": "markdown",
      "source": [
        "* train_images: Eğitim veri seti. Sinir ağı, bu veri setini kullanarak öğrenmeye çalışacaktır. Bu genellikle giriş verilerini içerir.\n",
        "\n",
        "* train_labels: Eğitim veri setindeki etiketler. Her bir giriş verisiyle ilişkili doğru çıkış (etiket) değerlerini içerir.\n",
        "\n",
        "* epochs=5: Eğitim sürecinde kaç epoch (iterasyon) boyunca modelin eğitileceğini belirtir. Bir epoch, eğitim veri setinin tamamının model tarafından bir kez geçirilmesidir. Bu durumda, model 5 epoch boyunca eğitilecektir.\n",
        "\n",
        "* batch_size=128: Mini-batch eğitimde kullanılan küçük veri paketlerinin (mini-batch) boyutunu belirtir. Mini-batch eğitim, tüm veri setini aynı anda değil, küçük paketler halinde işleyerek eğitim sürecini hızlandırabilir. Burada, her bir mini-batch'in 128 örnek içermesi sağlanmıştır.\n",
        "\n",
        "Bu parametrelerle, model eğitilirken her bir epoch boyunca eğitim veri setinin tamamı model üzerinden geçirilecek, ancak bu geçiş küçük mini-batch'ler halinde yapılacaktır. Bu, GPU veya diğer hızlandırıcıları kullanarak eğitim sürecini daha verimli hale getirebilir. Eğitim süreci boyunca, modelin performansı ve kaybı izlenecek ve her epoch sonunda bir değerlendirme yapılacaktır."
      ],
      "metadata": {
        "id": "onSxPdwkoc_1"
      }
    },
    {
      "cell_type": "code",
      "source": [
        "test_loss, test_acc=network.evaluate(test_images, test_labels)"
      ],
      "metadata": {
        "colab": {
          "base_uri": "https://localhost:8080/"
        },
        "id": "Ruz2P59PoGkf",
        "outputId": "adeb1369-ec13-44cd-a215-a636862e30c8"
      },
      "execution_count": 21,
      "outputs": [
        {
          "output_type": "stream",
          "name": "stdout",
          "text": [
            "313/313 [==============================] - 2s 5ms/step - loss: 51.6364 - accuracy: 0.7275\n"
          ]
        }
      ]
    },
    {
      "cell_type": "markdown",
      "source": [
        "Bu satır, eğitilmiş sinir ağı modelinin test veri seti üzerinde değerlendirilmesini sağlar. evaluate fonksiyonu, modelin performansını ölçmek için kullanılır. İşte bu fonksiyonun kullanıldığı parametrelerin açıklamaları:\n",
        "\n",
        "* test_images: Test veri seti. Modelin performansını değerlendirmek için kullanılacak olan veri setidir.\n",
        "\n",
        "* test_labels: Test veri setindeki doğru etiketler. Modelin tahminlerini bu etiketlerle karşılaştırarak performansını değerlendirecektir.\n",
        "\n",
        "Sonuçlar:\n",
        "\n",
        "* test_losses: Modelin test veri seti üzerinde elde ettiği kayıp değeri (loss). Bu değer, modelin test verilerini ne kadar iyi tahmin ettiğini gösterir. Düşük kayıp değerleri, daha iyi bir performansı gösterir.\n",
        "\n",
        "* test_acc: Modelin test veri seti üzerinde elde ettiği doğruluk oranı (accuracy). Bu oran, modelin doğru tahmin ettiği örneklerin yüzdesini gösterir. Yüksek doğruluk, daha iyi bir performansı gösterir.\n",
        "\n",
        "Bu değerler, modelin genelleme yeteneğini ve test veri seti üzerindeki performansını değerlendirmek için kullanılır. Eğitim sırasında gözlemlenen performans ile test sonuçları arasında önemli bir fark yoksa, model iyi bir genelleme yapmış olabilir."
      ],
      "metadata": {
        "id": "zOdBlJT0pAkQ"
      }
    },
    {
      "cell_type": "code",
      "source": [
        "print('test_loss: ',test_loss)"
      ],
      "metadata": {
        "colab": {
          "base_uri": "https://localhost:8080/"
        },
        "id": "VK4k_KDho4eV",
        "outputId": "21bb02ac-cf3f-4cfa-d674-2683d8a5565f"
      },
      "execution_count": 22,
      "outputs": [
        {
          "output_type": "stream",
          "name": "stdout",
          "text": [
            "test_loss:  51.63642120361328\n"
          ]
        }
      ]
    },
    {
      "cell_type": "code",
      "source": [
        "print('test_acc ',test_acc)"
      ],
      "metadata": {
        "colab": {
          "base_uri": "https://localhost:8080/"
        },
        "id": "aXkDFHF6pmxv",
        "outputId": "047c6579-6177-418a-f86e-d99a7f15ccaa"
      },
      "execution_count": 23,
      "outputs": [
        {
          "output_type": "stream",
          "name": "stdout",
          "text": [
            "test_acc  0.7275000214576721\n"
          ]
        }
      ]
    },
    {
      "cell_type": "code",
      "source": [],
      "metadata": {
        "id": "QoxB1pFmp2bJ"
      },
      "execution_count": null,
      "outputs": []
    }
  ]
}