{
  "nbformat": 4,
  "nbformat_minor": 0,
  "metadata": {
    "colab": {
      "provenance": []
    },
    "kernelspec": {
      "name": "python3",
      "display_name": "Python 3"
    },
    "language_info": {
      "name": "python"
    }
  },
  "cells": [
    {
      "cell_type": "markdown",
      "source": [
        "# Katmanlar"
      ],
      "metadata": {
        "id": "Qcf5NzadFfJa"
      }
    },
    {
      "cell_type": "code",
      "execution_count": 2,
      "metadata": {
        "id": "h9T7H4-0D9OQ"
      },
      "outputs": [],
      "source": [
        "from keras import layers"
      ]
    },
    {
      "cell_type": "code",
      "source": [
        "layer=layers.Dense(32,input_shape=(784,))"
      ],
      "metadata": {
        "id": "HaCatDkdEYCt"
      },
      "execution_count": 3,
      "outputs": []
    },
    {
      "cell_type": "markdown",
      "source": [
        "\n",
        "Tabii ki, verdiğiniz kod bir TensorFlow modeli oluşturmak için kullanılan bir parçadır. Bu kod, bir sinir ağı modelinin ilk katmanını oluşturur ve bu katman bir yoğun (dense) katmandır. Aşağıda daha ayrıntılı bir açıklama bulabilirsiniz:<br>\n",
        "* layers modülünü ekleyerek\n",
        "from tensorflow.keras import layers\n",
        "\n",
        "* Dense katmanını oluşturuyoruz\n",
        "* 32 nörona sahip bir yoğun katman (dense layer) oluşturuyoruz\n",
        "* input_shape parametresi, bu katmana gelen giriş verilerinin şeklini belirtir\n",
        "* Burada 784 uzunluğunda bir giriş vektörü bekleniyor (örnek: 28x28 piksel resimlerin düzleştirilmiş hali)\n",
        "* input_shape=(784,) ifadesiyle bu beklenen giriş vektörünün boyutunu belirtiyoruz\n",
        "* Yani, bu katman bir giriş vektörünü alacak ve içinde 32 nöron bulunduran bir çıkış vektörü üretecek\n",
        "layer = layers.Dense(32, input_shape=(784,))<br>\n",
        "Bu kod örneği, TensorFlow kütüphanesinin keras modülü üzerinden bir sinir ağı modelinin ilk katmanını oluşturur. Bu katman, bir yoğun (dense) katmandır ve bu katman 32 nörona sahiptir. input_shape=(784,) ifadesi, bu katmana giriş verilerinin şeklini belirtir ve 784 uzunluğunda bir vektör beklediğini ifade eder.<br>\n",
        "Bu tür\n",
        "\n",
        "katmanlar, giriş verilerini belirli bir boyutta bir vektöre dönüştürmek ve ardından bu vektörü belirli bir çıkış boyutuna dönüştürmek için kullanılır. Yoğun katmanlar, her bir nöronun önceki katmandaki tüm nöronlarla bağlı olduğu bir yapıya sahiptir. Bu bağlantılar, ağırlıklar ve bias terimleri kullanılarak hesaplanır.\n",
        "\n",
        "Bu kod, genellikle bir sinir ağı modeli içindeki ilk katmanı temsil eder. Model genellikle bir giriş katmanı ile başlar (bu durumda, input_shape ile belirtilen şekilde), ardından bir veya daha fazla yoğun katman gelir, ve son olarak bir çıkış katmanı bulunur. Bu katmanlar, veri üzerinde belirli bir öğrenme yapısı sağlar ve genellikle çeşitli aktivasyon fonksiyonları ile birlikte kullanılır.\n"
      ],
      "metadata": {
        "id": "swfcEo9QE0Y2"
      }
    },
    {
      "cell_type": "markdown",
      "source": [
        "# Modeller"
      ],
      "metadata": {
        "id": "z3NPrD8pFh7Y"
      }
    },
    {
      "cell_type": "code",
      "source": [
        "from keras import models"
      ],
      "metadata": {
        "id": "QYTzAWV-Ez6e"
      },
      "execution_count": 4,
      "outputs": []
    },
    {
      "cell_type": "code",
      "source": [
        "model=models.Sequential()\n",
        "model.add(layers.Dense(32, input_shape=(784,)))\n",
        "model.add(layers.Dense(32))"
      ],
      "metadata": {
        "id": "M7F3o7-qF1Qs"
      },
      "execution_count": 5,
      "outputs": []
    },
    {
      "cell_type": "code",
      "source": [],
      "metadata": {
        "id": "kKv-dD5_GQ2P"
      },
      "execution_count": null,
      "outputs": []
    },
    {
      "cell_type": "markdown",
      "source": [
        " Keras Sequential modeli oluşturuluyor. Sequential modeli, katmanları sıralı bir şekilde eklemenizi sağlayan basit bir lineer sıra modelidir. Aşağıda verdiğiniz kodu ayrıntılı olarak inceleyelim:<br>\n",
        " * Sequential modelini oluşturuyoruz\n",
        "model = models.Sequential()\n",
        "\n",
        "* İlk yoğun katmanı ekliyoruz\n",
        "* 32 nörona sahip bir yoğun katman (dense layer) oluşturuyoruz\n",
        "* input_shape parametresi, bu katmana gelen giriş verilerinin şeklini belirtir\n",
        "* Burada 784 uzunluğunda bir giriş vektörü bekleniyor (örnek: 28x28 piksel resimlerin düzleştirilmiş hali)\n",
        "model.add(layers.Dense(32, input_shape=(784,)))\n",
        "\n",
        "* İkinci yoğun katmanı ekliyoruz\n",
        "* Bu katmanın belirtilen bir giriş boyutu yok, çünkü giriş boyutu önceki katmandan otomatik olarak alınacaktır\n",
        "* Bu katman da 32 nörona sahiptir\n",
        "model.add(layers.Dense(32)) <br>\n",
        "Bu kodda iki yoğun katman (dense layer) eklenmiş bir model oluşturuluyor:\n",
        "\n",
        "İlk Dense katmanı:\n",
        "\n",
        "Bu katman, 32 nörona sahiptir.\n",
        "input_shape=(784,) ifadesi ile belirtilen giriş şekli, bu katmana gelen giriş verilerinin boyutunu ifade eder. Yani, bu katman bir 784 uzunluğunda vektörü alacak.\n",
        "İkinci Dense katmanı:\n",
        "\n",
        "Bu katman da 32 nörona sahiptir.\n",
        "Giriş boyutu belirtilmemiştir, çünkü bu katmanın girişi önceki katmandan otomatik olarak alınacaktır.\n",
        "Bu model, giriş verilerini alacak, ilk yoğun katmanda işleyecek, ardından ikinci yoğun katmanda işleyecek ve sonuç olarak bir çıkış verecektir. Bu tip modeller, veriyi sıralı bir şekilde işlemek için kullanılır.\n",
        "\n"
      ],
      "metadata": {
        "id": "IB7k7ACYGdP3"
      }
    },
    {
      "cell_type": "code",
      "source": [
        "model.summary() # modelimizi gçrüyoruz"
      ],
      "metadata": {
        "colab": {
          "base_uri": "https://localhost:8080/"
        },
        "id": "o41I4DC0Go86",
        "outputId": "dd9ef9e2-66ab-44e0-9ead-447794b5d13c"
      },
      "execution_count": 6,
      "outputs": [
        {
          "output_type": "stream",
          "name": "stdout",
          "text": [
            "Model: \"sequential\"\n",
            "_________________________________________________________________\n",
            " Layer (type)                Output Shape              Param #   \n",
            "=================================================================\n",
            " dense_1 (Dense)             (None, 32)                25120     \n",
            "                                                                 \n",
            " dense_2 (Dense)             (None, 32)                1056      \n",
            "                                                                 \n",
            "=================================================================\n",
            "Total params: 26176 (102.25 KB)\n",
            "Trainable params: 26176 (102.25 KB)\n",
            "Non-trainable params: 0 (0.00 Byte)\n",
            "_________________________________________________________________\n"
          ]
        }
      ]
    },
    {
      "cell_type": "code",
      "source": [],
      "metadata": {
        "id": "VhAgwzwvG6QT"
      },
      "execution_count": null,
      "outputs": []
    }
  ]
}