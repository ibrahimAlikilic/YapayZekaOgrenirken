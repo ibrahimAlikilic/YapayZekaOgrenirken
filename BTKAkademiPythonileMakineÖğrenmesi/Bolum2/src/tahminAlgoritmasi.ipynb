{
 "cells": [
  {
   "cell_type": "markdown",
   "metadata": {},
   "source": [
    "# Doğrusal Regresyon"
   ]
  },
  {
   "cell_type": "code",
   "execution_count": 13,
   "metadata": {},
   "outputs": [],
   "source": [
    "import numpy as np\n",
    "import matplotlib.pyplot as plt\n",
    "import pandas as pd"
   ]
  },
  {
   "cell_type": "code",
   "execution_count": 14,
   "metadata": {},
   "outputs": [
    {
     "name": "stdout",
     "output_type": "stream",
     "text": [
      "    Aylar  Satislar\n",
      "0       8   19671.5\n",
      "1      10   23102.5\n",
      "2      11   18865.5\n",
      "3      13   21762.5\n",
      "4      14   19945.5\n",
      "5      19   28321.0\n",
      "6      19   30075.0\n",
      "7      20   27222.5\n",
      "8      20   32222.5\n",
      "9      24   28594.5\n",
      "10     25   31609.0\n",
      "11     25   27897.0\n",
      "12     25   28478.5\n",
      "13     26   28540.5\n",
      "14     29   30555.5\n",
      "15     31   33969.0\n",
      "16     32   33014.5\n",
      "17     34   41544.0\n",
      "18     37   40681.5\n",
      "19     37    4697.0\n",
      "20     42   45869.0\n",
      "21     44   49136.5\n",
      "22     49   50651.0\n",
      "23     50   56906.0\n",
      "24     54   54715.5\n",
      "25     55   52791.0\n",
      "26     59   58484.5\n",
      "27     59   56317.5\n",
      "28     64   61195.5\n",
      "29     65   60936.0\n"
     ]
    }
   ],
   "source": [
    "# veri çekme\n",
    "veriler=pd.read_csv('input/satislar.csv')\n",
    "print(veriler)"
   ]
  },
  {
   "cell_type": "code",
   "execution_count": 15,
   "metadata": {},
   "outputs": [
    {
     "name": "stdout",
     "output_type": "stream",
     "text": [
      "    Aylar\n",
      "0       8\n",
      "1      10\n",
      "2      11\n",
      "3      13\n",
      "4      14\n",
      "5      19\n",
      "6      19\n",
      "7      20\n",
      "8      20\n",
      "9      24\n",
      "10     25\n",
      "11     25\n",
      "12     25\n",
      "13     26\n",
      "14     29\n",
      "15     31\n",
      "16     32\n",
      "17     34\n",
      "18     37\n",
      "19     37\n",
      "20     42\n",
      "21     44\n",
      "22     49\n",
      "23     50\n",
      "24     54\n",
      "25     55\n",
      "26     59\n",
      "27     59\n",
      "28     64\n",
      "29     65\n"
     ]
    }
   ],
   "source": [
    "aylar=veriler[['Aylar']]\n",
    "print(aylar)"
   ]
  },
  {
   "cell_type": "code",
   "execution_count": 16,
   "metadata": {},
   "outputs": [
    {
     "name": "stdout",
     "output_type": "stream",
     "text": [
      "    Satislar\n",
      "0    19671.5\n",
      "1    23102.5\n",
      "2    18865.5\n",
      "3    21762.5\n",
      "4    19945.5\n",
      "5    28321.0\n",
      "6    30075.0\n",
      "7    27222.5\n",
      "8    32222.5\n",
      "9    28594.5\n",
      "10   31609.0\n",
      "11   27897.0\n",
      "12   28478.5\n",
      "13   28540.5\n",
      "14   30555.5\n",
      "15   33969.0\n",
      "16   33014.5\n",
      "17   41544.0\n",
      "18   40681.5\n",
      "19    4697.0\n",
      "20   45869.0\n",
      "21   49136.5\n",
      "22   50651.0\n",
      "23   56906.0\n",
      "24   54715.5\n",
      "25   52791.0\n",
      "26   58484.5\n",
      "27   56317.5\n",
      "28   61195.5\n",
      "29   60936.0\n"
     ]
    }
   ],
   "source": [
    "satislar=veriler[['Satislar']]\n",
    "print(satislar)"
   ]
  },
  {
   "cell_type": "code",
   "execution_count": 17,
   "metadata": {},
   "outputs": [
    {
     "name": "stdout",
     "output_type": "stream",
     "text": [
      "[[ 8]\n",
      " [10]\n",
      " [11]\n",
      " [13]\n",
      " [14]\n",
      " [19]\n",
      " [19]\n",
      " [20]\n",
      " [20]\n",
      " [24]\n",
      " [25]\n",
      " [25]\n",
      " [25]\n",
      " [26]\n",
      " [29]\n",
      " [31]\n",
      " [32]\n",
      " [34]\n",
      " [37]\n",
      " [37]\n",
      " [42]\n",
      " [44]\n",
      " [49]\n",
      " [50]\n",
      " [54]\n",
      " [55]\n",
      " [59]\n",
      " [59]\n",
      " [64]\n",
      " [65]]\n"
     ]
    }
   ],
   "source": [
    "satislar2=veriler.iloc[:,:1].values\n",
    "print(satislar2)"
   ]
  },
  {
   "cell_type": "code",
   "execution_count": 18,
   "metadata": {},
   "outputs": [],
   "source": [
    "# x bağımsız y bağımlı değişken olarak ilerleyeceğiz\n",
    "from sklearn.model_selection import train_test_split"
   ]
  },
  {
   "cell_type": "code",
   "execution_count": 19,
   "metadata": {},
   "outputs": [],
   "source": [
    "x_train,x_test,y_train,y_test=train_test_split(aylar,satislar,test_size=0.33,random_state=0)"
   ]
  },
  {
   "cell_type": "code",
   "execution_count": 20,
   "metadata": {},
   "outputs": [],
   "source": [
    "from sklearn.preprocessing import StandardScaler\n",
    "sc=StandardScaler() # objemi oluşturdum"
   ]
  },
  {
   "cell_type": "code",
   "execution_count": 21,
   "metadata": {},
   "outputs": [],
   "source": [
    "# şimdi dönüştürmek istediğim sayısal değerleri alacağım\n",
    "X_train=sc.fit_transform(x_train)\n",
    "X_test=sc.fit_transform(x_test)\n",
    "Y_train=sc.fit_transform(y_train)\n",
    "Y_test=sc.fit_transform(y_test)"
   ]
  },
  {
   "cell_type": "markdown",
   "metadata": {},
   "source": [
    "## Model oluşturma aşamasına geldik\n",
    "* X_trainden Y_train i tahmin edebilmesini sğağlayacağız\n",
    "bir ilişki bulup tahmin yapıcak\n",
    "aşşağıda linear kullandığımızdan doğrusal bağlantı arayacak"
   ]
  },
  {
   "cell_type": "code",
   "execution_count": 24,
   "metadata": {},
   "outputs": [
    {
     "data": {
      "text/html": [
       "<style>#sk-container-id-1 {color: black;}#sk-container-id-1 pre{padding: 0;}#sk-container-id-1 div.sk-toggleable {background-color: white;}#sk-container-id-1 label.sk-toggleable__label {cursor: pointer;display: block;width: 100%;margin-bottom: 0;padding: 0.3em;box-sizing: border-box;text-align: center;}#sk-container-id-1 label.sk-toggleable__label-arrow:before {content: \"▸\";float: left;margin-right: 0.25em;color: #696969;}#sk-container-id-1 label.sk-toggleable__label-arrow:hover:before {color: black;}#sk-container-id-1 div.sk-estimator:hover label.sk-toggleable__label-arrow:before {color: black;}#sk-container-id-1 div.sk-toggleable__content {max-height: 0;max-width: 0;overflow: hidden;text-align: left;background-color: #f0f8ff;}#sk-container-id-1 div.sk-toggleable__content pre {margin: 0.2em;color: black;border-radius: 0.25em;background-color: #f0f8ff;}#sk-container-id-1 input.sk-toggleable__control:checked~div.sk-toggleable__content {max-height: 200px;max-width: 100%;overflow: auto;}#sk-container-id-1 input.sk-toggleable__control:checked~label.sk-toggleable__label-arrow:before {content: \"▾\";}#sk-container-id-1 div.sk-estimator input.sk-toggleable__control:checked~label.sk-toggleable__label {background-color: #d4ebff;}#sk-container-id-1 div.sk-label input.sk-toggleable__control:checked~label.sk-toggleable__label {background-color: #d4ebff;}#sk-container-id-1 input.sk-hidden--visually {border: 0;clip: rect(1px 1px 1px 1px);clip: rect(1px, 1px, 1px, 1px);height: 1px;margin: -1px;overflow: hidden;padding: 0;position: absolute;width: 1px;}#sk-container-id-1 div.sk-estimator {font-family: monospace;background-color: #f0f8ff;border: 1px dotted black;border-radius: 0.25em;box-sizing: border-box;margin-bottom: 0.5em;}#sk-container-id-1 div.sk-estimator:hover {background-color: #d4ebff;}#sk-container-id-1 div.sk-parallel-item::after {content: \"\";width: 100%;border-bottom: 1px solid gray;flex-grow: 1;}#sk-container-id-1 div.sk-label:hover label.sk-toggleable__label {background-color: #d4ebff;}#sk-container-id-1 div.sk-serial::before {content: \"\";position: absolute;border-left: 1px solid gray;box-sizing: border-box;top: 0;bottom: 0;left: 50%;z-index: 0;}#sk-container-id-1 div.sk-serial {display: flex;flex-direction: column;align-items: center;background-color: white;padding-right: 0.2em;padding-left: 0.2em;position: relative;}#sk-container-id-1 div.sk-item {position: relative;z-index: 1;}#sk-container-id-1 div.sk-parallel {display: flex;align-items: stretch;justify-content: center;background-color: white;position: relative;}#sk-container-id-1 div.sk-item::before, #sk-container-id-1 div.sk-parallel-item::before {content: \"\";position: absolute;border-left: 1px solid gray;box-sizing: border-box;top: 0;bottom: 0;left: 50%;z-index: -1;}#sk-container-id-1 div.sk-parallel-item {display: flex;flex-direction: column;z-index: 1;position: relative;background-color: white;}#sk-container-id-1 div.sk-parallel-item:first-child::after {align-self: flex-end;width: 50%;}#sk-container-id-1 div.sk-parallel-item:last-child::after {align-self: flex-start;width: 50%;}#sk-container-id-1 div.sk-parallel-item:only-child::after {width: 0;}#sk-container-id-1 div.sk-dashed-wrapped {border: 1px dashed gray;margin: 0 0.4em 0.5em 0.4em;box-sizing: border-box;padding-bottom: 0.4em;background-color: white;}#sk-container-id-1 div.sk-label label {font-family: monospace;font-weight: bold;display: inline-block;line-height: 1.2em;}#sk-container-id-1 div.sk-label-container {text-align: center;}#sk-container-id-1 div.sk-container {/* jupyter's `normalize.less` sets `[hidden] { display: none; }` but bootstrap.min.css set `[hidden] { display: none !important; }` so we also need the `!important` here to be able to override the default hidden behavior on the sphinx rendered scikit-learn.org. See: https://github.com/scikit-learn/scikit-learn/issues/21755 */display: inline-block !important;position: relative;}#sk-container-id-1 div.sk-text-repr-fallback {display: none;}</style><div id=\"sk-container-id-1\" class=\"sk-top-container\"><div class=\"sk-text-repr-fallback\"><pre>LinearRegression()</pre><b>In a Jupyter environment, please rerun this cell to show the HTML representation or trust the notebook. <br />On GitHub, the HTML representation is unable to render, please try loading this page with nbviewer.org.</b></div><div class=\"sk-container\" hidden><div class=\"sk-item\"><div class=\"sk-estimator sk-toggleable\"><input class=\"sk-toggleable__control sk-hidden--visually\" id=\"sk-estimator-id-1\" type=\"checkbox\" checked><label for=\"sk-estimator-id-1\" class=\"sk-toggleable__label sk-toggleable__label-arrow\">LinearRegression</label><div class=\"sk-toggleable__content\"><pre>LinearRegression()</pre></div></div></div></div></div>"
      ],
      "text/plain": [
       "LinearRegression()"
      ]
     },
     "execution_count": 24,
     "metadata": {},
     "output_type": "execute_result"
    }
   ],
   "source": [
    "from sklearn.linear_model import LinearRegression\n",
    "# obje oluşturalım\n",
    "lr=LinearRegression()\n",
    "lr.fit(X_train,Y_train)"
   ]
  },
  {
   "cell_type": "markdown",
   "metadata": {},
   "source": [
    "## Şimdi modelimizi uygulayacağız\n",
    "x_train den Y_train öğrendi , aşşağıda da X_test ten kendi tahmin sonuçlarını çıkardı"
   ]
  },
  {
   "cell_type": "code",
   "execution_count": 26,
   "metadata": {},
   "outputs": [
    {
     "name": "stdout",
     "output_type": "stream",
     "text": [
      "[[-1.33324088]\n",
      " [ 1.05398097]\n",
      " [-0.65761206]\n",
      " [-0.70265398]\n",
      " [ 0.82877136]\n",
      " [ 0.60356175]\n",
      " [ 0.82877136]\n",
      " [-0.70265398]\n",
      " [-0.29727668]\n",
      " [ 0.37835214]]\n"
     ]
    }
   ],
   "source": [
    "# predict = tahmin\n",
    "tahmin=lr.predict(X_test)\n",
    "print(tahmin)"
   ]
  },
  {
   "cell_type": "code",
   "execution_count": 27,
   "metadata": {},
   "outputs": [
    {
     "data": {
      "text/plain": [
       "'\\n# şimdi dönüştürmek istediğim sayısal değerleri alacağım\\nX_train=sc.fit_transform(x_train)\\nX_test=sc.fit_transform(x_test)\\nY_train=sc.fit_transform(y_train)\\nY_test=sc.fit_transform(y_test)\\n'"
      ]
     },
     "execution_count": 27,
     "metadata": {},
     "output_type": "execute_result"
    }
   ],
   "source": [
    "'''\n",
    "# şimdi dönüştürmek istediğim sayısal değerleri alacağım\n",
    "X_train=sc.fit_transform(x_train)\n",
    "X_test=sc.fit_transform(x_test)\n",
    "Y_train=sc.fit_transform(y_train)\n",
    "Y_test=sc.fit_transform(y_test)\n",
    "'''\n",
    "# bunlar olamadan öğrenme şekli\n"
   ]
  },
  {
   "cell_type": "code",
   "execution_count": 28,
   "metadata": {},
   "outputs": [
    {
     "name": "stdout",
     "output_type": "stream",
     "text": [
      "[[20126.21865404]\n",
      " [57740.29412655]\n",
      " [30771.7117123 ]\n",
      " [30062.01217508]\n",
      " [54191.79644047]\n",
      " [50643.29875438]\n",
      " [54191.79644047]\n",
      " [30062.01217508]\n",
      " [36449.30801003]\n",
      " [47094.80106829]]\n"
     ]
    }
   ],
   "source": [
    "lr=LinearRegression()\n",
    "lr.fit(x_train,y_train)\n",
    "tahmin=lr.predict(x_test)\n",
    "print(tahmin)"
   ]
  },
  {
   "cell_type": "markdown",
   "metadata": {},
   "source": [
    "## Modelimizi Görselleştirelim"
   ]
  },
  {
   "cell_type": "code",
   "execution_count": 37,
   "metadata": {},
   "outputs": [
    {
     "data": {
      "text/plain": [
       "Text(0, 0.5, 'Satışlar')"
      ]
     },
     "execution_count": 37,
     "metadata": {},
     "output_type": "execute_result"
    },
    {
     "data": {
      "image/png": "[encoded data removed]",
      "text/plain": [
       "<Figure size 640x480 with 1 Axes>"
      ]
     },
     "metadata": {},
     "output_type": "display_data"
    }
   ],
   "source": [
    "# train ve test oluştururken random sırayla oluşturmuştuk şimdi index e göre sıralayalım\n",
    "x_train=x_train.sort_index() # index e göre sort et yani sırala dedik\n",
    "y_train=y_train.sort_index()\n",
    "plt.plot(x_train,y_train)\n",
    "# x_test deki her bir değer için ona karşılık gelen tahmini görelim\n",
    "plt.plot(x_test,lr.predict(x_test))\n",
    "\n",
    "\n",
    "plt.title(\"Aylara Göre Satışlar\")\n",
    "plt.xlabel(\"Aylar\")\n",
    "plt.ylabel(\"Satışlar\")"
   ]
  },
  {
   "cell_type": "code",
   "execution_count": null,
   "metadata": {},
   "outputs": [],
   "source": []
  }
 ],
 "metadata": {
  "kernelspec": {
   "display_name": "Python 3",
   "language": "python",
   "name": "python3"
  },
  "language_info": {
   "codemirror_mode": {
    "name": "ipython",
    "version": 3
   },
   "file_extension": ".py",
   "mimetype": "text/x-python",
   "name": "python",
   "nbconvert_exporter": "python",
   "pygments_lexer": "ipython3",
   "version": "3.10.12"
  }
 },
 "nbformat": 4,
 "nbformat_minor": 2
}
