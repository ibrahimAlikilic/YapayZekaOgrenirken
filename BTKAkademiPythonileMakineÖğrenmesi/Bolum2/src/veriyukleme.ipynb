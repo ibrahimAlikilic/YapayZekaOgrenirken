{
 "cells": [
  {
   "cell_type": "code",
   "execution_count": 1,
   "metadata": {},
   "outputs": [],
   "source": [
    "import numpy as np\n",
    "import matplotlib.pyplot as plt\n",
    "import pandas as pd"
   ]
  },
  {
   "cell_type": "code",
   "execution_count": 2,
   "metadata": {},
   "outputs": [
    {
     "name": "stdout",
     "output_type": "stream",
     "text": [
      "   ulke  boy  kilo  yas cinsiyet\n",
      "0    tr  130    30   10        e\n",
      "1    tr  125    36   11        e\n",
      "2    tr  135    34   10        k\n",
      "3    tr  133    30    9        k\n",
      "4    tr  129    38   12        e\n",
      "5    tr  180    90   30        e\n",
      "6    tr  190    80   25        e\n",
      "7    tr  175    90   35        e\n",
      "8    tr  177    60   22        k\n",
      "9    us  185   105   33        e\n",
      "10   us  165    55   27        k\n",
      "11   us  155    50   44        k\n",
      "12   us  160    58   39        k\n",
      "13   us  162    59   41        k\n",
      "14   us  167    62   55        k\n",
      "15   fr  174    70   47        e\n",
      "16   fr  193    90   23        e\n",
      "17   fr  187    80   27        e\n",
      "18   fr  183    88   28        e\n",
      "19   fr  159    40   29        k\n",
      "20   fr  164    66   32        k\n",
      "21   fr  166    56   42        k\n"
     ]
    }
   ],
   "source": [
    "# veri çekme\n",
    "veriler=pd.read_csv('input/veriler.csv')\n",
    "print(veriler)"
   ]
  },
  {
   "cell_type": "code",
   "execution_count": 3,
   "metadata": {},
   "outputs": [
    {
     "name": "stdout",
     "output_type": "stream",
     "text": [
      "    boy\n",
      "0   130\n",
      "1   125\n",
      "2   135\n",
      "3   133\n",
      "4   129\n",
      "5   180\n",
      "6   190\n",
      "7   175\n",
      "8   177\n",
      "9   185\n",
      "10  165\n",
      "11  155\n",
      "12  160\n",
      "13  162\n",
      "14  167\n",
      "15  174\n",
      "16  193\n",
      "17  187\n",
      "18  183\n",
      "19  159\n",
      "20  164\n",
      "21  166\n"
     ]
    }
   ],
   "source": [
    "# veri işleme\n",
    "boy=veriler[['boy']]\n",
    "print(boy)"
   ]
  },
  {
   "cell_type": "code",
   "execution_count": 4,
   "metadata": {},
   "outputs": [
    {
     "name": "stdout",
     "output_type": "stream",
     "text": [
      "165\n",
      "42\n"
     ]
    }
   ],
   "source": [
    "class insan:\n",
    "    boy=165\n",
    "    def fonksiyon(self,b):\n",
    "        return b*2\n",
    "ben=insan()\n",
    "print(ben.boy)\n",
    "print(ben.fonksiyon(21))"
   ]
  },
  {
   "cell_type": "code",
   "execution_count": 5,
   "metadata": {},
   "outputs": [],
   "source": [
    "# liste\n",
    "l=[1,3,5]"
   ]
  },
  {
   "cell_type": "markdown",
   "metadata": {},
   "source": [
    "## Eksik Veriler"
   ]
  },
  {
   "cell_type": "code",
   "execution_count": 6,
   "metadata": {},
   "outputs": [
    {
     "name": "stdout",
     "output_type": "stream",
     "text": [
      "   ulke  boy  kilo   yas cinsiyet\n",
      "0    tr  130    30  10.0        e\n",
      "1    tr  125    36  11.0        e\n",
      "2    tr  135    34  10.0        k\n",
      "3    tr  133    30   9.0        k\n",
      "4    tr  129    38  12.0        e\n",
      "5    tr  180    90  30.0        e\n",
      "6    tr  190    80  25.0        e\n",
      "7    tr  175    90  35.0        e\n",
      "8    tr  177    60  22.0        k\n",
      "9    us  185   105  33.0        e\n",
      "10   us  165    55  27.0        k\n",
      "11   us  155    50  44.0        k\n",
      "12   us  160    58   NaN        k\n",
      "13   us  162    59  41.0        k\n",
      "14   us  167    62  55.0        k\n",
      "15   fr  174    70  47.0        e\n",
      "16   fr  193    90   NaN        e\n",
      "17   fr  187    80  27.0        e\n",
      "18   fr  183    88  28.0        e\n",
      "19   fr  159    40  29.0        k\n",
      "20   fr  164    66  32.0        k\n",
      "21   fr  166    56  42.0        k\n"
     ]
    }
   ],
   "source": [
    "eksikVeriler=pd.read_csv('input/eksikveriler.csv')\n",
    "print(eksikVeriler) # gördüğün gibi eksik olanlar NaN"
   ]
  },
  {
   "cell_type": "code",
   "execution_count": 7,
   "metadata": {},
   "outputs": [
    {
     "name": "stdout",
     "output_type": "stream",
     "text": [
      "[[130.  30.  10.]\n",
      " [125.  36.  11.]\n",
      " [135.  34.  10.]\n",
      " [133.  30.   9.]\n",
      " [129.  38.  12.]\n",
      " [180.  90.  30.]\n",
      " [190.  80.  25.]\n",
      " [175.  90.  35.]\n",
      " [177.  60.  22.]\n",
      " [185. 105.  33.]\n",
      " [165.  55.  27.]\n",
      " [155.  50.  44.]\n",
      " [160.  58.  nan]\n",
      " [162.  59.  41.]\n",
      " [167.  62.  55.]\n",
      " [174.  70.  47.]\n",
      " [193.  90.  nan]\n",
      " [187.  80.  27.]\n",
      " [183.  88.  28.]\n",
      " [159.  40.  29.]\n",
      " [164.  66.  32.]\n",
      " [166.  56.  42.]]\n"
     ]
    }
   ],
   "source": [
    "# şimdi farklı farklı yollar var biz ortalamayı alıp onu yazmaya karar verdik ( eğitimdeki hoc. )\n",
    "# fit ile öğretip transform ile yerine koyuyoruz\n",
    "from sklearn.impute import SimpleImputer # kullanacak olduğumuz kütüphane bu class içinde bulunmakta\n",
    "# şimdi bir obje tanımlayacağız\n",
    "imputer=SimpleImputer(missing_values=np.nan,strategy='mean') # numpy kütüpphanesi sayesinde nan atananları al demiş olduk , strategy='mean' demek strateji olarak mean yani ortalama kullan demek\n",
    "Yas=eksikVeriler.iloc[:,1:4].values # tüm satırlardan 1ve 3 dahil sütünları getir dedik\n",
    "print(Yas)"
   ]
  },
  {
   "cell_type": "code",
   "execution_count": 8,
   "metadata": {},
   "outputs": [
    {
     "name": "stdout",
     "output_type": "stream",
     "text": [
      "[[130.    30.    10.  ]\n",
      " [125.    36.    11.  ]\n",
      " [135.    34.    10.  ]\n",
      " [133.    30.     9.  ]\n",
      " [129.    38.    12.  ]\n",
      " [180.    90.    30.  ]\n",
      " [190.    80.    25.  ]\n",
      " [175.    90.    35.  ]\n",
      " [177.    60.    22.  ]\n",
      " [185.   105.    33.  ]\n",
      " [165.    55.    27.  ]\n",
      " [155.    50.    44.  ]\n",
      " [160.    58.    28.45]\n",
      " [162.    59.    41.  ]\n",
      " [167.    62.    55.  ]\n",
      " [174.    70.    47.  ]\n",
      " [193.    90.    28.45]\n",
      " [187.    80.    27.  ]\n",
      " [183.    88.    28.  ]\n",
      " [159.    40.    29.  ]\n",
      " [164.    66.    32.  ]\n",
      " [166.    56.    42.  ]]\n"
     ]
    }
   ],
   "source": [
    "imputer=imputer.fit(Yas[:,1:4]) # burada eğittik dedik ki yaşın 1den 4e kadar olan tüm satırlarını öğren ve bu öğrenme bizim belirlediğimiz strateji yani ort alıyor\n",
    "Yas[:,1:4]=imputer.transform(Yas[:,1:4]) # bu şekilde öğrendiğini uygula dedik\n",
    "print(Yas)"
   ]
  },
  {
   "cell_type": "markdown",
   "metadata": {},
   "source": [
    "## Kategorik Veriler\n",
    "String ifadeyi sayısal atama yaparak ayrıştırdık diye düşünebilirsin"
   ]
  },
  {
   "cell_type": "code",
   "execution_count": 9,
   "metadata": {},
   "outputs": [
    {
     "name": "stdout",
     "output_type": "stream",
     "text": [
      "[['tr']\n",
      " ['tr']\n",
      " ['tr']\n",
      " ['tr']\n",
      " ['tr']\n",
      " ['tr']\n",
      " ['tr']\n",
      " ['tr']\n",
      " ['tr']\n",
      " ['us']\n",
      " ['us']\n",
      " ['us']\n",
      " ['us']\n",
      " ['us']\n",
      " ['us']\n",
      " ['fr']\n",
      " ['fr']\n",
      " ['fr']\n",
      " ['fr']\n",
      " ['fr']\n",
      " ['fr']\n",
      " ['fr']]\n"
     ]
    }
   ],
   "source": [
    "# ülke kolonumuz katagorik kolonumuz bunun üzerinde değişiklik yapacağız\n",
    "ulke=eksikVeriler.iloc[:,0:1].values\n",
    "print(ulke)"
   ]
  },
  {
   "cell_type": "code",
   "execution_count": 10,
   "metadata": {},
   "outputs": [],
   "source": [
    "from sklearn import preprocessing\n",
    "le=preprocessing.LabelEncoder()"
   ]
  },
  {
   "cell_type": "markdown",
   "metadata": {},
   "source": [
    "sklearn (scikit-learn), Python dilinde popüler bir makine öğrenimi kütüphanesidir ve veri madenciliği, veri analizi ve veri manipülasyonu gibi birçok görevde kullanılır. preprocessing modülü, veri ön işleme aşamalarında kullanılan araçları içerir. Bu araçlardan biri de LabelEncoder sınıfıdır.\n",
    "\n",
    "LabelEncoder, özellikle kategorik (sınıflandırma) verilerle çalışırken kullanışlıdır. Bu sınıf, kategorik verileri sayısal değerlere dönüştürmeye yardımcı olur. Çoğu makine öğrenimi algoritması, sayısal girdi bekler, bu nedenle kategorik verileri sayısal hale getirmek önemlidir."
   ]
  },
  {
   "cell_type": "code",
   "execution_count": 12,
   "metadata": {},
   "outputs": [
    {
     "name": "stdout",
     "output_type": "stream",
     "text": [
      "[[1]\n",
      " [1]\n",
      " [1]\n",
      " [1]\n",
      " [1]\n",
      " [1]\n",
      " [1]\n",
      " [1]\n",
      " [1]\n",
      " [2]\n",
      " [2]\n",
      " [2]\n",
      " [2]\n",
      " [2]\n",
      " [2]\n",
      " [0]\n",
      " [0]\n",
      " [0]\n",
      " [0]\n",
      " [0]\n",
      " [0]\n",
      " [0]]\n"
     ]
    }
   ],
   "source": [
    "ulke[:,0]=le.fit_transform(eksikVeriler.iloc[:,0])\n",
    "print(ulke)"
   ]
  },
  {
   "cell_type": "markdown",
   "metadata": {},
   "source": [
    "Bu kod satırı, kategorik bir sütunu (belirli bir ülke adı gibi) içeren bir veri setinde, LabelEncoder'ı kullanarak bu kategorik sütunu sayısal değerlere dönüştürmeyi amaçlamaktadır. Bu işlem genellikle makine öğrenimi modellerine giriş verileri sağlarken kullanılır, çünkü çoğu makine öğrenimi algoritması, sayısal verilerle daha iyi çalışır.\n",
    "\n",
    "İşte bu kodun ayrıntılı açıklaması:\n",
    "\n",
    "* eksikVeriler.iloc[:,0]: Bu ifade, eksikVeriler adlı bir veri çerçevesindeki tüm satırları ve sadece ilk sütunu seçer. iloc kullanımı, konum indeksine dayalı seçim yapar.\n",
    "\n",
    "* le.fit_transform(eksikVeriler.iloc[:,0]): Burada, seçilen sütunun değerlerini LabelEncoder ile dönüştürüyoruz. fit_transform yöntemi, hem dönüşümü öğrenir (fit) hem de veriyi dönüştürür (transform). Dönüştürülen değerler, orijinal kategorik değerlere karşılık gelen sayısal değerlerdir.\n",
    "\n",
    "* ulke[:,0]: Bu ifade, ulke adlı bir array'in tüm satırlarını ve sadece ilk sütununu seçer. ulke muhtemelen daha önce tanımlanmış bir array veya veri çerçevesidir.\n",
    "\n",
    "* ulke[:,0]=le.fit_transform(eksikVeriler.iloc[:,0]): Bu ifade, ulke array'inin ilk sütununu, eksikVeriler veri çerçevesindeki ilgili kategorik sütunun sayısal karşılıkları ile değiştirir.\n",
    "\n",
    "Örneğin, eğer eksikVeriler veri çerçevesinde ilk sütun ülkeleri içeriyorsa, bu işlemle o ülkelerin isimleri LabelEncoder kullanılarak sayısal değerlere dönüştürülmüş olacaktır. Bu sayısal değerler, her bir ülkenin benzersiz bir sayıya atanmış olduğu sayısal temsili sağlar."
   ]
  },
  {
   "cell_type": "code",
   "execution_count": 13,
   "metadata": {},
   "outputs": [
    {
     "name": "stdout",
     "output_type": "stream",
     "text": [
      "[[0. 1. 0.]\n",
      " [0. 1. 0.]\n",
      " [0. 1. 0.]\n",
      " [0. 1. 0.]\n",
      " [0. 1. 0.]\n",
      " [0. 1. 0.]\n",
      " [0. 1. 0.]\n",
      " [0. 1. 0.]\n",
      " [0. 1. 0.]\n",
      " [0. 0. 1.]\n",
      " [0. 0. 1.]\n",
      " [0. 0. 1.]\n",
      " [0. 0. 1.]\n",
      " [0. 0. 1.]\n",
      " [0. 0. 1.]\n",
      " [1. 0. 0.]\n",
      " [1. 0. 0.]\n",
      " [1. 0. 0.]\n",
      " [1. 0. 0.]\n",
      " [1. 0. 0.]\n",
      " [1. 0. 0.]\n",
      " [1. 0. 0.]]\n"
     ]
    }
   ],
   "source": [
    "ohe=preprocessing.OneHotEncoder()\n",
    "ulke=ohe.fit_transform(ulke).toarray()\n",
    "print(ulke)"
   ]
  },
  {
   "cell_type": "markdown",
   "metadata": {},
   "source": [
    "Bu kod bloğu, OneHotEncoder'ı kullanarak kategorik bir sütunu (muhtemelen ülkeleri temsil eden bir sütun) one-hot encoding yöntemiyle dönüştürmeye yöneliktir. One-hot encoding, kategorik verileri sayısal formata dönüştürmenin bir yöntemidir ve özellikle makine öğrenimi modellerinde kullanılır.\n",
    "\n",
    "İşte bu kodun adım adım açıklaması:\n",
    "\n",
    "* preprocessing.OneHotEncoder(): Bu ifade, OneHotEncoder sınıfından bir nesne (ohe) oluşturur. OneHotEncoder, kategorik veriyi one-hot encoding yöntemiyle dönüştürmek için kullanılır.\n",
    "\n",
    "* ohe.fit_transform(ulke): Bu ifade, OneHotEncoder'ı kullanarak ulke array'ini dönüştürür. fit_transform yöntemi, önce dönüşümü öğrenir (fit) ve ardından veriyi dönüştürür (transform). Bu adımların kombinasyonu, one-hot encoding işlemini gerçekleştirir.\n",
    "\n",
    "* toarray(): Bu ifade, elde edilen sparse matrix'i (seyrek matris) yoğun bir array'e dönüştürür. One-hot encoding sıklıkla büyük ve seyrek matrislerle sonuçlanır, bu nedenle toarray() kullanılarak yoğun bir array'e çevrilir.\n",
    "\n",
    "* ulke=ohe.fit_transform(ulke).toarray(): Bu ifade, one-hot encoding işlemi sonrasında elde edilen yoğun array'i ulke değişkenine atar, böylece ulke artık one-hot encoding ile temsil edilen kategorik veriyi içerir.\n",
    "\n",
    "Sonuç olarak, bu kod bloğu, kategorik ülke verilerini one-hot encoding ile sayısal bir formata dönüştürmeyi amaçlar. Bu dönüşüm, her bir ülkeyi temsil eden kategorik değerleri, her bir ülkenin bulunduğu sütuna karşılık gelen bir 1 ve diğer sütunlara karşılık gelen 0'lar içeren bir vektöre dönüştürür. Bu tip bir dönüşüm, özellikle sınıflandırma modelleri gibi bazı makine öğrenimi algoritmaları için giriş verilerini hazırlarken yaygın olarak kullanılır."
   ]
  },
  {
   "cell_type": "code",
   "execution_count": null,
   "metadata": {},
   "outputs": [],
   "source": []
  }
 ],
 "metadata": {
  "kernelspec": {
   "display_name": "Python 3",
   "language": "python",
   "name": "python3"
  },
  "language_info": {
   "codemirror_mode": {
    "name": "ipython",
    "version": 3
   },
   "file_extension": ".py",
   "mimetype": "text/x-python",
   "name": "python",
   "nbconvert_exporter": "python",
   "pygments_lexer": "ipython3",
   "version": "3.10.12"
  }
 },
 "nbformat": 4,
 "nbformat_minor": 2
}
