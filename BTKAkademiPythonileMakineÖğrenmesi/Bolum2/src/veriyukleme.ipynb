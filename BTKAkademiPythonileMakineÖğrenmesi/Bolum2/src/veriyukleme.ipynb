{
 "cells": [
  {
   "cell_type": "code",
   "execution_count": 1,
   "metadata": {},
   "outputs": [],
   "source": [
    "import numpy as np\n",
    "import matplotlib.pyplot as plt\n",
    "import pandas as pd"
   ]
  },
  {
   "cell_type": "code",
   "execution_count": 2,
   "metadata": {},
   "outputs": [
    {
     "name": "stdout",
     "output_type": "stream",
     "text": [
      "   ulke  boy  kilo  yas cinsiyet\n",
      "0    tr  130    30   10        e\n",
      "1    tr  125    36   11        e\n",
      "2    tr  135    34   10        k\n",
      "3    tr  133    30    9        k\n",
      "4    tr  129    38   12        e\n",
      "5    tr  180    90   30        e\n",
      "6    tr  190    80   25        e\n",
      "7    tr  175    90   35        e\n",
      "8    tr  177    60   22        k\n",
      "9    us  185   105   33        e\n",
      "10   us  165    55   27        k\n",
      "11   us  155    50   44        k\n",
      "12   us  160    58   39        k\n",
      "13   us  162    59   41        k\n",
      "14   us  167    62   55        k\n",
      "15   fr  174    70   47        e\n",
      "16   fr  193    90   23        e\n",
      "17   fr  187    80   27        e\n",
      "18   fr  183    88   28        e\n",
      "19   fr  159    40   29        k\n",
      "20   fr  164    66   32        k\n",
      "21   fr  166    56   42        k\n"
     ]
    }
   ],
   "source": [
    "# veri çekme\n",
    "veriler=pd.read_csv('input/veriler.csv')\n",
    "print(veriler)"
   ]
  },
  {
   "cell_type": "code",
   "execution_count": 3,
   "metadata": {},
   "outputs": [
    {
     "name": "stdout",
     "output_type": "stream",
     "text": [
      "    boy\n",
      "0   130\n",
      "1   125\n",
      "2   135\n",
      "3   133\n",
      "4   129\n",
      "5   180\n",
      "6   190\n",
      "7   175\n",
      "8   177\n",
      "9   185\n",
      "10  165\n",
      "11  155\n",
      "12  160\n",
      "13  162\n",
      "14  167\n",
      "15  174\n",
      "16  193\n",
      "17  187\n",
      "18  183\n",
      "19  159\n",
      "20  164\n",
      "21  166\n"
     ]
    }
   ],
   "source": [
    "# veri işleme\n",
    "boy=veriler[['boy']]\n",
    "print(boy)"
   ]
  },
  {
   "cell_type": "code",
   "execution_count": 4,
   "metadata": {},
   "outputs": [
    {
     "name": "stdout",
     "output_type": "stream",
     "text": [
      "165\n",
      "42\n"
     ]
    }
   ],
   "source": [
    "class insan:\n",
    "    boy=165\n",
    "    def fonksiyon(self,b):\n",
    "        return b*2\n",
    "ben=insan()\n",
    "print(ben.boy)\n",
    "print(ben.fonksiyon(21))"
   ]
  },
  {
   "cell_type": "code",
   "execution_count": 5,
   "metadata": {},
   "outputs": [],
   "source": [
    "# liste\n",
    "l=[1,3,5]"
   ]
  },
  {
   "cell_type": "markdown",
   "metadata": {},
   "source": [
    "## Eksik Veriler"
   ]
  },
  {
   "cell_type": "code",
   "execution_count": 6,
   "metadata": {},
   "outputs": [
    {
     "name": "stdout",
     "output_type": "stream",
     "text": [
      "   ulke  boy  kilo   yas cinsiyet\n",
      "0    tr  130    30  10.0        e\n",
      "1    tr  125    36  11.0        e\n",
      "2    tr  135    34  10.0        k\n",
      "3    tr  133    30   9.0        k\n",
      "4    tr  129    38  12.0        e\n",
      "5    tr  180    90  30.0        e\n",
      "6    tr  190    80  25.0        e\n",
      "7    tr  175    90  35.0        e\n",
      "8    tr  177    60  22.0        k\n",
      "9    us  185   105  33.0        e\n",
      "10   us  165    55  27.0        k\n",
      "11   us  155    50  44.0        k\n",
      "12   us  160    58   NaN        k\n",
      "13   us  162    59  41.0        k\n",
      "14   us  167    62  55.0        k\n",
      "15   fr  174    70  47.0        e\n",
      "16   fr  193    90   NaN        e\n",
      "17   fr  187    80  27.0        e\n",
      "18   fr  183    88  28.0        e\n",
      "19   fr  159    40  29.0        k\n",
      "20   fr  164    66  32.0        k\n",
      "21   fr  166    56  42.0        k\n"
     ]
    }
   ],
   "source": [
    "eksikVeriler=pd.read_csv('input/eksikveriler.csv')\n",
    "print(eksikVeriler) # gördüğün gibi eksik olanlar NaN"
   ]
  },
  {
   "cell_type": "code",
   "execution_count": 7,
   "metadata": {},
   "outputs": [
    {
     "name": "stdout",
     "output_type": "stream",
     "text": [
      "[[130.  30.  10.]\n",
      " [125.  36.  11.]\n",
      " [135.  34.  10.]\n",
      " [133.  30.   9.]\n",
      " [129.  38.  12.]\n",
      " [180.  90.  30.]\n",
      " [190.  80.  25.]\n",
      " [175.  90.  35.]\n",
      " [177.  60.  22.]\n",
      " [185. 105.  33.]\n",
      " [165.  55.  27.]\n",
      " [155.  50.  44.]\n",
      " [160.  58.  nan]\n",
      " [162.  59.  41.]\n",
      " [167.  62.  55.]\n",
      " [174.  70.  47.]\n",
      " [193.  90.  nan]\n",
      " [187.  80.  27.]\n",
      " [183.  88.  28.]\n",
      " [159.  40.  29.]\n",
      " [164.  66.  32.]\n",
      " [166.  56.  42.]]\n"
     ]
    }
   ],
   "source": [
    "# şimdi farklı farklı yollar var biz ortalamayı alıp onu yazmaya karar verdik ( eğitimdeki hoc. )\n",
    "# fit ile öğretip transform ile yerine koyuyoruz\n",
    "from sklearn.impute import SimpleImputer # kullanacak olduğumuz kütüphane bu class içinde bulunmakta\n",
    "# şimdi bir obje tanımlayacağız\n",
    "imputer=SimpleImputer(missing_values=np.nan,strategy='mean') # numpy kütüpphanesi sayesinde nan atananları al demiş olduk , strategy='mean' demek strateji olarak mean yani ortalama kullan demek\n",
    "Yas=eksikVeriler.iloc[:,1:4].values # tüm satırlardan 1ve 3 dahil sütünları getir dedik\n",
    "print(Yas)"
   ]
  },
  {
   "cell_type": "code",
   "execution_count": 8,
   "metadata": {},
   "outputs": [
    {
     "name": "stdout",
     "output_type": "stream",
     "text": [
      "[[130.    30.    10.  ]\n",
      " [125.    36.    11.  ]\n",
      " [135.    34.    10.  ]\n",
      " [133.    30.     9.  ]\n",
      " [129.    38.    12.  ]\n",
      " [180.    90.    30.  ]\n",
      " [190.    80.    25.  ]\n",
      " [175.    90.    35.  ]\n",
      " [177.    60.    22.  ]\n",
      " [185.   105.    33.  ]\n",
      " [165.    55.    27.  ]\n",
      " [155.    50.    44.  ]\n",
      " [160.    58.    28.45]\n",
      " [162.    59.    41.  ]\n",
      " [167.    62.    55.  ]\n",
      " [174.    70.    47.  ]\n",
      " [193.    90.    28.45]\n",
      " [187.    80.    27.  ]\n",
      " [183.    88.    28.  ]\n",
      " [159.    40.    29.  ]\n",
      " [164.    66.    32.  ]\n",
      " [166.    56.    42.  ]]\n"
     ]
    }
   ],
   "source": [
    "imputer=imputer.fit(Yas[:,1:4]) # burada eğittik dedik ki yaşın 1den 4e kadar olan tüm satırlarını öğren ve bu öğrenme bizim belirlediğimiz strateji yani ort alıyor\n",
    "Yas[:,1:4]=imputer.transform(Yas[:,1:4]) # bu şekilde öğrendiğini uygula dedik\n",
    "print(Yas)"
   ]
  },
  {
   "cell_type": "markdown",
   "metadata": {},
   "source": [
    "## Kategorik Veriler\n",
    "String ifadeyi sayısal atama yaparak ayrıştırdık diye düşünebilirsin"
   ]
  },
  {
   "cell_type": "code",
   "execution_count": 9,
   "metadata": {},
   "outputs": [
    {
     "name": "stdout",
     "output_type": "stream",
     "text": [
      "[['tr']\n",
      " ['tr']\n",
      " ['tr']\n",
      " ['tr']\n",
      " ['tr']\n",
      " ['tr']\n",
      " ['tr']\n",
      " ['tr']\n",
      " ['tr']\n",
      " ['us']\n",
      " ['us']\n",
      " ['us']\n",
      " ['us']\n",
      " ['us']\n",
      " ['us']\n",
      " ['fr']\n",
      " ['fr']\n",
      " ['fr']\n",
      " ['fr']\n",
      " ['fr']\n",
      " ['fr']\n",
      " ['fr']]\n"
     ]
    }
   ],
   "source": [
    "# ülke kolonumuz katagorik kolonumuz bunun üzerinde değişiklik yapacağız\n",
    "ulke=eksikVeriler.iloc[:,0:1].values\n",
    "print(ulke)"
   ]
  },
  {
   "cell_type": "code",
   "execution_count": 10,
   "metadata": {},
   "outputs": [],
   "source": [
    "from sklearn import preprocessing\n",
    "le=preprocessing.LabelEncoder()"
   ]
  },
  {
   "cell_type": "markdown",
   "metadata": {},
   "source": [
    "sklearn (scikit-learn), Python dilinde popüler bir makine öğrenimi kütüphanesidir ve veri madenciliği, veri analizi ve veri manipülasyonu gibi birçok görevde kullanılır. preprocessing modülü, veri ön işleme aşamalarında kullanılan araçları içerir. Bu araçlardan biri de LabelEncoder sınıfıdır.\n",
    "\n",
    "LabelEncoder, özellikle kategorik (sınıflandırma) verilerle çalışırken kullanışlıdır. Bu sınıf, kategorik verileri sayısal değerlere dönüştürmeye yardımcı olur. Çoğu makine öğrenimi algoritması, sayısal girdi bekler, bu nedenle kategorik verileri sayısal hale getirmek önemlidir."
   ]
  },
  {
   "cell_type": "code",
   "execution_count": 11,
   "metadata": {},
   "outputs": [
    {
     "name": "stdout",
     "output_type": "stream",
     "text": [
      "[[1]\n",
      " [1]\n",
      " [1]\n",
      " [1]\n",
      " [1]\n",
      " [1]\n",
      " [1]\n",
      " [1]\n",
      " [1]\n",
      " [2]\n",
      " [2]\n",
      " [2]\n",
      " [2]\n",
      " [2]\n",
      " [2]\n",
      " [0]\n",
      " [0]\n",
      " [0]\n",
      " [0]\n",
      " [0]\n",
      " [0]\n",
      " [0]]\n"
     ]
    }
   ],
   "source": [
    "ulke[:,0]=le.fit_transform(eksikVeriler.iloc[:,0])\n",
    "print(ulke)"
   ]
  },
  {
   "cell_type": "markdown",
   "metadata": {},
   "source": [
    "Bu kod satırı, kategorik bir sütunu (belirli bir ülke adı gibi) içeren bir veri setinde, LabelEncoder'ı kullanarak bu kategorik sütunu sayısal değerlere dönüştürmeyi amaçlamaktadır. Bu işlem genellikle makine öğrenimi modellerine giriş verileri sağlarken kullanılır, çünkü çoğu makine öğrenimi algoritması, sayısal verilerle daha iyi çalışır.\n",
    "\n",
    "İşte bu kodun ayrıntılı açıklaması:\n",
    "\n",
    "* eksikVeriler.iloc[:,0]: Bu ifade, eksikVeriler adlı bir veri çerçevesindeki tüm satırları ve sadece ilk sütunu seçer. iloc kullanımı, konum indeksine dayalı seçim yapar.\n",
    "\n",
    "* le.fit_transform(eksikVeriler.iloc[:,0]): Burada, seçilen sütunun değerlerini LabelEncoder ile dönüştürüyoruz. fit_transform yöntemi, hem dönüşümü öğrenir (fit) hem de veriyi dönüştürür (transform). Dönüştürülen değerler, orijinal kategorik değerlere karşılık gelen sayısal değerlerdir.\n",
    "\n",
    "* ulke[:,0]: Bu ifade, ulke adlı bir array'in tüm satırlarını ve sadece ilk sütununu seçer. ulke muhtemelen daha önce tanımlanmış bir array veya veri çerçevesidir.\n",
    "\n",
    "* ulke[:,0]=le.fit_transform(eksikVeriler.iloc[:,0]): Bu ifade, ulke array'inin ilk sütununu, eksikVeriler veri çerçevesindeki ilgili kategorik sütunun sayısal karşılıkları ile değiştirir.\n",
    "\n",
    "Örneğin, eğer eksikVeriler veri çerçevesinde ilk sütun ülkeleri içeriyorsa, bu işlemle o ülkelerin isimleri LabelEncoder kullanılarak sayısal değerlere dönüştürülmüş olacaktır. Bu sayısal değerler, her bir ülkenin benzersiz bir sayıya atanmış olduğu sayısal temsili sağlar."
   ]
  },
  {
   "cell_type": "code",
   "execution_count": 12,
   "metadata": {},
   "outputs": [
    {
     "name": "stdout",
     "output_type": "stream",
     "text": [
      "[[0. 1. 0.]\n",
      " [0. 1. 0.]\n",
      " [0. 1. 0.]\n",
      " [0. 1. 0.]\n",
      " [0. 1. 0.]\n",
      " [0. 1. 0.]\n",
      " [0. 1. 0.]\n",
      " [0. 1. 0.]\n",
      " [0. 1. 0.]\n",
      " [0. 0. 1.]\n",
      " [0. 0. 1.]\n",
      " [0. 0. 1.]\n",
      " [0. 0. 1.]\n",
      " [0. 0. 1.]\n",
      " [0. 0. 1.]\n",
      " [1. 0. 0.]\n",
      " [1. 0. 0.]\n",
      " [1. 0. 0.]\n",
      " [1. 0. 0.]\n",
      " [1. 0. 0.]\n",
      " [1. 0. 0.]\n",
      " [1. 0. 0.]]\n"
     ]
    }
   ],
   "source": [
    "ohe=preprocessing.OneHotEncoder()\n",
    "ulke=ohe.fit_transform(ulke).toarray()\n",
    "print(ulke)"
   ]
  },
  {
   "cell_type": "markdown",
   "metadata": {},
   "source": [
    "Bu kod bloğu, OneHotEncoder'ı kullanarak kategorik bir sütunu (muhtemelen ülkeleri temsil eden bir sütun) one-hot encoding yöntemiyle dönüştürmeye yöneliktir. One-hot encoding, kategorik verileri sayısal formata dönüştürmenin bir yöntemidir ve özellikle makine öğrenimi modellerinde kullanılır.\n",
    "\n",
    "İşte bu kodun adım adım açıklaması:\n",
    "\n",
    "* preprocessing.OneHotEncoder(): Bu ifade, OneHotEncoder sınıfından bir nesne (ohe) oluşturur. OneHotEncoder, kategorik veriyi one-hot encoding yöntemiyle dönüştürmek için kullanılır.\n",
    "\n",
    "* ohe.fit_transform(ulke): Bu ifade, OneHotEncoder'ı kullanarak ulke array'ini dönüştürür. fit_transform yöntemi, önce dönüşümü öğrenir (fit) ve ardından veriyi dönüştürür (transform). Bu adımların kombinasyonu, one-hot encoding işlemini gerçekleştirir.\n",
    "\n",
    "* toarray(): Bu ifade, elde edilen sparse matrix'i (seyrek matris) yoğun bir array'e dönüştürür. One-hot encoding sıklıkla büyük ve seyrek matrislerle sonuçlanır, bu nedenle toarray() kullanılarak yoğun bir array'e çevrilir.\n",
    "\n",
    "* ulke=ohe.fit_transform(ulke).toarray(): Bu ifade, one-hot encoding işlemi sonrasında elde edilen yoğun array'i ulke değişkenine atar, böylece ulke artık one-hot encoding ile temsil edilen kategorik veriyi içerir.\n",
    "\n",
    "Sonuç olarak, bu kod bloğu, kategorik ülke verilerini one-hot encoding ile sayısal bir formata dönüştürmeyi amaçlar. Bu dönüşüm, her bir ülkeyi temsil eden kategorik değerleri, her bir ülkenin bulunduğu sütuna karşılık gelen bir 1 ve diğer sütunlara karşılık gelen 0'lar içeren bir vektöre dönüştürür. Bu tip bir dönüşüm, özellikle sınıflandırma modelleri gibi bazı makine öğrenimi algoritmaları için giriş verilerini hazırlarken yaygın olarak kullanılır."
   ]
  },
  {
   "cell_type": "markdown",
   "metadata": {},
   "source": [
    "## Verilerin Birleştirilmesi"
   ]
  },
  {
   "cell_type": "code",
   "execution_count": 13,
   "metadata": {},
   "outputs": [
    {
     "name": "stdout",
     "output_type": "stream",
     "text": [
      "     fr   tr   us\n",
      "0   0.0  1.0  0.0\n",
      "1   0.0  1.0  0.0\n",
      "2   0.0  1.0  0.0\n",
      "3   0.0  1.0  0.0\n",
      "4   0.0  1.0  0.0\n",
      "5   0.0  1.0  0.0\n",
      "6   0.0  1.0  0.0\n",
      "7   0.0  1.0  0.0\n",
      "8   0.0  1.0  0.0\n",
      "9   0.0  0.0  1.0\n",
      "10  0.0  0.0  1.0\n",
      "11  0.0  0.0  1.0\n",
      "12  0.0  0.0  1.0\n",
      "13  0.0  0.0  1.0\n",
      "14  0.0  0.0  1.0\n",
      "15  1.0  0.0  0.0\n",
      "16  1.0  0.0  0.0\n",
      "17  1.0  0.0  0.0\n",
      "18  1.0  0.0  0.0\n",
      "19  1.0  0.0  0.0\n",
      "20  1.0  0.0  0.0\n",
      "21  1.0  0.0  0.0\n"
     ]
    }
   ],
   "source": [
    "# şimdi verileri dataFrame ile birleştiricez\n",
    "# dataFrameleri indexi ve kolon başlıkları vardır diziden en büyük farkı budur\n",
    "sonuc=pd.DataFrame(data=ulke,index=range(22),columns=['fr','tr','us'])\n",
    "print(sonuc)"
   ]
  },
  {
   "cell_type": "code",
   "execution_count": 14,
   "metadata": {},
   "outputs": [
    {
     "name": "stdout",
     "output_type": "stream",
     "text": [
      "      boy   kilo    yas\n",
      "0   130.0   30.0  10.00\n",
      "1   125.0   36.0  11.00\n",
      "2   135.0   34.0  10.00\n",
      "3   133.0   30.0   9.00\n",
      "4   129.0   38.0  12.00\n",
      "5   180.0   90.0  30.00\n",
      "6   190.0   80.0  25.00\n",
      "7   175.0   90.0  35.00\n",
      "8   177.0   60.0  22.00\n",
      "9   185.0  105.0  33.00\n",
      "10  165.0   55.0  27.00\n",
      "11  155.0   50.0  44.00\n",
      "12  160.0   58.0  28.45\n",
      "13  162.0   59.0  41.00\n",
      "14  167.0   62.0  55.00\n",
      "15  174.0   70.0  47.00\n",
      "16  193.0   90.0  28.45\n",
      "17  187.0   80.0  27.00\n",
      "18  183.0   88.0  28.00\n",
      "19  159.0   40.0  29.00\n",
      "20  164.0   66.0  32.00\n",
      "21  166.0   56.0  42.00\n"
     ]
    }
   ],
   "source": [
    "sonuc2=pd.DataFrame(data=Yas,index=range(22),columns=['boy','kilo','yas'])\n",
    "print(sonuc2)"
   ]
  },
  {
   "cell_type": "code",
   "execution_count": 15,
   "metadata": {},
   "outputs": [
    {
     "name": "stdout",
     "output_type": "stream",
     "text": [
      "['e' 'e' 'k' 'k' 'e' 'e' 'e' 'e' 'k' 'e' 'k' 'k' 'k' 'k' 'k' 'e' 'e' 'e'\n",
      " 'e' 'k' 'k' 'k']\n",
      "   cinsiyet\n",
      "0         e\n",
      "1         e\n",
      "2         k\n",
      "3         k\n",
      "4         e\n",
      "5         e\n",
      "6         e\n",
      "7         e\n",
      "8         k\n",
      "9         e\n",
      "10        k\n",
      "11        k\n",
      "12        k\n",
      "13        k\n",
      "14        k\n",
      "15        e\n",
      "16        e\n",
      "17        e\n",
      "18        e\n",
      "19        k\n",
      "20        k\n",
      "21        k\n"
     ]
    }
   ],
   "source": [
    "cinsiyet=veriler.iloc[:,-1].values\n",
    "print(cinsiyet)\n",
    "sonuc3=pd.DataFrame(data=cinsiyet,index=range(22),columns=['cinsiyet'])\n",
    "print(sonuc3)"
   ]
  },
  {
   "cell_type": "code",
   "execution_count": 16,
   "metadata": {},
   "outputs": [
    {
     "name": "stdout",
     "output_type": "stream",
     "text": [
      "     fr   tr   us    boy   kilo    yas\n",
      "0   0.0  1.0  0.0    NaN    NaN    NaN\n",
      "1   0.0  1.0  0.0    NaN    NaN    NaN\n",
      "2   0.0  1.0  0.0    NaN    NaN    NaN\n",
      "3   0.0  1.0  0.0    NaN    NaN    NaN\n",
      "4   0.0  1.0  0.0    NaN    NaN    NaN\n",
      "5   0.0  1.0  0.0    NaN    NaN    NaN\n",
      "6   0.0  1.0  0.0    NaN    NaN    NaN\n",
      "7   0.0  1.0  0.0    NaN    NaN    NaN\n",
      "8   0.0  1.0  0.0    NaN    NaN    NaN\n",
      "9   0.0  0.0  1.0    NaN    NaN    NaN\n",
      "10  0.0  0.0  1.0    NaN    NaN    NaN\n",
      "11  0.0  0.0  1.0    NaN    NaN    NaN\n",
      "12  0.0  0.0  1.0    NaN    NaN    NaN\n",
      "13  0.0  0.0  1.0    NaN    NaN    NaN\n",
      "14  0.0  0.0  1.0    NaN    NaN    NaN\n",
      "15  1.0  0.0  0.0    NaN    NaN    NaN\n",
      "16  1.0  0.0  0.0    NaN    NaN    NaN\n",
      "17  1.0  0.0  0.0    NaN    NaN    NaN\n",
      "18  1.0  0.0  0.0    NaN    NaN    NaN\n",
      "19  1.0  0.0  0.0    NaN    NaN    NaN\n",
      "20  1.0  0.0  0.0    NaN    NaN    NaN\n",
      "21  1.0  0.0  0.0    NaN    NaN    NaN\n",
      "0   NaN  NaN  NaN  130.0   30.0  10.00\n",
      "1   NaN  NaN  NaN  125.0   36.0  11.00\n",
      "2   NaN  NaN  NaN  135.0   34.0  10.00\n",
      "3   NaN  NaN  NaN  133.0   30.0   9.00\n",
      "4   NaN  NaN  NaN  129.0   38.0  12.00\n",
      "5   NaN  NaN  NaN  180.0   90.0  30.00\n",
      "6   NaN  NaN  NaN  190.0   80.0  25.00\n",
      "7   NaN  NaN  NaN  175.0   90.0  35.00\n",
      "8   NaN  NaN  NaN  177.0   60.0  22.00\n",
      "9   NaN  NaN  NaN  185.0  105.0  33.00\n",
      "10  NaN  NaN  NaN  165.0   55.0  27.00\n",
      "11  NaN  NaN  NaN  155.0   50.0  44.00\n",
      "12  NaN  NaN  NaN  160.0   58.0  28.45\n",
      "13  NaN  NaN  NaN  162.0   59.0  41.00\n",
      "14  NaN  NaN  NaN  167.0   62.0  55.00\n",
      "15  NaN  NaN  NaN  174.0   70.0  47.00\n",
      "16  NaN  NaN  NaN  193.0   90.0  28.45\n",
      "17  NaN  NaN  NaN  187.0   80.0  27.00\n",
      "18  NaN  NaN  NaN  183.0   88.0  28.00\n",
      "19  NaN  NaN  NaN  159.0   40.0  29.00\n",
      "20  NaN  NaN  NaN  164.0   66.0  32.00\n",
      "21  NaN  NaN  NaN  166.0   56.0  42.00\n"
     ]
    }
   ],
   "source": [
    "# şimdi bu dataları birleştireceğiz\n",
    "s=pd.concat([sonuc,sonuc2])#böyle olunca alt alta ekleme yapıyor axis=1 verip yan yana yapıcaz\n",
    "print(s)"
   ]
  },
  {
   "cell_type": "code",
   "execution_count": 17,
   "metadata": {},
   "outputs": [
    {
     "name": "stdout",
     "output_type": "stream",
     "text": [
      "     fr   tr   us    boy   kilo    yas\n",
      "0   0.0  1.0  0.0  130.0   30.0  10.00\n",
      "1   0.0  1.0  0.0  125.0   36.0  11.00\n",
      "2   0.0  1.0  0.0  135.0   34.0  10.00\n",
      "3   0.0  1.0  0.0  133.0   30.0   9.00\n",
      "4   0.0  1.0  0.0  129.0   38.0  12.00\n",
      "5   0.0  1.0  0.0  180.0   90.0  30.00\n",
      "6   0.0  1.0  0.0  190.0   80.0  25.00\n",
      "7   0.0  1.0  0.0  175.0   90.0  35.00\n",
      "8   0.0  1.0  0.0  177.0   60.0  22.00\n",
      "9   0.0  0.0  1.0  185.0  105.0  33.00\n",
      "10  0.0  0.0  1.0  165.0   55.0  27.00\n",
      "11  0.0  0.0  1.0  155.0   50.0  44.00\n",
      "12  0.0  0.0  1.0  160.0   58.0  28.45\n",
      "13  0.0  0.0  1.0  162.0   59.0  41.00\n",
      "14  0.0  0.0  1.0  167.0   62.0  55.00\n",
      "15  1.0  0.0  0.0  174.0   70.0  47.00\n",
      "16  1.0  0.0  0.0  193.0   90.0  28.45\n",
      "17  1.0  0.0  0.0  187.0   80.0  27.00\n",
      "18  1.0  0.0  0.0  183.0   88.0  28.00\n",
      "19  1.0  0.0  0.0  159.0   40.0  29.00\n",
      "20  1.0  0.0  0.0  164.0   66.0  32.00\n",
      "21  1.0  0.0  0.0  166.0   56.0  42.00\n"
     ]
    }
   ],
   "source": [
    "s=pd.concat([sonuc,sonuc2],axis=1)\n",
    "print(s)"
   ]
  },
  {
   "cell_type": "code",
   "execution_count": 18,
   "metadata": {},
   "outputs": [
    {
     "name": "stdout",
     "output_type": "stream",
     "text": [
      "     fr   tr   us    boy   kilo    yas cinsiyet\n",
      "0   0.0  1.0  0.0  130.0   30.0  10.00        e\n",
      "1   0.0  1.0  0.0  125.0   36.0  11.00        e\n",
      "2   0.0  1.0  0.0  135.0   34.0  10.00        k\n",
      "3   0.0  1.0  0.0  133.0   30.0   9.00        k\n",
      "4   0.0  1.0  0.0  129.0   38.0  12.00        e\n",
      "5   0.0  1.0  0.0  180.0   90.0  30.00        e\n",
      "6   0.0  1.0  0.0  190.0   80.0  25.00        e\n",
      "7   0.0  1.0  0.0  175.0   90.0  35.00        e\n",
      "8   0.0  1.0  0.0  177.0   60.0  22.00        k\n",
      "9   0.0  0.0  1.0  185.0  105.0  33.00        e\n",
      "10  0.0  0.0  1.0  165.0   55.0  27.00        k\n",
      "11  0.0  0.0  1.0  155.0   50.0  44.00        k\n",
      "12  0.0  0.0  1.0  160.0   58.0  28.45        k\n",
      "13  0.0  0.0  1.0  162.0   59.0  41.00        k\n",
      "14  0.0  0.0  1.0  167.0   62.0  55.00        k\n",
      "15  1.0  0.0  0.0  174.0   70.0  47.00        e\n",
      "16  1.0  0.0  0.0  193.0   90.0  28.45        e\n",
      "17  1.0  0.0  0.0  187.0   80.0  27.00        e\n",
      "18  1.0  0.0  0.0  183.0   88.0  28.00        e\n",
      "19  1.0  0.0  0.0  159.0   40.0  29.00        k\n",
      "20  1.0  0.0  0.0  164.0   66.0  32.00        k\n",
      "21  1.0  0.0  0.0  166.0   56.0  42.00        k\n"
     ]
    }
   ],
   "source": [
    "s2=pd.concat([s,sonuc3],axis=1)\n",
    "print(s2)"
   ]
  },
  {
   "cell_type": "markdown",
   "metadata": {},
   "source": [
    "## Veri Bölme"
   ]
  },
  {
   "cell_type": "code",
   "execution_count": 19,
   "metadata": {},
   "outputs": [],
   "source": [
    "# x bağımsız y bağımlı değişken olarak ilerleyeceğiz\n",
    "from sklearn.model_selection import train_test_split"
   ]
  },
  {
   "cell_type": "code",
   "execution_count": 20,
   "metadata": {},
   "outputs": [],
   "source": [
    "x_train,x_test,y_train,y_test=train_test_split(s,sonuc3,test_size=0.33,random_state=0)"
   ]
  },
  {
   "cell_type": "markdown",
   "metadata": {},
   "source": [
    "Python'daki scikit-learn kütüphanesinde bulunan train_test_split fonksiyonunu kullanarak verilerinizi eğitim ve test setlerine bölmek için kullanılır. Şu şekilde detaylandırabiliriz:\n",
    "\n",
    "* s: Bu, özellik verilerinizdir ve muhtemelen bir DataFrame veya dizi benzeri bir nesnedir. Makine öğrenimi modeliniz için girdi özelliklerini içerir.\n",
    "\n",
    "* sonuc3: Bu, tahmin etmeye çalıştığınız hedef verilerinizdir. Bu, muhtemelen tek bir sütun veya her satırdaki karşılık gelen hedef değerlerini içeren bir dizi olabilir.\n",
    "\n",
    "* test_size=0.33: Bu parametre, test bölümünde kullanılacak veri yüzdesini belirtir. Bu durumda, 0.33 olarak ayarlanmıştır, bu da verinin %33'ünün test için, geri kalan %67'sinin ise eğitim için kullanılacağı anlamına gelir.\n",
    "\n",
    "* random_state=0: Bu parametre, rasgele sayı üreteci için bir tohum (seed) değerini ayarlamak için kullanılır. Belirli bir rasgele tohumu ayarlamak, her seferinde bu kodu çalıştırdığınızda aynı bölünmeyi elde etmenizi sağlar, bu da sonuçlarınızın tekrarlanabilir olmasını sağlar. Bu durumda tohum değeri 0 olarak ayarlanmıştır.\n",
    "\n",
    "train_test_split fonksiyonu dört set veri döndürür:\n",
    "\n",
    "* x_train: Bu, eğitim setinizdir ve özellik verilerinizin bir alt kümesini içerir (s). Karşılık gelen hedef değerleri y_train içinde bulunur.\n",
    "\n",
    "* x_test: Bu, test setinizdir ve özellik verilerinizin farklı bir alt kümesini içerir (s). Karşılık gelen hedef değerleri y_test içinde bulunur.\n",
    "\n",
    "* y_train: Bu, eğitim setinizin hedef değerleridir. Bu, x_train içindeki eğitim özellik setinin karşılık gelen hedef değerlerini içerir.\n",
    "\n",
    "* y_test: Bu, test setinizin hedef değerleridir. Bu, x_test içindeki test özellik setinin karşılık gelen hedef değerlerini içerir."
   ]
  },
  {
   "cell_type": "code",
   "execution_count": 21,
   "metadata": {},
   "outputs": [
    {
     "name": "stdout",
     "output_type": "stream",
     "text": [
      "x_train :       fr   tr   us    boy   kilo    yas\n",
      "8   0.0  1.0  0.0  177.0   60.0  22.00\n",
      "6   0.0  1.0  0.0  190.0   80.0  25.00\n",
      "16  1.0  0.0  0.0  193.0   90.0  28.45\n",
      "4   0.0  1.0  0.0  129.0   38.0  12.00\n",
      "2   0.0  1.0  0.0  135.0   34.0  10.00\n",
      "5   0.0  1.0  0.0  180.0   90.0  30.00\n",
      "17  1.0  0.0  0.0  187.0   80.0  27.00\n",
      "9   0.0  0.0  1.0  185.0  105.0  33.00\n",
      "7   0.0  1.0  0.0  175.0   90.0  35.00\n",
      "18  1.0  0.0  0.0  183.0   88.0  28.00\n",
      "3   0.0  1.0  0.0  133.0   30.0   9.00\n",
      "0   0.0  1.0  0.0  130.0   30.0  10.00\n",
      "15  1.0  0.0  0.0  174.0   70.0  47.00\n",
      "12  0.0  0.0  1.0  160.0   58.0  28.45\n",
      "x_test :       fr   tr   us    boy  kilo   yas\n",
      "20  1.0  0.0  0.0  164.0  66.0  32.0\n",
      "10  0.0  0.0  1.0  165.0  55.0  27.0\n",
      "14  0.0  0.0  1.0  167.0  62.0  55.0\n",
      "13  0.0  0.0  1.0  162.0  59.0  41.0\n",
      "1   0.0  1.0  0.0  125.0  36.0  11.0\n",
      "21  1.0  0.0  0.0  166.0  56.0  42.0\n",
      "11  0.0  0.0  1.0  155.0  50.0  44.0\n",
      "19  1.0  0.0  0.0  159.0  40.0  29.0\n",
      "y_train :     cinsiyet\n",
      "8         k\n",
      "6         e\n",
      "16        e\n",
      "4         e\n",
      "2         k\n",
      "5         e\n",
      "17        e\n",
      "9         e\n",
      "7         e\n",
      "18        e\n",
      "3         k\n",
      "0         e\n",
      "15        e\n",
      "12        k\n",
      "y_test :     cinsiyet\n",
      "20        k\n",
      "10        k\n",
      "14        k\n",
      "13        k\n",
      "1         e\n",
      "21        k\n",
      "11        k\n",
      "19        k\n"
     ]
    }
   ],
   "source": [
    "print('x_train : ',x_train)\n",
    "print('x_test : ',x_test)\n",
    "print('y_train : ',y_train)\n",
    "print('y_test : ',y_test)"
   ]
  },
  {
   "cell_type": "markdown",
   "metadata": {},
   "source": [
    "## Öznitelik Ölçekleme"
   ]
  },
  {
   "cell_type": "code",
   "execution_count": 23,
   "metadata": {},
   "outputs": [],
   "source": [
    "from sklearn.preprocessing import StandardScaler\n",
    "sc=StandardScaler # objemi oluşturdum"
   ]
  },
  {
   "cell_type": "code",
   "execution_count": 24,
   "metadata": {},
   "outputs": [
    {
     "ename": "TypeError",
     "evalue": "TransformerMixin.fit_transform() missing 1 required positional argument: 'X'",
     "output_type": "error",
     "traceback": [
      "\u001b[0;31m---------------------------------------------------------------------------\u001b[0m",
      "\u001b[0;31mTypeError\u001b[0m                                 Traceback (most recent call last)",
      "Cell \u001b[0;32mIn[24], line 2\u001b[0m\n\u001b[1;32m      1\u001b[0m \u001b[38;5;66;03m# şimdi dönüştürmek istediğim sayısal değerleri alacağım\u001b[39;00m\n\u001b[0;32m----> 2\u001b[0m X_train\u001b[38;5;241m=\u001b[39m\u001b[43msc\u001b[49m\u001b[38;5;241;43m.\u001b[39;49m\u001b[43mfit_transform\u001b[49m\u001b[43m(\u001b[49m\u001b[43mx_train\u001b[49m\u001b[43m)\u001b[49m\n\u001b[1;32m      3\u001b[0m X_test\u001b[38;5;241m=\u001b[39msc\u001b[38;5;241m.\u001b[39mfit_transform(x_test)\n",
      "\u001b[0;31mTypeError\u001b[0m: TransformerMixin.fit_transform() missing 1 required positional argument: 'X'"
     ]
    }
   ],
   "source": [
    "# şimdi dönüştürmek istediğim sayısal değerleri alacağım\n",
    "X_train=sc.fit_transform(x_train)\n",
    "X_test=sc.fit_transform(x_test)"
   ]
  },
  {
   "cell_type": "code",
   "execution_count": null,
   "metadata": {},
   "outputs": [],
   "source": []
  }
 ],
 "metadata": {
  "kernelspec": {
   "display_name": "Python 3",
   "language": "python",
   "name": "python3"
  },
  "language_info": {
   "codemirror_mode": {
    "name": "ipython",
    "version": 3
   },
   "file_extension": ".py",
   "mimetype": "text/x-python",
   "name": "python",
   "nbconvert_exporter": "python",
   "pygments_lexer": "ipython3",
   "version": "3.10.12"
  }
 },
 "nbformat": 4,
 "nbformat_minor": 2
}
