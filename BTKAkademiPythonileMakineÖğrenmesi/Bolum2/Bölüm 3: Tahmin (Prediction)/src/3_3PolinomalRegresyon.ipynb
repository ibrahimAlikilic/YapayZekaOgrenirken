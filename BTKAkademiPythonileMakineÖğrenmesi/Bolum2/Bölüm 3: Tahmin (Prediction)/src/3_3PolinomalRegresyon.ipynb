{
 "cells": [
  {
   "cell_type": "code",
   "execution_count": 1,
   "metadata": {},
   "outputs": [],
   "source": [
    "import pandas as pd\n",
    "import matplotlib.pyplot as plt\n",
    "import seaborn as sns\n",
    "import os\n",
    "\n",
    "def Kayit(variables):\n",
    "    # \"output\" klasörünün yolu\n",
    "    output_dir = 'output/3_3PolinomalRegresyon'\n",
    "    \n",
    "    # Klasör yoksa oluştur\n",
    "    if not os.path.exists(output_dir):\n",
    "        os.makedirs(output_dir)\n",
    "    \n",
    "    # Her bir değişkeni görselleştirip kaydetme işlemi\n",
    "    for var_name, var_data in variables.items():\n",
    "        # Değişkeni DataFrame'e dönüştürme (eğer değilse)\n",
    "        if not isinstance(var_data, pd.DataFrame):\n",
    "            var_data = pd.DataFrame(var_data)\n",
    "    \n",
    "        # DataFrame'i bir ısı haritası olarak görselleştirme\n",
    "        plt.figure(figsize=(5, len(var_data) // 2))\n",
    "        sns.heatmap(var_data, annot=True, cmap=\"coolwarm\", cbar=False, annot_kws={\"size\": 10}, fmt=\"g\") # bilimsel kaydetmeyi engelliyor\n",
    "    \n",
    "        # Görseli \"output\" klasörüne değişken adıyla bir dosyaya kaydetme\n",
    "        file_path = os.path.join(output_dir, f'{var_name}.png')\n",
    "        plt.savefig(file_path, bbox_inches='tight')\n",
    "        plt.close() \n",
    "    \n",
    "    print(\"Tüm değişkenler görselleştirilip dosyalara kaydedildi.\")\n"
   ]
  },
  {
   "cell_type": "markdown",
   "metadata": {},
   "source": [
    "maaslar.csv dosyasını açtık exel özelliğinden faydalanarak tablo halinde inceledik ( istesem matplotlib.pyplot ile de görebilirdim ama eğitimde exel üzerinden gördüğünden ve ben de nasıl yapıldığını tecrübe etmek amacıyla o şekilde inceledim) ve parabolik olduğu kanısına vardık.\n",
    "* Eğitim seviyesi ve maaş sütunlarını kullanacağız"
   ]
  },
  {
   "cell_type": "code",
   "execution_count": 2,
   "metadata": {},
   "outputs": [
    {
     "name": "stdout",
     "output_type": "stream",
     "text": [
      "              unvan  Egitim Seviyesi   maas\n",
      "0             Cayci                1   2250\n",
      "1          Sekreter                2   2500\n",
      "2  Uzman Yardimcisi                3   3000\n",
      "3             Uzman                4   4000\n",
      "4  Proje Yoneticisi                5   5500\n",
      "5               Sef                6   7500\n",
      "6             Mudur                7  10000\n",
      "7          Direktor                8  15000\n",
      "8           C-level                9  25000\n",
      "9               CEO               10  50000\n"
     ]
    }
   ],
   "source": [
    "import numpy as np\n",
    "import matplotlib.pyplot as plt\n",
    "import pandas as pd\n",
    "# veri çekme\n",
    "veriler=pd.read_csv('input/maaslar.csv')\n",
    "print(veriler)"
   ]
  },
  {
   "cell_type": "code",
   "execution_count": 3,
   "metadata": {},
   "outputs": [
    {
     "name": "stdout",
     "output_type": "stream",
     "text": [
      "Tüm değişkenler görselleştirilip dosyalara kaydedildi.\n"
     ]
    }
   ],
   "source": [
    "# ilk başta veri kümesinin tamamını eğitim kümesi olarak kullanmaya karar verildi.\n",
    "x=veriler.iloc[:,1:2] # eğitim seviyesi = x\n",
    "y=veriler.iloc[:,2:] # maasşar = y  olarak bölüyorum\n",
    "# kayit\n",
    "variables = {\n",
    "    \"x(EgitimSeviyesi)\": x,\n",
    "    \"y(Maas)\": y,\n",
    "}\n",
    "Kayit(variables)"
   ]
  },
  {
   "cell_type": "code",
   "execution_count": null,
   "metadata": {},
   "outputs": [],
   "source": []
  }
 ],
 "metadata": {
  "kernelspec": {
   "display_name": "Python 3",
   "language": "python",
   "name": "python3"
  },
  "language_info": {
   "codemirror_mode": {
    "name": "ipython",
    "version": 3
   },
   "file_extension": ".py",
   "mimetype": "text/x-python",
   "name": "python",
   "nbconvert_exporter": "python",
   "pygments_lexer": "ipython3",
   "version": "3.10.12"
  }
 },
 "nbformat": 4,
 "nbformat_minor": 2
}
