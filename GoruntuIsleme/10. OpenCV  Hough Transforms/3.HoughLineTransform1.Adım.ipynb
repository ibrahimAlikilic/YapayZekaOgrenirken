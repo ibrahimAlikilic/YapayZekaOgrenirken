{
 "cells": [
  {
   "cell_type": "markdown",
   "metadata": {},
   "source": [
    "# şeritleri işleyip tek bir çizgi haline getireceğiz"
   ]
  },
  {
   "cell_type": "code",
   "execution_count": 1,
   "metadata": {},
   "outputs": [],
   "source": [
    "import cv2\n",
    "import numpy as np"
   ]
  },
  {
   "cell_type": "code",
   "execution_count": 2,
   "metadata": {},
   "outputs": [],
   "source": [
    "img=cv2.imread(\"3.1 h_line.png.png\")\n",
    "gray=cv2.cvtColor(img,cv2.COLOR_BGR2GRAY)"
   ]
  },
  {
   "cell_type": "code",
   "execution_count": 3,
   "metadata": {},
   "outputs": [],
   "source": [
    "# Canny() fonkisyonuyla köşeleri bulacağuz\n",
    "edges=cv2.Canny(gray,75,150) # resim , min değer , max değer"
   ]
  },
  {
   "cell_type": "code",
   "execution_count": 4,
   "metadata": {},
   "outputs": [],
   "source": [
    "cv2.imshow(\"img\",img)\n",
    "cv2.imshow(\"gray\",gray)\n",
    "cv2.imshow(\"edges\",edges)\n",
    "cv2.waitKey(0)\n",
    "cv2.destroyAllWindows()"
   ]
  },
  {
   "cell_type": "code",
   "execution_count": 5,
   "metadata": {},
   "outputs": [
    {
     "name": "stdout",
     "output_type": "stream",
     "text": [
      "[[[ 46  57 119  57]]\n",
      "\n",
      " [[162  62 234  62]]\n",
      "\n",
      " [[441 325 608 325]]\n",
      "\n",
      " [[442 320 603 320]]\n",
      "\n",
      " [[259 325 259 199]]\n",
      "\n",
      " [[264 320 264 195]]\n",
      "\n",
      " [[404 122 404  63]]\n",
      "\n",
      " [[409 216 409 150]]\n",
      "\n",
      " [[523 217 607 217]]\n",
      "\n",
      " [[522 222 602 222]]\n",
      "\n",
      " [[ 50 193  89 193]]\n",
      "\n",
      " [[ 45 198  90 198]]\n",
      "\n",
      " [[603 319 603 223]]\n",
      "\n",
      " [[608 324 608 218]]\n",
      "\n",
      " [[265 321 349 321]]\n",
      "\n",
      " [[260 326 350 326]]\n",
      "\n",
      " [[380  57 408  57]]\n",
      "\n",
      " [[321  57 369  57]]\n",
      "\n",
      " [[ 49 192  49 157]]\n",
      "\n",
      " [[ 44 197  44 158]]\n",
      "\n",
      " [[320  62 403  62]]\n",
      "\n",
      " [[199 198 250 198]]\n",
      "\n",
      " [[200 193 238 193]]\n",
      "\n",
      " [[177  57 205  57]]\n",
      "\n",
      " [[404 215 404 159]]\n",
      "\n",
      " [[ 77  62 105  62]]]\n"
     ]
    }
   ],
   "source": [
    "# line leri tespit edeceğiz\n",
    "# cv2.HoughLines() fonkisyonu çok fazla cpu kullandığından aşşağıdakini kullanıyoruz\n",
    "lines=cv2.HoughLinesP(edges,1,np.pi/180,50) #resim , ro , teta değerleri , threshold değerleri\n",
    "print(lines)"
   ]
  },
  {
   "cell_type": "markdown",
   "metadata": {},
   "source": [
    "# HoughLines (dst, satırlar, 1, CV_PI/180, 150, 0, 0); // gerçek algılamayı çalıştırır\n",
    "dst : Kenar dedektörünün çıkışı. Gri tonlamalı bir görüntü olmalıdır (aslında ikili bir görüntü olmasına rağmen)<br>\n",
    "çizgiler : Parametreleri saklayacak bir vektör( r , θ )tespit edilen hatlardan<br>\n",
    "rho : Parametrenin çözünürlüğüRpiksel cinsinden. 1 piksel kullanıyoruz .<br>\n",
    "teta : Parametrenin çözünürlüğüθradyan cinsinden. 1 derece kullanıyoruz (CV_PI/180)<br>\n",
    "eşik : Bir çizgiyi \"*algılamak*\" için minimum kesişme sayısı<br>\n",
    "srn ve stn : Varsayılan parametreler sıfırdır. Daha fazla bilgi için OpenCV referansını kontrol edin.<br><br><br>"
   ]
  },
  {
   "cell_type": "markdown",
   "metadata": {},
   "source": [
    "A. Standart Hough Dönüşümü\n",
    "\n",
    "Bu, hemen hemen önceki bölümde anlattıklarımızdan oluşuyor. Sonuç olarak size çiftlerden oluşan bir vektör verir( θ ,Rθ)\n",
    "OpenCV'de HoughLines() fonksiyonu ile uygulanır.\n",
    "B. Olasılıksal Hough Hattı Dönüşümü\n",
    "\n",
    "Hough Line Dönüşümünün daha verimli bir uygulaması. Tespit edilen hatların uç noktalarını çıktı olarak verir.(X0,sen0,X1,sen1)\n",
    "OpenCV'de HoughLinesP() fonksiyonu ile uygulanır.\n",
    "\n",
    "link : https://docs.opencv.org/3.4/d9/db0/tutorial_hough_lines.html"
   ]
  },
  {
   "cell_type": "code",
   "execution_count": 6,
   "metadata": {},
   "outputs": [],
   "source": [
    "# line lerin bulunduğu konumları birleştirip çizgi oluşturmak için for döngüsü kullanacağız\n",
    "for line in lines:\n",
    "    x1,y1,x2,y2=line[0]\n",
    "    # şimdi çizeceğiz\n",
    "    cv2.line(img,(x1,y1),(x2,y2),(0,255,0),2)\n",
    "            #resim,başlangıç değerleri , bitiş değerleri, renk,kalınlık"
   ]
  },
  {
   "cell_type": "code",
   "execution_count": 7,
   "metadata": {},
   "outputs": [],
   "source": [
    "cv2.imshow(\"img\",img)\n",
    "cv2.imshow(\"gray\",gray)\n",
    "cv2.imshow(\"edges\",edges)\n",
    "cv2.waitKey(0)\n",
    "cv2.destroyAllWindows()"
   ]
  },
  {
   "cell_type": "code",
   "execution_count": 8,
   "metadata": {},
   "outputs": [],
   "source": [
    "# çizgi boşluklarını doldurmak\n",
    "lines=cv2.HoughLinesP(edges,1,np.pi/180,50,maxLineGap=180) # son parametre en fazla çizgi boşluğunu veriyoruz o mesafeye kadar olan boşlukları dolduruyor"
   ]
  },
  {
   "cell_type": "code",
   "execution_count": 9,
   "metadata": {},
   "outputs": [],
   "source": [
    "for line in lines:\n",
    "    x1,y1,x2,y2=line[0]\n",
    "    # şimdi çizeceğiz\n",
    "    cv2.line(img,(x1,y1),(x2,y2),(0,255,0),2)\n",
    "cv2.imshow(\"img\",img)\n",
    "cv2.imshow(\"gray\",gray)\n",
    "cv2.imshow(\"edges\",edges)\n",
    "cv2.waitKey(0)\n",
    "cv2.destroyAllWindows()"
   ]
  },
  {
   "cell_type": "code",
   "execution_count": null,
   "metadata": {},
   "outputs": [],
   "source": []
  }
 ],
 "metadata": {
  "kernelspec": {
   "display_name": "Python 3",
   "language": "python",
   "name": "python3"
  },
  "language_info": {
   "codemirror_mode": {
    "name": "ipython",
    "version": 3
   },
   "file_extension": ".py",
   "mimetype": "text/x-python",
   "name": "python",
   "nbconvert_exporter": "python",
   "pygments_lexer": "ipython3",
   "version": "3.11.4"
  },
  "orig_nbformat": 4
 },
 "nbformat": 4,
 "nbformat_minor": 2
}
