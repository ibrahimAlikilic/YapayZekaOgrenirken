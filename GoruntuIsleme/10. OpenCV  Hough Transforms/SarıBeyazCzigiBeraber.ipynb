{
 "cells": [
  {
   "cell_type": "code",
   "execution_count": 1,
   "metadata": {},
   "outputs": [],
   "source": [
    "import cv2\n",
    "import numpy as np\n",
    "# şimdi sisteme bunların çizgi olduğunu söyleyeceğiz\n",
    "vid=cv2.VideoCapture(\"4.2 line.mp4.mp4\")# 0 deyince kamera eçıyor lines bulamadığından hata veriyor !\n",
    "while True:\n",
    "    ret,frame=vid.read()\n",
    "    frame=cv2.resize(frame,(640,480)) # çok büyüktü küçülttük\n",
    "    # amaç sarı çizgileri ayırmak olduğundan hsv ye çevirip sarıyı ayıracağız\n",
    "    hsv=cv2.cvtColor(frame,cv2.COLOR_BGR2HSV)\n",
    "    # lower ve upper sarıları belirleyeceğim\n",
    "    lower_yellow=np.array([18,94,140],np.uint8) # RENK KODUNU BULMAK İÇİN HSV RANGE CODE YELLOW diye google arat\n",
    "    upper_yellow=np.array([48,255,255],np.uint8)\n",
    "    \n",
    "    mask=cv2.inRange(hsv,lower_yellow,upper_yellow)\n",
    "    edges=cv2.Canny(mask,75,255)\n",
    "    \n",
    "    lines=cv2.HoughLinesP(edges,1,np.pi/180,50,maxLineGap=50)\n",
    "    for line in lines:\n",
    "        x1,y1,x2,y2=line[0]\n",
    "        cv2.line(frame,(x1,y1),(x2,y2),(0,255,0),5)\n",
    "    \n",
    "    sensitivity = 15\n",
    "    lower_white = np.array([0,0,255-sensitivity])\n",
    "    upper_white = np.array([255,sensitivity,255])\n",
    "    mask_white=cv2.inRange(hsv,lower_white,upper_white)\n",
    "    edges_white=cv2.Canny(mask_white,75,255)\n",
    "    lines_white=cv2.HoughLinesP(edges_white,1,np.pi/180,50,maxLineGap=200)\n",
    "    for line in lines_white:\n",
    "        x1,y1,x2,y2=line[0]\n",
    "        cv2.line(frame,(x1,y1),(x2,y2),(0,255,0),5)\n",
    "    \n",
    "    cv2.imshow(\"frame with line\",frame)\n",
    "    \n",
    "    if cv2.waitKey(20)&0xFF==ord(\"q\"):\n",
    "        break\n",
    "vid.release()\n",
    "cv2.destroyAllWindows()"
   ]
  },
  {
   "cell_type": "code",
   "execution_count": null,
   "metadata": {},
   "outputs": [],
   "source": []
  }
 ],
 "metadata": {
  "kernelspec": {
   "display_name": "Python 3",
   "language": "python",
   "name": "python3"
  },
  "language_info": {
   "codemirror_mode": {
    "name": "ipython",
    "version": 3
   },
   "file_extension": ".py",
   "mimetype": "text/x-python",
   "name": "python",
   "nbconvert_exporter": "python",
   "pygments_lexer": "ipython3",
   "version": "3.11.4"
  },
  "orig_nbformat": 4
 },
 "nbformat": 4,
 "nbformat_minor": 2
}
