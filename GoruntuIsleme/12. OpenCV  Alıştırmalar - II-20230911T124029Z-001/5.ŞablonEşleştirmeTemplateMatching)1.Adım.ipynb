{
 "cells": [
  {
   "cell_type": "code",
   "execution_count": 2,
   "metadata": {},
   "outputs": [],
   "source": [
    "import cv2\n",
    "import numpy as np"
   ]
  },
  {
   "cell_type": "code",
   "execution_count": 10,
   "metadata": {},
   "outputs": [],
   "source": [
    "img=cv2.imread(\"5.1 starwars.jpg.jpg\")\n",
    "template=cv2.imread(\"5.2 starwars2.jpg.jpg\")\n",
    "gray_img=cv2.cvtColor(img,cv2.COLOR_BGR2GRAY)\n",
    "gray_template=cv2.cvtColor(template,cv2.COLOR_BGR2GRAY)\n",
    "w,h=gray_template.shape[::-1] # gene tersten aldık gi genişlik ve yükseklik olarak versin"
   ]
  },
  {
   "cell_type": "code",
   "execution_count": 11,
   "metadata": {},
   "outputs": [
    {
     "name": "stdout",
     "output_type": "stream",
     "text": [
      "[[-0.09244663 -0.09288252 -0.09429569 ... -0.2877036  -0.30991665\n",
      "  -0.32648388]\n",
      " [-0.09276844 -0.09264997 -0.09369378 ... -0.2865452  -0.30864897\n",
      "  -0.32484537]\n",
      " [-0.09395709 -0.09379197 -0.09480445 ... -0.28484547 -0.306553\n",
      "  -0.32221758]\n",
      " ...\n",
      " [-0.13647152 -0.13355614 -0.13326117 ... -0.00857257  0.02406084\n",
      "   0.04867408]\n",
      " [-0.13445449 -0.13358934 -0.13185965 ... -0.00559195  0.02631037\n",
      "   0.05013119]\n",
      " [-0.12915537 -0.12764569 -0.12450413 ... -0.00255351  0.02865507\n",
      "   0.05127228]]\n"
     ]
    }
   ],
   "source": [
    "# resim üzerinde uygun yere eşleştirecek olan fonksiyonu kullanacağım\n",
    "# sonucu da result içinde saklayacağım\n",
    "result=cv2.matchTemplate(gray_template,gray_img,cv2.TM_CCOEFF_NORMED)\n",
    "                        # şablonu yerleştireceğim resim , şablon , ve en son da grileşmede kullandığımız sabit aşşağıdaki link de daha net anlaşılıyor \n",
    "print(result)\n",
    "cv2.imshow(\"result\",result)\n",
    "cv2.waitKey(0)\n",
    "cv2.destroyAllWindows()"
   ]
  },
  {
   "cell_type": "markdown",
   "metadata": {},
   "source": [
    "syf linki : https://docs.opencv.org/4.x/d4/dc6/tutorial_py_template_matching.html <br>\n",
    "Teori<br>\n",
    "Şablon Eşleştirme, şablon görselinin konumunu daha büyük bir görselde aramak ve bulmak için kullanılan bir yöntemdir. OpenCV bu amaç için cv.matchTemplate() fonksiyonuyla birlikte gelir . Basitçe şablon görüntüsünü giriş görüntüsünün üzerine kaydırır (2B evrişimde olduğu gibi) ve şablon görüntüsünün altındaki giriş görüntüsünün şablonunu ve yamasını karşılaştırır. OpenCV'de çeşitli karşılaştırma yöntemleri uygulanmaktadır. (Daha fazla ayrıntı için dokümanları kontrol edebilirsiniz). Her pikselin o pikselin komşuluğunun şablonla ne kadar eşleştiğini belirten gri tonlamalı bir görüntü döndürür.<br>\n",
    "\n",
    "Giriş görüntüsü (GxY) boyutunda ve şablon görüntüsü (GxY) boyutundaysa, çıktı görüntüsü (G-g+1, Y-y+1) boyutunda olacaktır. Sonucu aldıktan sonra maksimum/minimum değerin nerede olduğunu bulmak için cv.minMaxLoc() fonksiyonunu kullanabilirsiniz . Bunu dikdörtgenin sol üst köşesi olarak alın ve (w,h)'yi dikdörtgenin genişliği ve yüksekliği olarak alın. Bu dikdörtgen sizin şablon bölgenizdir.>"
   ]
  },
  {
   "cell_type": "code",
   "execution_count": 12,
   "metadata": {},
   "outputs": [
    {
     "name": "stdout",
     "output_type": "stream",
     "text": [
      "(array([52, 53, 53, 53, 54], dtype=int64), array([282, 281, 282, 283, 282], dtype=int64))\n",
      "(282, 52)\n",
      "(281, 53)\n",
      "(282, 53)\n",
      "(283, 53)\n",
      "(282, 54)\n"
     ]
    }
   ],
   "source": [
    "# şimdi bu result değerleri bana yaklaşık olarak uyuşan yerleri verecek 1 doğru demek olduğu için tahmini olarak 0.9 den büyükleri alalım dicez\n",
    "location=np.where(result>=0.9)\n",
    "print(location)\n",
    "for point in zip(*location[::-1]): # -1 yazmayınca genişlik ve yükseklik sıralamasıyla verir -1 olunca yükseklik genişlik olarak veriyor daha kullanışlı oluyormuş\n",
    "    print(point) # zip ile kordinatları almış olduk"
   ]
  },
  {
   "cell_type": "code",
   "execution_count": 13,
   "metadata": {},
   "outputs": [],
   "source": [
    "for point in zip(*location[::-1]): # -1 yazmayınca genişlik ve yükseklik sıralamasıyla verir -1 olunca yükseklik genişlik olarak veriyor daha kullanışlı oluyormuş\n",
    "    cv2.rectangle(img,point,(point[0]+w,point[1]+h),(0,255,0,3)) #aslında birden çok dikdörtgen çiziyor ama koordinatlar çok yakın olduğundan 1 tane gibi duruyor\n",
    "cv2.imshow(\"img\",img)\n",
    "cv2.waitKey(0)\n",
    "cv2.destroyAllWindows()"
   ]
  },
  {
   "cell_type": "code",
   "execution_count": null,
   "metadata": {},
   "outputs": [],
   "source": []
  }
 ],
 "metadata": {
  "kernelspec": {
   "display_name": "Python 3",
   "language": "python",
   "name": "python3"
  },
  "language_info": {
   "codemirror_mode": {
    "name": "ipython",
    "version": 3
   },
   "file_extension": ".py",
   "mimetype": "text/x-python",
   "name": "python",
   "nbconvert_exporter": "python",
   "pygments_lexer": "ipython3",
   "version": "3.11.4"
  },
  "orig_nbformat": 4
 },
 "nbformat": 4,
 "nbformat_minor": 2
}
