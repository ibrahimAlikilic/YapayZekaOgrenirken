{
 "cells": [
  {
   "cell_type": "markdown",
   "metadata": {},
   "source": [
    "# Resim karşılaştırma\n",
    "iki resim birbirine eş mi bakacağız\n",
    "resimlerin arkalarında bulunan değerleri karşılaştıracağız"
   ]
  },
  {
   "cell_type": "code",
   "execution_count": 32,
   "metadata": {},
   "outputs": [],
   "source": [
    "import cv2\n",
    "import numpy as np"
   ]
  },
  {
   "cell_type": "code",
   "execution_count": 33,
   "metadata": {},
   "outputs": [],
   "source": [
    "# aderesi değişkende tutmak hoşuma gitti\n",
    "path =\"1.1 aircraft.jpg.jpg\"\n",
    "path2 =\"1.1 aircraft2.jpg\"\n",
    "img1=cv2.imread(path)\n",
    "img2=cv2.imread(path2)\n"
   ]
  },
  {
   "cell_type": "code",
   "execution_count": 34,
   "metadata": {},
   "outputs": [],
   "source": [
    "# boyutları farklı olursa direk farklı der bu yüzden boyutlarını karşılaştırabileceğimiz bir karar yapısı oluşturucaz\n",
    "def karsilastirma():\n",
    "    if img1.shape==img2.shape:\n",
    "        pass\n",
    "    else:\n",
    "        img1=cv2.resize(img1,(640,550))\n",
    "        img2=cv2.resize(img2,(640,550))\n",
    "        "
   ]
  },
  {
   "cell_type": "code",
   "execution_count": 35,
   "metadata": {},
   "outputs": [],
   "source": [
    "cv2.imshow(\"img1\",img1)\n",
    "cv2.imshow(\"img2\",img2)\n",
    "cv2.waitKey(0)\n",
    "cv2.destroyAllWindows()"
   ]
  },
  {
   "cell_type": "code",
   "execution_count": 36,
   "metadata": {},
   "outputs": [
    {
     "name": "stdout",
     "output_type": "stream",
     "text": [
      "farklı\n"
     ]
    }
   ],
   "source": [
    "# şimdi resimler arasındaki farkı arayacağız\n",
    "# önceden de kullanmış olduğumuz subtract fonksiyonunu kullanıcaz , bu fonksiyon aynı olan yerleri siyaha farklı olan yerleri beyaza boyar\n",
    "diff=cv2.subtract(img1,img2)\n",
    "# göz yanılması olmasın diye bgr değerlerini alıp 0 mı diye bakıcaz\n",
    "b,g,r=diff.shape\n",
    "# şimdi fonkisyonla içine girdiğim değerlerde kaç tane 0 olmadıpına bakıcaz\n",
    "if cv2.countNonZero(b)==0 and cv2.countNonZero(g)==0 and cv2.countNonZero(r)==0 :\n",
    "    print(\"resimler tamamen aynı\")\n",
    "else :\n",
    "    print(\"farklı\")\n",
    "img3=cv2.imread(\"4.2 starwars.jpg.jpg\")\n",
    "img3=cv2.resize(img3,(350,350))\n",
    "img1=cv2.resize(img1,(350,350))\n",
    "diff2=cv2.subtract(img1,img3)\n",
    "cv2.imshow(\"diff2\",diff2)\n",
    "cv2.waitKey(0)\n",
    "cv2.destroyAllWindows()"
   ]
  },
  {
   "cell_type": "code",
   "execution_count": null,
   "metadata": {},
   "outputs": [],
   "source": []
  }
 ],
 "metadata": {
  "kernelspec": {
   "display_name": "Python 3",
   "language": "python",
   "name": "python3"
  },
  "language_info": {
   "codemirror_mode": {
    "name": "ipython",
    "version": 3
   },
   "file_extension": ".py",
   "mimetype": "text/x-python",
   "name": "python",
   "nbconvert_exporter": "python",
   "pygments_lexer": "ipython3",
   "version": "3.11.4"
  },
  "orig_nbformat": 4
 },
 "nbformat": 4,
 "nbformat_minor": 2
}
