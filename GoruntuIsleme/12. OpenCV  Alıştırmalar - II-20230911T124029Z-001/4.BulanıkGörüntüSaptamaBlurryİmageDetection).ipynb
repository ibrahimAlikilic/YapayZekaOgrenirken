{
 "cells": [
  {
   "cell_type": "markdown",
   "metadata": {},
   "source": [
    "# Resim üzerinde bulur işlemi gerçekleşmiş mi bunu kontrol edeceğiz"
   ]
  },
  {
   "cell_type": "code",
   "execution_count": 9,
   "metadata": {},
   "outputs": [],
   "source": [
    "import cv2"
   ]
  },
  {
   "cell_type": "code",
   "execution_count": 10,
   "metadata": {},
   "outputs": [],
   "source": [
    "img=cv2.imread(\"4.2 starwars.jpg.jpg\")\n",
    "bullry_img=cv2.medianBlur(img,7)"
   ]
  },
  {
   "cell_type": "code",
   "execution_count": 11,
   "metadata": {},
   "outputs": [
    {
     "name": "stdout",
     "output_type": "stream",
     "text": [
      "blur 900.5680561195056\n",
      "normal 317.9994595426443\n"
     ]
    }
   ],
   "source": [
    "# fonksiyon ile anlayacağız\n",
    "laplacian_blur=cv2.Laplacian(bullry_img,cv2.CV_64F).var() \n",
    "laplacian_img=cv2.Laplacian(img,cv2.CV_64F).var() \n",
    "print(\"blur \"+str(laplacian_img))\n",
    "print(\"normal \"+str(laplacian_blur))"
   ]
  },
  {
   "cell_type": "code",
   "execution_count": 12,
   "metadata": {},
   "outputs": [
    {
     "name": "stdout",
     "output_type": "stream",
     "text": [
      "bulurlu\n"
     ]
    }
   ],
   "source": [
    "# şimdi karşılaştırma yapacağım bunu yaklaşık olarak bir değer tahmin ediyorum\n",
    "if laplacian_blur<500:\n",
    "    print(\"bulurlu\")\n",
    "cv2.imshow(\"img\",img)\n",
    "cv2.imshow(\"bullry_img\",bullry_img)\n",
    "cv2.waitKey(0)\n",
    "cv2.destroyAllWindows()"
   ]
  },
  {
   "cell_type": "markdown",
   "metadata": {},
   "source": [
    "# Laplace yönteminin varyansını kullanarak Bulanıklık Tespiti<br>\n",
    "Önceki blogumuzda scikit görsel kütüphanesini kullanarak düşük kontrastlı görsellerin nasıl tespit edileceğini tartışmıştık. Düşük kontrastlı görüntülere benzer şekilde, bulanık görüntüler de görevimiz için herhangi bir ek bilgi sağlamaz. Bu nedenle, bilgisayarla görme veya başka herhangi bir görev gibi herhangi bir görevi yapmadan önce bu bulanık görüntüleri atmak daha iyidir. Bulanıklık tespiti aktif bir araştırma konusudur ve sadece bulanıklığın tespiti için değil aynı zamanda görüntüdeki bulanıklığın giderilmesi için de çeşitli algoritmalar önerilmiştir. Bu blogda bulanıklığı tespit etmek için basit ama etkili bir yöntemi tartışacağız. Öyleyse başlayalım.<br>\n",
    "\n",
    "Hepimizin bildiği gibi bulanık görüntünün iyi tanımlanmış kenarları yoktur. Yani bu görüntünün Laplacian'ını hesaplarsanız her yerde aşağı yukarı aynı yanıtı alırsınız. Başka bir deyişle, bu Laplace görüntüsünün varyansı daha az olacaktır. Şimdi asıl soru ne kadar azın az olduğudur. Yani bir eşik seçersiniz ve eğer varyans bu eşikten küçükse görüntü bulanıklaşır, aksi halde olmaz.<br>\n",
    "\n",
    "Dolayısıyla bulanık bir görüntü için laplacianın varyansı keskin görüntüye göre daha az olacaktır. Bu yöntemin Laplace'ın varyansı olarak bilinmesinin nedeni budur.<br>\n",
    "\n",
    "Şimdi asıl önemli olan, bir görüntünün bulanık olup olmadığına karar verecek bir eşik belirlemektir. Aslında bu zor bir kısımdır ve bunların hepsi uygulamanıza bağlıdır. Bu nedenle farklı eşik değerleri denemeniz ve uygulamanız için en uygun olanı seçmeniz gerekebilir. Umarım bunu anlamışsındır. Şimdi bunu OpenCV-Python kullanarak nasıl uygulayacağımızı görelim.<br>\n",
    "\n",
    "Adımlar : <br>\n",
    "* Resmi yükle<br>\n",
    "* Bunu gri tonlamaya dönüştür<br>\n",
    "* Bu görüntünün laplacianını hesaplayın ve varyansını bulun<br>\n",
    "* Varyans < eşik ise bulanıktır, aksi takdirde bulanık değildir<br>"
   ]
  }
 ],
 "metadata": {
  "kernelspec": {
   "display_name": "Python 3",
   "language": "python",
   "name": "python3"
  },
  "language_info": {
   "codemirror_mode": {
    "name": "ipython",
    "version": 3
   },
   "file_extension": ".py",
   "mimetype": "text/x-python",
   "name": "python",
   "nbconvert_exporter": "python",
   "pygments_lexer": "ipython3",
   "version": "3.11.4"
  },
  "orig_nbformat": 4
 },
 "nbformat": 4,
 "nbformat_minor": 2
}
