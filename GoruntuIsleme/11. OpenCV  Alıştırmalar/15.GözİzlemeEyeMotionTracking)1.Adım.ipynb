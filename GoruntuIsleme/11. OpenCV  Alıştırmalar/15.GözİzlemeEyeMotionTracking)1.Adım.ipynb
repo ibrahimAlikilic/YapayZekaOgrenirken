{
 "cells": [
  {
   "cell_type": "markdown",
   "metadata": {},
   "source": [
    "1 : Göz için roi oluşturucaz<br>\n",
    "2 : Göz akı ve irisi atıcaz<br>\n",
    "3 : Göz bebeğine odaklanacağız"
   ]
  },
  {
   "cell_type": "code",
   "execution_count": 35,
   "metadata": {},
   "outputs": [],
   "source": [
    "import cv2"
   ]
  },
  {
   "cell_type": "code",
   "execution_count": 36,
   "metadata": {},
   "outputs": [],
   "source": [
    "vid=cv2.VideoCapture(\"15.1 eye_motion.mp4.mp4\")"
   ]
  },
  {
   "cell_type": "code",
   "execution_count": 37,
   "metadata": {},
   "outputs": [],
   "source": [
    "while True:\n",
    "    ret,frame=vid.read()\n",
    "    if ret is False:\n",
    "        break\n",
    "    roi=frame[80:210,230:450]\n",
    "    gray=cv2.cvtColor(roi,cv2.COLOR_BGR2GRAY)\n",
    "    _,threshold=cv2.threshold(gray,3,255,cv2.THRESH_BINARY_INV) # alt aralıpı düşürdükçe daha fazla thresh uyguluyor deneyerek bulduk\n",
    "    \n",
    "    contours,_=cv2.findContours(threshold,cv2.RETR_TREE,cv2.CHAIN_APPROX_SIMPLE)\n",
    "    # sorted fonksiyonunu kullanıcaz sıralamayı sağlar almış olduğumuz oontoursları sıralıcaz\n",
    "    contours=sorted(contours,key=lambda x:cv2.contourArea(x) , reverse=True) # normalde küçükten büyüğe göre sıralar ama biz dicez ki contours area ya göre sırala onun için başka değişkenler de giriyoruz , reverse=True normlade küçükten büyüğe sıralarken bu sayede büyükten küçüğe sıralatıyoruz\n",
    "    # en büyük alan göz bebeğim olacak şekilde ayarladığımızdan büyükten küçüğe sıralattık\n",
    "    \n",
    "    # şimdi en büyük contour area ya odaklanıp dikdörtgen çizdireceğiz\n",
    "    for cnt in contours:\n",
    "        # sıralattığımdan en büyüğe dikdörtgen çizip çıkıcam o yüzden break koydum\n",
    "        (x,y,w,h)=cv2.boundingRect(cnt) # dikdörtgenin sol üst ve sağ alt değerlerini bu kod ile çekiyorum\n",
    "        # sol üst x , sol üst y ,en=w , boy=h\n",
    "        cv2.rectangle(roi,(x,y),(x+w,y+h),(255,0,0),2)\n",
    "        # şimdi de hani taramalarda oluyor ya çizgiler + şeklinde onları çizelim\n",
    "        rows,cols,_=roi.shape\n",
    "        # aşşağıdaki koordinatlarda int değer istiyor o yüzden int ekledik\n",
    "        cv2.line(roi,(x+int(w/2),0),(x+int(w/2),rows),(0,255,0),1) # yukarıdan aşşağı\n",
    "        # yularıdan aşşağı olan çizgiyi ortasını belli ettik ve koordinatı girdik : x+(w/2) , 0 da en üstten demek\n",
    "        cv2.line(roi,(0,y+int(h/2)),(cols,y+int(h/2)),(0,255,0),1) # soldan sağa\n",
    "        break\n",
    "    \n",
    "    # şimdi bu işlem frame içinde görmek için roi de oluşmul olan frameleri alıp var olan frame ime ekleyeceğim\n",
    "    frame[80:210,230:450]=roi# roi yi al frameler üzerinde bu piksellerin olduğu yere koy diyeceğim\n",
    "    cv2.imshow(\"roi\",roi)\n",
    "    cv2.imshow(\"threshold\",threshold)\n",
    "    cv2.imshow(\"frame\",frame)\n",
    "    if cv2.waitKey(50)&0xFF==ord('q'):\n",
    "        break\n",
    "vid.release()\n",
    "cv2.destroyAllWindows()"
   ]
  },
  {
   "cell_type": "code",
   "execution_count": null,
   "metadata": {},
   "outputs": [],
   "source": [
    " "
   ]
  }
 ],
 "metadata": {
  "kernelspec": {
   "display_name": "Python 3",
   "language": "python",
   "name": "python3"
  },
  "language_info": {
   "codemirror_mode": {
    "name": "ipython",
    "version": 3
   },
   "file_extension": ".py",
   "mimetype": "text/x-python",
   "name": "python",
   "nbconvert_exporter": "python",
   "pygments_lexer": "ipython3",
   "version": "3.11.4"
  },
  "orig_nbformat": 4
 },
 "nbformat": 4,
 "nbformat_minor": 2
}
