{
 "cells": [
  {
   "cell_type": "code",
   "execution_count": 1,
   "metadata": {},
   "outputs": [],
   "source": [
    "import cv2\n",
    "import numpy as np"
   ]
  },
  {
   "cell_type": "code",
   "execution_count": 2,
   "metadata": {},
   "outputs": [],
   "source": [
    "# opencv fonts resim olarak da bulunan site link : https://www.codesofinterest.com/2017/07/more-fonts-on-opencv.html\n",
    "font=cv2.FONT_HERSHEY_SIMPLEX\n",
    "font1=cv2.FONT_HERSHEY_COMPLEX"
   ]
  },
  {
   "cell_type": "code",
   "execution_count": 3,
   "metadata": {},
   "outputs": [],
   "source": [
    "img=cv2.imread(\"1.1 polygons.png.png\")\n",
    "gray=cv2.cvtColor(img,cv2.COLOR_BGR2GRAY)\n",
    "_,threshold=cv2.threshold(gray,240,255,cv2.THRESH_BINARY)\n",
    "contours,_=cv2.findContours(threshold,cv2.RETR_TREE,cv2.CHAIN_APPROX_SIMPLE)"
   ]
  },
  {
   "cell_type": "code",
   "execution_count": 6,
   "metadata": {},
   "outputs": [
    {
     "name": "stdout",
     "output_type": "stream",
     "text": [
      "[[[  0   0]]\n",
      "\n",
      " [[  0 416]]\n",
      "\n",
      " [[719 416]]\n",
      "\n",
      " [[719   0]]]\n",
      "4\n",
      "[[[ 27 318]]\n",
      "\n",
      " [[ 35 301]]\n",
      "\n",
      " [[ 65 280]]\n",
      "\n",
      " [[144 268]]\n",
      "\n",
      " [[209 286]]\n",
      "\n",
      " [[231 307]]\n",
      "\n",
      " [[235 327]]\n",
      "\n",
      " [[219 352]]\n",
      "\n",
      " [[195 366]]\n",
      "\n",
      " [[118 377]]\n",
      "\n",
      " [[ 53 359]]\n",
      "\n",
      " [[ 31 338]]]\n",
      "12\n",
      "[[[385 245]]\n",
      "\n",
      " [[469 286]]\n",
      "\n",
      " [[469 368]]\n",
      "\n",
      " [[387 409]]\n",
      "\n",
      " [[303 368]]\n",
      "\n",
      " [[303 286]]]\n",
      "6\n",
      "[[[130  69]]\n",
      "\n",
      " [[197 201]]\n",
      "\n",
      " [[ 62 199]]]\n",
      "3\n",
      "[[[279  68]]\n",
      "\n",
      " [[434  67]]\n",
      "\n",
      " [[435 197]]\n",
      "\n",
      " [[280 198]]]\n",
      "4\n",
      "[[[610  53]]\n",
      "\n",
      " [[685 110]]\n",
      "\n",
      " [[656 205]]\n",
      "\n",
      " [[566 205]]\n",
      "\n",
      " [[537 110]]]\n",
      "5\n"
     ]
    }
   ],
   "source": [
    "# conturs lara yaklaşma işlemi uygulayacağız\n",
    "# true şekil kapalı demek\n",
    "for cnt in contours:\n",
    "    epsilon=0.01*cv2.arcLength(cnt,True)\n",
    "    approx=cv2.approxPolyDP(cnt,epsilon,True)# conturs lara yaklaşma işlemi uyguladık\n",
    "    cv2.drawContours(img,[approx],0,(0),5)\n",
    "    \n",
    "    # 0 indis x i 1 indis y yi temsil edecek\n",
    "    x=approx.ravel()[0]\n",
    "    y=approx.ravel()[1]\n",
    "    \n",
    "    #ilk önce aprox tuttuğu değerleri görelim\n",
    "    print(approx) # koordinatlar\n",
    "    print(len(approx)) # kaç köşeli olduğu\n",
    "    \n",
    "    # if biloğuyla çokgen adlarını yazıcaz\n",
    "    if len(approx)==3:\n",
    "        cv2.putText(img,\"Triangle\",(x,y),font,1,(0))\n",
    "    elif len(approx)==4:\n",
    "        cv2.putText(img,\"Rectangle\",(x,y),font,1,(0))\n",
    "    elif len(approx)==5:\n",
    "        cv2.putText(img,\"Pentagon\",(x,y),font,1,(0))\n",
    "    elif len(approx)==6:\n",
    "        cv2.putText(img,\"Hexagon\",(x,y),font,1,(0))\n",
    "    else:\n",
    "        cv2.putText(img,\"Elips\",(x,y),font1,1,(0)) # farklı font olsun dedim\n",
    "\n",
    "cv2.imshow(\"img\",img)\n",
    "cv2.waitKey(0)\n",
    "cv2.destroyAllWindows()"
   ]
  },
  {
   "cell_type": "markdown",
   "metadata": {},
   "source": [
    "site link : https://www.educba.com/opencv-approxpolydp/\n",
    "# OpenCV ApproxPolyDP'ye Giriş\n",
    "Bir kontur şeklinin, daha az sayıda köşeden oluşan başka bir şekle, şekillerin konturları arasındaki mesafenin belirtilen hassasiyete eşit veya belirtilen hassasiyetten daha az olacağı şekilde yaklaşma işlemine, bir şeklin yaklaşıklaştırılması denir. kontur. Ve OpenCV'deki yerleşik bir işlev, çokgen eğrilerin şeklini, approxPolyDP() işlevi adı verilen belirtilen hassasiyete yaklaşmak için kullanılır ve approxPolyDP() işlevi, şekli giriş eğrisiyle aynı olan yaklaşık konturu döndürür ve bir şeklin yaklaşık şeklidir. Kontur, robotik alanında desenleri sınıflandırmak ve sahnelerin analizini yapmak için yaygın olarak kullanılmaktadır.\n",
    "\n",
    "OpenCV'de approxPolyDP() işlevini tanımlamaya yönelik sözdizimi aşağıdaki gibidir:\n",
    "\n",
    "approxPolyDP(giriş_eğrisi, epsilon, kapalı)\n",
    "\n",
    "burada giriş_eğrisi, çevresinin belirtilen hassasiyetle yaklaşıklaştırılması gereken giriş çokgenini temsil eder,\n",
    "epsilon, giriş çokgeninin şekil konturunun yaklaşımı ile orijinal giriş çokgeni arasındaki maksimum mesafeyi temsil eder ve\n",
    "\n",
    "kapalı, yaklaşık eğri kapalıysa değeri doğru olan veya yaklaşık eğri kapalı değilse değeri yanlış olan bir Boolean değeridir.\n",
    "\n",
    "OpenCV'de approxPolyDP() fonksiyonunun çalışması:<br>\n",
    "* Belirli bir çokgenin konturunun şeklini orijinal çokgenin şekline belirli bir hassasiyetle yaklaşma işlemine konturun şeklinin yaklaşımı denir.<br>\n",
    "* Bir kontur şeklinin yaklaşık olarak tahminini gerçekleştirmek için OpenCV'de approxPolyDP() işlevi adı verilen bir işlevden yararlanırız.<br>\n",
    "* Bir konturun şekline yaklaşılması gereken bir çokgenin görüntüsü imread() fonksiyonu kullanılarak okunur.<br>\n",
    "* Daha sonra giriş görüntüsü gri tonlamalı görüntüye dönüştürülür.<br>\n",
    "* Daha sonra gri tonlamalı görüntüye eşikleme fonksiyonu uygulanarak ikili görüntüye dönüştürülür.<br>\n",
    "* Daha sonra findContours() fonksiyonu kullanılarak görüntüde bulunan konturlar belirlenir.<br>\n",
    "* Daha sonra görüntüde belirlenen konturların her biri için approxPolyDP() fonksiyonu uygulanarak görüntüde bulunan çokgenlerin şekli belirlenir.<br>\n",
    "* Daha sonra konturların belirlenen şekli, DrawContours() fonksiyonu kullanılarak görüntü üzerine çizilir ve programın çıktısı olarak görüntülenir."
   ]
  },
  {
   "cell_type": "markdown",
   "metadata": {},
   "source": [
    "site link : https://docs.opencv.org/3.4/d4/d73/tutorial_py_contours_begin.html\n",
    "# Konturlar nasıl çizilir?\n",
    "Konturları çizmek için cv.drawContours fonksiyonu kullanılır. Sınır noktalarına sahip olmanız koşuluyla herhangi bir şekli çizmek için de kullanılabilir. İlk argümanı kaynak görüntüdür, ikinci argümanı bir Python listesi olarak iletilmesi gereken konturlardır, üçüncü argümanı konturların indeksidir (bireysel kontur çizerken kullanışlıdır. Tüm konturları çizmek için -1'i iletin) ve geri kalan argümanlar renk, kalınlıktır. vesaire.<br>\n",
    "* Bir görüntüdeki tüm konturları çizmek için:<br>\n",
    "cv.drawContours (img, konturlar, -1, (0,255,0), 3)<br>\n",
    "* Bireysel bir kontur çizmek için 4. kontur deyin:<br>\n",
    "cv.drawContours (img, konturlar, 3, (0,255,0), 3)<br>\n",
    "* Ancak çoğu zaman aşağıdaki yöntem faydalı olacaktır:<br>\n",
    "cnt = konturlar[4]<br>\n",
    "cv.drawContours (img, [cnt], 0, (0,255,0), 3)<br>"
   ]
  },
  {
   "cell_type": "markdown",
   "metadata": {},
   "source": [
    "# Numpy.ravel () <br> \n",
    "işlevleri, bitişik düzleştirilmiş diziyi (tüm giriş dizisi öğelerini içeren ve onunla aynı türde olan 1 boyutlu dizi) döndürür. Yalnızca ihtiyaç duyulması halinde bir kopyası yapılır. <br>\n",
    "## Yani tüm sütunları satıra döküyor"
   ]
  },
  {
   "cell_type": "markdown",
   "metadata": {},
   "source": [
    "# Sözdizimi: cv2.putText(image, text, org, font, fontScale, color[, kalınlık[, lineType[, BottomLeftOrigin]]])\n",
    "\n",
    "Parametreler:\n",
    "<br>resim: Üzerine metin çizilecek resimdir.\n",
    "<br>text: Çizilecek metin dizisi.\n",
    "<br>org: Görüntüdeki metin dizesinin sol alt köşesinin koordinatlarıdır. Koordinatlar iki değerden oluşan gruplar halinde temsil edilir, yani ( X koordinat değeri, Y koordinat değeri).\n",
    "<br>Font: Font tipini belirtir. Yazı tipi türlerinden bazıları FONT_HERSHEY_SIMPLEX, FONT_HERSHEY_PLAIN, vb.'dir.\n",
    "<br>fontScale: Yazı tipine özgü taban boyutuyla çarpılan yazı tipi ölçek faktörü.\n",
    "<br>color: Çizilecek metin dizisinin rengidir. BGR için bir tuple geçiyoruz. örneğin: (255, 0, 0) mavi renk için.\n",
    "<br>kalınlık: Çizginin px cinsinden kalınlığıdır .\n",
    "<br>lineType: İsteğe bağlı bir parametredir. Kullanılacak hattın tipini verir.\n",
    "<br>BottomLeftOrigin: Bu isteğe bağlı bir parametredir. Doğru olduğunda görüntü verilerinin kaynağı sol alt köşededir. Aksi halde sol üst köşededir.\n",
    "\n",
    "Dönüş Değeri: Bir resim döndürür."
   ]
  }
 ],
 "metadata": {
  "kernelspec": {
   "display_name": "Python 3",
   "language": "python",
   "name": "python3"
  },
  "language_info": {
   "codemirror_mode": {
    "name": "ipython",
    "version": 3
   },
   "file_extension": ".py",
   "mimetype": "text/x-python",
   "name": "python",
   "nbconvert_exporter": "python",
   "pygments_lexer": "ipython3",
   "version": "3.11.4"
  },
  "orig_nbformat": 4
 },
 "nbformat": 4,
 "nbformat_minor": 2
}
