{
 "cells": [
  {
   "cell_type": "markdown",
   "metadata": {},
   "source": [
    "# yüzdeki kodları alıp ele entegre edeceğiz"
   ]
  },
  {
   "cell_type": "code",
   "execution_count": 1,
   "metadata": {},
   "outputs": [],
   "source": [
    "import cv2\n",
    "import numpy as np\n",
    "import math"
   ]
  },
  {
   "cell_type": "code",
   "execution_count": 2,
   "metadata": {},
   "outputs": [],
   "source": [
    "cap=cv2.VideoCapture(0)"
   ]
  },
  {
   "cell_type": "code",
   "execution_count": 11,
   "metadata": {},
   "outputs": [],
   "source": [
    "def findMaxcontours(contours):\n",
    "    max_i=0 # max alanın bulunduğu indis c\n",
    "    max_area=0 # şimdilik 0\n",
    "    for i in range(len(contours)):\n",
    "        face_hand=cv2.contourArea(contours[i])\n",
    "        if face_hand>max_area:\n",
    "            max_area=face_hand\n",
    "            max_i=i\n",
    "        # hata alma ihtimaline karşı try except\n",
    "        try:\n",
    "            c=contours[max_i]\n",
    "        except:\n",
    "            # hiçbirşey bulamazsak c= 0 dicez yani\n",
    "            contours=[0]\n",
    "            c=contours[0]\n",
    "        return c\n",
    "while 1:\n",
    "    _,frame=cap.read()\n",
    "    frame=cv2.flip(frame,1)\n",
    "    \n",
    "    # belli bir bölgede yüzü aramamız lazım o bölgeye aramayı götürmeden önce roi tanımlamamız lazım\n",
    "    # yüz ile ilgili uygulama yapacağımızdan ortalarda arayacağız\n",
    "    roi=frame[115:400,175:430] # önce y ekseni sonra x ekseni\n",
    "    \n",
    "    # şimdi nereye denk geldiğini görmek için dikdörtgen çizdirip teğit edeceğiz\n",
    "    cv2.rectangle(frame,(175,115),(430,400),(0,0,255),0)# pencere etrafında kırmızı şerit oluşmaması için kalınlığını 0 giriyorum \n",
    "    # artık yüzüm işlenmeye hazır\n",
    "    # yüzümü ayırdım şimdi renklerden de ayırmak için yüzümü yani roi yi hsv koduna çevireceğim\n",
    "    hsv=cv2.cvtColor(roi,cv2.COLOR_BGR2HSV)\n",
    "    # şimdi hazır bulduğumuz yüz için olan hsv kodlarını işleyeceğiz\n",
    "    lower_color=np.array([139,45,103],dtype=np.uint8) # videodakini yapınca olmadı ben de kendi değerlerimi buldum\n",
    "    upper_color=np.array([180,255,255],dtype=np.uint8)\n",
    "    mask=cv2.inRange(hsv,lower_color,upper_color)\n",
    "    # mask da oluşan görüntüye curnel medyanbulur uygulayıp karıncalanmaları yok edeceğim\n",
    "    kernal=np.ones((3,3),dtype=np.uint8)\n",
    "    mask=cv2.dilate(mask,kernal,iterations=1)\n",
    "    mask=cv2.medianBlur(mask,15)\n",
    "    #şimdi görüntüler içerisinde counters arayacağız\n",
    "    contours,_=cv2.findContours(mask,cv2.RETR_TREE,cv2.CHAIN_APPROX_SIMPLE)\n",
    "    \n",
    "    # yüzümüzün en uç noktalarını arayacağız eğer counters değer döndürmediyse ihtimalini de ele alıp if oluşturucaz\n",
    "    if len(contours)>0:\n",
    "        # burada da hata alma ihtimalimiz var o yüzden try except block oluşturuyoruz\n",
    "        try:\n",
    "            # yüzüm countur lar içindeki en büyük nesne olacağından en büyük nesneyi buldurucam\n",
    "            c=findMaxcontours(contours) # max counter bulunan değer\n",
    "            # şimdi uç noktaları atayalım\n",
    "            extLeft = tuple(c[c[:, :, 0].argmin()][0]) # bu bana enleri veriyor\n",
    "            extRight = tuple(c[c[:, :, 0].argmax()][0])\n",
    "            extTop = tuple(c[c[:, :, 1].argmin()][0])\n",
    "            \n",
    "            # şimdi bulduğum yerlere çemberler koyacağım\n",
    "            cv2.circle(roi,extLeft,5,(0,255,0),2)\n",
    "            cv2.circle(roi,extRight,5,(0,255,0),2)\n",
    "            cv2.circle(roi,extTop,5,(0,255,0),2)\n",
    "            \n",
    "            # şimdi çemberleri birleştireceğim\n",
    "            cv2.line(roi,extLeft,extTop,(255,0,0),2)\n",
    "            cv2.line(roi,extTop,extRight,(255,0,0),2)\n",
    "            cv2.line(roi,extRight,extLeft,(255,0,0),2)\n",
    "            \n",
    "            # şimdi yüzümdeki uç noktalar arasındaki açıları ve uzunlukları bulacağız\n",
    "            # ilk önce uzunlukları buluyoruz\n",
    "            ust_enSag_uzunlugu = math.sqrt((extRight[0]-extTop[0])**2+(extRight[1]-extTop[1])**2)\n",
    "            ust_alt_uzunlugu= math.sqrt((extTop[0]-extLeft[0])**2+(extTop[1]-extLeft[1])**2)\n",
    "            enSag_alt_uzunlugu= math.sqrt((extRight[0]-extLeft[0])**2+(extRight[1]-extLeft[1])**2)\n",
    "            # şimdi uzunluklarını bildiğimizden cos teoremi sayesinde 2 kenar arasındaki açıyı bulacağız\n",
    "            # /(2*enSag_alt_uzunlugu*ust_alt_uzunlugu) = 0 gelme ihtimali var o yüzden tyr except biloğuna alıyoruz\n",
    "            try:\n",
    "                angle_ustSag_altSAg_kenar= int(math.acos((ust_enSag_uzunlugu**2+enSag_alt_uzunlugu**2-ust_alt_uzunlugu**2)/(2*enSag_alt_uzunlugu*ust_alt_uzunlugu))*57)# angle=açı içerisi cos teoreminde kenarları bilip açıyı yanlız bıraktığında oluşan matematik işlemi ama *57 anlamadım\n",
    "                cv2.putText(roi,str(angle_ustSag_altSAg_kenar),(extRight[0]-100+50,extRight[1]),cv2.FONT_HERSHEY_SIMPLEX,1,(0,0,255),2,cv2.LINE_AA)# sondaki fontla alakalı güzel gözüksün diye\n",
    "                if angle_ustSag_altSAg_kenar >70:\n",
    "                    cv2.rectangle(frame,(0,0),(100,100),(255,0,0),-1)\n",
    "                else:\n",
    "                    pass\n",
    "            except:\n",
    "                cv2.putText(roi,\" ? \",(extRight[0]-100+50,extRight[1]),cv2.FONT_HERSHEY_SIMPLEX,1,(0,0,255),2,cv2.LINE_AA)\n",
    "        except:\n",
    "            pass\n",
    "    else:\n",
    "        pass\n",
    "    \n",
    "    cv2.imshow(\"frame\",frame)\n",
    "    cv2.imshow(\"roi\",roi)\n",
    "    cv2.imshow(\"mask\",mask)\n",
    "    \n",
    "    if cv2.waitKey(20)& 0xFF==ord('q'):\n",
    "        break\n",
    "cap.release()\n",
    "cv2.destroyAllWindows()"
   ]
  },
  {
   "cell_type": "code",
   "execution_count": 3,
   "metadata": {},
   "outputs": [],
   "source": []
  },
  {
   "cell_type": "code",
   "execution_count": null,
   "metadata": {},
   "outputs": [],
   "source": []
  }
 ],
 "metadata": {
  "kernelspec": {
   "display_name": "Python 3",
   "language": "python",
   "name": "python3"
  },
  "language_info": {
   "codemirror_mode": {
    "name": "ipython",
    "version": 3
   },
   "file_extension": ".py",
   "mimetype": "text/x-python",
   "name": "python",
   "nbconvert_exporter": "python",
   "pygments_lexer": "ipython3",
   "version": "3.11.4"
  },
  "orig_nbformat": 4
 },
 "nbformat": 4,
 "nbformat_minor": 2
}
