{
 "cells": [
  {
   "cell_type": "code",
   "execution_count": 1,
   "metadata": {},
   "outputs": [],
   "source": [
    "import cv2\n",
    "import numpy as np"
   ]
  },
  {
   "cell_type": "code",
   "execution_count": 3,
   "metadata": {},
   "outputs": [],
   "source": [
    "cap=cv2.VideoCapture(\"5.1 car.mp4.mp4\")\n",
    "subtractor=cv2.createBackgroundSubtractorMOG2(history=100,varThreshold=50,detectShadows=True) # subtractor = çıkarıcı\n",
    "                                             # history yani aldığım frame , threshold değeri ,ditec shadow yani gölgeler de tespit edilsin mi değeri\n",
    "                                             # history =100 dedik çünkü güneş açısından dahi değişiklikler olabilir o yüzden 100 dedik"
   ]
  },
  {
   "cell_type": "markdown",
   "metadata": {},
   "source": [
    "link 1 : https://www.geeksforgeeks.org/python-opencv-background-subtraction/ <br>\n",
    "link 2 : https://docs.opencv.org/3.4/de/de1/group__video__motion.html\n",
    "\n",
    "# link 2 özelt : \n",
    "\n",
    "cv.createBackgroundSubtractorMOG2(\t[, geçmiş[, varThreshold[, DetectShadows]]]\t) <br>\n",
    "\n",
    "tarih :\tTarihin uzunluğu. <br>\n",
    "varThreshold :\tBir pikselin arka plan modeli tarafından iyi tanımlanıp tanımlanmadığına karar vermek için piksel ile model arasındaki Mahalanobis mesafesinin karesi üzerindeki eşik. Bu parametre arka  plan güncellemesini etkilemez. <br>\n",
    "Gölgeleri tespit et :\tDoğruysa algoritma gölgeleri algılayacak ve işaretleyecektir. Hızı bir miktar düşürür, dolayısıyla bu özelliğe ihtiyacınız yoksa parametreyi false olarak ayarlayın."
   ]
  },
  {
   "cell_type": "code",
   "execution_count": 4,
   "metadata": {},
   "outputs": [],
   "source": [
    "while 1:\n",
    "    _,frame=cap.read()\n",
    "    frame=cv2.resize(frame,(640,480))\n",
    "    # apply ile cv2.createBackgroundSubtractorMOG fonksiyonunu fram e uygulamış oluyoruz\n",
    "    mask=subtractor.apply(frame)\n",
    "    \n",
    "    cv2.imshow(\"frame\",frame)\n",
    "    cv2.imshow(\"mask\",mask)\n",
    "    if cv2.waitKey(20)&0xFF==ord('q'):\n",
    "        break\n",
    "    \n",
    "    \n",
    "cap.release()\n",
    "cv2.destroyAllWindows()"
   ]
  },
  {
   "cell_type": "code",
   "execution_count": null,
   "metadata": {},
   "outputs": [],
   "source": []
  }
 ],
 "metadata": {
  "kernelspec": {
   "display_name": "Python 3",
   "language": "python",
   "name": "python3"
  },
  "language_info": {
   "codemirror_mode": {
    "name": "ipython",
    "version": 3
   },
   "file_extension": ".py",
   "mimetype": "text/x-python",
   "name": "python",
   "nbconvert_exporter": "python",
   "pygments_lexer": "ipython3",
   "version": "3.11.4"
  },
  "orig_nbformat": 4
 },
 "nbformat": 4,
 "nbformat_minor": 2
}
