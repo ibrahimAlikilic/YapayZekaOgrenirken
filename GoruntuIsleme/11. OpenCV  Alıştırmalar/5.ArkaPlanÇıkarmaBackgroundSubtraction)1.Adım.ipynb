{
 "cells": [
  {
   "cell_type": "markdown",
   "metadata": {},
   "source": [
    "# burada manuel olarak yapacağız\n",
    "* Burada ilk ve 2. frame arasında aynı olanları kazıtıp diğerlerini belli etmeye çalışacağız <br>\n",
    "bir sonraki video direk fonksiyonla"
   ]
  },
  {
   "cell_type": "code",
   "execution_count": 1,
   "metadata": {},
   "outputs": [],
   "source": [
    "import cv2\n",
    "import numpy as np"
   ]
  },
  {
   "cell_type": "code",
   "execution_count": 2,
   "metadata": {},
   "outputs": [],
   "source": [
    "cap=cv2.VideoCapture(\"5.1 car.mp4.mp4\")\n",
    "_,first_frame=cap.read()\n",
    "first_frame=cv2.resize(first_frame,(640,480))\n",
    "first_gray=cv2.cvtColor(first_frame,cv2.COLOR_BGR2GRAY)\n",
    "first_gray=cv2.GaussianBlur(first_gray,(5,5),0)"
   ]
  },
  {
   "cell_type": "code",
   "execution_count": 3,
   "metadata": {},
   "outputs": [],
   "source": [
    "# while 1:\n",
    "#     _,frame=cap.read()\n",
    "#     # frame ler çok büyük yeniden boyutlandıracağım\n",
    "#     frame=cv2.resize(frame,(640,480))\n",
    "#     gray=cv2.cvtColor(frame,cv2.COLOR_BGR2GRAY)\n",
    "#     gray=cv2.GaussianBlur(gray,(5,5),0)\n",
    "    \n",
    "#     # şimdi ilk frame ile gelen diğer frame leri karşılaştıracağız\n",
    "#     diff=cv2.absdiff(first_gray,gray) # different tan geliyor\n",
    "    \n",
    "#     cv2.imshow(\"frame\",frame)\n",
    "#     cv2.imshow(\"first_frame\",first_frame)\n",
    "#     cv2.imshow(\"diff\",diff)\n",
    "    \n",
    "    \n",
    "#     if cv2.waitKey(20)&0xFF==ord('q'):\n",
    "#         break\n",
    "    \n",
    "    \n",
    "# cap.release()\n",
    "# cv2.destroyAllWindows()"
   ]
  },
  {
   "cell_type": "code",
   "execution_count": 3,
   "metadata": {},
   "outputs": [],
   "source": [
    "# üsttekinde rekn geçişleri rahatsız ettiğinden trashold ile grimsi renkleri de çıkaracağız\n",
    "while 1:\n",
    "    _,frame=cap.read()\n",
    "    # frame ler çok büyük yeniden boyutlandıracağım\n",
    "    frame=cv2.resize(frame,(640,480))\n",
    "    gray=cv2.cvtColor(frame,cv2.COLOR_BGR2GRAY)\n",
    "    gray=cv2.GaussianBlur(gray,(5,5),0)\n",
    "    \n",
    "    # şimdi ilk frame ile gelen diğer frame leri karşılaştıracağız\n",
    "    diff=cv2.absdiff(first_gray,gray) # different tan geliyor\n",
    "    \n",
    "    # siyaha yakın olanları simsiyah ; beyaza yakın olanları bembeyaz yapacak olan threshold u uygulayacağız\n",
    "    _,diff=cv2.threshold(diff,35,255,cv2.THRESH_BINARY)\n",
    "    \n",
    "    \n",
    "    cv2.imshow(\"frame\",frame)\n",
    "    cv2.imshow(\"first_frame\",first_frame)\n",
    "    cv2.imshow(\"diff\",diff)\n",
    "    \n",
    "    \n",
    "    if cv2.waitKey(20)&0xFF==ord('q'):\n",
    "        break\n",
    "    \n",
    "    \n",
    "cap.release()\n",
    "cv2.destroyAllWindows()"
   ]
  },
  {
   "cell_type": "code",
   "execution_count": null,
   "metadata": {},
   "outputs": [],
   "source": []
  }
 ],
 "metadata": {
  "kernelspec": {
   "display_name": "Python 3",
   "language": "python",
   "name": "python3"
  },
  "language_info": {
   "codemirror_mode": {
    "name": "ipython",
    "version": 3
   },
   "file_extension": ".py",
   "mimetype": "text/x-python",
   "name": "python",
   "nbconvert_exporter": "python",
   "pygments_lexer": "ipython3",
   "version": "3.11.4"
  },
  "orig_nbformat": 4
 },
 "nbformat": 4,
 "nbformat_minor": 2
}
