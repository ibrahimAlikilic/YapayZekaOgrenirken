{
 "cells": [
  {
   "cell_type": "markdown",
   "metadata": {},
   "source": [
    "# Üzerine tıkladığımız yerde çember oluşmasını sağlayacağız"
   ]
  },
  {
   "cell_type": "code",
   "execution_count": 1,
   "metadata": {},
   "outputs": [],
   "source": [
    "import cv2"
   ]
  },
  {
   "cell_type": "code",
   "execution_count": 2,
   "metadata": {},
   "outputs": [],
   "source": [
    "cap=cv2.VideoCapture(0)\n"
   ]
  },
  {
   "cell_type": "code",
   "execution_count": 3,
   "metadata": {},
   "outputs": [],
   "source": [
    "# yapacağımız işi fonksiyonla tanıtıyoruz\n",
    "circles=[]\n",
    "def mouse(event,x,y,flags,params):\n",
    "    if event==cv2.EVENT_LBUTTONDOWN: # event == sol tık ise\n",
    "        circles.append((x,y))\n",
    "cv2.namedWindow(\"Frame\")\n",
    "# yaptığım işlemi algılayacak olan fonksiyon\n",
    "cv2.setMouseCallback(\"Frame\",mouse)\n",
    "                    # işlem yapılacak pencerenin adı , yaptığımız işi tanımlayan fonksiyon ,"
   ]
  },
  {
   "cell_type": "code",
   "execution_count": 4,
   "metadata": {},
   "outputs": [],
   "source": [
    "while 1:\n",
    "    _,frame=cap.read()\n",
    "    frame=cv2.flip(frame,1)\n",
    "     # çemberler çizeceğim kodu tanımlıyorum\n",
    "    for center in circles:\n",
    "        cv2.circle(frame,center,(20),(0,0,255),-1)\n",
    "    \n",
    "    cv2.imshow(\"Frame\",frame) # ismi yukarıdaki pencereyle aynı yapıyorum ki aynı pencerede işlem gerçekleşsin\n",
    "    # şimdi tuşa basınca pencerenin temizlenmesini sağlayacağız\n",
    "    #ilk önce esc bastıysam çık diyoruz : \n",
    "    key=cv2.waitKey(1)\n",
    "    if key==27:\n",
    "        break\n",
    "    elif key==ord(\"s\"):\n",
    "        circles=[] # durmadan döndüğünden circles içi boş olursa boşluk çizilmiş olur ve bu sayede boşalır\n",
    "cap.release()\n",
    "cv2.destroyAllWindows()"
   ]
  },
  {
   "cell_type": "code",
   "execution_count": null,
   "metadata": {},
   "outputs": [],
   "source": []
  }
 ],
 "metadata": {
  "kernelspec": {
   "display_name": "Python 3",
   "language": "python",
   "name": "python3"
  },
  "language_info": {
   "codemirror_mode": {
    "name": "ipython",
    "version": 3
   },
   "file_extension": ".py",
   "mimetype": "text/x-python",
   "name": "python",
   "nbconvert_exporter": "python",
   "pygments_lexer": "ipython3",
   "version": "3.11.4"
  },
  "orig_nbformat": 4
 },
 "nbformat": 4,
 "nbformat_minor": 2
}
