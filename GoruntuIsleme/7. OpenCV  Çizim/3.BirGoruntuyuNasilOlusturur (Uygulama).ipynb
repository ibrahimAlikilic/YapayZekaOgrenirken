{
 "cells": [
  {
   "cell_type": "code",
   "execution_count": 1,
   "metadata": {},
   "outputs": [],
   "source": [
    "import cv2\n",
    "import numpy as np"
   ]
  },
  {
   "cell_type": "code",
   "execution_count": 2,
   "metadata": {},
   "outputs": [],
   "source": [
    "img=np.zeros((10,10,3),np.uint8)\n",
    "# piksel boyamak\n",
    "img[0,0]=(255,255,255)\n",
    "img[0,1]=(255,255,200)\n",
    "img[0,2]=(255,255,150)\n",
    "img[0,3]=(255,255,15)\n",
    "# bunun sayesinde nasıl boyamış olduğunun mantığını anlıyoruz"
   ]
  },
  {
   "cell_type": "code",
   "execution_count": 4,
   "metadata": {},
   "outputs": [],
   "source": [
    "def Gosterim(hangiCanvas):\n",
    "    cv2.imshow(\"Canvas gözüküyor\",hangiCanvas)\n",
    "    cv2.waitKey(0)\n",
    "    cv2.destroyAllWindows()\n",
    "Gosterim(img)"
   ]
  },
  {
   "cell_type": "code",
   "execution_count": 5,
   "metadata": {},
   "outputs": [],
   "source": [
    "# Yeniden boyutlandırma\n",
    "img=cv2.resize(img,(1000,1000),interpolation=cv2.INTER_AREA) # var olan çakışmaları önlemek için\n",
    "Gosterim(img)"
   ]
  },
  {
   "cell_type": "code",
   "execution_count": 12,
   "metadata": {},
   "outputs": [],
   "source": [
    "# siyah beyaz veri çıkarmak için 2 kanal verisi kullanılır\n",
    "img=np.zeros((10,10),np.uint8)\n",
    "img[0,0]=255\n",
    "img[0,1]=200\n",
    "img[0,2]=100\n",
    "img[0,3]=15\n",
    "img=cv2.resize(img,(1000,1000),interpolation=cv2.INTER_AREA) # var olan çakışmaları önlemek için\n",
    "Gosterim(img)"
   ]
  },
  {
   "cell_type": "code",
   "execution_count": null,
   "metadata": {},
   "outputs": [],
   "source": []
  }
 ],
 "metadata": {
  "kernelspec": {
   "display_name": "Python 3",
   "language": "python",
   "name": "python3"
  },
  "language_info": {
   "codemirror_mode": {
    "name": "ipython",
    "version": 3
   },
   "file_extension": ".py",
   "mimetype": "text/x-python",
   "name": "python",
   "nbconvert_exporter": "python",
   "pygments_lexer": "ipython3",
   "version": "3.11.4"
  },
  "orig_nbformat": 4
 },
 "nbformat": 4,
 "nbformat_minor": 2
}
