{
 "cells": [
  {
   "cell_type": "code",
   "execution_count": 1,
   "metadata": {},
   "outputs": [],
   "source": [
    "import cv2\n",
    "\n",
    "# cap=cv2.imread() Resim okuma için\n",
    "cap=cv2.VideoCapture(0) # 0 demek kendi kameramı kullanıcam demek var olan bir videoyu kullanacaksak yol belirtiyoruz \n",
    "# eğer source reader cv gibi bir hata alıyorsak cap=cv2.VideoCapture(0,cv2.CAP_DSHOW) olarak yazacaksın\n",
    "while True: # ykarıda kareleri oku dedik burada video bitene kadar okumayı sağlamak için döngü kurduk\n",
    "    ret , frame =cap.read() # eğer cap değişkeni frameleri doğru okuduysa ret değişkeni doğrudur yanlış okuduysa false.\n",
    "    frame=cv2.flip(frame,1) # ayna gibi düşün doğru yönde olması için ters çevirmen lazım . # frame değişkenini 1 demek y ekseni demek y eksenine göre yansıtarak ver dedik. \n",
    "    cv2.imshow(\"Penceremin Adı\",frame) # 2. yazdıpım görüntüyü aldığım değişken\n",
    "    # cv2.waitKey(30)# her bir frame 30 milisaniye gösterilsin ve 2. frame geçilsin dedim kalite açısından bir işlem ne kadar değer düşerse frame o kadar kısa güzkür arttırırsak da tam tersi\n",
    "    # resimlerde 0 kullanıyoruz çünkü tek frame alsın diğer frame geçmesin diyotuz\n",
    "    if cv2.waitKey(30) & 0xFF==ord(\"q\"):# her frame 30 milisaniyede göster ve q ya bastığımda # 0xFF q nun makine dilindeki karşılığı\n",
    "        break # çık diyorum\n",
    "#cap.realise() # dosyada yapılan işlemi durdurup bitirip tekrardan dosyada yeni işlem yapabilmemi sağlıyor # hata veriyor\n",
    "cv2.destroyAllWindows()"
   ]
  },
  {
   "cell_type": "code",
   "execution_count": 1,
   "metadata": {},
   "outputs": [
    {
     "ename": "NameError",
     "evalue": "name 'cv2' is not defined",
     "output_type": "error",
     "traceback": [
      "\u001b[1;31m---------------------------------------------------------------------------\u001b[0m",
      "\u001b[1;31mNameError\u001b[0m                                 Traceback (most recent call last)",
      "\u001b[1;32mc:\\Users\\ibo_m\\OneDrive\\Masaüstü\\Yapay Zeka\\Görüntü işleme\\6 Video Okuma ve izleme\\VideoOkumaIzleme.ipynb Cell 2\u001b[0m line \u001b[0;36m2\n\u001b[0;32m      <a href='vscode-notebook-cell:/c%3A/Users/ibo_m/OneDrive/Masa%C3%BCst%C3%BC/Yapay%20Zeka/G%C3%B6r%C3%BCnt%C3%BC%20i%C5%9Fleme/6%20Video%20Okuma%20ve%20izleme/VideoOkumaIzleme.ipynb#W1sZmlsZQ%3D%3D?line=0'>1</a>\u001b[0m \u001b[39m# cap=cv2.imread() Resim okuma için\u001b[39;00m\n\u001b[1;32m----> <a href='vscode-notebook-cell:/c%3A/Users/ibo_m/OneDrive/Masa%C3%BCst%C3%BC/Yapay%20Zeka/G%C3%B6r%C3%BCnt%C3%BC%20i%C5%9Fleme/6%20Video%20Okuma%20ve%20izleme/VideoOkumaIzleme.ipynb#W1sZmlsZQ%3D%3D?line=1'>2</a>\u001b[0m cap\u001b[39m=\u001b[39mcv2\u001b[39m.\u001b[39mVideoCapture(\u001b[39m\"\u001b[39m\u001b[39mOkunacakVideo.mkv\u001b[39m\u001b[39m\"\u001b[39m) \u001b[39m# 0 demek kendi kameramı kullanıcam demek var olan bir videoyu kullanacaksak yol belirtiyoruz \u001b[39;00m\n\u001b[0;32m      <a href='vscode-notebook-cell:/c%3A/Users/ibo_m/OneDrive/Masa%C3%BCst%C3%BC/Yapay%20Zeka/G%C3%B6r%C3%BCnt%C3%BC%20i%C5%9Fleme/6%20Video%20Okuma%20ve%20izleme/VideoOkumaIzleme.ipynb#W1sZmlsZQ%3D%3D?line=2'>3</a>\u001b[0m \u001b[39m# eğer source reader cv gibi bir hata alıyorsak cap=cv2.VideoCapture(0,cv2.CAP_DSHOW) olarak yazacaksın\u001b[39;00m\n\u001b[0;32m      <a href='vscode-notebook-cell:/c%3A/Users/ibo_m/OneDrive/Masa%C3%BCst%C3%BC/Yapay%20Zeka/G%C3%B6r%C3%BCnt%C3%BC%20i%C5%9Fleme/6%20Video%20Okuma%20ve%20izleme/VideoOkumaIzleme.ipynb#W1sZmlsZQ%3D%3D?line=3'>4</a>\u001b[0m \u001b[39mwhile\u001b[39;00m \u001b[39mTrue\u001b[39;00m: \u001b[39m# ykarıda kareleri oku dedik burada video bitene kadar okumayı sağlamak için döngü kurduk\u001b[39;00m\n",
      "\u001b[1;31mNameError\u001b[0m: name 'cv2' is not defined"
     ]
    }
   ],
   "source": [
    "# cap=cv2.imread() Resim okuma için\n",
    "cap=cv2.VideoCapture(\"OkunacakVideo.mkv\") # 0 demek kendi kameramı kullanıcam demek var olan bir videoyu kullanacaksak yol belirtiyoruz \n",
    "# eğer source reader cv gibi bir hata alıyorsak cap=cv2.VideoCapture(0,cv2.CAP_DSHOW) olarak yazacaksın\n",
    "while True: # ykarıda kareleri oku dedik burada video bitene kadar okumayı sağlamak için döngü kurduk\n",
    "    ret , frame =cap.read() # eğer cap değişkeni frameleri doğru okuduysa ret değişkeni doğrudur yanlış okuduysa false.\n",
    "    frame=cv2.flip(frame,1) # ayna gibi düşün doğru yönde olması için ters çevirmen lazım . # frame değişkenini 1 demek y ekseni demek y eksenine göre yansıtarak ver dedik. \n",
    "    cv2.imshow(\"Penceremin Adı\",frame) # 2. yazdıpım görüntüyü aldığım değişken\n",
    "    # cv2.waitKey(30)# her bir frame 30 milisaniye gösterilsin ve 2. frame geçilsin dedim kalite açısından bir işlem ne kadar değer düşerse frame o kadar kısa güzkür arttırırsak da tam tersi\n",
    "    # resimlerde 0 kullanıyoruz çünkü tek frame alsın diğer frame geçmesin diyotuz\n",
    "    if ret==0: # dedik ki video bittiyse\n",
    "        break\n",
    "    if cv2.waitKey(10) & 0xFF==ord(\"q\"):# her frame 30 milisaniyede göster ve q ya bastığımda # 0xFF q nun makine dilindeki karşılığı\n",
    "        break # çık diyorum\n",
    "#cap.realise() # dosyada yapılan işlemi durdurup bitirip tekrardan dosyada yeni işlem yapabilmemi sağlıyor\n",
    "cv2.destroyAllWindows()"
   ]
  },
  {
   "cell_type": "code",
   "execution_count": null,
   "metadata": {},
   "outputs": [],
   "source": []
  }
 ],
 "metadata": {
  "kernelspec": {
   "display_name": "Python 3",
   "language": "python",
   "name": "python3"
  },
  "language_info": {
   "codemirror_mode": {
    "name": "ipython",
    "version": 3
   },
   "file_extension": ".py",
   "mimetype": "text/x-python",
   "name": "python",
   "nbconvert_exporter": "python",
   "pygments_lexer": "ipython3",
   "version": "3.11.4"
  },
  "orig_nbformat": 4
 },
 "nbformat": 4,
 "nbformat_minor": 2
}
