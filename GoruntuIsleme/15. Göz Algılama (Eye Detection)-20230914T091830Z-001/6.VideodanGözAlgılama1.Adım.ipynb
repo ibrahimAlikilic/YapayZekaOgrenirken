{
 "cells": [
  {
   "cell_type": "code",
   "execution_count": 124,
   "metadata": {},
   "outputs": [],
   "source": [
    "import cv2"
   ]
  },
  {
   "cell_type": "code",
   "execution_count": 125,
   "metadata": {},
   "outputs": [],
   "source": [
    "vid=cv2.VideoCapture(\"10.1 eye.mp4.mp4\")\n",
    "face_cascade=cv2.CascadeClassifier(\"Haar cascade\\\\4.1 frontalface.xml.xml\")\n",
    "eye_cascade=cv2.CascadeClassifier(\"Haar cascade\\\\5.1 eye.xml.xml\")"
   ]
  },
  {
   "cell_type": "code",
   "execution_count": 126,
   "metadata": {},
   "outputs": [],
   "source": [
    "#        # kendim yazdım tam olarak istediğim sonucu vermiyor\n",
    "#    while 1:\n",
    "#        retV,frame=vid.read()\n",
    "#        gray=cv2.cvtColor(frame,cv2.COLOR_BGR2GRAY)\n",
    "#        # yüz algıladık\n",
    "#        faces=face_cascade.detectMultiScale(gray)\n",
    "#        # dikdörtgeni çizdik\n",
    "#        for (x,y,w,h,) in faces:\n",
    "#            cv2.rectangle(frame,(x,y),(x+w,y+h),(0,0,255),3)\n",
    "#            # yüzü ayırıp değişkene atadık\n",
    "#            face_part=frame[y:y+h,x:x+w]\n",
    "#            gray_part=gray[y:y+h,x:x+w]\n",
    "#            # şimdi değişkende göz arıcaz\n",
    "#            eyes=eye_cascade.detectMultiScale(gray_part)\n",
    "#            # göze dikdörtgen çizdik\n",
    "#            for (xe,ye,we,he,) in eyes:\n",
    "#                cv2.rectangle(face_part,(xe,ye),(xe+we,ye+he),(255,0,0),2)\n",
    "#        cv2.imshow(\"frame\",frame)\n",
    "#        if cv2.waitKey(15)& 0xFF==ord('q'):\n",
    "#            break\n",
    "#    vid.release()\n",
    "#    cv2.destroyAllWindows()"
   ]
  },
  {
   "cell_type": "code",
   "execution_count": 127,
   "metadata": {},
   "outputs": [],
   "source": [
    "# videoya baktım video boyutu büyük olduğundan net algılayamıyormuş o yüzden küçültmüş küçültünce oluyor\n",
    "# kendim yazdım tam olarak istediğim sonucu vermiyor\n",
    "while 1:\n",
    "    retV,frame=vid.read()\n",
    "    frame=cv2.resize(frame,(480,360))\n",
    "    gray=cv2.cvtColor(frame,cv2.COLOR_BGR2GRAY)\n",
    "    # yüz algıladık\n",
    "    faces=face_cascade.detectMultiScale(gray)\n",
    "    # dikdörtgeni çizdik\n",
    "    for (x,y,w,h,) in faces:\n",
    "        cv2.rectangle(frame,(x,y),(x+w,y+h),(0,0,255),3)\n",
    "        # yüzü ayırıp değişkene atadık\n",
    "        face_part=frame[y:y+h,x:x+w]\n",
    "        gray_part=gray[y:y+h,x:x+w]\n",
    "        # şimdi değişkende göz arıcaz\n",
    "        eyes=eye_cascade.detectMultiScale(gray_part)\n",
    "        # göze dikdörtgen çizdik\n",
    "        for (xe,ye,we,he,) in eyes:\n",
    "            cv2.rectangle(face_part,(xe,ye),(xe+we,ye+he),(255,0,0),2)\n",
    "    # şimdi de kendi istediğim boyuta getirip gösteriyorum .\n",
    "    frame=cv2.resize(frame,(720,480))\n",
    "    cv2.imshow(\"frame\",frame)\n",
    "    if cv2.waitKey(15)& 0xFF==ord('q'):\n",
    "        break\n",
    "vid.release()\n",
    "cv2.destroyAllWindows()"
   ]
  }
 ],
 "metadata": {
  "kernelspec": {
   "display_name": "Python 3",
   "language": "python",
   "name": "python3"
  },
  "language_info": {
   "codemirror_mode": {
    "name": "ipython",
    "version": 3
   },
   "file_extension": ".py",
   "mimetype": "text/x-python",
   "name": "python",
   "nbconvert_exporter": "python",
   "pygments_lexer": "ipython3",
   "version": "3.11.4"
  },
  "orig_nbformat": 4
 },
 "nbformat": 4,
 "nbformat_minor": 2
}
