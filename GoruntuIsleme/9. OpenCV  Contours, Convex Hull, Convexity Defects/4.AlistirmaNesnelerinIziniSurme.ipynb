{
 "cells": [
  {
   "cell_type": "code",
   "execution_count": 1,
   "metadata": {},
   "outputs": [],
   "source": [
    "import cv2\n",
    "import numpy as np"
   ]
  },
  {
   "cell_type": "code",
   "execution_count": 2,
   "metadata": {},
   "outputs": [],
   "source": [
    "cap=cv2.VideoCapture(\"4.2 dog.mp4.mp4\")\n"
   ]
  },
  {
   "cell_type": "markdown",
   "metadata": {},
   "source": [
    "Bilgisayarla görme problemlerini çözerken görüntülerle uğraştığımızda, verilen görüntüyü soldurmak veya verilen görüntünün parçalarını ihtiyaca göre çıkarmak gerekliliği ortaya çıkar, bu gibi durumlarda OpenCV'de bitsel operatörlerden yararlanırız ve verilen iki görüntüye karşılık gelen diziler bit bazında birleştirilmelidir, ardından OpenCV'de ama bilge ve iki görüntüye karşılık gelen dizilerin birleştirilerek iki görüntünün birleştirilmesiyle sonuçlanabileceği ve bit bilge olarak adlandırılan bir operatörden yararlanırız. iki görüntü üzerinde işlem, belirtime göre yapılan birleştirme ile bir görüntü döndürür.\n",
    "\n",
    "OpenCV'de bitwise_and() operatörünü tanımlamak için sözdizimi aşağıdaki gibidir:\n",
    "\n",
    "bitwise_and(source1_array, source2_array, destination_array, mask)\n",
    "kaynak1_dizi, üzerinde bitsel ve işlemin gerçekleştirileceği ilk giriş görüntüsüne karşılık gelen dizidir,\n",
    "kaynak2_dizi, üzerinde bitsel ve işlemin gerçekleştirileceği ikinci giriş görüntüsüne karşılık gelen dizidir,\n",
    "hedef_dizi, birinci girdi görüntüsüne karşılık gelen dizi ve ikinci girdi görüntüsüne karşılık gelen dizi üzerinde bitsel işlem gerçekleştirerek ortaya çıkan dizidir ve\n",
    "mask ortaya çıkan görüntü üzerinde yapılacak olan maskeleme işlemidir ve opsiyoneldir."
   ]
  },
  {
   "cell_type": "code",
   "execution_count": 3,
   "metadata": {},
   "outputs": [],
   "source": [
    "while(1):\n",
    "    _,frame=cap.read() # _ sonsuz döngümün video bitmesinyle bitmesini tutuyor\n",
    "    \n",
    "    # nesne izini sürmek için hsv formatına çevirmemiz lazım\n",
    "    frame=cv2.cvtColor(frame,cv2.COLOR_BGR2HSV)\n",
    "    \n",
    "    # beyaz renkler için olan hsv aralığını internetten buluyoruz \n",
    "    sensitivity = 15\n",
    "    lower_white = np.array([0,0,255-sensitivity])\n",
    "    upper_white = np.array([255,sensitivity,255])\n",
    "    \n",
    "    mask=cv2.inRange(frame,lower_white,upper_white)\n",
    "    res=cv2.bitwise_and(frame,frame,mask=mask) # bir videonun kendisi var bir de istenilen kısım kesilmiş hali var o yüzden 2 kere frame ve mask yazıyoz \n",
    "    cv2.imshow(\"frame\",frame)\n",
    "    cv2.imshow(\"mask\",mask)\n",
    "    cv2.imshow(\"serult\",res)\n",
    "    # esc basınca video bitsin diye\n",
    "    if cv2.waitKey(5) &0xFF==ord('q'):\n",
    "        break\n",
    "cv2.destroyAllWindows()"
   ]
  },
  {
   "cell_type": "code",
   "execution_count": null,
   "metadata": {},
   "outputs": [],
   "source": []
  }
 ],
 "metadata": {
  "kernelspec": {
   "display_name": "Python 3",
   "language": "python",
   "name": "python3"
  },
  "language_info": {
   "codemirror_mode": {
    "name": "ipython",
    "version": 3
   },
   "file_extension": ".py",
   "mimetype": "text/x-python",
   "name": "python",
   "nbconvert_exporter": "python",
   "pygments_lexer": "ipython3",
   "version": "3.10.12"
  },
  "orig_nbformat": 4
 },
 "nbformat": 4,
 "nbformat_minor": 2
}
