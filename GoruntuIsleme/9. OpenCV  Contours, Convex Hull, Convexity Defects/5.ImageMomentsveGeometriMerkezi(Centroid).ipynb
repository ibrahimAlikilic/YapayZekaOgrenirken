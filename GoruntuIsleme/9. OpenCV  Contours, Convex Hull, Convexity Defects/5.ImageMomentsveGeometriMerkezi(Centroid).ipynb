{
 "cells": [
  {
   "cell_type": "markdown",
   "metadata": {},
   "source": [
    "# Amaç : Ağırlık merkezini bulmak"
   ]
  },
  {
   "cell_type": "code",
   "execution_count": 1,
   "metadata": {},
   "outputs": [],
   "source": [
    "import cv2"
   ]
  },
  {
   "cell_type": "code",
   "execution_count": 2,
   "metadata": {},
   "outputs": [],
   "source": [
    "img=cv2.imread(\"5.1 contour.png.png\")\n",
    "gray=cv2.cvtColor(img,cv2.COLOR_BGR2GRAY)\n",
    "_,thresh=cv2.threshold(gray,127,255,cv2.THRESH_BINARY)"
   ]
  },
  {
   "cell_type": "code",
   "execution_count": 3,
   "metadata": {},
   "outputs": [
    {
     "name": "stdout",
     "output_type": "stream",
     "text": [
      "{'m00': 15946170.0, 'm10': 2512158510.0, 'm01': 2140943280.0, 'm20': 568586636580.0, 'm11': 337099003380.0, 'm02': 422375441400.0, 'm30': 144203744893170.0, 'm21': 76698286353210.0, 'm12': 66530197502520.0, 'm03': 95616562341210.0, 'mu20': 172821360067.4945, 'mu11': -185051680.2001953, 'mu02': 134930987454.18365, 'mu30': 176115778254.9375, 'mu21': 417776338746.1133, 'mu12': 38890234024.71484, 'mu03': 2676311195639.547, 'nu20': 0.0006796489325593323, 'nu11': -7.27746714105564e-07, 'nu02': 0.0005306386985763646, 'nu30': 1.7344320571703324e-07, 'nu21': 4.114365457929641e-07, 'nu12': 3.8300071277929786e-08, 'nu03': 2.6356979361393214e-06}\n"
     ]
    }
   ],
   "source": [
    "M=cv2.moments(thresh)\n",
    "print(M) # sözlüğü gördük buradan yola çıkarak ağırlık merkezini bulucaz"
   ]
  },
  {
   "cell_type": "code",
   "execution_count": 4,
   "metadata": {},
   "outputs": [
    {
     "data": {
      "text/plain": [
       "array([[[255, 255, 255],\n",
       "        [255, 255, 255],\n",
       "        [255, 255, 255],\n",
       "        ...,\n",
       "        [255, 255, 255],\n",
       "        [255, 255, 255],\n",
       "        [255, 255, 255]],\n",
       "\n",
       "       [[255, 255, 255],\n",
       "        [255, 255, 255],\n",
       "        [255, 255, 255],\n",
       "        ...,\n",
       "        [255, 255, 255],\n",
       "        [255, 255, 255],\n",
       "        [255, 255, 255]],\n",
       "\n",
       "       [[255, 255, 255],\n",
       "        [255, 255, 255],\n",
       "        [255, 255, 255],\n",
       "        ...,\n",
       "        [255, 255, 255],\n",
       "        [255, 255, 255],\n",
       "        [255, 255, 255]],\n",
       "\n",
       "       ...,\n",
       "\n",
       "       [[255, 255, 255],\n",
       "        [255, 255, 255],\n",
       "        [255, 255, 255],\n",
       "        ...,\n",
       "        [255, 255, 255],\n",
       "        [255, 255, 255],\n",
       "        [255, 255, 255]],\n",
       "\n",
       "       [[255, 255, 255],\n",
       "        [255, 255, 255],\n",
       "        [255, 255, 255],\n",
       "        ...,\n",
       "        [255, 255, 255],\n",
       "        [255, 255, 255],\n",
       "        [255, 255, 255]],\n",
       "\n",
       "       [[255, 255, 255],\n",
       "        [255, 255, 255],\n",
       "        [255, 255, 255],\n",
       "        ...,\n",
       "        [255, 255, 255],\n",
       "        [255, 255, 255],\n",
       "        [255, 255, 255]]], dtype=uint8)"
      ]
     },
     "execution_count": 4,
     "metadata": {},
     "output_type": "execute_result"
    }
   ],
   "source": [
    " # ağırlık merkezinin koordidnatlarını buldurucaz\n",
    "# sonuç float gelebilir ama int tutmayı tercih ediyorum dedi o yüzden int çeviricez\n",
    "x=int(M[\"m10\"]/M[\"m00\"])\n",
    "y=int(M[\"m01\"]/M[\"m00\"]) # bir sonraki dosyada anlıyorsun m00 alanmış\n",
    "# bunları ezbere bil aklında 10 x ve 01 y olarak var zaten 00 ı da bölünecek olarak bil altında yatan matematiği araştır \n",
    "cv2.circle(img,(x,y),3,(0,0,255),-1)\n"
   ]
  },
  {
   "cell_type": "code",
   "execution_count": 5,
   "metadata": {},
   "outputs": [],
   "source": [
    "cv2.imshow(\"img\",img)\n",
    "cv2.waitKey(0)\n",
    "cv2.destroyAllWindows()"
   ]
  },
  {
   "cell_type": "code",
   "execution_count": null,
   "metadata": {},
   "outputs": [],
   "source": []
  }
 ],
 "metadata": {
  "kernelspec": {
   "display_name": "Python 3",
   "language": "python",
   "name": "python3"
  },
  "language_info": {
   "codemirror_mode": {
    "name": "ipython",
    "version": 3
   },
   "file_extension": ".py",
   "mimetype": "text/x-python",
   "name": "python",
   "nbconvert_exporter": "python",
   "pygments_lexer": "ipython3",
   "version": "3.10.12"
  },
  "orig_nbformat": 4
 },
 "nbformat": 4,
 "nbformat_minor": 2
}
