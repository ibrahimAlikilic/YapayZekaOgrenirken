{
 "cells": [
  {
   "cell_type": "markdown",
   "metadata": {},
   "source": [
    "np.uint negatif sayılar yok demek\n",
    "np.int ile farkı bu yani"
   ]
  },
  {
   "cell_type": "code",
   "execution_count": 1,
   "metadata": {},
   "outputs": [],
   "source": [
    "import numpy as np"
   ]
  },
  {
   "cell_type": "code",
   "execution_count": 10,
   "metadata": {},
   "outputs": [
    {
     "name": "stdout",
     "output_type": "stream",
     "text": [
      "(2, 2, 4)\n",
      "3\n",
      "int8\n",
      "16\n",
      "[[[-2 -2]\n",
      "  [ 9  9]]\n",
      "\n",
      " [[-1 -1]\n",
      "  [ 4  4]]\n",
      "\n",
      " [[ 0  0]\n",
      "  [ 5  5]]\n",
      "\n",
      " [[ 5  5]\n",
      "  [-7 -7]]]\n"
     ]
    }
   ],
   "source": [
    "x=np.array([[[-2,-1,0,5],[9,4,5,-7]],[[-2,-1,0,5],[9,4,5,-7]]],np.int8)\n",
    "print(x.shape) # satır ve sütun sayısını verir # ilk yazan derinliği\n",
    "print(x.ndim) # n dimension yani kaç boyutlu olduğu\n",
    "print(x.dtype)\n",
    "print(x.size) # eleman sayısı\n",
    "print(x.T) # devriğini alma # transpose"
   ]
  },
  {
   "cell_type": "code",
   "execution_count": null,
   "metadata": {},
   "outputs": [],
   "source": []
  }
 ],
 "metadata": {
  "kernelspec": {
   "display_name": "Python 3",
   "language": "python",
   "name": "python3"
  },
  "language_info": {
   "codemirror_mode": {
    "name": "ipython",
    "version": 3
   },
   "file_extension": ".py",
   "mimetype": "text/x-python",
   "name": "python",
   "nbconvert_exporter": "python",
   "pygments_lexer": "ipython3",
   "version": "3.11.4"
  }
 },
 "nbformat": 4,
 "nbformat_minor": 2
}
