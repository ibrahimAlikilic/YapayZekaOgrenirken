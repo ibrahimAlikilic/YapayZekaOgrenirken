{
 "cells": [
  {
   "cell_type": "code",
   "execution_count": 1,
   "metadata": {},
   "outputs": [],
   "source": [
    "import cv2\n",
    "import numpy as np"
   ]
  },
  {
   "cell_type": "code",
   "execution_count": 12,
   "metadata": {},
   "outputs": [],
   "source": [
    "canvas=np.zeros((150,7500,3),dtype=np.uint8)+255 # diyerek siyahı beyaz yaptık\n",
    "def Gosterim(hangiCanvas):\n",
    "    cv2.imshow(\"Canvas gözüküyor\",hangiCanvas)\n",
    "    cv2.waitKey(0)\n",
    "    cv2.destroyAllWindows()"
   ]
  },
  {
   "cell_type": "code",
   "execution_count": 8,
   "metadata": {},
   "outputs": [],
   "source": [
    "font1=cv2.FONT_HERSHEY_SIMPLEX\n",
    "font2=cv2.FONT_HERSHEY_COMPLEX\n",
    "font3=cv2.FONT_HERSHEY_SCRIPT_COMPLEX"
   ]
  },
  {
   "cell_type": "code",
   "execution_count": 11,
   "metadata": {},
   "outputs": [],
   "source": [
    "cv2.putText(canvas,\"İlk Yazı Denemem\",(100,100),font3,4,(0,0,0),cv2.LINE_AA)# girmiş olduğum kordinat yazının ilk karakterinin sol alt köşesidir , + yazı büyüklüğü , (0,0,0) yazı rengi en sonuncu da yazının tipi\n",
    "Gosterim(canvas)"
   ]
  },
  {
   "cell_type": "code",
   "execution_count": null,
   "metadata": {},
   "outputs": [],
   "source": []
  }
 ],
 "metadata": {
  "kernelspec": {
   "display_name": "Python 3",
   "language": "python",
   "name": "python3"
  },
  "language_info": {
   "codemirror_mode": {
    "name": "ipython",
    "version": 3
   },
   "file_extension": ".py",
   "mimetype": "text/x-python",
   "name": "python",
   "nbconvert_exporter": "python",
   "pygments_lexer": "ipython3",
   "version": "3.11.4"
  },
  "orig_nbformat": 4
 },
 "nbformat": 4,
 "nbformat_minor": 2
}
