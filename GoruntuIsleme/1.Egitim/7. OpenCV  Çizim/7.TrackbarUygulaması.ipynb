{
 "cells": [
  {
   "cell_type": "code",
   "execution_count": 5,
   "metadata": {},
   "outputs": [],
   "source": [
    "import cv2\n",
    "import numpy as np"
   ]
  },
  {
   "cell_type": "code",
   "execution_count": 6,
   "metadata": {},
   "outputs": [],
   "source": [
    "def nothing(x):\n",
    "    pass"
   ]
  },
  {
   "cell_type": "code",
   "execution_count": 7,
   "metadata": {},
   "outputs": [],
   "source": [
    "img=np.zeros((512,512,3),np.uint8)\n",
    "cv2.namedWindow(\"image\") #Tradebar ara yüzünü bu pencereye yerleştireceğimizi belirtmek için isim veriyoruz"
   ]
  },
  {
   "cell_type": "code",
   "execution_count": 8,
   "metadata": {},
   "outputs": [],
   "source": [
    "cv2.createTrackbar(\"R\",\"image\",0,255,nothing)# adı , pencerenin adı , başlangıç değeri , bitiş değeri , boş fonksiyonistiyor çalışma prensibi bu\n",
    "cv2.createTrackbar(\"G\",\"image\",0,255,nothing)\n",
    "cv2.createTrackbar(\"B\",\"image\",0,255,nothing)\n",
    "switch=\"0: OFF, 1: ON\"\n",
    "cv2.createTrackbar(switch,\"image\",0,1,nothing)\n",
    "#cv2.waitKey(0) # olmayınca gelip gidiyor # sadece üst kısımda bu var alt tarafla bütün olması için bekleme süresi olmaması lazım\n",
    "while True:\n",
    "    cv2.imshow(\"image\",img)\n",
    "    if cv2.waitKey(1)& 0xFF==ord(\"q\"):\n",
    "        break\n",
    "    # kızakların konumlarını alıp değişken içerisinde saklayacağız\n",
    "    r=cv2.getTrackbarPos(\"R\",\"image\") # kızak adı , pencere\n",
    "    g=cv2.getTrackbarPos(\"G\",\"image\") # kızak adı , pencere\n",
    "    b=cv2.getTrackbarPos(\"B\",\"image\") # kızak adı , pencere\n",
    "    # aldığım değerleri pencereye göndericem ki renk değişebilsin\n",
    "    s=cv2.getTrackbarPos(switch,\"image\")\n",
    "    if s==0:\n",
    "        img[:]=[0,0,0]\n",
    "    else:\n",
    "        img[:]=[b,g,r]\n",
    "    \n",
    "\n",
    "cv2.destroyAllWindows()"
   ]
  },
  {
   "cell_type": "code",
   "execution_count": null,
   "metadata": {},
   "outputs": [],
   "source": []
  }
 ],
 "metadata": {
  "kernelspec": {
   "display_name": "Python 3",
   "language": "python",
   "name": "python3"
  },
  "language_info": {
   "codemirror_mode": {
    "name": "ipython",
    "version": 3
   },
   "file_extension": ".py",
   "mimetype": "text/x-python",
   "name": "python",
   "nbconvert_exporter": "python",
   "pygments_lexer": "ipython3",
   "version": "3.11.4"
  },
  "orig_nbformat": 4
 },
 "nbformat": 4,
 "nbformat_minor": 2
}
