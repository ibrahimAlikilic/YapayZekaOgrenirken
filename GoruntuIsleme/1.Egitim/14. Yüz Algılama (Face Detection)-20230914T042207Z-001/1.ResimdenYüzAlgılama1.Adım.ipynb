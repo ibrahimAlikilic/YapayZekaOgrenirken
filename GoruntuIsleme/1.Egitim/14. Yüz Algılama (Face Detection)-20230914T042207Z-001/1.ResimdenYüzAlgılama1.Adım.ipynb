{
 "cells": [
  {
   "cell_type": "code",
   "execution_count": 1,
   "metadata": {},
   "outputs": [],
   "source": [
    "import cv2"
   ]
  },
  {
   "cell_type": "code",
   "execution_count": 2,
   "metadata": {},
   "outputs": [],
   "source": [
    "img=cv2.imread(\"4.2 face.png.png\")\n",
    "face_cascade=cv2.CascadeClassifier(\"Haar cascade\\\\4.1 frontalface.xml.xml\")\n",
    "gray=cv2.cvtColor(img,cv2.COLOR_BGR2GRAY)"
   ]
  },
  {
   "cell_type": "code",
   "execution_count": 3,
   "metadata": {},
   "outputs": [
    {
     "name": "stdout",
     "output_type": "stream",
     "text": [
      "[[151  48 138 138]]\n"
     ]
    }
   ],
   "source": [
    "# dahil ettiğim cascade fonksiyonunu kullanarak yüzleri algılaayacağım\n",
    "# kullanacağım fonkisyon bana resimde bulduğu yüzlerin kordinatlarını verecek\n",
    "faces=face_cascade.detectMultiScale(gray,1.3,5) # bana yüzleri bul diyorum # 4 adet değişken atamış oluyor 2 tanesi yüzün sol üst kordinatını 2 tanesi en ve boy oluyor\n",
    "                                   # nerede arıcam , resmi kaç oranında küçülteceğim ( ölçeklendirme ) , en az kaç pencere yüz bulacak ki ben yüz bulmul olduğuna emin olayım\n",
    "print(faces) "
   ]
  },
  {
   "cell_type": "code",
   "execution_count": 4,
   "metadata": {},
   "outputs": [],
   "source": [
    "for (x,y,w,h) in faces:\n",
    "    cv2.rectangle(img,(x,y),(x+w,y+h),(0,0,255),2)\n",
    "cv2.imshow(\"img\",img)\n",
    "cv2.waitKey(0)\n",
    "cv2.destroyAllWindows()"
   ]
  },
  {
   "cell_type": "code",
   "execution_count": 5,
   "metadata": {},
   "outputs": [
    {
     "name": "stdout",
     "output_type": "stream",
     "text": [
      "Help on built-in function detectMultiScale:\n",
      "\n",
      "detectMultiScale(...) method of cv2.HOGDescriptor instance\n",
      "    detectMultiScale(img[, hitThreshold[, winStride[, padding[, scale[, groupThreshold[, useMeanshiftGrouping]]]]]]) -> foundLocations, foundWeights\n",
      "    .   @brief Detects objects of different sizes in the input image. The detected objects are returned as a list\n",
      "    .       of rectangles.\n",
      "    .       @param img Matrix of the type CV_8U or CV_8UC3 containing an image where objects are detected.\n",
      "    .       @param foundLocations Vector of rectangles where each rectangle contains the detected object.\n",
      "    .       @param foundWeights Vector that will contain confidence values for each detected object.\n",
      "    .       @param hitThreshold Threshold for the distance between features and SVM classifying plane.\n",
      "    .       Usually it is 0 and should be specified in the detector coefficients (as the last free coefficient).\n",
      "    .       But if the free coefficient is omitted (which is allowed), you can specify it manually here.\n",
      "    .       @param winStride Window stride. It must be a multiple of block stride.\n",
      "    .       @param padding Padding\n",
      "    .       @param scale Coefficient of the detection window increase.\n",
      "    .       @param groupThreshold Coefficient to regulate the similarity threshold. When detected, some objects can be covered\n",
      "    .       by many rectangles. 0 means not to perform grouping.\n",
      "    .       @param useMeanshiftGrouping indicates grouping algorithm\n",
      "\n"
     ]
    }
   ],
   "source": [
    "help(cv2.HOGDescriptor().detectMultiScale)"
   ]
  },
  {
   "cell_type": "code",
   "execution_count": null,
   "metadata": {},
   "outputs": [],
   "source": []
  }
 ],
 "metadata": {
  "kernelspec": {
   "display_name": "Python 3",
   "language": "python",
   "name": "python3"
  },
  "language_info": {
   "codemirror_mode": {
    "name": "ipython",
    "version": 3
   },
   "file_extension": ".py",
   "mimetype": "text/x-python",
   "name": "python",
   "nbconvert_exporter": "python",
   "pygments_lexer": "ipython3",
   "version": "3.11.4"
  },
  "orig_nbformat": 4
 },
 "nbformat": 4,
 "nbformat_minor": 2
}
