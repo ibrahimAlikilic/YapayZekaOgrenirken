{
 "cells": [
  {
   "cell_type": "markdown",
   "metadata": {},
   "source": [
    "2 çizgi çizicez bu çizgilerin arasından araç geçince sayacı 1 arttır diyeceğiz"
   ]
  },
  {
   "cell_type": "code",
   "execution_count": 2,
   "metadata": {},
   "outputs": [],
   "source": [
    "import cv2\n",
    "import numpy as np"
   ]
  },
  {
   "cell_type": "code",
   "execution_count": 3,
   "metadata": {},
   "outputs": [],
   "source": [
    "vid=cv2.VideoCapture(\"4.2 traffic.avi.avi\")\n",
    "# arka planı bir değişken içerisinde tutacağız\n",
    "backsub=cv2.createBackgroundSubtractorMOG2() # ekiden ayrıntılı notları yazmıştım linki incelemek istresen google görüntü işleme kloseründe duruyor\n",
    "# araç saymak için değişken\n",
    "c=0"
   ]
  },
  {
   "cell_type": "code",
   "execution_count": 4,
   "metadata": {},
   "outputs": [],
   "source": [
    "# erkenden fgmask görmek için\n",
    "# while True:\n",
    "#     ret,frame=vid.read()\n",
    "#     # frame ler doğru çekilince ret=true olur bu bilgiyle\n",
    "#     if ret:\n",
    "#         fgmask=backsub.apply(frame) # frame nin arka planınını çıkardık\n",
    "#         cv2.imshow(\"fgmask\",fgmask)\n",
    "#         if cv2.waitKey(17)&0xFF==ord('q'):\n",
    "#             break\n",
    "# vid.release\n",
    "# cv2.destroyAllWindows()"
   ]
  },
  {
   "cell_type": "code",
   "execution_count": 5,
   "metadata": {},
   "outputs": [
    {
     "ename": "",
     "evalue": "",
     "output_type": "error",
     "traceback": [
      "\u001b[1;31mThe Kernel crashed while executing code in the the current cell or a previous cell. Please review the code in the cell(s) to identify a possible cause of the failure. Click <a href='https://aka.ms/vscodeJupyterKernelCrash'>here</a> for more info. View Jupyter <a href='command:jupyter.viewOutput'>log</a> for further details."
     ]
    }
   ],
   "source": [
    "while True:\n",
    "    ret,frame=vid.read()\n",
    "    # frame ler doğru çekilince ret=true olur bu bilgiyle\n",
    "    if ret:\n",
    "        fgmask=backsub.apply(frame) # frame nin arka planınını çıkardık\n",
    "        # video boyutundan bakarak çizgiyi çekiyoz hoca bakmış direk kullanıyorum\n",
    "        cv2.line(frame,(50,0),(50,300),(0,255,0),2)\n",
    "        cv2.line(frame,(70,0),(70,300),(0,255,0),2)\n",
    "        # şimdi araç koordinatlarını bulacapız\n",
    "        contours,hierarchy=cv2.findContours(fgmask,cv2.RETR_TREE,cv2.CHAIN_APPROX_SIMPLE) # hierarchy hata almamak için kullanıyoruz\n",
    "        \n",
    "        # hata alma ihtimalimizden dolayı try except yapıyoruz\n",
    "        try:\n",
    "            hierarchy=hierarchy[0]\n",
    "        except:\n",
    "            hierarchy=[]\n",
    "            \n",
    "        # döngü sayesinde counterları çekicez , çok fazla değer aldıklarından zip içerisinde tutucaz tekrar tekrar çekebilmek için\n",
    "        for contour,hier in zip(contours,hierarchy):\n",
    "            (x,y,w,h)=cv2.boundingRect(contour)\n",
    "            if w>40 and h>40 : # boyut büyükse araba var demektir\n",
    "                cv2.rectangle(frame,(x,y),(x+w,y+h),(255,0,0),3)\n",
    "                if x>50 and x<70: # çizdiğim çizgiler arasında mı diye baktım\n",
    "                    c+=1\n",
    "        # şimdi araç sayısını belirtmek için yazı yazıcam\n",
    "        cv2.putText(frame,\"car : \"+str(c),(90,100),cv2.FONT_HERSHEY_SIMPLEX,2,(0,0,255),2,cv2.LINE_AA) # (90,100)=yazı koordinatı\n",
    "        cv2.imshow(\"frame\",frame)\n",
    "        cv2.imshow(\"fgmask\",fgmask)\n",
    "        if cv2.waitKey(20)&0xFF==ord('q'):\n",
    "            break\n",
    "vid.release()\n",
    "cv2.destroyAllWindows()"
   ]
  },
  {
   "cell_type": "code",
   "execution_count": null,
   "metadata": {},
   "outputs": [],
   "source": []
  }
 ],
 "metadata": {
  "kernelspec": {
   "display_name": "Python 3",
   "language": "python",
   "name": "python3"
  },
  "language_info": {
   "codemirror_mode": {
    "name": "ipython",
    "version": 3
   },
   "file_extension": ".py",
   "mimetype": "text/x-python",
   "name": "python",
   "nbconvert_exporter": "python",
   "pygments_lexer": "ipython3",
   "version": "3.11.4"
  }
 },
 "nbformat": 4,
 "nbformat_minor": 2
}
