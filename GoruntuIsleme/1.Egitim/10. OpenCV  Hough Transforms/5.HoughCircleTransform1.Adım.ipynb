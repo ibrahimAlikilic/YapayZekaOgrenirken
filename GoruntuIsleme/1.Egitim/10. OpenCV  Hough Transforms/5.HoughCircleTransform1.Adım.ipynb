{
 "cells": [
  {
   "cell_type": "code",
   "execution_count": 1,
   "metadata": {},
   "outputs": [],
   "source": [
    "import cv2\n",
    "import numpy as np"
   ]
  },
  {
   "cell_type": "code",
   "execution_count": 2,
   "metadata": {},
   "outputs": [],
   "source": [
    "img1=cv2.imread(\"5.1 coins.jpg.jpg\")\n",
    "gray1=cv2.cvtColor(img1,cv2.COLOR_BGR2GRAY)"
   ]
  },
  {
   "cell_type": "code",
   "execution_count": 3,
   "metadata": {},
   "outputs": [],
   "source": [
    "# gürültüleri yok etmek için medyan blur kullanucaz\n",
    "img1_blur=cv2.medianBlur(gray1,5)"
   ]
  },
  {
   "cell_type": "code",
   "execution_count": 4,
   "metadata": {},
   "outputs": [],
   "source": [
    "# şimdi çemberleri arayacağız\n",
    "# resim , algılama yöntemi ( sabit bir şey tek tanımlanmış olan bu var) , çözünürlük oranı = 1 dedik , tespit edilen çemberler arası minimum mesafe genel olarak uygulanan ( img1shape[0]/64), metoda özel girilmesi gereken 2 değer ,tahmini max ve min yariçaplar\n",
    "circles=cv2.HoughCircles(img1_blur,cv2.HOUGH_GRADIENT,1,img1.shape[0]/64,param1=200,param2=10,minRadius=5,maxRadius=30)"
   ]
  },
  {
   "cell_type": "markdown",
   "metadata": {},
   "source": [
    "# circles = cv2.HoughCircles(image, method, dp, minDist[, param1[, param2[, minRadius[, maxRadius]]]]])\n",
    "görüntü: 8 bit, tek kanallı, gri tonlamalı giriş görüntüsü\n",
    "<br>yöntem: HOUGH_GRADIENT ve HOUGH_GRADIENT_ALT\n",
    "<br>dp: Akümülatör çözünürlüğü ile görüntü çözünürlüğünün ters oranı\n",
    "<br>minDist: Algılanan dairelerin merkezleri arasındaki minimum mesafe. Yukarıda açıklandığı gibi bu mesafenin altındaki tüm adaylar ihmal edilir.\n",
    "<br>param1: Canny kenar dedektörüne iletilen ikisinin daha yüksek eşiğidir (alt canny eşiği iki kat daha küçüktür)\n",
    "<br>param2: yukarıda tartışıldığı gibi algılama aşamasında daire merkezleri için biriktirici eşiğidir.\n",
    "<br>minRadius: beklediğiniz minimum yarıçap. Bilinmiyorsa varsayılan olarak sıfır koyun.\n",
    "<br>maxRadius: -ve ise, yarıçap araması yapılmadan yalnızca daire merkezleri döndürülür. Bilinmiyorsa varsayılan olarak sıfır koyun."
   ]
  },
  {
   "cell_type": "code",
   "execution_count": 5,
   "metadata": {},
   "outputs": [
    {
     "data": {
      "text/plain": [
       "'teorik olarak açıklamalı kısım\\n# algılanan çemberleri işaretleyeceğiz\\nif circles is not None : # boş değilse demek\\n    circles=np.uint16(np.around(circles)) # circles içerisinde tuttuğu değerleri yuvarlayıp tekrardan circle verdşk\\n    for i in circles[0,:]: # 0. indisten son indise kadar gez dedik\\n        # tutulan değerlerden 1 ve 2. merkez kordinatı 3. ise yarıçap\\n        cv2.circle(img1,(i[0],i[1]),i[2],(0,0,255),3)\\ncv2.imshow(\"img1\",img1)\\ncv2.waitKey(0)\\ncv2.destroyAllWindows()\\n'"
      ]
     },
     "execution_count": 5,
     "metadata": {},
     "output_type": "execute_result"
    }
   ],
   "source": [
    "'''teorik olarak açıklamalı kısım\n",
    "# algılanan çemberleri işaretleyeceğiz\n",
    "if circles is not None : # boş değilse demek\n",
    "    circles=np.uint16(np.around(circles)) # circles içerisinde tuttuğu değerleri yuvarlayıp tekrardan circle verdşk\n",
    "    for i in circles[0,:]: # 0. indisten son indise kadar gez dedik\n",
    "        # tutulan değerlerden 1 ve 2. merkez kordinatı 3. ise yarıçap\n",
    "        cv2.circle(img1,(i[0],i[1]),i[2],(0,0,255),3)\n",
    "cv2.imshow(\"img1\",img1)\n",
    "cv2.waitKey(0)\n",
    "cv2.destroyAllWindows()\n",
    "'''"
   ]
  },
  {
   "cell_type": "code",
   "execution_count": 6,
   "metadata": {},
   "outputs": [
    {
     "name": "stderr",
     "output_type": "stream",
     "text": [
      "qt.qpa.plugin: Could not find the Qt platform plugin \"wayland\" in \"/home/ibrahim/.local/lib/python3.10/site-packages/cv2/qt/plugins\"\n"
     ]
    }
   ],
   "source": [
    "# çok buldu o yüzden boyutlarla oynayıp düzenleyeceğiz\n",
    "circles=cv2.HoughCircles(img1_blur,cv2.HOUGH_GRADIENT,1,img1.shape[0]/4,param1=200,param2=10,minRadius=15,maxRadius=89) # /64 ü 4 yaptık , radius değerlerini değiştirdik çünkü 1 çember içinde çok çember vardı\n",
    "if circles is not None : \n",
    "    circles=np.uint16(np.around(circles)) \n",
    "    for i in circles[0,:]: \n",
    "        cv2.circle(img1,(i[0],i[1]),i[2],(0,0,255),3)\n",
    "cv2.imshow(\"img1\",img1)\n",
    "cv2.waitKey(0)\n",
    "cv2.destroyAllWindows()\n",
    "# ilk önce üsttekini yapınca değerler karışıyor o yüzden resetleyip yap ve\n",
    "# yarıçapları bulmak için photoshop ya da paint kullan daha rahat deneme yanılmadan"
   ]
  },
  {
   "cell_type": "code",
   "execution_count": null,
   "metadata": {},
   "outputs": [],
   "source": []
  }
 ],
 "metadata": {
  "kernelspec": {
   "display_name": "Python 3",
   "language": "python",
   "name": "python3"
  },
  "language_info": {
   "codemirror_mode": {
    "name": "ipython",
    "version": 3
   },
   "file_extension": ".py",
   "mimetype": "text/x-python",
   "name": "python",
   "nbconvert_exporter": "python",
   "pygments_lexer": "ipython3",
   "version": "3.10.12"
  },
  "orig_nbformat": 4
 },
 "nbformat": 4,
 "nbformat_minor": 2
}
