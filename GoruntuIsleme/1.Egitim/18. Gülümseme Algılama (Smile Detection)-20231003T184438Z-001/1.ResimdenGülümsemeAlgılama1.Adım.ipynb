{
 "cells": [
  {
   "cell_type": "code",
   "execution_count": 10,
   "metadata": {},
   "outputs": [],
   "source": [
    "import cv2"
   ]
  },
  {
   "cell_type": "code",
   "execution_count": 11,
   "metadata": {},
   "outputs": [],
   "source": [
    "face_cascade=cv2.CascadeClassifier(\"Haar cascade\\\\4.1 frontalface.xml.xml\")\n",
    "smile_cascade=cv2.CascadeClassifier(\"Haar cascade\\\\4.2 smile.xml.xml\")\n",
    "img=cv2.imread(\"4.1 smile.jpg.jpg\")\n",
    "gray=cv2.cvtColor(img,cv2.COLOR_BGR2GRAY)\n",
    "faces=face_cascade.detectMultiScale(gray,1.3,5)"
   ]
  },
  {
   "cell_type": "code",
   "execution_count": 12,
   "metadata": {},
   "outputs": [],
   "source": [
    "# yüze dikdörtgen çizip doğru algılamış mı diye kontrol ediyoruz\n",
    "for (x,y,w,h) in faces:\n",
    "    cv2.rectangle(img,(x,y),(x+w,y+h),(255,0,0),3)\n",
    "cv2.imshow(\"img\",img)\n",
    "cv2.waitKey(0)\n",
    "cv2.destroyAllWindows()"
   ]
  },
  {
   "cell_type": "code",
   "execution_count": 13,
   "metadata": {},
   "outputs": [],
   "source": [
    "# şimdi yüzü ayrı bir roiye tutturup gülümseme arayacağım\n",
    "roi_img=img[y:y+h,x:x+w]\n",
    "#roi_gray=gray[y:y+h,x:x+w] \n",
    "roi_gray=cv2.cvtColor(roi_img,cv2.COLOR_BGR2GRAY)# bu da olur , üstteki de olur\n",
    "smiels=smile_cascade.detectMultiScale(roi_gray,1.5,5)\n",
    "for (xs,ys,ws,hs) in smiels:\n",
    "    cv2.rectangle(roi_img,(xs,ys),(xs+ws,ys+hs),(0,0,255),2)\n",
    "cv2.imshow(\"img\",img)\n",
    "cv2.waitKey(0)\n",
    "cv2.destroyAllWindows()"
   ]
  },
  {
   "cell_type": "code",
   "execution_count": null,
   "metadata": {},
   "outputs": [],
   "source": []
  }
 ],
 "metadata": {
  "kernelspec": {
   "display_name": "Python 3",
   "language": "python",
   "name": "python3"
  },
  "language_info": {
   "codemirror_mode": {
    "name": "ipython",
    "version": 3
   },
   "file_extension": ".py",
   "mimetype": "text/x-python",
   "name": "python",
   "nbconvert_exporter": "python",
   "pygments_lexer": "ipython3",
   "version": "3.11.4"
  },
  "orig_nbformat": 4
 },
 "nbformat": 4,
 "nbformat_minor": 2
}
