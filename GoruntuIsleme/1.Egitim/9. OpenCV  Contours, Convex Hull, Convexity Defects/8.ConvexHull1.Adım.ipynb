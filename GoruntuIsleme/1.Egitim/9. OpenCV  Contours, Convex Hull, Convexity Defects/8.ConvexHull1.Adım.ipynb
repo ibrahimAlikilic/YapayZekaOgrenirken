{
 "cells": [
  {
   "cell_type": "code",
   "execution_count": 1,
   "metadata": {},
   "outputs": [],
   "source": [
    "import cv2\n",
    "import numpy as np"
   ]
  },
  {
   "cell_type": "code",
   "execution_count": 2,
   "metadata": {},
   "outputs": [],
   "source": [
    "img=cv2.imread(\"8.1 map.jpg.jpg\")"
   ]
  },
  {
   "cell_type": "code",
   "execution_count": 3,
   "metadata": {},
   "outputs": [],
   "source": [
    "# baynerize edicez yani 0 ve 1lerden oluşan hale getiricez\n",
    "gray=cv2.cvtColor(img,cv2.COLOR_BGR2GRAY)\n",
    "blur=cv2.blur(gray,(3,3))\n",
    "ret,thresh=cv2.threshold(blur,75,255,cv2.THRESH_BINARY)"
   ]
  },
  {
   "cell_type": "code",
   "execution_count": 4,
   "metadata": {},
   "outputs": [],
   "source": [
    "cv2.imshow(\"img\",img)\n",
    "cv2.imshow(\"gray\",gray)\n",
    "cv2.imshow(\"blur\",blur)\n",
    "cv2.imshow(\"thresh\",thresh)\n",
    "cv2.waitKey(0)\n",
    "cv2.destroyAllWindows()"
   ]
  },
  {
   "cell_type": "code",
   "execution_count": 5,
   "metadata": {},
   "outputs": [],
   "source": [
    "# şimdi baktık afrika kıtası kaybolmuş ama biz bunu istemiyoruz bunu düzeltmek için min thresh değerini biraz daha düşürüyoruz"
   ]
  },
  {
   "cell_type": "code",
   "execution_count": 6,
   "metadata": {},
   "outputs": [],
   "source": [
    "# karışmasın diye tüm aşamalar en baştan yapıyorum\n",
    "img=cv2.imread(\"8.1 map.jpg.jpg\")\n",
    "gray=cv2.cvtColor(img,cv2.COLOR_BGR2GRAY)\n",
    "blur=cv2.blur(gray,(3,3))\n",
    "ret,thresh=cv2.threshold(blur,40,255,cv2.THRESH_BINARY)\n",
    "cv2.imshow(\"thresh\",thresh)\n",
    "cv2.waitKey(0)\n",
    "cv2.destroyAllWindows()"
   ]
  },
  {
   "cell_type": "code",
   "execution_count": 7,
   "metadata": {},
   "outputs": [],
   "source": [
    "counters,hierarchy=cv2.findContours(thresh,cv2.RETR_TREE,cv2.CHAIN_APPROX_SIMPLE)"
   ]
  },
  {
   "cell_type": "code",
   "execution_count": 8,
   "metadata": {},
   "outputs": [],
   "source": [
    "# boş b,r d,z, oluşturucam bulduğum noktaları bu dizinin içerisine atıcam\n",
    "hull=[]\n",
    "for i in range(len(counters)):\n",
    "    hull.append(cv2.convexHull(counters[i],False)) #returnPoints=False olunca kendileri değil indisleri dönüyor True ise değerin kendisini döndürüyor * returnPoints= yazınca 13 aşama hata verdi neden bilmiyorum ama sen onu false olduğunu bil"
   ]
  },
  {
   "cell_type": "code",
   "execution_count": 9,
   "metadata": {},
   "outputs": [],
   "source": [
    "# siyah bir ekrana çizeceğim için siyah bir ekran oluşturuyorum\n",
    "# thresh.shape thresh in boyutudur 0 der ilk değeri 1 der ikinci değerini alırız\n",
    "bg=np.zeros((thresh.shape[0],thresh.shape[1],3),np.uint8)"
   ]
  },
  {
   "cell_type": "code",
   "execution_count": 10,
   "metadata": {},
   "outputs": [],
   "source": [
    "for i in range(len(counters)):\n",
    "    cv2.drawContours(bg,counters,i,(255,0,0),3,8,hierarchy) # neyin üstüne çizeceğim , neyi çizeceğim , indisler , renk , kalınlık , çizgi tipi ( 8 demek kesintisiz çizgi demek) , bazı konturları çizmek için kullanılan parametre burada olmasa da olur\n",
    "    cv2.drawContours(bg,hull,i,(0,0,255),1,8) # hull tuttuğu değerleri çizdirdim\n"
   ]
  },
  {
   "cell_type": "code",
   "execution_count": 11,
   "metadata": {},
   "outputs": [],
   "source": [
    "cv2.imshow(\"bg\",bg)\n",
    "cv2.waitKey(0)\n",
    "cv2.destroyAllWindows()"
   ]
  },
  {
   "cell_type": "code",
   "execution_count": null,
   "metadata": {},
   "outputs": [],
   "source": []
  }
 ],
 "metadata": {
  "kernelspec": {
   "display_name": "Python 3",
   "language": "python",
   "name": "python3"
  },
  "language_info": {
   "codemirror_mode": {
    "name": "ipython",
    "version": 3
   },
   "file_extension": ".py",
   "mimetype": "text/x-python",
   "name": "python",
   "nbconvert_exporter": "python",
   "pygments_lexer": "ipython3",
   "version": "3.10.12"
  },
  "orig_nbformat": 4
 },
 "nbformat": 4,
 "nbformat_minor": 2
}
