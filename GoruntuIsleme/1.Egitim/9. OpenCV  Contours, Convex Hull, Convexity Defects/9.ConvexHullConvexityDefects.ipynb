{
 "cells": [
  {
   "cell_type": "code",
   "execution_count": 1,
   "metadata": {},
   "outputs": [],
   "source": [
    "import cv2\n",
    "import numpy as np"
   ]
  },
  {
   "cell_type": "code",
   "execution_count": 2,
   "metadata": {},
   "outputs": [],
   "source": [
    "img=cv2.imread(\"9.1 star.png.png\")\n",
    "gray=cv2.cvtColor(img,cv2.COLOR_BGR2GRAY)\n",
    "ret,thresh=cv2.threshold(gray,127,255,0) # normalden farklı yapıp 0 verdik hata verdiği için boş bırakalım dedi hoca\n",
    "cv2.imshow(\"thresh\",thresh)\n",
    "cv2.waitKey(0)\n",
    "cv2.destroyAllWindows()"
   ]
  },
  {
   "cell_type": "code",
   "execution_count": 3,
   "metadata": {},
   "outputs": [],
   "source": [
    "contours,_=cv2.findContours(thresh,2,1) # counter larımı buldum , normalden farklı yapıp \n",
    "cnt=contours[0]  \n",
    "hull=cv2.convexHull(cnt,returnPoints=False) #returnPoints=False olunca kendileri değil indisleri dönüyor verdik hata oldu hoca böyle yapalım dedi\n",
    "defects=cv2.convexityDefects(cnt,hull)\n",
    "\n",
    "for i in range(defects.shape[0]):\n",
    "    s,e,f,d=defects[i,0] # start , end , fardest , distence point demek\n",
    "    start=tuple(cnt[s][0])\n",
    "    end=tuple(cnt[e][0])\n",
    "    far=tuple(cnt[f][0])\n",
    "    cv2.line(img,start,end,[0,255,0],2) # img, başlangıç noktası , bitiş noktası , renk , kalınlık\n",
    "    \n",
    "    # iç noktalara birer çember çizeceğim\n",
    "    cv2.circle(img,far,5,[0,0,255],-1)"
   ]
  },
  {
   "cell_type": "code",
   "execution_count": 4,
   "metadata": {},
   "outputs": [],
   "source": [
    "cv2.imshow(\"img\",img)\n",
    "cv2.waitKey(0)\n",
    "cv2.destroyAllWindows()"
   ]
  },
  {
   "cell_type": "code",
   "execution_count": null,
   "metadata": {},
   "outputs": [],
   "source": []
  }
 ],
 "metadata": {
  "kernelspec": {
   "display_name": "Python 3",
   "language": "python",
   "name": "python3"
  },
  "language_info": {
   "codemirror_mode": {
    "name": "ipython",
    "version": 3
   },
   "file_extension": ".py",
   "mimetype": "text/x-python",
   "name": "python",
   "nbconvert_exporter": "python",
   "pygments_lexer": "ipython3",
   "version": "3.10.12"
  },
  "orig_nbformat": 4
 },
 "nbformat": 4,
 "nbformat_minor": 2
}
