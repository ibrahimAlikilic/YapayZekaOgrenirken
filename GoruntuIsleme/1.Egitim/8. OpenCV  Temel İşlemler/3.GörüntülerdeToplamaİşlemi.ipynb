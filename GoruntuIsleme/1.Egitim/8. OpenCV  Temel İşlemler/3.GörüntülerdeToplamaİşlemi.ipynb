{
 "cells": [
  {
   "cell_type": "markdown",
   "metadata": {},
   "source": [
    "Resimler de aslında matristir ve matrislerde toplama işlemi yapabilmemiz için aynı boutlarda olmaları gerekit . <br>\n",
    "Bu yüzden resimleri kendimiz oluşturacağız"
   ]
  },
  {
   "cell_type": "code",
   "execution_count": 1,
   "metadata": {},
   "outputs": [],
   "source": [
    "import cv2\n",
    "import numpy as np"
   ]
  },
  {
   "cell_type": "code",
   "execution_count": 2,
   "metadata": {},
   "outputs": [],
   "source": [
    "circle=np.zeros((512,512,3),np.uint8)+255 # beyaz tuval oluşturdum"
   ]
  },
  {
   "cell_type": "code",
   "execution_count": 3,
   "metadata": {},
   "outputs": [],
   "source": [
    "cv2.circle(circle,(256,256),60,(255,0,0),-1)\n",
    "          # neye , (( x,y ),yarıçap , renk , içi dolu olması için -1)\n",
    "rectangle=np.zeros((512,512,3),np.uint8)+255\n",
    "cv2.rectangle(rectangle,(150,150),(350,350),(0,0,255),-1)\n",
    "             # (neye ,(sol üst köşe koordinat),( kaça kadar gidecek ),(renk))\n",
    "cv2.imshow(\"Daire\",circle)\n",
    "cv2.imshow(\"Dikdörtgen\",rectangle)\n",
    "cv2.waitKey(0)\n",
    "cv2.destroyAllWindows()"
   ]
  },
  {
   "cell_type": "code",
   "execution_count": 4,
   "metadata": {},
   "outputs": [
    {
     "name": "stdout",
     "output_type": "stream",
     "text": [
      "[255   0 255]\n"
     ]
    }
   ],
   "source": [
    "# toplamak için add fonksiyonu kullanıcaz\n",
    "add=cv2.add(circle,rectangle)\n",
    "print(add[256,256])"
   ]
  },
  {
   "cell_type": "code",
   "execution_count": 5,
   "metadata": {},
   "outputs": [],
   "source": [
    "cv2.imshow(\"add\",add)\n",
    "cv2.waitKey(0)\n",
    "cv2.destroyAllWindows()"
   ]
  },
  {
   "cell_type": "code",
   "execution_count": null,
   "metadata": {},
   "outputs": [],
   "source": []
  }
 ],
 "metadata": {
  "kernelspec": {
   "display_name": "Python 3",
   "language": "python",
   "name": "python3"
  },
  "language_info": {
   "codemirror_mode": {
    "name": "ipython",
    "version": 3
   },
   "file_extension": ".py",
   "mimetype": "text/x-python",
   "name": "python",
   "nbconvert_exporter": "python",
   "pygments_lexer": "ipython3",
   "version": "3.11.4"
  },
  "orig_nbformat": 4
 },
 "nbformat": 4,
 "nbformat_minor": 2
}
