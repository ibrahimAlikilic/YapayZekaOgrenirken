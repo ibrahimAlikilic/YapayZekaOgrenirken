{
 "cells": [
  {
   "cell_type": "code",
   "execution_count": 1,
   "metadata": {},
   "outputs": [],
   "source": [
    "import cv2\n",
    "import numpy as np"
   ]
  },
  {
   "cell_type": "markdown",
   "metadata": {},
   "source": [
    "siyah kısımlar 0 beyaz kısımlar 1lerden oluşuyor"
   ]
  },
  {
   "cell_type": "code",
   "execution_count": 2,
   "metadata": {},
   "outputs": [],
   "source": [
    "img1=cv2.imread(\"9.2 bitwise_1.png.png\")\n",
    "img2=cv2.imread(\"9.1 bitwise_2.png.png\")"
   ]
  },
  {
   "cell_type": "code",
   "execution_count": 3,
   "metadata": {},
   "outputs": [
    {
     "data": {
      "text/plain": [
       "'\\nsiyah ve siyah = siyah\\nsiyah ve beyaz = siyah\\nbeyaz ve beyaz = beyaz\\n\\n'"
      ]
     },
     "execution_count": 3,
     "metadata": {},
     "output_type": "execute_result"
    }
   ],
   "source": [
    "bit_and=cv2.bitwise_and(img2,img1)\n",
    "'''\n",
    "siyah ve siyah = siyah\n",
    "siyah ve beyaz = siyah\n",
    "beyaz ve beyaz = beyaz\n",
    "\n",
    "'''"
   ]
  },
  {
   "cell_type": "code",
   "execution_count": 4,
   "metadata": {},
   "outputs": [
    {
     "data": {
      "text/plain": [
       "'\\nsiyah veya siyah = siyah\\nsiyah veya beyaz = beyaz\\nbeyaz veya beyaz = beyaz\\n\\n'"
      ]
     },
     "execution_count": 4,
     "metadata": {},
     "output_type": "execute_result"
    }
   ],
   "source": [
    "bit_or=cv2.bitwise_or(img2,img1)\n",
    "'''\n",
    "siyah veya siyah = siyah\n",
    "siyah veya beyaz = beyaz\n",
    "beyaz veya beyaz = beyaz\n",
    "\n",
    "'''"
   ]
  },
  {
   "cell_type": "code",
   "execution_count": 5,
   "metadata": {},
   "outputs": [
    {
     "data": {
      "text/plain": [
       "'\\nsiyah xor siyah = siyah\\nsiyah xor beyaz = beyaz\\nbeyaz xor beyaz = siyah\\n\\n'"
      ]
     },
     "execution_count": 5,
     "metadata": {},
     "output_type": "execute_result"
    }
   ],
   "source": [
    "bit_xor=cv2.bitwise_xor(img2,img1)\n",
    "'''\n",
    "siyah xor siyah = siyah\n",
    "siyah xor beyaz = beyaz\n",
    "beyaz xor beyaz = siyah\n",
    "\n",
    "'''"
   ]
  },
  {
   "cell_type": "code",
   "execution_count": 6,
   "metadata": {},
   "outputs": [
    {
     "data": {
      "text/plain": [
       "'\\nsiyah not = beyaz\\nbeyaz not = siyah\\n'"
      ]
     },
     "execution_count": 6,
     "metadata": {},
     "output_type": "execute_result"
    }
   ],
   "source": [
    "bit_not1 = cv2.bitwise_not(img1)\n",
    "bit_not2 = cv2.bitwise_not(img2)\n",
    "'''\n",
    "siyah not = beyaz\n",
    "beyaz not = siyah\n",
    "'''"
   ]
  },
  {
   "cell_type": "code",
   "execution_count": 7,
   "metadata": {},
   "outputs": [],
   "source": [
    "cv2.imshow(\"img1\",img1)\n",
    "cv2.imshow(\"img2\",img2)\n",
    "cv2.imshow(\"bitwise_and\",bit_and)\n",
    "cv2.imshow(\"bitwise_or\",bit_or)\n",
    "cv2.imshow(\"bitwise_xor\",bit_xor)\n",
    "cv2.imshow(\"bitwise_not1\",bit_not1)\n",
    "cv2.imshow(\"bitwise_not2\",bit_not2)\n",
    "\n",
    "\n",
    "cv2.waitKey()\n",
    "cv2.destroyAllWindows()"
   ]
  },
  {
   "cell_type": "code",
   "execution_count": null,
   "metadata": {},
   "outputs": [],
   "source": []
  }
 ],
 "metadata": {
  "kernelspec": {
   "display_name": "Python 3",
   "language": "python",
   "name": "python3"
  },
  "language_info": {
   "codemirror_mode": {
    "name": "ipython",
    "version": 3
   },
   "file_extension": ".py",
   "mimetype": "text/x-python",
   "name": "python",
   "nbconvert_exporter": "python",
   "pygments_lexer": "ipython3",
   "version": "3.11.4"
  },
  "orig_nbformat": 4
 },
 "nbformat": 4,
 "nbformat_minor": 2
}
