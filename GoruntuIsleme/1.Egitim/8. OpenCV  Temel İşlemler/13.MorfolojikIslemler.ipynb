{
 "cells": [
  {
   "cell_type": "code",
   "execution_count": 2,
   "metadata": {},
   "outputs": [],
   "source": [
    "import cv2\n",
    "import numpy as np"
   ]
  },
  {
   "cell_type": "code",
   "execution_count": 6,
   "metadata": {},
   "outputs": [],
   "source": [
    "img=cv2.imread(\"Helikopter2.jpg\",0) # 0 ile resmi siyah beyaz tonlara çevirmiş olduk"
   ]
  },
  {
   "cell_type": "code",
   "execution_count": 7,
   "metadata": {},
   "outputs": [],
   "source": [
    "kernal=np.ones((5,5),np.uint8)# kılavuzda yazan gibi bir matr,x yaptık\n",
    "erosion=cv2.erode(img,kernal,iterations=1)# iteration = tekrarlamak , kaç tekrar yapacağımızı giriyoruz\n"
   ]
  },
  {
   "cell_type": "code",
   "execution_count": 8,
   "metadata": {},
   "outputs": [],
   "source": [
    "cv2.imshow(\"orijinal\",img)\n",
    "cv2.imshow(\"erosion\",erosion)\n",
    "cv2.waitKey(0)\n",
    "cv2.destroyAllWindows()"
   ]
  },
  {
   "cell_type": "code",
   "execution_count": 10,
   "metadata": {},
   "outputs": [],
   "source": [
    "erosion=cv2.erode(img,kernal,iterations=5)# iterations değişince\n",
    "cv2.imshow(\"orijinal\",img)\n",
    "cv2.imshow(\"erosion\",erosion)\n",
    "cv2.waitKey(0)\n",
    "cv2.destroyAllWindows()"
   ]
  },
  {
   "cell_type": "code",
   "execution_count": 14,
   "metadata": {},
   "outputs": [],
   "source": [
    "kernal=np.ones((7,7),np.uint8)# matris değişince\n",
    "erosion=cv2.erode(img,kernal,iterations=1)# iterations değişince\n",
    "cv2.imshow(\"orijinal\",img)\n",
    "cv2.imshow(\"erosion\",erosion)\n",
    "cv2.waitKey(0)\n",
    "cv2.destroyAllWindows()"
   ]
  },
  {
   "cell_type": "code",
   "execution_count": 18,
   "metadata": {},
   "outputs": [],
   "source": [
    "# dilation = kalınlaştırma\n",
    "kernal=np.ones((5,5),np.uint8)# matris değişince\n",
    "dilation=cv2.dilate(img,kernal,iterations=3)# iterations değişince\n",
    "cv2.imshow(\"orijinal\",img)\n",
    "cv2.imshow(\"dilate\",dilation)\n",
    "cv2.waitKey(0)\n",
    "cv2.destroyAllWindows()"
   ]
  },
  {
   "cell_type": "code",
   "execution_count": 19,
   "metadata": {},
   "outputs": [],
   "source": [
    "# opening = resmin üzerindeki gürültüyü kaldırıyor\n",
    "opening=cv2.morphologyEx(img,cv2.MORPH_OPEN,kernal)\n",
    "cv2.imshow(\"orijinal\",img)\n",
    "cv2.imshow(\"morphologyEx Open\",opening)\n",
    "cv2.waitKey(0)\n",
    "cv2.destroyAllWindows()"
   ]
  },
  {
   "cell_type": "code",
   "execution_count": 20,
   "metadata": {},
   "outputs": [],
   "source": [
    "# MORPH_OPEN -> MORPH_CLOSE\n",
    "opening=cv2.morphologyEx(img,cv2.MORPH_CLOSE,kernal) \n",
    "cv2.imshow(\"orijinal\",img)\n",
    "cv2.imshow(\"morphologyEx Open\",opening)\n",
    "cv2.waitKey(0)\n",
    "cv2.destroyAllWindows()"
   ]
  },
  {
   "cell_type": "code",
   "execution_count": 21,
   "metadata": {},
   "outputs": [],
   "source": [
    "# MORPH_GRADIENT dış kısmı belirtiyor\n",
    "gradient=cv2.morphologyEx(img,cv2.MORPH_GRADIENT,kernal) \n",
    "cv2.imshow(\"orijinal\",img)\n",
    "cv2.imshow(\"MORPH_GRADIENT\",gradient)\n",
    "cv2.waitKey(0)\n",
    "cv2.destroyAllWindows()"
   ]
  }
 ],
 "metadata": {
  "kernelspec": {
   "display_name": "Python 3",
   "language": "python",
   "name": "python3"
  },
  "language_info": {
   "codemirror_mode": {
    "name": "ipython",
    "version": 3
   },
   "file_extension": ".py",
   "mimetype": "text/x-python",
   "name": "python",
   "nbconvert_exporter": "python",
   "pygments_lexer": "ipython3",
   "version": "3.11.4"
  },
  "orig_nbformat": 4
 },
 "nbformat": 4,
 "nbformat_minor": 2
}
