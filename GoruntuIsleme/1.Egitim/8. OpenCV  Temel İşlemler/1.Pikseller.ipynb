{
 "cells": [
  {
   "cell_type": "markdown",
   "metadata": {},
   "source": [
    "# Temel İşlemler"
   ]
  },
  {
   "cell_type": "code",
   "execution_count": 1,
   "metadata": {},
   "outputs": [],
   "source": [
    "import cv2\n",
    "import numpy as np"
   ]
  },
  {
   "cell_type": "code",
   "execution_count": 2,
   "metadata": {},
   "outputs": [],
   "source": [
    "def Goruntuleme(ad,resim):\n",
    "    cv2.imshow(ad,resim)\n",
    "    cv2.waitKey(0)\n",
    "    cv2.destroyAllWindows()"
   ]
  },
  {
   "cell_type": "code",
   "execution_count": 3,
   "metadata": {},
   "outputs": [],
   "source": [
    "img=cv2.imread(\"klon.png\")\n",
    "Goruntuleme(\"Orijinal\",img)"
   ]
  },
  {
   "cell_type": "code",
   "execution_count": 4,
   "metadata": {},
   "outputs": [
    {
     "name": "stdout",
     "output_type": "stream",
     "text": [
      "[133 125 120]\n"
     ]
    }
   ],
   "source": [
    "# hangi pikseldeki renk hangi bgr değerine sahip öğrenme\n",
    "color=img[150,200]\n",
    "print(color)"
   ]
  },
  {
   "cell_type": "code",
   "execution_count": 5,
   "metadata": {},
   "outputs": [
    {
     "name": "stdout",
     "output_type": "stream",
     "text": [
      "(426, 641, 3)\n"
     ]
    }
   ],
   "source": [
    "dimenshion=img.shape # resmimin boyutlarını ve kanal verisini veriri\n",
    "print(dimenshion)"
   ]
  },
  {
   "cell_type": "code",
   "execution_count": 6,
   "metadata": {},
   "outputs": [
    {
     "name": "stdout",
     "output_type": "stream",
     "text": [
      "133\n"
     ]
    }
   ],
   "source": [
    "# istediğim pikseldeki hangi ana renk değeri ne\n",
    "blue=img[150,200,0] # b g r ya index olarak düşün\n",
    "print(blue)"
   ]
  },
  {
   "cell_type": "code",
   "execution_count": 7,
   "metadata": {},
   "outputs": [
    {
     "name": "stdout",
     "output_type": "stream",
     "text": [
      "new blue :  250\n"
     ]
    }
   ],
   "source": [
    "# Var olan değeri değiştirme\n",
    "img[150,200,0]=250\n",
    "print(\"new blue : \",img[150,200,0])"
   ]
  },
  {
   "cell_type": "code",
   "execution_count": 8,
   "metadata": {},
   "outputs": [
    {
     "name": "stdout",
     "output_type": "stream",
     "text": [
      "blue1 250\n",
      "new blue1 172\n"
     ]
    }
   ],
   "source": [
    "# fonksiyon ile yapma\n",
    "blue1=img.item(150,200,0)\n",
    "print(\"blue1\",blue1)\n",
    "img.itemset((150,200,0),172) # atama işlemi ilk önce koordinat sonra istediğin değer\n",
    "print(\"new blue1\",img[150,200,0])"
   ]
  },
  {
   "cell_type": "code",
   "execution_count": null,
   "metadata": {},
   "outputs": [],
   "source": []
  }
 ],
 "metadata": {
  "kernelspec": {
   "display_name": "Python 3",
   "language": "python",
   "name": "python3"
  },
  "language_info": {
   "codemirror_mode": {
    "name": "ipython",
    "version": 3
   },
   "file_extension": ".py",
   "mimetype": "text/x-python",
   "name": "python",
   "nbconvert_exporter": "python",
   "pygments_lexer": "ipython3",
   "version": "3.11.4"
  },
  "orig_nbformat": 4
 },
 "nbformat": 4,
 "nbformat_minor": 2
}
