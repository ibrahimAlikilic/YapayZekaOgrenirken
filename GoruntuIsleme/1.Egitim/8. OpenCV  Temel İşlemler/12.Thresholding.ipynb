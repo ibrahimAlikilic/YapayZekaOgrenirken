{
 "cells": [
  {
   "cell_type": "code",
   "execution_count": 16,
   "metadata": {},
   "outputs": [],
   "source": [
    "import cv2\n",
    "import numpy as np\n",
    "baslıklar=[]\n",
    "resimler=[]"
   ]
  },
  {
   "cell_type": "code",
   "execution_count": 17,
   "metadata": {},
   "outputs": [],
   "source": [
    "def AdEkleme(baslik,resim,baslikAd,resimAd):\n",
    "    baslik.append(baslikAd)\n",
    "    resim.append(resimAd)"
   ]
  },
  {
   "cell_type": "code",
   "execution_count": 18,
   "metadata": {},
   "outputs": [],
   "source": [
    "def Goster(ad,resim):\n",
    "    cv2.imshow(ad,resim)"
   ]
  },
  {
   "cell_type": "code",
   "execution_count": 19,
   "metadata": {},
   "outputs": [],
   "source": [
    "def Cagirma(baslıklar,resimler):\n",
    "    for i in range(len(baslıklar)):\n",
    "        Goster(baslıklar[i],resimler[i])\n",
    "    \n",
    "    cv2.waitKey(0)\n",
    "    cv2.destroyAllWindows()"
   ]
  },
  {
   "cell_type": "code",
   "execution_count": 20,
   "metadata": {},
   "outputs": [],
   "source": [
    "img=cv2.imread(\"Helikopter2.jpg\",0) # 0 ile resmi siyah beyaz tonlara çevirmiş olduk\n",
    "# Threshold yani öbekleme\n",
    "ret,th1=cv2.threshold(img,127,255,cv2.THRESH_BINARY)"
   ]
  },
  {
   "cell_type": "code",
   "execution_count": 21,
   "metadata": {},
   "outputs": [],
   "source": [
    "th2=cv2.adaptiveThreshold(img,255,cv2.ADAPTIVE_THRESH_MEAN_C,cv2.THRESH_BINARY,11,2)"
   ]
  },
  {
   "cell_type": "code",
   "execution_count": 22,
   "metadata": {},
   "outputs": [],
   "source": [
    "th3=cv2.adaptiveThreshold(img,255,cv2.ADAPTIVE_THRESH_GAUSSIAN_C,cv2.THRESH_BINARY,11,2)"
   ]
  },
  {
   "cell_type": "code",
   "execution_count": 23,
   "metadata": {},
   "outputs": [],
   "source": [
    "AdEkleme(baslıklar,resimler,'Orijinal',img)\n",
    "AdEkleme(baslıklar,resimler,'THRESH Resim',th1)\n",
    "AdEkleme(baslıklar,resimler,'THRESH Resim2',th2)\n",
    "AdEkleme(baslıklar,resimler,'THRESH Resim3',th3)\n"
   ]
  },
  {
   "cell_type": "code",
   "execution_count": 24,
   "metadata": {},
   "outputs": [],
   "source": [
    "Cagirma(baslıklar,resimler)"
   ]
  },
  {
   "cell_type": "code",
   "execution_count": 33,
   "metadata": {},
   "outputs": [],
   "source": [
    "# sondaki değerleri anlamak için\n",
    "th2=cv2.adaptiveThreshold(img,205,cv2.ADAPTIVE_THRESH_MEAN_C,cv2.THRESH_BINARY,1111,20) # en sağdaki grıleştirik kapatıyor bir önceki de siyahlığı ayarlıyor\n",
    "cv2.imshow(\"th2 Sondaki değerler için\",th2)\n",
    "cv2.waitKey(0)\n",
    "cv2.destroyAllWindows()"
   ]
  },
  {
   "cell_type": "code",
   "execution_count": null,
   "metadata": {},
   "outputs": [],
   "source": []
  }
 ],
 "metadata": {
  "kernelspec": {
   "display_name": "Python 3",
   "language": "python",
   "name": "python3"
  },
  "language_info": {
   "codemirror_mode": {
    "name": "ipython",
    "version": 3
   },
   "file_extension": ".py",
   "mimetype": "text/x-python",
   "name": "python",
   "nbconvert_exporter": "python",
   "pygments_lexer": "ipython3",
   "version": "3.11.4"
  },
  "orig_nbformat": 4
 },
 "nbformat": 4,
 "nbformat_minor": 2
}
