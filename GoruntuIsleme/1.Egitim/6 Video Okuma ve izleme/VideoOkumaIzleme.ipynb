{
 "cells": [
  {
   "cell_type": "code",
   "execution_count": 2,
   "metadata": {},
   "outputs": [
    {
     "name": "stderr",
     "output_type": "stream",
     "text": [
      "qt.qpa.plugin: Could not find the Qt platform plugin \"wayland\" in \"/home/ibrahim/.local/lib/python3.10/site-packages/cv2/qt/plugins\"\n"
     ]
    }
   ],
   "source": [
    "import cv2\n",
    "\n",
    "# cap=cv2.imread() Resim okuma için\n",
    "cap=cv2.VideoCapture(0) # 0 demek kendi kameramı kullanıcam demek var olan bir videoyu kullanacaksak yol belirtiyoruz \n",
    "# eğer source reader cv gibi bir hata alıyorsak cap=cv2.VideoCapture(0,cv2.CAP_DSHOW) olarak yazacaksın\n",
    "while True: # ykarıda kareleri oku dedik burada video bitene kadar okumayı sağlamak için döngü kurduk\n",
    "    ret , frame =cap.read() # eğer cap değişkeni frameleri doğru okuduysa ret değişkeni doğrudur yanlış okuduysa false.\n",
    "    frame=cv2.flip(frame,1) # ayna gibi düşün doğru yönde olması için ters çevirmen lazım . # frame değişkenini 1 demek y ekseni demek y eksenine göre yansıtarak ver dedik. \n",
    "    cv2.imshow(\"Penceremin Adı\",frame) # 2. yazdıpım görüntüyü aldığım değişken\n",
    "    # cv2.waitKey(30)# her bir frame 30 milisaniye gösterilsin ve 2. frame geçilsin dedim kalite açısından bir işlem ne kadar değer düşerse frame o kadar kısa güzkür arttırırsak da tam tersi\n",
    "    # resimlerde 0 kullanıyoruz çünkü tek frame alsın diğer frame geçmesin diyotuz\n",
    "    if cv2.waitKey(30) & 0xFF==ord(\"q\"):# her frame 30 milisaniyede göster ve q ya bastığımda # 0xFF q nun makine dilindeki karşılığı\n",
    "        break # çık diyorum\n",
    "#cap.realise() # dosyada yapılan işlemi durdurup bitirip tekrardan dosyada yeni işlem yapabilmemi sağlıyor # hata veriyor\n",
    "cv2.destroyAllWindows()"
   ]
  },
  {
   "cell_type": "code",
   "execution_count": 3,
   "metadata": {},
   "outputs": [],
   "source": [
    "# cap=cv2.imread() Resim okuma için\n",
    "cap=cv2.VideoCapture(\"OkunacakVideo.mkv\") # 0 demek kendi kameramı kullanıcam demek var olan bir videoyu kullanacaksak yol belirtiyoruz \n",
    "# eğer source reader cv gibi bir hata alıyorsak cap=cv2.VideoCapture(0,cv2.CAP_DSHOW) olarak yazacaksın\n",
    "cv2.namedWindow(\"frame\", cv2.WINDOW_NORMAL)\n",
    "cv2.resizeWindow(\"frame\", 500, 500)\n",
    "while True: # ykarıda kareleri oku dedik burada video bitene kadar okumayı sağlamak için döngü kurduk\n",
    "    ret , frame =cap.read() # eğer cap değişkeni frameleri doğru okuduysa ret değişkeni doğrudur yanlış okuduysa false.\n",
    "    frame=cv2.flip(frame,1) # ayna gibi düşün doğru yönde olması için ters çevirmen lazım . # frame değişkenini 1 demek y ekseni demek y eksenine göre yansıtarak ver dedik. \n",
    "    cv2.imshow(\"frame\",frame) # 2. yazdıpım görüntüyü aldığım değişken\n",
    "    # cv2.waitKey(30)# her bir frame 30 milisaniye gösterilsin ve 2. frame geçilsin dedim kalite açısından bir işlem ne kadar değer düşerse frame o kadar kısa güzkür arttırırsak da tam tersi\n",
    "    # resimlerde 0 kullanıyoruz çünkü tek frame alsın diğer frame geçmesin diyotuz\n",
    "    if ret==0: # dedik ki video bittiyse\n",
    "        break\n",
    "    if cv2.waitKey(10) & 0xFF==ord(\"q\"):# her frame 30 milisaniyede göster ve q ya bastığımda # 0xFF q nun makine dilindeki karşılığı\n",
    "        break # çık diyorum\n",
    "#cap.realise() # dosyada yapılan işlemi durdurup bitirip tekrardan dosyada yeni işlem yapabilmemi sağlıyor\n",
    "cv2.destroyAllWindows()"
   ]
  },
  {
   "cell_type": "code",
   "execution_count": null,
   "metadata": {},
   "outputs": [],
   "source": []
  }
 ],
 "metadata": {
  "kernelspec": {
   "display_name": "Python 3",
   "language": "python",
   "name": "python3"
  },
  "language_info": {
   "codemirror_mode": {
    "name": "ipython",
    "version": 3
   },
   "file_extension": ".py",
   "mimetype": "text/x-python",
   "name": "python",
   "nbconvert_exporter": "python",
   "pygments_lexer": "ipython3",
   "version": "3.10.12"
  },
  "orig_nbformat": 4
 },
 "nbformat": 4,
 "nbformat_minor": 2
}
