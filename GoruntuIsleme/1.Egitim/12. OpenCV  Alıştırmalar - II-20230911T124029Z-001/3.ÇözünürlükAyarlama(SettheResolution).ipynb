{
 "cells": [
  {
   "cell_type": "markdown",
   "metadata": {},
   "source": [
    "# Kameradan aldığımız görüntünün çözünürlük değerlerini ayarlayacağız"
   ]
  },
  {
   "cell_type": "code",
   "execution_count": 6,
   "metadata": {},
   "outputs": [],
   "source": [
    "import cv2"
   ]
  },
  {
   "cell_type": "code",
   "execution_count": 7,
   "metadata": {},
   "outputs": [
    {
     "name": "stdout",
     "output_type": "stream",
     "text": [
      "width640.0\n",
      "height480.0\n",
      "width* 1280.0\n",
      "height* 720.0\n"
     ]
    }
   ],
   "source": [
    "# pencere oluşturalım\n",
    "pencereAdı=\"Canlı video\"\n",
    "cv2.namedWindow(pencereAdı)\n",
    "cap=cv2.VideoCapture(0)\n",
    "print(\"width\"+str(cap.get(3))) # 3 en verir 4 yükseklik verir\n",
    "print(\"height\"+str(cap.get(4))) # 3 en verir 4 yükseklik verir\n",
    "cap.set(3,1280)\n",
    "cap.set(4,720)\n",
    "print(\"width* \"+str(cap.get(3))) # 3 en verir 4 yükseklik verir\n",
    "print(\"height* \"+str(cap.get(4))) # 3 en verir 4 yükseklik verir\n",
    "while True:\n",
    "    ret,frame=cap.read()\n",
    "    frame=cv2.flip(frame,1)\n",
    "    \n",
    "    cv2.imshow(pencereAdı,frame)\n",
    "    if cv2.waitKey(20)&0xFF==ord('q'):\n",
    "        break\n",
    "cap.release()\n",
    "cv2.destroyAllWindows()"
   ]
  },
  {
   "cell_type": "markdown",
   "metadata": {},
   "source": [
    "# araştırma yaptığın syf linki : https://www.mobilhanem.com/opencvde-video-cozunurlugu-ve-skalalama/"
   ]
  }
 ],
 "metadata": {
  "kernelspec": {
   "display_name": "Python 3",
   "language": "python",
   "name": "python3"
  },
  "language_info": {
   "codemirror_mode": {
    "name": "ipython",
    "version": 3
   },
   "file_extension": ".py",
   "mimetype": "text/x-python",
   "name": "python",
   "nbconvert_exporter": "python",
   "pygments_lexer": "ipython3",
   "version": "3.11.4"
  },
  "orig_nbformat": 4
 },
 "nbformat": 4,
 "nbformat_minor": 2
}
