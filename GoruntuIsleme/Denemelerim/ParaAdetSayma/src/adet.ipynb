{
 "cells": [
  {
   "cell_type": "code",
   "execution_count": 53,
   "metadata": {},
   "outputs": [],
   "source": [
    "# yarıçap için değer aralığı belirterek paraları buldum ve saydırdım .\n",
    "import cv2\n",
    "import numpy as np\n",
    "\n",
    "img1=cv2.imread(\"include/1.jpeg\")\n",
    "gray1=cv2.cvtColor(img1,cv2.COLOR_BGR2GRAY)\n",
    "img1_blur=cv2.medianBlur(gray1,5) # gürültüleri yok etmek için medyan blur kullanıyoruz\n",
    "\n",
    "# şimdi çemberleri arayacağız\n",
    "# resim , algılama yöntemi ( sabit bir şey tek tanımlanmış olan bu var) , çözünürlük oranı = 1 dedik , tespit edilen çemberler arası minimum mesafe genel olarak uygulanan ( img1shape[0]/16), metoda özel girilmesi gereken 2 değer ,tahmini max ve min yariçaplar\n",
    "circles=cv2.HoughCircles(img1_blur,cv2.HOUGH_GRADIENT,1,img1.shape[0]/16,param1=200,param2=10,minRadius=30,maxRadius=37) \n",
    "\n",
    "circle_count=0 # kaç tane para bulduğumuzu saymak için\n",
    "\n",
    "if circles is not None : \n",
    "    circles=np.uint16(np.around(circles)) \n",
    "    for i in circles[0,:]: \n",
    "        cv2.circle(img1,(i[0],i[1]),i[2],(0,0,255),3)\n",
    "        circle_count+=1\n",
    "cv2.putText(img1, f\"Cember Sayisi : {circle_count}\", (10, 30), cv2.FONT_HERSHEY_SIMPLEX, 1, (255, 0, 0), 2)\n",
    "\n",
    "# 2. resim için kopyala yapıştır\n",
    "img2=cv2.imread(\"include/2.jpeg\")\n",
    "gray2=cv2.cvtColor(img2,cv2.COLOR_BGR2GRAY)\n",
    "img2_blur=cv2.medianBlur(gray2,5) \n",
    "\n",
    "circles=cv2.HoughCircles(img2_blur,cv2.HOUGH_GRADIENT,1,img2.shape[0]/16,param1=200,param2=10,minRadius=5,maxRadius=21) # /Radius değerlerini değiştirdik\n",
    "\n",
    "circle_count=0 \n",
    "\n",
    "if circles is not None : \n",
    "    circles=np.uint16(np.around(circles)) \n",
    "    for i in circles[0,:]: \n",
    "        cv2.circle(img2,(i[0],i[1]),i[2],(0,0,255),3)\n",
    "        circle_count+=1\n",
    "cv2.putText(img2, f\"Cember Sayisi : {circle_count}\", (1, 30), cv2.FONT_HERSHEY_SIMPLEX, 0.5, (255, 0, 0), 2)\n",
    "cv2.imshow(\"img1\",img1)\n",
    "cv2.imshow(\"img2\",img2)\n",
    "cv2.waitKey(0)\n",
    "cv2.destroyAllWindows()"
   ]
  },
  {
   "cell_type": "code",
   "execution_count": null,
   "metadata": {},
   "outputs": [],
   "source": []
  }
 ],
 "metadata": {
  "kernelspec": {
   "display_name": "Python 3",
   "language": "python",
   "name": "python3"
  },
  "language_info": {
   "codemirror_mode": {
    "name": "ipython",
    "version": 3
   },
   "file_extension": ".py",
   "mimetype": "text/x-python",
   "name": "python",
   "nbconvert_exporter": "python",
   "pygments_lexer": "ipython3",
   "version": "3.10.12"
  }
 },
 "nbformat": 4,
 "nbformat_minor": 2
}
