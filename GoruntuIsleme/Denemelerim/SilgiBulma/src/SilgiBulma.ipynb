{
 "cells": [
  {
   "cell_type": "code",
   "execution_count": 6,
   "metadata": {},
   "outputs": [],
   "source": [
    "import cv2\n",
    "import numpy as np"
   ]
  },
  {
   "cell_type": "code",
   "execution_count": 7,
   "metadata": {},
   "outputs": [],
   "source": [
    "cap=cv2.VideoCapture(0)\n"
   ]
  },
  {
   "cell_type": "code",
   "execution_count": 8,
   "metadata": {},
   "outputs": [],
   "source": [
    "def nothing(x):\n",
    "    pass"
   ]
  },
  {
   "cell_type": "code",
   "execution_count": 9,
   "metadata": {},
   "outputs": [],
   "source": [
    "cv2.namedWindow(\"Trackbar\")\n",
    "cv2.resizeWindow(\"Trackbar\",500,500) \n",
    "cv2.createTrackbar(\"Lower - H\",\"Trackbar\",0,180,nothing)\n",
    "cv2.createTrackbar(\"Lower - S\",\"Trackbar\",0,255,nothing)\n",
    "cv2.createTrackbar(\"Lower - V\",\"Trackbar\",0,255,nothing)\n",
    "\n",
    "cv2.createTrackbar(\"Upper - H\",\"Trackbar\",0,180,nothing)\n",
    "cv2.createTrackbar(\"Upper - S\",\"Trackbar\",0,255,nothing)\n",
    "cv2.createTrackbar(\"Upper - V\",\"Trackbar\",0,255,nothing)\n",
    "\n",
    "cv2.setTrackbarPos(\"Lower - H\",\"Trackbar\",100)\n",
    "cv2.setTrackbarPos(\"Lower - S\",\"Trackbar\",108)\n",
    "cv2.setTrackbarPos(\"Lower - V\",\"Trackbar\",100)\n",
    "cv2.setTrackbarPos(\"Upper - H\",\"Trackbar\",140)\n",
    "cv2.setTrackbarPos(\"Upper - S\",\"Trackbar\",255)\n",
    "cv2.setTrackbarPos(\"Upper - V\",\"Trackbar\",255)"
   ]
  },
  {
   "cell_type": "code",
   "execution_count": 10,
   "metadata": {},
   "outputs": [],
   "source": [
    "while True:\n",
    "    ret , frame=cap.read()\n",
    "    frame=cv2.flip(frame,1)\n",
    "    # Pencerenin boyutlarını\n",
    "    height, width, _ = frame.shape\n",
    "    \n",
    "    # renkleri HSV formatına çeviriyoruz\n",
    "    frame_hsv=cv2.cvtColor(frame,cv2.COLOR_BGR2HSV)\n",
    "    \n",
    "    # şimdi trackebarlardaki pozisyonları alıcaz\n",
    "    lower_h=cv2.getTrackbarPos(\"Lower - H\",\"Trackbar\")\n",
    "    lower_s=cv2.getTrackbarPos(\"Lower - S\",\"Trackbar\")\n",
    "    lower_v=cv2.getTrackbarPos(\"Lower - V\",\"Trackbar\")\n",
    "    \n",
    "    upper_h=cv2.getTrackbarPos(\"Upper - H\",\"Trackbar\")\n",
    "    upper_s=cv2.getTrackbarPos(\"Upper - S\",\"Trackbar\")\n",
    "    upper_v=cv2.getTrackbarPos(\"Upper - V\",\"Trackbar\")\n",
    "    \n",
    "    # dizi içerisinde saklama aşamasına geldik\n",
    "    lower_color=np.array([lower_h,lower_s,lower_v])\n",
    "    upper_color=np.array([upper_h,upper_s,upper_v])\n",
    "    frame_hsv=cv2.blur(frame_hsv,(3,3))\n",
    "    \n",
    "    mask=cv2.inRange(frame_hsv,lower_color,upper_color)\n",
    "    \n",
    "    contours,_=cv2.findContours(mask,cv2.RETR_TREE,cv2.CHAIN_APPROX_SIMPLE)\n",
    "    if len(contours) > 0:\n",
    "        x, y, w, h = cv2.boundingRect(contours[0])  \n",
    "        cv2.rectangle(frame, (x, y), (x + w, y + h), (0, 0, 255), 2)\n",
    "        cv2.line(frame, (x+(int)(w/2), 0), (x+(int)(w/2), height), (0, 255, 0), 1)\n",
    "        cv2.line(frame, (0, y+(int)(h/2)), (width, y+(int)(h/2)), (0, 255, 0), 1)\n",
    "    \n",
    "    cv2.imshow(\"Orijinal\",frame)\n",
    "    cv2.imshow(\"Mask Uygulanmış\",mask)\n",
    "    \n",
    "    if cv2.waitKey(20) & 0xFF==ord(\"q\"):\n",
    "        break\n",
    "cap.release()\n",
    "cv2.destroyAllWindows()"
   ]
  },
  {
   "cell_type": "code",
   "execution_count": 1,
   "metadata": {},
   "outputs": [
    {
     "name": "stderr",
     "output_type": "stream",
     "text": [
      "qt.qpa.plugin: Could not find the Qt platform plugin \"wayland\" in \"/home/ibrahim/.local/lib/python3.10/site-packages/cv2/qt/plugins\"\n"
     ]
    }
   ],
   "source": [
    "import cv2\n",
    "import numpy as np\n",
    "\n",
    "cap = cv2.VideoCapture(0)\n",
    "\n",
    "def nothing(x):\n",
    "    pass\n",
    "\n",
    "cv2.namedWindow(\"Trackbar\")\n",
    "cv2.resizeWindow(\"Trackbar\", 500, 500)\n",
    "cv2.createTrackbar(\"Lower - H\", \"Trackbar\", 0, 180, nothing)\n",
    "cv2.createTrackbar(\"Lower - S\", \"Trackbar\", 0, 255, nothing)\n",
    "cv2.createTrackbar(\"Lower - V\", \"Trackbar\", 0, 255, nothing)\n",
    "\n",
    "cv2.createTrackbar(\"Upper - H\", \"Trackbar\", 0, 180, nothing)\n",
    "cv2.createTrackbar(\"Upper - S\", \"Trackbar\", 0, 255, nothing)\n",
    "cv2.createTrackbar(\"Upper - V\", \"Trackbar\", 0, 255, nothing)\n",
    "\n",
    "cv2.setTrackbarPos(\"Lower - H\", \"Trackbar\", 100)\n",
    "cv2.setTrackbarPos(\"Lower - S\", \"Trackbar\", 108)\n",
    "cv2.setTrackbarPos(\"Lower - V\", \"Trackbar\", 100)\n",
    "cv2.setTrackbarPos(\"Upper - H\", \"Trackbar\", 140)\n",
    "cv2.setTrackbarPos(\"Upper - S\", \"Trackbar\", 255)\n",
    "cv2.setTrackbarPos(\"Upper - V\", \"Trackbar\", 255)\n",
    "\n",
    "cv2.namedWindow(\"Mask Uygulanmış\", cv2.WINDOW_NORMAL)  # bunu sonradan ekledim ekleme sebebim ubuntu da pencere boyutu küçük geliyordu\n",
    "\n",
    "while True:\n",
    "    ret, frame = cap.read()\n",
    "    frame = cv2.flip(frame, 1)\n",
    "    height, width, _ = frame.shape\n",
    "    cv2.resizeWindow(\"Mask Uygulanmış\", width, height)\n",
    "\n",
    "    frame_hsv = cv2.cvtColor(frame, cv2.COLOR_BGR2HSV)\n",
    "\n",
    "    lower_h = cv2.getTrackbarPos(\"Lower - H\", \"Trackbar\")\n",
    "    lower_s = cv2.getTrackbarPos(\"Lower - S\", \"Trackbar\")\n",
    "    lower_v = cv2.getTrackbarPos(\"Lower - V\", \"Trackbar\")\n",
    "\n",
    "    upper_h = cv2.getTrackbarPos(\"Upper - H\", \"Trackbar\")\n",
    "    upper_s = cv2.getTrackbarPos(\"Upper - S\", \"Trackbar\")\n",
    "    upper_v = cv2.getTrackbarPos(\"Upper - V\", \"Trackbar\")\n",
    "\n",
    "    lower_color = np.array([lower_h, lower_s, lower_v])\n",
    "    upper_color = np.array([upper_h, upper_s, upper_v])\n",
    "    frame_hsv = cv2.blur(frame_hsv, (3, 3))\n",
    "\n",
    "    mask = cv2.inRange(frame_hsv, lower_color, upper_color)\n",
    "\n",
    "    contours, _ = cv2.findContours(mask, cv2.RETR_TREE, cv2.CHAIN_APPROX_SIMPLE)\n",
    "    if len(contours) > 0:\n",
    "        x, y, w, h = cv2.boundingRect(contours[0])\n",
    "        cv2.rectangle(frame, (x, y), (x + w, y + h), (0, 0, 255), 2)\n",
    "        cv2.line(frame, (x + (int)(w / 2), 0), (x + (int)(w / 2), height), (0, 255, 0), 1)\n",
    "        cv2.line(frame, (0, y + (int)(h / 2)), (width, y + (int)(h / 2)), (0, 255, 0), 1)\n",
    "\n",
    "    cv2.imshow(\"Orijinal\", frame)\n",
    "    cv2.imshow(\"Mask Uygulanmış\", cv2.resize(mask, (width, height)))  # bunu sonradan ekledim ekleme sebebim ubuntu da pencere boyutu küçük geliyordu\n",
    "\n",
    "    if cv2.waitKey(20) & 0xFF == ord(\"q\"):\n",
    "        break\n",
    "\n",
    "cap.release()\n",
    "cv2.destroyAllWindows()\n"
   ]
  },
  {
   "cell_type": "code",
   "execution_count": null,
   "metadata": {},
   "outputs": [],
   "source": []
  }
 ],
 "metadata": {
  "kernelspec": {
   "display_name": "Python 3",
   "language": "python",
   "name": "python3"
  },
  "language_info": {
   "codemirror_mode": {
    "name": "ipython",
    "version": 3
   },
   "file_extension": ".py",
   "mimetype": "text/x-python",
   "name": "python",
   "nbconvert_exporter": "python",
   "pygments_lexer": "ipython3",
   "version": "3.10.12"
  }
 },
 "nbformat": 4,
 "nbformat_minor": 2
}
