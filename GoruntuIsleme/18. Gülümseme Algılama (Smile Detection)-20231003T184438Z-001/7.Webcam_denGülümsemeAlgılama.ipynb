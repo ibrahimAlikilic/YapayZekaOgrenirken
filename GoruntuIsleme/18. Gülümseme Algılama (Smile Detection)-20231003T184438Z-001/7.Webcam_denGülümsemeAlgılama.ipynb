{
 "cells": [
  {
   "cell_type": "code",
   "execution_count": 6,
   "metadata": {},
   "outputs": [],
   "source": [
    "import cv2\n"
   ]
  },
  {
   "cell_type": "code",
   "execution_count": 7,
   "metadata": {},
   "outputs": [],
   "source": [
    "vid=cv2.VideoCapture(0)\n",
    "face_cascade=cv2.CascadeClassifier(\"Haar cascade\\\\4.1 frontalface.xml.xml\")\n",
    "smile_cascade=cv2.CascadeClassifier(\"Haar cascade\\\\4.2 smile.xml.xml\")"
   ]
  },
  {
   "cell_type": "code",
   "execution_count": 8,
   "metadata": {},
   "outputs": [],
   "source": [
    "while 1:\n",
    "    ret,frame=vid.read()\n",
    "    frame=cv2.flip(frame,1)\n",
    "    gray=cv2.cvtColor(frame,cv2.COLOR_BGR2GRAY)\n",
    "    faces=face_cascade.detectMultiScale(gray,1.3,5)\n",
    "    for (x,y,w,h) in faces:\n",
    "        cv2.rectangle(frame,(x,y),(x+w,y+h),(0,0,255),3)\n",
    "        roi_faces=frame[y:y+h,x:x+w]\n",
    "        roi_gray=cv2.cvtColor(roi_faces,cv2.COLOR_BGR2GRAY)\n",
    "        smiels=smile_cascade.detectMultiScale(roi_gray,1.7,9)\n",
    "        for (xs,ys,ws,hs) in smiels:\n",
    "            cv2.rectangle(roi_faces,(xs,ys),(xs+ws,ys+hs),(255,0,0),2)\n",
    "    cv2.imshow(\"frame\",frame)\n",
    "    if cv2.waitKey(17)&0xFF==ord('q'):\n",
    "        break\n",
    "vid.release()\n",
    "cv2.destroyAllWindows()"
   ]
  }
 ],
 "metadata": {
  "kernelspec": {
   "display_name": "Python 3",
   "language": "python",
   "name": "python3"
  },
  "language_info": {
   "codemirror_mode": {
    "name": "ipython",
    "version": 3
   },
   "file_extension": ".py",
   "mimetype": "text/x-python",
   "name": "python",
   "nbconvert_exporter": "python",
   "pygments_lexer": "ipython3",
   "version": "3.11.4"
  },
  "orig_nbformat": 4
 },
 "nbformat": 4,
 "nbformat_minor": 2
}
