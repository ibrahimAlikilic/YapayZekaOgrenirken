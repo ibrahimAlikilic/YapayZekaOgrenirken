{
 "cells": [
  {
   "cell_type": "code",
   "execution_count": 13,
   "metadata": {},
   "outputs": [],
   "source": [
    "import cv2"
   ]
  },
  {
   "cell_type": "code",
   "execution_count": 14,
   "metadata": {},
   "outputs": [],
   "source": [
    "vid=cv2.VideoCapture(\"6.1 body.mp4.mp4\")\n",
    "body_cascade=cv2.CascadeClassifier(\"Haar cascade\\\\3.3 fullbody.xml.xml\")\n",
    "while 1:\n",
    "    ret,frame=vid.read()\n",
    "    gray=cv2.cvtColor(frame,cv2.COLOR_BGR2GRAY)\n",
    "    bodys=body_cascade.detectMultiScale(gray,1.3,3) # en kaliteli değerler olarak bunları buldum\n",
    "    for (x,y,w,h) in bodys:\n",
    "        cv2.rectangle(frame,(x,y),(x+w,y+h),(0,255,0),2)\n",
    "    cv2.imshow(\"frame\",frame)\n",
    "    if cv2.waitKey(15)&0xFF==ord('q'):\n",
    "        break\n",
    "vid.release()\n",
    "cv2.destroyAllWindows()"
   ]
  },
  {
   "cell_type": "code",
   "execution_count": null,
   "metadata": {},
   "outputs": [],
   "source": []
  }
 ],
 "metadata": {
  "kernelspec": {
   "display_name": "Python 3",
   "language": "python",
   "name": "python3"
  },
  "language_info": {
   "codemirror_mode": {
    "name": "ipython",
    "version": 3
   },
   "file_extension": ".py",
   "mimetype": "text/x-python",
   "name": "python",
   "nbconvert_exporter": "python",
   "pygments_lexer": "ipython3",
   "version": "3.11.4"
  },
  "orig_nbformat": 4
 },
 "nbformat": 4,
 "nbformat_minor": 2
}
