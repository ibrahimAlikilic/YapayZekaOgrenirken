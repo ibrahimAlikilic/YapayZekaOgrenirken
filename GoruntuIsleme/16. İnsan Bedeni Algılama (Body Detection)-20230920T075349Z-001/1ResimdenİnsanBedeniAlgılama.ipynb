{
 "cells": [
  {
   "cell_type": "markdown",
   "metadata": {},
   "source": [
    "# insan bedeni ve araba gibi çok fazla benzerini bulabileceğimiz şeylerde cascadlar çok iyi çalışmıyor"
   ]
  },
  {
   "cell_type": "code",
   "execution_count": 7,
   "metadata": {},
   "outputs": [],
   "source": [
    "import cv2"
   ]
  },
  {
   "cell_type": "code",
   "execution_count": 8,
   "metadata": {},
   "outputs": [],
   "source": [
    "body_cascade=cv2.CascadeClassifier(\"Haar cascade\\\\3.3 fullbody.xml.xml\")\n",
    "img=cv2.imread(\"3.2 body.jpg.jpg\")\n",
    "gray=cv2.cvtColor(img,cv2.COLOR_BGR2GRAY)"
   ]
  },
  {
   "cell_type": "code",
   "execution_count": 9,
   "metadata": {},
   "outputs": [],
   "source": [
    "bodeys=body_cascade.detectMultiScale(gray)# parametreleri koyunca bulduramıyoruz\n",
    "for (x,y,w,h) in bodeys:\n",
    "    cv2.rectangle(img,(x,y),(x+w,y+h),(0,0,255),2)\n",
    "cv2.imshow(\"img\",img)\n",
    "cv2.waitKey(0)\n",
    "cv2.destroyAllWindows()"
   ]
  }
 ],
 "metadata": {
  "kernelspec": {
   "display_name": "Python 3",
   "language": "python",
   "name": "python3"
  },
  "language_info": {
   "codemirror_mode": {
    "name": "ipython",
    "version": 3
   },
   "file_extension": ".py",
   "mimetype": "text/x-python",
   "name": "python",
   "nbconvert_exporter": "python",
   "pygments_lexer": "ipython3",
   "version": "3.11.4"
  },
  "orig_nbformat": 4
 },
 "nbformat": 4,
 "nbformat_minor": 2
}
