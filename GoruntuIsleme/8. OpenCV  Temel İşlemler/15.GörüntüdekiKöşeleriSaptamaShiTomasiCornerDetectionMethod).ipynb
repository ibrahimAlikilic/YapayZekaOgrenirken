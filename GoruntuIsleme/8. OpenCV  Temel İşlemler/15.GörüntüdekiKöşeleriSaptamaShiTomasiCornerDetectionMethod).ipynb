{
 "cells": [
  {
   "cell_type": "markdown",
   "metadata": {},
   "source": [
    "# Görüntülerdeki köşeleri saptama"
   ]
  },
  {
   "cell_type": "code",
   "execution_count": 1,
   "metadata": {},
   "outputs": [],
   "source": [
    "import cv2\n",
    "import numpy as np"
   ]
  },
  {
   "cell_type": "code",
   "execution_count": 2,
   "metadata": {},
   "outputs": [],
   "source": [
    "img=cv2.imread(\"15.1 text.png.png\")\n",
    "img1=cv2.imread(\"15.2 contour.png.png\")"
   ]
  },
  {
   "cell_type": "code",
   "execution_count": 3,
   "metadata": {},
   "outputs": [],
   "source": [
    "gray=cv2.cvtColor(img,cv2.COLOR_BGR2GRAY)"
   ]
  },
  {
   "cell_type": "code",
   "execution_count": 4,
   "metadata": {},
   "outputs": [],
   "source": [
    "# bunu kullanmam için önce gray i float32 tipine çebvirmem lazım\n",
    "gray =np.float32(gray)\n",
    "\n",
    "corners =cv2.goodFeaturesToTrack(gray,50,0.01,10) # köşeleri belirlemeik için kullanılan fonksiyon\n",
    "                                # resim , en fazla kaç köşe bulsun , quality level (kalite değeri) deneysel değeri 0.01 dir , köşeler arası minimum mesafe"
   ]
  },
  {
   "cell_type": "code",
   "execution_count": 5,
   "metadata": {},
   "outputs": [
    {
     "name": "stderr",
     "output_type": "stream",
     "text": [
      "C:\\Users\\ibo_m\\AppData\\Local\\Temp\\ipykernel_1804\\481751336.py:2: DeprecationWarning: `np.int0` is a deprecated alias for `np.intp`.  (Deprecated NumPy 1.24)\n",
      "  corners= np.int0(corners) # çemberler çizerken float kullanamayız int olması lazım o yüzden bu dönüşümü yapıyoruz\n"
     ]
    }
   ],
   "source": [
    "# bulduğumuz köşeleri çizdirmek için bir dönüşüm daha gerekli\n",
    "corners= np.int0(corners) # çemberler çizerken float kullanamayız int olması lazım o yüzden bu dönüşümü yapıyoruz\n",
    "for corner in corners:\n",
    "    x,y =corner.ravel() # var olan x ve y değerlerine ulaşabilmek için corner ı tek satır haline getiriyorum\n",
    "    cv2.circle(img,(x,y),3,(0,0,255),-1)\n",
    "cv2.imshow(\"corner\",img)\n",
    "cv2.waitKey(0)\n",
    "cv2.destroyAllWindows()"
   ]
  },
  {
   "cell_type": "code",
   "execution_count": null,
   "metadata": {},
   "outputs": [],
   "source": []
  }
 ],
 "metadata": {
  "kernelspec": {
   "display_name": "Python 3",
   "language": "python",
   "name": "python3"
  },
  "language_info": {
   "codemirror_mode": {
    "name": "ipython",
    "version": 3
   },
   "file_extension": ".py",
   "mimetype": "text/x-python",
   "name": "python",
   "nbconvert_exporter": "python",
   "pygments_lexer": "ipython3",
   "version": "3.11.4"
  },
  "orig_nbformat": 4
 },
 "nbformat": 4,
 "nbformat_minor": 2
}
