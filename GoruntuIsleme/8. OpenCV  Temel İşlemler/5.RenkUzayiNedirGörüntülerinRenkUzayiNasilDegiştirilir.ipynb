{
 "cells": [
  {
   "cell_type": "code",
   "execution_count": 1,
   "metadata": {},
   "outputs": [],
   "source": [
    "import cv2\n"
   ]
  },
  {
   "cell_type": "code",
   "execution_count": 2,
   "metadata": {},
   "outputs": [],
   "source": [
    "img=cv2.imread(\"klon.png\")"
   ]
  },
  {
   "cell_type": "code",
   "execution_count": 4,
   "metadata": {},
   "outputs": [],
   "source": [
    "cv2.imshow(\"orijinal\",img)\n",
    "img_rgb=cv2.cvtColor(img,cv2.COLOR_BGR2RGB)# bgr dan rgb ye dönüştürdük\n",
    "                 #kaynak resim ,dönüşüm flegi\n",
    "cv2.imshow(\"bgr to rgb\",img_rgb)\n",
    "\n",
    "img_hsv=cv2.cvtColor(img,cv2.COLOR_BGR2HSV) # bgr dan hsv ye\n",
    "cv2.imshow(\"bgr to hsv\",img_hsv)\n",
    "\n",
    "img_gray=cv2.cvtColor(img,cv2.COLOR_BGR2GRAY) # bgr dan gray e\n",
    "cv2.imshow(\"bgr to gray\",img_gray)\n",
    "cv2.waitKey(0)\n",
    "cv2.destroyAllWindows()  "
   ]
  },
  {
   "cell_type": "code",
   "execution_count": null,
   "metadata": {},
   "outputs": [],
   "source": []
  }
 ],
 "metadata": {
  "kernelspec": {
   "display_name": "Python 3",
   "language": "python",
   "name": "python3"
  },
  "language_info": {
   "codemirror_mode": {
    "name": "ipython",
    "version": 3
   },
   "file_extension": ".py",
   "mimetype": "text/x-python",
   "name": "python",
   "nbconvert_exporter": "python",
   "pygments_lexer": "ipython3",
   "version": "3.11.4"
  },
  "orig_nbformat": 4
 },
 "nbformat": 4,
 "nbformat_minor": 2
}
