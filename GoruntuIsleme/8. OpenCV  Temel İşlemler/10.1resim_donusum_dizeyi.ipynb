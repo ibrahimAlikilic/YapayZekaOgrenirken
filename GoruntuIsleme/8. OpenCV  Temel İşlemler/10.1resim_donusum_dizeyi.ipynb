{
 "cells": [
  {
   "cell_type": "code",
   "execution_count": 1,
   "metadata": {},
   "outputs": [],
   "source": [
    "import cv2\n",
    "import numpy as np"
   ]
  },
  {
   "cell_type": "code",
   "execution_count": 2,
   "metadata": {},
   "outputs": [],
   "source": [
    "def Gosterim(hangiResim):\n",
    "    cv2.imshow(\"Resim gözüküyor\",hangiResim)\n",
    "    cv2.waitKey(0)\n",
    "    cv2.destroyAllWindows()"
   ]
  },
  {
   "cell_type": "code",
   "execution_count": 3,
   "metadata": {},
   "outputs": [],
   "source": [
    "img=cv2.imread(\"helikopterYerine.jpg\")\n",
    "Gosterim(img)"
   ]
  },
  {
   "cell_type": "code",
   "execution_count": 4,
   "metadata": {},
   "outputs": [],
   "source": [
    "gray_img=cv2.imread(\"helikopterYerine.jpg\",cv2.IMREAD_GRAYSCALE) # renkli remi gri olarak yükleme\n",
    "Gosterim(gray_img)"
   ]
  },
  {
   "cell_type": "code",
   "execution_count": 5,
   "metadata": {},
   "outputs": [
    {
     "data": {
      "text/plain": [
       "True"
      ]
     },
     "execution_count": 5,
     "metadata": {},
     "output_type": "execute_result"
    }
   ],
   "source": [
    "cv2.imwrite(\"GrilestirilmisResim.jpg\",gray_img) # grıleştirmiş olduğumuz resimi kaydettik"
   ]
  },
  {
   "cell_type": "code",
   "execution_count": 6,
   "metadata": {},
   "outputs": [
    {
     "ename": "error",
     "evalue": "OpenCV(4.8.0) D:\\a\\opencv-python\\opencv-python\\opencv\\modules\\imgcodecs\\src\\loadsave.cpp:742: error: (-2:Unspecified error) in function 'bool __cdecl cv::imwrite_(const class std::basic_string<char,struct std::char_traits<char>,class std::allocator<char> > &,const class std::vector<class cv::Mat,class std::allocator<class cv::Mat> > &,const class std::vector<int,class std::allocator<int> > &,bool)'\n> Encoding 'params' must be key-value pairs:\n>     '(params.size() & 1) == 0'\n> where\n>     'params.size()' is 1\n",
     "output_type": "error",
     "traceback": [
      "\u001b[1;31m---------------------------------------------------------------------------\u001b[0m",
      "\u001b[1;31merror\u001b[0m                                     Traceback (most recent call last)",
      "\u001b[1;32mc:\\Users\\ibo_m\\Desktop\\Yapay Zeka\\Görüntü işleme\\8. OpenCV  Temel İşlemler\\10.1resim_donusum_dizeyi.ipynb Cell 6\u001b[0m line \u001b[0;36m1\n\u001b[1;32m----> <a href='vscode-notebook-cell:/c%3A/Users/ibo_m/Desktop/Yapay%20Zeka/G%C3%B6r%C3%BCnt%C3%BC%20i%C5%9Fleme/8.%20OpenCV%20%20Temel%20%C4%B0%C5%9Flemler/10.1resim_donusum_dizeyi.ipynb#W5sZmlsZQ%3D%3D?line=0'>1</a>\u001b[0m cv2\u001b[39m.\u001b[39;49mimwrite(\u001b[39m\"\u001b[39;49m\u001b[39mFlagEkleyerekGrilestirilmisResim.jpg\u001b[39;49m\u001b[39m\"\u001b[39;49m,img,[cv2\u001b[39m.\u001b[39;49mIMWRITE_PNG_COMPRESSION])\n",
      "\u001b[1;31merror\u001b[0m: OpenCV(4.8.0) D:\\a\\opencv-python\\opencv-python\\opencv\\modules\\imgcodecs\\src\\loadsave.cpp:742: error: (-2:Unspecified error) in function 'bool __cdecl cv::imwrite_(const class std::basic_string<char,struct std::char_traits<char>,class std::allocator<char> > &,const class std::vector<class cv::Mat,class std::allocator<class cv::Mat> > &,const class std::vector<int,class std::allocator<int> > &,bool)'\n> Encoding 'params' must be key-value pairs:\n>     '(params.size() & 1) == 0'\n> where\n>     'params.size()' is 1\n"
     ]
    }
   ],
   "source": [
    "cv2.imwrite(\"FlagEkleyerekGrilestirilmisResim.jpg\",img,[cv2.IMWRITE_PNG_COMPRESSION])"
   ]
  },
  {
   "cell_type": "markdown",
   "metadata": {},
   "source": [
    "# 2-) Görüntü Renk Uzayları\n",
    "Computer vision ve image processing alanında, color spaces(renk uzayları) kavramı renkleri organize etmenin belirli, özel yollarını ifade eder. Bir renk alanı aslında iki şeyin, bir renk modelinin ve bir mapping function (eşleme fonksiyonu) birleşimidir. Renk modellerini tercih etmemizin sebebi, tuples kullanarak piksel değerlerini temsil etmemize yardımcı olmasıdır. Mapping function dediğimiz verilen renk modelini, o model kullanılarak temsil edilecek renklerin kümesine eşler. Yararlı birçok farklı renk alanı vardır. (RGB, YUV, HSB gibi) Sadece verilen problem için doğru olan renk alanını seçmemiz gerekiyor.\n",
    "\n",
    "* RGB: Muhtemelen en popüler renk alanı. Kırmızı, Yeşil ve Mavi anlamına gelir. Bu renk alanında, her bir renk, kırmızı, yeşil ve mavi ağırlıklı bir kombinasyon olarak temsil edilir. Böylece her piksel değeri kırmızı, yeşil ve maviye karşılık gelen üç sayı ile bir tuple olarak temsil edilir. (Mesela beyaz elde etmek demek R:255, G:255, B:255 değeri vermek demektir.) Her bir değer 0 ile 255 arasında değişir.\n",
    "\n",
    "* YUV: RGB birçok amaç için iyi olsa da, real life application’lar için çok sınırlıdır. Bu yüzden insanlar yoğunluk bilgisini, renk bilgisinden ayırmak için farklı yöntemler düşünmeye başladılar ve YUV ortaya çıktı. Y, parlaklık veya yoğunluğu belirtir, U / V kanalları ise, renk bilgilerini temsil eder. Bu model birçok uygulamada iyi çalışır çünkü insana verilen görsel sistem, yoğunluk bilgisini renk bilgisinden çok farklı algılar.\n",
    "\n",
    "* HSV: Tabi sorunlarımız her ne kadar YUV iyi olsa da çözülmedi ve insanlar, bir insanın renkleri nasıl algıladığını düşünmeye başladılar sonra HSV ortaya çıktı. HSV, Ton, Doygunluk ve Değer anlamına gelir. Bu model, renklerin en temel özelliklerinden üçünü ayırıp farklı kanalları kullanarak bunları temsil ettiğimiz silindirik bir sistemdir ve insan görsel sisteminin rengi nasıl anladığıyla yakından ilgilidir. Ayrıca bu model ile görüntüler handle edilirken bizlere esneklik sağlar."
   ]
  },
  {
   "cell_type": "code",
   "execution_count": 7,
   "metadata": {},
   "outputs": [
    {
     "name": "stdout",
     "output_type": "stream",
     "text": [
      "['COLOR_BAYER_BG2BGR', 'COLOR_BAYER_BG2BGRA', 'COLOR_BAYER_BG2BGR_EA', 'COLOR_BAYER_BG2BGR_VNG', 'COLOR_BAYER_BG2GRAY', 'COLOR_BAYER_BG2RGB', 'COLOR_BAYER_BG2RGBA', 'COLOR_BAYER_BG2RGB_EA', 'COLOR_BAYER_BG2RGB_VNG', 'COLOR_BAYER_BGGR2BGR', 'COLOR_BAYER_BGGR2BGRA', 'COLOR_BAYER_BGGR2BGR_EA', 'COLOR_BAYER_BGGR2BGR_VNG', 'COLOR_BAYER_BGGR2GRAY', 'COLOR_BAYER_BGGR2RGB', 'COLOR_BAYER_BGGR2RGBA', 'COLOR_BAYER_BGGR2RGB_EA', 'COLOR_BAYER_BGGR2RGB_VNG', 'COLOR_BAYER_GB2BGR', 'COLOR_BAYER_GB2BGRA', 'COLOR_BAYER_GB2BGR_EA', 'COLOR_BAYER_GB2BGR_VNG', 'COLOR_BAYER_GB2GRAY', 'COLOR_BAYER_GB2RGB', 'COLOR_BAYER_GB2RGBA', 'COLOR_BAYER_GB2RGB_EA', 'COLOR_BAYER_GB2RGB_VNG', 'COLOR_BAYER_GBRG2BGR', 'COLOR_BAYER_GBRG2BGRA', 'COLOR_BAYER_GBRG2BGR_EA', 'COLOR_BAYER_GBRG2BGR_VNG', 'COLOR_BAYER_GBRG2GRAY', 'COLOR_BAYER_GBRG2RGB', 'COLOR_BAYER_GBRG2RGBA', 'COLOR_BAYER_GBRG2RGB_EA', 'COLOR_BAYER_GBRG2RGB_VNG', 'COLOR_BAYER_GR2BGR', 'COLOR_BAYER_GR2BGRA', 'COLOR_BAYER_GR2BGR_EA', 'COLOR_BAYER_GR2BGR_VNG', 'COLOR_BAYER_GR2GRAY', 'COLOR_BAYER_GR2RGB', 'COLOR_BAYER_GR2RGBA', 'COLOR_BAYER_GR2RGB_EA', 'COLOR_BAYER_GR2RGB_VNG', 'COLOR_BAYER_GRBG2BGR', 'COLOR_BAYER_GRBG2BGRA', 'COLOR_BAYER_GRBG2BGR_EA', 'COLOR_BAYER_GRBG2BGR_VNG', 'COLOR_BAYER_GRBG2GRAY', 'COLOR_BAYER_GRBG2RGB', 'COLOR_BAYER_GRBG2RGBA', 'COLOR_BAYER_GRBG2RGB_EA', 'COLOR_BAYER_GRBG2RGB_VNG', 'COLOR_BAYER_RG2BGR', 'COLOR_BAYER_RG2BGRA', 'COLOR_BAYER_RG2BGR_EA', 'COLOR_BAYER_RG2BGR_VNG', 'COLOR_BAYER_RG2GRAY', 'COLOR_BAYER_RG2RGB', 'COLOR_BAYER_RG2RGBA', 'COLOR_BAYER_RG2RGB_EA', 'COLOR_BAYER_RG2RGB_VNG', 'COLOR_BAYER_RGGB2BGR', 'COLOR_BAYER_RGGB2BGRA', 'COLOR_BAYER_RGGB2BGR_EA', 'COLOR_BAYER_RGGB2BGR_VNG', 'COLOR_BAYER_RGGB2GRAY', 'COLOR_BAYER_RGGB2RGB', 'COLOR_BAYER_RGGB2RGBA', 'COLOR_BAYER_RGGB2RGB_EA', 'COLOR_BAYER_RGGB2RGB_VNG', 'COLOR_BGR2BGR555', 'COLOR_BGR2BGR565', 'COLOR_BGR2BGRA', 'COLOR_BGR2GRAY', 'COLOR_BGR2HLS', 'COLOR_BGR2HLS_FULL', 'COLOR_BGR2HSV', 'COLOR_BGR2HSV_FULL', 'COLOR_BGR2LAB', 'COLOR_BGR2LUV', 'COLOR_BGR2Lab', 'COLOR_BGR2Luv', 'COLOR_BGR2RGB', 'COLOR_BGR2RGBA', 'COLOR_BGR2XYZ', 'COLOR_BGR2YCR_CB', 'COLOR_BGR2YCrCb', 'COLOR_BGR2YUV', 'COLOR_BGR2YUV_I420', 'COLOR_BGR2YUV_IYUV', 'COLOR_BGR2YUV_YV12', 'COLOR_BGR5552BGR', 'COLOR_BGR5552BGRA', 'COLOR_BGR5552GRAY', 'COLOR_BGR5552RGB', 'COLOR_BGR5552RGBA', 'COLOR_BGR5652BGR', 'COLOR_BGR5652BGRA', 'COLOR_BGR5652GRAY', 'COLOR_BGR5652RGB', 'COLOR_BGR5652RGBA', 'COLOR_BGRA2BGR', 'COLOR_BGRA2BGR555', 'COLOR_BGRA2BGR565', 'COLOR_BGRA2GRAY', 'COLOR_BGRA2RGB', 'COLOR_BGRA2RGBA', 'COLOR_BGRA2YUV_I420', 'COLOR_BGRA2YUV_IYUV', 'COLOR_BGRA2YUV_YV12', 'COLOR_BayerBG2BGR', 'COLOR_BayerBG2BGRA', 'COLOR_BayerBG2BGR_EA', 'COLOR_BayerBG2BGR_VNG', 'COLOR_BayerBG2GRAY', 'COLOR_BayerBG2RGB', 'COLOR_BayerBG2RGBA', 'COLOR_BayerBG2RGB_EA', 'COLOR_BayerBG2RGB_VNG', 'COLOR_BayerBGGR2BGR', 'COLOR_BayerBGGR2BGRA', 'COLOR_BayerBGGR2BGR_EA', 'COLOR_BayerBGGR2BGR_VNG', 'COLOR_BayerBGGR2GRAY', 'COLOR_BayerBGGR2RGB', 'COLOR_BayerBGGR2RGBA', 'COLOR_BayerBGGR2RGB_EA', 'COLOR_BayerBGGR2RGB_VNG', 'COLOR_BayerGB2BGR', 'COLOR_BayerGB2BGRA', 'COLOR_BayerGB2BGR_EA', 'COLOR_BayerGB2BGR_VNG', 'COLOR_BayerGB2GRAY', 'COLOR_BayerGB2RGB', 'COLOR_BayerGB2RGBA', 'COLOR_BayerGB2RGB_EA', 'COLOR_BayerGB2RGB_VNG', 'COLOR_BayerGBRG2BGR', 'COLOR_BayerGBRG2BGRA', 'COLOR_BayerGBRG2BGR_EA', 'COLOR_BayerGBRG2BGR_VNG', 'COLOR_BayerGBRG2GRAY', 'COLOR_BayerGBRG2RGB', 'COLOR_BayerGBRG2RGBA', 'COLOR_BayerGBRG2RGB_EA', 'COLOR_BayerGBRG2RGB_VNG', 'COLOR_BayerGR2BGR', 'COLOR_BayerGR2BGRA', 'COLOR_BayerGR2BGR_EA', 'COLOR_BayerGR2BGR_VNG', 'COLOR_BayerGR2GRAY', 'COLOR_BayerGR2RGB', 'COLOR_BayerGR2RGBA', 'COLOR_BayerGR2RGB_EA', 'COLOR_BayerGR2RGB_VNG', 'COLOR_BayerGRBG2BGR', 'COLOR_BayerGRBG2BGRA', 'COLOR_BayerGRBG2BGR_EA', 'COLOR_BayerGRBG2BGR_VNG', 'COLOR_BayerGRBG2GRAY', 'COLOR_BayerGRBG2RGB', 'COLOR_BayerGRBG2RGBA', 'COLOR_BayerGRBG2RGB_EA', 'COLOR_BayerGRBG2RGB_VNG', 'COLOR_BayerRG2BGR', 'COLOR_BayerRG2BGRA', 'COLOR_BayerRG2BGR_EA', 'COLOR_BayerRG2BGR_VNG', 'COLOR_BayerRG2GRAY', 'COLOR_BayerRG2RGB', 'COLOR_BayerRG2RGBA', 'COLOR_BayerRG2RGB_EA', 'COLOR_BayerRG2RGB_VNG', 'COLOR_BayerRGGB2BGR', 'COLOR_BayerRGGB2BGRA', 'COLOR_BayerRGGB2BGR_EA', 'COLOR_BayerRGGB2BGR_VNG', 'COLOR_BayerRGGB2GRAY', 'COLOR_BayerRGGB2RGB', 'COLOR_BayerRGGB2RGBA', 'COLOR_BayerRGGB2RGB_EA', 'COLOR_BayerRGGB2RGB_VNG', 'COLOR_COLORCVT_MAX', 'COLOR_GRAY2BGR', 'COLOR_GRAY2BGR555', 'COLOR_GRAY2BGR565', 'COLOR_GRAY2BGRA', 'COLOR_GRAY2RGB', 'COLOR_GRAY2RGBA', 'COLOR_HLS2BGR', 'COLOR_HLS2BGR_FULL', 'COLOR_HLS2RGB', 'COLOR_HLS2RGB_FULL', 'COLOR_HSV2BGR', 'COLOR_HSV2BGR_FULL', 'COLOR_HSV2RGB', 'COLOR_HSV2RGB_FULL', 'COLOR_LAB2BGR', 'COLOR_LAB2LBGR', 'COLOR_LAB2LRGB', 'COLOR_LAB2RGB', 'COLOR_LBGR2LAB', 'COLOR_LBGR2LUV', 'COLOR_LBGR2Lab', 'COLOR_LBGR2Luv', 'COLOR_LRGB2LAB', 'COLOR_LRGB2LUV', 'COLOR_LRGB2Lab', 'COLOR_LRGB2Luv', 'COLOR_LUV2BGR', 'COLOR_LUV2LBGR', 'COLOR_LUV2LRGB', 'COLOR_LUV2RGB', 'COLOR_Lab2BGR', 'COLOR_Lab2LBGR', 'COLOR_Lab2LRGB', 'COLOR_Lab2RGB', 'COLOR_Luv2BGR', 'COLOR_Luv2LBGR', 'COLOR_Luv2LRGB', 'COLOR_Luv2RGB', 'COLOR_M_RGBA2RGBA', 'COLOR_RGB2BGR', 'COLOR_RGB2BGR555', 'COLOR_RGB2BGR565', 'COLOR_RGB2BGRA', 'COLOR_RGB2GRAY', 'COLOR_RGB2HLS', 'COLOR_RGB2HLS_FULL', 'COLOR_RGB2HSV', 'COLOR_RGB2HSV_FULL', 'COLOR_RGB2LAB', 'COLOR_RGB2LUV', 'COLOR_RGB2Lab', 'COLOR_RGB2Luv', 'COLOR_RGB2RGBA', 'COLOR_RGB2XYZ', 'COLOR_RGB2YCR_CB', 'COLOR_RGB2YCrCb', 'COLOR_RGB2YUV', 'COLOR_RGB2YUV_I420', 'COLOR_RGB2YUV_IYUV', 'COLOR_RGB2YUV_YV12', 'COLOR_RGBA2BGR', 'COLOR_RGBA2BGR555', 'COLOR_RGBA2BGR565', 'COLOR_RGBA2BGRA', 'COLOR_RGBA2GRAY', 'COLOR_RGBA2M_RGBA', 'COLOR_RGBA2RGB', 'COLOR_RGBA2YUV_I420', 'COLOR_RGBA2YUV_IYUV', 'COLOR_RGBA2YUV_YV12', 'COLOR_RGBA2mRGBA', 'COLOR_XYZ2BGR', 'COLOR_XYZ2RGB', 'COLOR_YCR_CB2BGR', 'COLOR_YCR_CB2RGB', 'COLOR_YCrCb2BGR', 'COLOR_YCrCb2RGB', 'COLOR_YUV2BGR', 'COLOR_YUV2BGRA_I420', 'COLOR_YUV2BGRA_IYUV', 'COLOR_YUV2BGRA_NV12', 'COLOR_YUV2BGRA_NV21', 'COLOR_YUV2BGRA_UYNV', 'COLOR_YUV2BGRA_UYVY', 'COLOR_YUV2BGRA_Y422', 'COLOR_YUV2BGRA_YUNV', 'COLOR_YUV2BGRA_YUY2', 'COLOR_YUV2BGRA_YUYV', 'COLOR_YUV2BGRA_YV12', 'COLOR_YUV2BGRA_YVYU', 'COLOR_YUV2BGR_I420', 'COLOR_YUV2BGR_IYUV', 'COLOR_YUV2BGR_NV12', 'COLOR_YUV2BGR_NV21', 'COLOR_YUV2BGR_UYNV', 'COLOR_YUV2BGR_UYVY', 'COLOR_YUV2BGR_Y422', 'COLOR_YUV2BGR_YUNV', 'COLOR_YUV2BGR_YUY2', 'COLOR_YUV2BGR_YUYV', 'COLOR_YUV2BGR_YV12', 'COLOR_YUV2BGR_YVYU', 'COLOR_YUV2GRAY_420', 'COLOR_YUV2GRAY_I420', 'COLOR_YUV2GRAY_IYUV', 'COLOR_YUV2GRAY_NV12', 'COLOR_YUV2GRAY_NV21', 'COLOR_YUV2GRAY_UYNV', 'COLOR_YUV2GRAY_UYVY', 'COLOR_YUV2GRAY_Y422', 'COLOR_YUV2GRAY_YUNV', 'COLOR_YUV2GRAY_YUY2', 'COLOR_YUV2GRAY_YUYV', 'COLOR_YUV2GRAY_YV12', 'COLOR_YUV2GRAY_YVYU', 'COLOR_YUV2RGB', 'COLOR_YUV2RGBA_I420', 'COLOR_YUV2RGBA_IYUV', 'COLOR_YUV2RGBA_NV12', 'COLOR_YUV2RGBA_NV21', 'COLOR_YUV2RGBA_UYNV', 'COLOR_YUV2RGBA_UYVY', 'COLOR_YUV2RGBA_Y422', 'COLOR_YUV2RGBA_YUNV', 'COLOR_YUV2RGBA_YUY2', 'COLOR_YUV2RGBA_YUYV', 'COLOR_YUV2RGBA_YV12', 'COLOR_YUV2RGBA_YVYU', 'COLOR_YUV2RGB_I420', 'COLOR_YUV2RGB_IYUV', 'COLOR_YUV2RGB_NV12', 'COLOR_YUV2RGB_NV21', 'COLOR_YUV2RGB_UYNV', 'COLOR_YUV2RGB_UYVY', 'COLOR_YUV2RGB_Y422', 'COLOR_YUV2RGB_YUNV', 'COLOR_YUV2RGB_YUY2', 'COLOR_YUV2RGB_YUYV', 'COLOR_YUV2RGB_YV12', 'COLOR_YUV2RGB_YVYU', 'COLOR_YUV420P2BGR', 'COLOR_YUV420P2BGRA', 'COLOR_YUV420P2GRAY', 'COLOR_YUV420P2RGB', 'COLOR_YUV420P2RGBA', 'COLOR_YUV420SP2BGR', 'COLOR_YUV420SP2BGRA', 'COLOR_YUV420SP2GRAY', 'COLOR_YUV420SP2RGB', 'COLOR_YUV420SP2RGBA', 'COLOR_YUV420p2BGR', 'COLOR_YUV420p2BGRA', 'COLOR_YUV420p2GRAY', 'COLOR_YUV420p2RGB', 'COLOR_YUV420p2RGBA', 'COLOR_YUV420sp2BGR', 'COLOR_YUV420sp2BGRA', 'COLOR_YUV420sp2GRAY', 'COLOR_YUV420sp2RGB', 'COLOR_YUV420sp2RGBA', 'COLOR_mRGBA2RGBA']\n"
     ]
    }
   ],
   "source": [
    "'''\n",
    "3) Renk Uzaylarını Dönüştürme\n",
    "Tüm renk uzayları göz önünde bulundurulduğunda OpenCV’de yaklaşık 190 dönüşüm seçeneği sunulmuştur. Mevcut tüm flaglerin değerini görmek isterseniz, Python Shell’inize aşağıdakı kodu ekleyebilirsiniz.\n",
    "'''\n",
    "print([x for x in dir(cv2) if x.startswith('COLOR_')]) # var olanları görmüş olduk "
   ]
  },
  {
   "cell_type": "code",
   "execution_count": 8,
   "metadata": {},
   "outputs": [],
   "source": [
    "'''\n",
    "Herhangi bir renk uzayını başka bir renk uzayına dönüştürebiliriz. Örnek olarak cvtColor fonksiyonu ile çevireceğimiz img’yi ve hangi color space conversion uygulayacağını söyleyebiliriz.\n",
    "'''\n",
    "gray_img=cv2.cvtColor(img,cv2.COLOR_RGB2GRAY) # gibi\n",
    "Gosterim(gray_img)"
   ]
  },
  {
   "cell_type": "markdown",
   "metadata": {},
   "source": [
    "# 4) Görüntü Kanallarını Bölme"
   ]
  },
  {
   "cell_type": "code",
   "execution_count": 9,
   "metadata": {},
   "outputs": [],
   "source": [
    "# Mesela YUV için convert işlemini ele alalım.\n",
    "yuv_img=cv2.cvtColor(img,cv2.COLOR_BGR2YUV)\n",
    "Gosterim(yuv_img)\n",
    "# Bu, orijinal görüntünün bozulmuş bir sürümü gibi görünebilir, ancak değil."
   ]
  },
  {
   "cell_type": "code",
   "execution_count": 10,
   "metadata": {},
   "outputs": [
    {
     "data": {
      "text/plain": [
       "'\\nyuv_img değişkenimiz type’ını yazdırdığımızda numpy classı olduğunu görmüştük. Bilindiği üzere numpy dimentional seçim operatörleri sağlar ve biz de kolaylıkla slice işlemi yapabiliriz. \\nyuv_img.shape değerini print edersek (325, 630, 3) değerini görürüz ki bu 3D arraydir.\\n'"
      ]
     },
     "execution_count": 10,
     "metadata": {},
     "output_type": "execute_result"
    }
   ],
   "source": [
    "# Üç kanalı ayıralım:\n",
    "# Evin pencerelerine dikkat \n",
    "yuv_img=cv2.imread(\"helikopterYerine.jpg\")\n",
    "y,u,v=cv2.split(yuv_img)\n",
    "cv2.imshow(\"orijinal\",yuv_img)\n",
    "cv2.imshow(\"y channel\",y)\n",
    "cv2.imshow(\"u channel\",u)\n",
    "cv2.imshow(\"v channel\",v)\n",
    "cv2.waitKey(0)\n",
    "cv2.destroyAllWindows()\n",
    "'''\n",
    "yuv_img değişkenimiz type’ını yazdırdığımızda numpy classı olduğunu görmüştük. Bilindiği üzere numpy dimentional seçim operatörleri sağlar ve biz de kolaylıkla slice işlemi yapabiliriz. \n",
    "yuv_img.shape değerini print edersek (325, 630, 3) değerini görürüz ki bu 3D arraydir.\n",
    "'''"
   ]
  },
  {
   "cell_type": "markdown",
   "metadata": {},
   "source": [
    "# 5) Görüntü Kanallarını Birleştirme"
   ]
  },
  {
   "cell_type": "code",
   "execution_count": null,
   "metadata": {},
   "outputs": [],
   "source": [
    "'''\n",
    "Şimdi input resmimizi okuyacağız, ayrı kanallara split ile ayırıp, \n",
    "bunlar üzerinde farklı kombinasyon oluşturup, \n",
    "birleştireceğiz ve değişikleri yani oluşan efektleri resmimizi nasıl etkilediğine bakacağız.\n",
    "'''\n",
    "img=cv2.imread(\"helikopterYerine.jpg\")\n",
    "g,b,r=cv2.split(img)\n",
    "gbr_img=cv2.merge((g,b,r)) # kanalları birleştirmek için kullanılrı\n",
    "rgb_img=cv2.merge((r,g,b))\n",
    "brg_img=cv2.merge((b,r,g))\n",
    "cv2.imshow(\"orijinal\",img)\n",
    "cv2.imshow(\"gbr\",gbr_img)\n",
    "cv2.imshow(\"rgb\",rgb_img)\n",
    "cv2.imshow(\"brg\",brg_img)\n",
    "cv2.waitKey(0)\n",
    "cv2.destroyAllWindows()\n"
   ]
  },
  {
   "cell_type": "code",
   "execution_count": null,
   "metadata": {},
   "outputs": [],
   "source": [
    "# 6) Görüntü Üzerinde Yer Değiştirme İşlemleri kaldın"
   ]
  },
  {
   "cell_type": "markdown",
   "metadata": {},
   "source": [
    "# 6) Görüntü Üzerinde Yer Değiştirme İşlemleri<br>\n",
    "Bu bölümde resimleri nasıl kaydıracağımı göreceğiz. Resmimizi referans çerçevemiz üzerinde taşımak istediğimizi varsayalım. Computer vision terminolojisinde, bu translation olarak adlandırılır.\n",
    "\n",
    "Öncelikle translation demek basitçe x ve y koordinatları üzerinde eklemeler, çıkarmalar yaparak resmi kaydırmak anlamına geliyor. Ve translation yapılırken, bir translation_matrix (T) tanımlamamız gerekiyor.\n",
    "<br>\n",
    "Tek matris olarak düşün<br>\n",
    "[1,0,Tx]<br>\n",
    "[0,1,Ty]<br>\n",
    "<br>\n",
    "Burada tx ve ty değerleri x ve y için translation değerleridir. Yani biz tx değeriyle x birim sağa gideceksin, ty değeriyle y birim aşağıda gideceksin deriz. (Örnek üzerinde daha iyi oturacak.) Oluşturduğumuz translation matrix’i resmimize uygulamak için OpenCV’nin bize sunduğu warpAffine fonksiyonunu kullanıyoruz. Bu fonksiyonun aldığı 3. parametre ile de ortaya çıkacak resmin satır ve sütünlarının sayısını tanımlıyoruz. Örneğimize bakalım,\n",
    "\n",
    "\n",
    "\n",
    "\n",
    "## İleride anladığım yerde not ayriyetten yazıyor : ! hep matrix oluşturup aşşağıdaki kodda yerine yazıyoruz mantık bu !\n",
    "### kod : img_rotation = cv2.warpAffine(img, rotation_matrix, (num_cols,num_rows), cv2.INTER_LINEAR)"
   ]
  },
  {
   "cell_type": "code",
   "execution_count": null,
   "metadata": {},
   "outputs": [],
   "source": [
    "import cv2\n",
    "import numpy as np\n",
    "img=cv2.imread(\"helikopterYerine.jpg\")\n",
    "num_rows,num_cols=img.shape[:2] # resmimizin satır ve sütün değerini alıyoruz. Burda python slice operatörü kullandık. (325, 625) tarzında bir şey dönüyor.\n",
    "translation_matrix=np.float32([[1,0,70],[0,1,110]]) # Burda translation matriximizi numpy instance kullanarak, 70 birim sağa(tx), 110 birim aşağıya(ty) gidecek şekilde tanımlıyoruz.\n",
    "                              #[x,y,hareket yönü ( - ve + olarak)]\n",
    "img_translation=cv2.warpAffine(img,translation_matrix,(num_cols,num_rows),cv2.INTER_LINEAR) # img üzerinde, translation matrixi, orjinal kolon ve satır değerleri üzerine uygula.\n",
    "cv2.imshow('Translation', img_translation)\n",
    "cv2.waitKey(0)\n",
    "cv2.destroyAllWindows()"
   ]
  },
  {
   "cell_type": "code",
   "execution_count": null,
   "metadata": {},
   "outputs": [],
   "source": [
    "# Şimdi orjinal satır ve sütün değerini kullandığımızdan resmimiz kırpılacak çünkü yer yok, sığmıyor. Kırpmayıda önlemek istersek de\n",
    "# ki bunun için aşşağı kaymalar kadar büyütüyoruz\n",
    "img_translation = cv2.warpAffine(img, translation_matrix, (num_cols + 70 , num_rows + 110), cv2.INTER_LINEAR)\n",
    "cv2.imshow('Translation', img_translation) # aynı sonucu verir\n",
    "cv2.waitKey(0)\n",
    "cv2.destroyAllWindows()"
   ]
  },
  {
   "cell_type": "code",
   "execution_count": null,
   "metadata": {},
   "outputs": [],
   "source": [
    "# Resmi container pencerenin ortasına taşımak istediğinizi varsayalım;\n",
    "translation_matrix=np.float32([[1,0,-30],[0,1,-50]]) # hareket ettirmiş olduğumuz resmi ne yöne hareket ettireceğimizi anlattık\n",
    "img_translation=cv2.warpAffine(img_translation,translation_matrix,(num_cols + 70 + 30, num_rows + 110 + 50)) # sütun satır sayısını arttırmak geçen sefer işe yaramamıştı bu sefer oldu ?\n",
    "cv2.imshow('Translation', img_translation) # aynı sonucu verir\n",
    "cv2.waitKey(0)\n",
    "cv2.destroyAllWindows()"
   ]
  },
  {
   "cell_type": "code",
   "execution_count": null,
   "metadata": {},
   "outputs": [],
   "source": [
    "# Ayrıca, çevirinin boş sınırlarını bir piksel interpolation yöntemi ile doldurmanıza izin veren iki tane daha argüman, borderMode ve borderValue vardır;\n",
    "img_translation = cv2.warpAffine(img, translation_matrix, (num_cols,\n",
    "num_rows), cv2.INTER_LINEAR, cv2.BORDER_WRAP, 1)\n",
    "cv2.imshow('Translation', img_translation) # aynı sonucu verir\n",
    "cv2.waitKey(0)\n",
    "cv2.destroyAllWindows()"
   ]
  },
  {
   "cell_type": "markdown",
   "metadata": {},
   "source": [
    "# 7-) Resmi Döndürme\n",
    "<br>Burada, belirli bir görüntüyü belirli bir açıdan nasıl döndüreceğimizi göreceğiz."
   ]
  },
  {
   "cell_type": "code",
   "execution_count": null,
   "metadata": {},
   "outputs": [],
   "source": [
    "'''\n",
    "OpenCV bize bu iş için getRotationMatrix2D fonksiyonunu sunuyor.\n",
    "\n",
    "Bu fonksiyon ile ilk argüman olarak döndürüleceği merkez noktasını, \n",
    "sonra derece cinsinden dönme açısını ve sonunda görüntü için bir ölçekleme faktörü belirtebiliriz. \n",
    "Görüntüyü% 30 oranında küçültmek için 0.7 kullanıyoruz ki çerçeveye sığsın.\n",
    "'''\n",
    "rotation_matrix = cv2.getRotationMatrix2D((num_cols/2, num_rows/2), 30, 0.7) # ! hep matrix oluşturup aşşağıdaki kodda yerine yazıyoruz mantık bu !\n",
    "img_rotation = cv2.warpAffine(img, rotation_matrix, (num_cols,\n",
    "num_rows), cv2.INTER_LINEAR)\n",
    "cv2.imshow('Rotration', img_rotation) # aynı sonucu verir\n",
    "cv2.waitKey(0)\n",
    "cv2.destroyAllWindows()"
   ]
  },
  {
   "cell_type": "code",
   "execution_count": null,
   "metadata": {},
   "outputs": [],
   "source": [
    "# img_translation = cv2.warpAffine(img, translation_matrix, (2*num_cols, 2*num_rows))  kullanamadım çok değinmemiş\n",
    "# img_rotation = cv2.warpAffine(img_translation, rotation_matrix, (num_cols,\n",
    "# num_rows), cv2.INTER_LINEAR)\n",
    "# cv2.imshow('Rotration', img_translation) # aynı sonucu verir\n",
    "# cv2.waitKey(0)\n",
    "# cv2.destroyAllWindows()"
   ]
  },
  {
   "cell_type": "code",
   "execution_count": null,
   "metadata": {},
   "outputs": [],
   "source": [
    "# 8-) Resmi Ölçeklendirme kaldım"
   ]
  },
  {
   "cell_type": "code",
   "execution_count": null,
   "metadata": {},
   "outputs": [],
   "source": []
  }
 ],
 "metadata": {
  "kernelspec": {
   "display_name": "Python 3",
   "language": "python",
   "name": "python3"
  },
  "language_info": {
   "codemirror_mode": {
    "name": "ipython",
    "version": 3
   },
   "file_extension": ".py",
   "mimetype": "text/x-python",
   "name": "python",
   "nbconvert_exporter": "python",
   "pygments_lexer": "ipython3",
   "version": "3.11.4"
  },
  "orig_nbformat": 4
 },
 "nbformat": 4,
 "nbformat_minor": 2
}
