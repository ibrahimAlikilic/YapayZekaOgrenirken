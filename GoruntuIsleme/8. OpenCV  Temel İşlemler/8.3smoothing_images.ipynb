{
 "cells": [
  {
   "cell_type": "code",
   "execution_count": 2,
   "metadata": {},
   "outputs": [],
   "source": [
    "import cv2\n",
    "import numpy as np"
   ]
  },
  {
   "cell_type": "code",
   "execution_count": 3,
   "metadata": {},
   "outputs": [],
   "source": [
    "img_filter=cv2.imread(\"8.2 filter.png.png\") # cv2.imread() varsayılan olarak kullanılan resim okuma metodudur.\n",
    "img_median=cv2.imread(\"8.1 median.png.png\")\n",
    "img_bilateral=cv2.imread(\"8.4 bilateral.png.png\")\n"
   ]
  },
  {
   "cell_type": "markdown",
   "metadata": {},
   "source": [
    "Bir alan içinde yer alan piksel değerlerinin ortalamasını ifade eder. \n",
    "Buna aynı zaman da Low Pass Filter de denilir. Low pass filter, düşük frekanslara izin veren ve daha yüksek frekansları engelleyen bir filtredir. \n",
    "Peki ya bir görüntüde frekans ne demek? Frekans piksel değerlerinin değişim hızını ifade eder. \n",
    "Bu yüzden keskin kenarların (sharped edges), yüksek frekanslı içerik olacağını söyleyebiliriz çünkü piksel değerleri o bölgede hızla değişir. \n",
    "Bu mantığa göre de, düz alanlar düşük frekanslı içerik olur. Low pass filter kenarları yumuşatır ki bu işlem görüntüdeki gürültüyü azaltmak veya daha az pikselli bir görüntü oluşturmak için kullanılır.\n",
    "\n",
    "Low pass filter oluşturmanın basit bir yolu, pikselin (kernelin merkezindeki piksel) bulunduğu bölgedeki değerlerin ortalamasını almaktır. \n",
    "Kernel’in boyutunu, görüntünün ne kadar yumuşak olmasını istediğimize bağlı olarak değişir ve görüntü ona bağlı olarak etkilenir. \n",
    "Daha büyük bir boyut seçerseniz, daha geniş bir alan üzerinde ortalama olacaksınız ve buda yumuşatma etkisini artıracak. Şimdi low pass filter kernel’imize bakalım."
   ]
  },
  {
   "cell_type": "markdown",
   "metadata": {},
   "source": [
    "# cv2.GaussianBlur Mantığı\n",
    "Opencv , kaynak resim dosyası üzerinde yumuşatmaya yarayan cv2.GaussianBlur() filtreleme fonksiyonunu barındırır. Bu fonksiyonun parametrelerini inceleyecek olursak.\n",
    "\n",
    " \n",
    "\n",
    "dst = cv.GaussianBlur ( src ,  ksize ,  sigmaX [ , dst [ ,  sigmaY [ ,   borderType = BORDER_DEFAULT ] ] ]  )  \n",
    "<br>\n",
    " \n",
    "\n",
    "src = kaynak resim\n",
    "dst= çıktı resim\n",
    "ksize= Gauss Kernel Size [ yükseklik, genişlik ], yükseklik ve genişlik tek sayı olmalı ve farklı değerlere sahip olabilir.Eğer ksize = [ 0 , 0 ] ise, o zaman hesaplamalar sigma değerleri üzerinden yapılır.\n",
    "sigmaX= X ekseni boyunca Kernel standart sapması (yatay yönde)\n",
    "sigmaY= Y ekseni boyunca Kernel standart sapması (dikey yönde). Eğer sigmaY = 0 ise, o zaman sigmaY için sigmaX değeri alınır.\n",
    "borderType= Hangi tür sınırların ekleneceğini belirtir. Bazı kullanılabilecek değerler vardır. Bunlar ve çalışma mantığı ;\n",
    " \n",
    "<br>\n",
    "\n",
    "cv2.BORDER_CONSTANT – – – – – – ( iiiiii | abcdefgh | iiiiiii )\n",
    "<br>\n",
    "cv2.BORDER_REPLICATE – – – – – – ( aaaaaa | abcdefgh | hhhhhhh )\n",
    "<br>\n",
    "cv2.BORDER_REFLECT – – – – – – – ( fedcba | abcdefgh | hgfedcb )\n",
    "<br>\n",
    "cv2.BORDER_WRAP – – – – – – – – – ( cdefgh | abcdefgh | abcdefg )\n",
    "<br>\n",
    "cv2.BORDER_REFLECT_101 – – – – – ( gfedcb | abcdefgh | gfedcba )\n",
    "<br>\n",
    "cv2.BORDER_TRANSPARENT – – – – ( uvwxyz | absdefgh | ijklmno )\n",
    "<br>\n",
    "cv2.BORDER_REFLECT101 – – – – – ( BORDER_REFLECT_101 ile aynı )\n",
    "<br>\n",
    "cv2.BORDER_DEFAULT – – – – – – – ( BORDER_REFLECT_101 ile aynı)\n",
    "<br>\n",
    "cv2.BORDER_ISOLATED – – – – – – – ( ROI dışına çıkma )\n",
    "\n",
    "Buradaki enum BorderTypes kısmında sayısal değerleri de kullanabilirsiniz. 0,1,2,3,4… gibi"
   ]
  },
  {
   "cell_type": "markdown",
   "metadata": {},
   "source": [
    "# cv2.bilateralFilter mantığı\n",
    "İkili Filtre işlemi, iki taraflı bir görüntüyü bir filtreye uygular. İmgproc sınıfının medianBlur() yöntemini kullanarak bir görüntü üzerinde bu işlemi gerçekleştirebilirsiniz . Bu yöntemin sözdizimi aşağıdadır.\n",
    "<br>\n",
    "bilateralFilter(src, dst, d, sigmaColor, sigmaSpace, borderType)\n",
    "Bu yöntem aşağıdaki parametreleri kabul eder -\n",
    "\n",
    "<br>\n",
    "src - Bu işlem için kaynağı (giriş görüntüsü) temsil eden bir Mat nesnesi.\n",
    "\n",
    "<br>\n",
    "dst - Bu işlem için hedefi (çıktı görüntüsü) temsil eden bir Mat nesnesi.\n",
    "\n",
    "<br>\n",
    "d - Piksel komşuluğunun çapını temsil eden tamsayı türünde bir değişken.\n",
    "\n",
    "<br>\n",
    "sigmaColor - Renk uzayında filtre sigmasını temsil eden tamsayı türünde bir değişken.\n",
    "\n",
    "<br>\n",
    "sigmaSpace - Koordinat uzayında filtre sigmasını temsil eden tamsayı türünde bir değişken.\n",
    "\n",
    "<br>\n",
    "borderType – Kullanılan kenarlığın türünü temsil eden bir tamsayı nesnesi."
   ]
  },
  {
   "cell_type": "code",
   "execution_count": 3,
   "metadata": {},
   "outputs": [],
   "source": [
    "blur=cv2.blur(img_filter,(5,5)) # ilk önce hangi resmi blurlayacağımız , (5,5) demek resmi 5e 5lik şablonlara böl ve onların ortalamasını al\n",
    "# şablon büyüdükçe (5,5) -> (7,7) olursa gibi yumuşama artar ama orijinalliği de bozmaya başlar\n",
    "median=cv2.medianBlur(img_median,5) # 5 e 5 lik şablonlarda median bularak blurladık\n",
    "gaus=cv2.GaussianBlur(img_filter,(5,5),cv2.BORDER_DEFAULT) # Yukarıda anlattık kısaca standart sapmalara bağlı olarak ayarlanır , cv2.BORDER_DEFAULT var sayılanı kullan bir değişiklik yapmak istemiyorum demek\n",
    "bilatera=cv2.bilateralFilter(img_bilateral,9,95,95)\n"
   ]
  },
  {
   "cell_type": "code",
   "execution_count": 5,
   "metadata": {},
   "outputs": [],
   "source": [
    "cv2.imshow(\"Orijinal img_filter\",img_filter)\n",
    "cv2.imshow(\"Orijinal img_median\",img_median)\n",
    "cv2.imshow(\"Orijinal img_bilateral\",img_bilateral)\n",
    "\n",
    "cv2.imshow(\"blur\",blur)\n",
    "cv2.imshow(\"median\",median)\n",
    "cv2.imshow(\"gaus\",gaus)\n",
    "cv2.imshow(\"bilatera\",bilatera)\n",
    "\n",
    "cv2.waitKey(0)\n",
    "cv2.destroyAllWindows()\n"
   ]
  },
  {
   "cell_type": "code",
   "execution_count": null,
   "metadata": {},
   "outputs": [],
   "source": []
  }
 ],
 "metadata": {
  "kernelspec": {
   "display_name": "Python 3",
   "language": "python",
   "name": "python3"
  },
  "language_info": {
   "codemirror_mode": {
    "name": "ipython",
    "version": 3
   },
   "file_extension": ".py",
   "mimetype": "text/x-python",
   "name": "python",
   "nbconvert_exporter": "python",
   "pygments_lexer": "ipython3",
   "version": "3.11.4"
  },
  "orig_nbformat": 4
 },
 "nbformat": 4,
 "nbformat_minor": 2
}
