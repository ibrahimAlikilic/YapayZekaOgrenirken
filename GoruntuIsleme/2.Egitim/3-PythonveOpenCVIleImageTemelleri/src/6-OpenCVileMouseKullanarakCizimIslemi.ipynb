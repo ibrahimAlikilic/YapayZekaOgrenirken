{
 "cells": [
  {
   "cell_type": "markdown",
   "metadata": {},
   "source": [
    "# Mouse sol , sağ tık kullanarak çizim işlemi gerçekleştireceğiz"
   ]
  },
  {
   "cell_type": "code",
   "execution_count": 1,
   "metadata": {},
   "outputs": [],
   "source": [
    "import cv2\n",
    "import numpy as np\n",
    "\n",
    "img=np.zeros((512,512,3),dtype=np.uint8)\n",
    "# Ayrıca, img dizisinin veri tipi ile ilgili bir sorun var. OpenCV genellikle np.uint8 veri tipini kullanır, çünkü görüntüler 0-255 arasındaki değerleri temsil eder"
   ]
  },
  {
   "cell_type": "code",
   "execution_count": 2,
   "metadata": {},
   "outputs": [
    {
     "name": "stderr",
     "output_type": "stream",
     "text": [
      "qt.qpa.plugin: Could not find the Qt platform plugin \"wayland\" in \"/home/ibrahim/.local/lib/python3.10/site-packages/cv2/qt/plugins\"\n"
     ]
    }
   ],
   "source": [
    "# Fonksiyon\n",
    "def daire_ciz(event,x,y,flags,param):\n",
    "    if event==cv2.EVENT_LBUTTONDOWN :# eğer sol tuş tıklandıysa\n",
    "        cv2.circle(img,(x,y),100,(0,0,255),-1)\n",
    "    elif event==cv2.EVENT_RBUTTONDOWN:\n",
    "        cv2.circle(img,(x,y),100,(255,0,0),-1)\n",
    "cv2.namedWindow(winname='cizim')\n",
    "\n",
    "cv2.setMouseCallback('cizim',daire_ciz) # basma işlemlerinin koordinatlarını ve hangi tuşun basıldığını bu metot tutuyor ve burada x ve ye değerlerini göndermiş bulunuyoz"
   ]
  },
  {
   "cell_type": "code",
   "execution_count": 3,
   "metadata": {},
   "outputs": [],
   "source": [
    "while True:\n",
    "    cv2.imshow('cizim',img)\n",
    "    if cv2.waitKey(20)& 0xFF==27:\n",
    "        break\n",
    "cv2.destroyAllWindows()"
   ]
  }
 ],
 "metadata": {
  "kernelspec": {
   "display_name": "Python 3",
   "language": "python",
   "name": "python3"
  },
  "language_info": {
   "codemirror_mode": {
    "name": "ipython",
    "version": 3
   },
   "file_extension": ".py",
   "mimetype": "text/x-python",
   "name": "python",
   "nbconvert_exporter": "python",
   "pygments_lexer": "ipython3",
   "version": "3.10.12"
  }
 },
 "nbformat": 4,
 "nbformat_minor": 2
}
