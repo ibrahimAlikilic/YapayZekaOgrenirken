{
 "cells": [
  {
   "cell_type": "code",
   "execution_count": null,
   "metadata": {},
   "outputs": [],
   "source": [
    "import cv2\n",
    "cap=cv2.VideoCapture(0)"
   ]
  },
  {
   "cell_type": "code",
   "execution_count": null,
   "metadata": {},
   "outputs": [],
   "source": [
    "width=int(cap.get(cv2.CAP_PROP_FRAME_WIDTH))\n",
    "height=int(cap.get(cv2.CAP_PROP_FRAME_HEIGHT))\n",
    "x=width//2 # // olması int değer istiyorum demekmiş\n",
    "y=height//2\n",
    "w=width//4\n",
    "h=height//4"
   ]
  },
  {
   "cell_type": "code",
   "execution_count": null,
   "metadata": {},
   "outputs": [],
   "source": [
    "while True:\n",
    "    ret,frame=cap.read()\n",
    "    cv2.rectangle(frame,(x,y),(x+w,y+h),(0,0,255),4)\n",
    "\n",
    "    cv2.imshow('frame',frame)\n",
    "    if cv2.waitKey(1)&0xff==ord('q'):\n",
    "        break\n",
    "cap.release()\n",
    "cv2.destroyAllWindows()"
   ]
  },
  {
   "cell_type": "code",
   "execution_count": 3,
   "metadata": {},
   "outputs": [],
   "source": [
    "import cv2\n",
    "cap=cv2.VideoCapture(0)\n",
    "# Dikdörtgen çizdirdiğim fonksiyon\n",
    "def dikdortgen_ciz(event,x,y,flag,param):\n",
    "    global pt1,pt2,topLeft_click,bootRight_click\n",
    "    \n",
    "    if event ==cv2.EVENT_LBUTTONDOWN:\n",
    "        if topLeft_click and bootRight_click :\n",
    "            pt1=(0,0)\n",
    "            pt2=(0,0)\n",
    "            topLeft_click=False\n",
    "            bootRight_click=False\n",
    "        if topLeft_click == False:\n",
    "            pt1=(x,y)\n",
    "            topLeft_click=True\n",
    "        elif bootRight_click == False:\n",
    "            pt2=(x,y)\n",
    "            bootRight_click=True\n",
    "\n",
    "# Global değişkenlerim\n",
    "pt1=(0,0)\n",
    "pt2=(0,0)\n",
    "topLeft_click=False\n",
    "bootRight_click=False\n",
    "\n",
    "cv2.namedWindow('Test')\n",
    "\n",
    "#setMouseCallBack\n",
    "cv2.setMouseCallback('Test',dikdortgen_ciz)\n",
    "\n",
    "\n",
    "while True:\n",
    "    ret,frame=cap.read()\n",
    "    if topLeft_click:\n",
    "        cv2.circle(frame,center=pt1,radius=5,color=(0,0,255),thickness=-1)\n",
    "    if topLeft_click and bootRight_click:\n",
    "        cv2.rectangle(frame,pt1,pt2,(0,0,255),2)\n",
    "\n",
    "    cv2.imshow('Test',frame)\n",
    "    if cv2.waitKey(1) & 0xff==ord('q'):\n",
    "        break\n",
    "cap.release()\n",
    "cv2.destroyAllWindows()"
   ]
  }
 ],
 "metadata": {
  "kernelspec": {
   "display_name": "Python 3",
   "language": "python",
   "name": "python3"
  },
  "language_info": {
   "codemirror_mode": {
    "name": "ipython",
    "version": 3
   },
   "file_extension": ".py",
   "mimetype": "text/x-python",
   "name": "python",
   "nbconvert_exporter": "python",
   "pygments_lexer": "ipython3",
   "version": "3.10.12"
  }
 },
 "nbformat": 4,
 "nbformat_minor": 2
}
