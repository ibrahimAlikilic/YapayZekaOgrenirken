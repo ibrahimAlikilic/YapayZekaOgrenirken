{
 "cells": [
  {
   "cell_type": "code",
   "execution_count": 1,
   "metadata": {},
   "outputs": [],
   "source": [
    "import numpy as np\n",
    "import cv2\n",
    "import matplotlib.pyplot as plt\n",
    "%matplotlib inline"
   ]
  },
  {
   "cell_type": "code",
   "execution_count": 2,
   "metadata": {},
   "outputs": [],
   "source": [
    "adam=cv2.imread(\"input/erkek.jpg\")\n",
    "kadin=cv2.imread(\"input/kadin.jpg\")\n",
    "toplu_foto=cv2.imread(\"input/toplu_foto.jpg\")"
   ]
  },
  {
   "cell_type": "code",
   "execution_count": 3,
   "metadata": {},
   "outputs": [],
   "source": [
    "face_cascade=cv2.CascadeClassifier('input/haarcascades/haarcascade_frontalface_default.xml') # haarcascade mizi atadık"
   ]
  },
  {
   "cell_type": "code",
   "execution_count": 4,
   "metadata": {},
   "outputs": [],
   "source": [
    "# gerekli fonksiyonumuzu yazalım\n",
    "def detect_face(img):\n",
    "    face_img=img.copy()\n",
    "    face_img_gray=cv2.cvtColor(face_img,cv2.COLOR_BGR2GRAY) # gri formatta daha doğru sonuç bulunur ve ben renklide göstermek istediğimden bunu oluşturdum.\n",
    "    face_recs=face_cascade.detectMultiScale(face_img_gray) # fotoğraf üzerinde belirlenen yüzlerin konumları\n",
    "    for(x,y,w,h) in face_recs:\n",
    "        cv2.rectangle(face_img,(x,y),(x+w,y+h),(255,0,0),3)\n",
    "    return face_img"
   ]
  },
  {
   "cell_type": "code",
   "execution_count": 5,
   "metadata": {},
   "outputs": [
    {
     "data": {
      "text/plain": [
       "array([[[246, 246, 246],\n",
       "        [246, 246, 246],\n",
       "        [246, 246, 246],\n",
       "        ...,\n",
       "        [240, 240, 240],\n",
       "        [240, 240, 240],\n",
       "        [240, 240, 240]],\n",
       "\n",
       "       [[246, 246, 246],\n",
       "        [246, 246, 246],\n",
       "        [246, 246, 246],\n",
       "        ...,\n",
       "        [240, 240, 240],\n",
       "        [240, 240, 240],\n",
       "        [240, 240, 240]],\n",
       "\n",
       "       [[246, 246, 246],\n",
       "        [246, 246, 246],\n",
       "        [246, 246, 246],\n",
       "        ...,\n",
       "        [240, 240, 240],\n",
       "        [240, 240, 240],\n",
       "        [240, 240, 240]],\n",
       "\n",
       "       ...,\n",
       "\n",
       "       [[249, 249, 249],\n",
       "        [249, 249, 249],\n",
       "        [249, 249, 249],\n",
       "        ...,\n",
       "        [244, 244, 244],\n",
       "        [244, 244, 244],\n",
       "        [244, 244, 244]],\n",
       "\n",
       "       [[249, 249, 249],\n",
       "        [249, 249, 249],\n",
       "        [249, 249, 249],\n",
       "        ...,\n",
       "        [244, 244, 244],\n",
       "        [244, 244, 244],\n",
       "        [244, 244, 244]],\n",
       "\n",
       "       [[249, 249, 249],\n",
       "        [249, 249, 249],\n",
       "        [249, 249, 249],\n",
       "        ...,\n",
       "        [244, 244, 244],\n",
       "        [244, 244, 244],\n",
       "        [244, 244, 244]]], dtype=uint8)"
      ]
     },
     "execution_count": 5,
     "metadata": {},
     "output_type": "execute_result"
    }
   ],
   "source": [
    "#sonucu görelim\n",
    "result_adam=detect_face(adam)\n",
    "result_adam"
   ]
  },
  {
   "cell_type": "code",
   "execution_count": 6,
   "metadata": {},
   "outputs": [
    {
     "name": "stderr",
     "output_type": "stream",
     "text": [
      "qt.qpa.plugin: Could not find the Qt platform plugin \"wayland\" in \"/home/ibrahim/.local/lib/python3.10/site-packages/cv2/qt/plugins\"\n"
     ]
    }
   ],
   "source": [
    "# diğer fotoğraflara da uygulayıp hepsini görelim\n",
    "result_adam=detect_face(adam)\n",
    "result_kadin=detect_face(kadin)\n",
    "result_toplu=detect_face(toplu_foto)\n",
    "cv2.imshow(\"adam\",result_adam)\n",
    "cv2.imshow(\"kadin\",result_kadin)\n",
    "cv2.imshow(\"toplu\",result_toplu)\n",
    "cv2.waitKey(0)\n",
    "cv2.destroyAllWindows()"
   ]
  }
 ],
 "metadata": {
  "kernelspec": {
   "display_name": "Python 3",
   "language": "python",
   "name": "python3"
  },
  "language_info": {
   "codemirror_mode": {
    "name": "ipython",
    "version": 3
   },
   "file_extension": ".py",
   "mimetype": "text/x-python",
   "name": "python",
   "nbconvert_exporter": "python",
   "pygments_lexer": "ipython3",
   "version": "3.10.12"
  }
 },
 "nbformat": 4,
 "nbformat_minor": 2
}
