{
 "cells": [
  {
   "cell_type": "code",
   "execution_count": 1,
   "metadata": {},
   "outputs": [],
   "source": [
    "import numpy as np\n",
    "import cv2\n",
    "import matplotlib.pyplot as plt\n",
    "%matplotlib inline"
   ]
  },
  {
   "cell_type": "code",
   "execution_count": 2,
   "metadata": {},
   "outputs": [
    {
     "name": "stderr",
     "output_type": "stream",
     "text": [
      "qt.qpa.plugin: Could not find the Qt platform plugin \"wayland\" in \"/home/ibrahim/.local/lib/python3.10/site-packages/cv2/qt/plugins\"\n"
     ]
    },
    {
     "name": "stdout",
     "output_type": "stream",
     "text": [
      "(358, 634, 3)\n"
     ]
    }
   ],
   "source": [
    "# plakayı tanımlama kısmı\n",
    "araba=cv2.imread(\"input/car_plate.jpg\")\n",
    "car_cascade=cv2.CascadeClassifier('input/haarcascades/haarcascade_russian_plate_number.xml') # haarcascade mizi atadık\n",
    "# gerekli fonksiyonumuzu yazalım\n",
    "def detect_face(img):\n",
    "    car_img=img.copy()\n",
    "    car_img_gray=cv2.cvtColor(car_img,cv2.COLOR_BGR2GRAY) # gri formatta daha doğru sonuç bulunur ve ben renklide göstermek istediğimden bunu oluşturdum.\n",
    "    car_recs=car_cascade.detectMultiScale(car_img_gray) # fotoğraf üzerinde belirlenen plakaların konumları\n",
    "    for(x,y,w,h) in car_recs:\n",
    "        cv2.rectangle(car_img,(x,y),(x+w,y+h),(255,0,0),3)\n",
    "    return car_img\n",
    "result_araba=detect_face(araba)\n",
    "cv2.imshow(\"araba\",result_araba)\n",
    "cv2.waitKey(0)\n",
    "cv2.destroyAllWindows()\n",
    "print(araba.shape) # resizeWindow da kullanmak için"
   ]
  },
  {
   "cell_type": "code",
   "execution_count": 3,
   "metadata": {},
   "outputs": [],
   "source": [
    "# şimdi de blur işlemiyle gözükmez hale getireceğiz\n",
    "def blurlanacak_kısmın_contourları(img):\n",
    "    car_img=img.copy()\n",
    "    car_img_gray=cv2.cvtColor(car_img,cv2.COLOR_BGR2GRAY)\n",
    "    car_recs=car_cascade.detectMultiScale(car_img_gray)\n",
    "    # Plakaları bulanıklaştır\n",
    "    for (x, y, w, h) in car_recs:\n",
    "        # Plaka alanını kesip bulanıklaştır\n",
    "        plaka = araba[y:y+h, x:x+w] # plakanın olduğu kısmı blurlamak için aldım\n",
    "        blurred_plaka = cv2.GaussianBlur(plaka, (51, 51), 30) # blurlama yaptım\n",
    "        img[y:y+h, x:x+w] = blurred_plaka # Bulanık plakayı orijinal görüntüye yerleştirdim\n",
    "    return img"
   ]
  },
  {
   "cell_type": "code",
   "execution_count": 4,
   "metadata": {},
   "outputs": [],
   "source": [
    "plakaGizliAraba=blurlanacak_kısmın_contourları(araba)\n",
    "cv2.namedWindow(\"Plaka bulanık şekilde\",cv2.WINDOW_NORMAL)\n",
    "cv2.resizeWindow(\"Plaka bulanık şekilde\", 358, 634) # ubuntuda pencere boyutu küçük oluyor\n",
    "cv2.imshow(\"Plaka bulanık şekilde\",plakaGizliAraba)\n",
    "cv2.waitKey(0)\n",
    "cv2.destroyAllWindows()"
   ]
  }
 ],
 "metadata": {
  "kernelspec": {
   "display_name": "Python 3",
   "language": "python",
   "name": "python3"
  },
  "language_info": {
   "codemirror_mode": {
    "name": "ipython",
    "version": 3
   },
   "file_extension": ".py",
   "mimetype": "text/x-python",
   "name": "python",
   "nbconvert_exporter": "python",
   "pygments_lexer": "ipython3",
   "version": "3.10.12"
  }
 },
 "nbformat": 4,
 "nbformat_minor": 2
}
