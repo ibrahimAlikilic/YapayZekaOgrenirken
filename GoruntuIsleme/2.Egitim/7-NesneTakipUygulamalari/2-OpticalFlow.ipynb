{
 "cells": [
  {
   "cell_type": "markdown",
   "metadata": {},
   "source": [
    "Anlık iki frame arasındaki farkı kulanarak sonuç alama işlemi olarak anladım"
   ]
  },
  {
   "cell_type": "code",
   "execution_count": 1,
   "metadata": {},
   "outputs": [],
   "source": [
    "import numpy as np\n",
    "import cv2"
   ]
  },
  {
   "cell_type": "code",
   "execution_count": 2,
   "metadata": {},
   "outputs": [],
   "source": [
    "corner_track_params = dict(maxCorners=10,\n",
    "                           qualityLevel=0.3,\n",
    "                           minDistance=7,\n",
    "                           blockSize=7)"
   ]
  },
  {
   "cell_type": "code",
   "execution_count": 3,
   "metadata": {},
   "outputs": [
    {
     "data": {
      "text/plain": [
       "'\\ncriteria=(cv2.TERM_CRITERIA_EPS | cv2.TERM_CRITERIA_COUNT,10,0.03)\\nbu kod OpenCV kütüphanesinde kullanılan bir kriter belirtimidir. Bu kriter genellikle iteratif algoritmaların durma koşullarını belirlemek için kullanılır. \\nKodun anlamını parçalara ayırarak açıklayalım:\\n\\ncv2.TERM_CRITERIA_EPS: Bu kriter, belirli bir hassasiyet (epsilon) seviyesine ulaşıldığında iterasyonların durdurulmasını belirtir. \\nYani, algoritmanın bir çözüm bulduğunda durması için kullanılan bir hata eşiğidir.\\n\\ncv2.TERM_CRITERIA_COUNT: Bu kriter, belirli bir iterasyon sayısına ulaşıldığında iterasyonların durdurulmasını belirtir. \\nYani, algoritma belirli bir sayıda adım attığında durması gerektiğini ifade eder.\\n\\n10:\\n    Bu değer, maksimum iterasyon sayısını belirtir. Yani, algoritma en fazla 10 adım gerçekleştirecektir.\\n\\n0.03:\\n    Bu değer, epsilon (hassasiyet) seviyesini belirtir. Yani, algoritmanın durması için gereken minimum hata miktarını belirtir. Algoritma bu hata seviyesinin altına düştüğünde durur.\\n\\nBu kriterler, genellikle çeşitli görüntü işleme algoritmalarında kullanılır. \\nÖrneğin, k-means kümeleme algoritmasında veya optik akış hesaplamalarında bu kriterler kullanılarak iterasyonların ne zaman durdurulacağı belirlenir. \\nBu sayede algoritma ya yeterli doğruluğa ulaştığında ya da maksimum iterasyon sayısına ulaştığında sonlanır.\\n'"
      ]
     },
     "execution_count": 3,
     "metadata": {},
     "output_type": "execute_result"
    }
   ],
   "source": [
    "lk_params=dict(winSize=(200,200),\n",
    "               maxLevel=2 , # linkteki fotodan anlarsın : https://www.google.com/search?q=image+processing+pyramid&client=ubuntu-sn&sca_esv=e7617bef498b6903&sca_upv=1&channel=fs&sxsrf=ADLYWIKGk443wR7MR9VGZSeDI3ovUO6fvQ:1718019808160&udm=2&source=iu&ictx=1&vet=1&fir=EOvW7v3kfHhGmM%252CXPGMnacKB5Nx9M%252C%252Fm%252F03qjg9y%253BqO0y7P2-vK3aEM%252CHuhWvvEZ5OZcqM%252C_%253BCmvAAMO5JUQtlM%252CJEhXXrBGS0eJFM%252C_%253BxAEocLzgRncX5M%252Cj6aF0DJlAEE5UM%252C_%253B2QB4VSIctNs2kM%252C2MNlQGq7TQebPM%252C_&usg=AI4_-kSf5SLZVLGmhAb20APizzeNuIQJ5g&sa=X&ved=2ahUKEwiIo4fD-tCGAxUuQvEDHaTgCYUQ_B16BAhbEAE#vhid=EOvW7v3kfHhGmM&vssid=mosaic\n",
    "               criteria=(cv2.TERM_CRITERIA_EPS | cv2.TERM_CRITERIA_COUNT,10,0.03))\n",
    "'''\n",
    "criteria=(cv2.TERM_CRITERIA_EPS | cv2.TERM_CRITERIA_COUNT,10,0.03)\n",
    "bu kod OpenCV kütüphanesinde kullanılan bir kriter belirtimidir. Bu kriter genellikle iteratif algoritmaların durma koşullarını belirlemek için kullanılır. \n",
    "Kodun anlamını parçalara ayırarak açıklayalım:\n",
    "\n",
    "cv2.TERM_CRITERIA_EPS: Bu kriter, belirli bir hassasiyet (epsilon) seviyesine ulaşıldığında iterasyonların durdurulmasını belirtir. \n",
    "Yani, algoritmanın bir çözüm bulduğunda durması için kullanılan bir hata eşiğidir.\n",
    "\n",
    "cv2.TERM_CRITERIA_COUNT: Bu kriter, belirli bir iterasyon sayısına ulaşıldığında iterasyonların durdurulmasını belirtir. \n",
    "Yani, algoritma belirli bir sayıda adım attığında durması gerektiğini ifade eder.\n",
    "\n",
    "10:\n",
    "    Bu değer, maksimum iterasyon sayısını belirtir. Yani, algoritma en fazla 10 adım gerçekleştirecektir.\n",
    "\n",
    "0.03:\n",
    "    Bu değer, epsilon (hassasiyet) seviyesini belirtir. Yani, algoritmanın durması için gereken minimum hata miktarını belirtir. Algoritma bu hata seviyesinin altına düştüğünde durur.\n",
    "\n",
    "Bu kriterler, genellikle çeşitli görüntü işleme algoritmalarında kullanılır. \n",
    "Örneğin, k-means kümeleme algoritmasında veya optik akış hesaplamalarında bu kriterler kullanılarak iterasyonların ne zaman durdurulacağı belirlenir. \n",
    "Bu sayede algoritma ya yeterli doğruluğa ulaştığında ya da maksimum iterasyon sayısına ulaştığında sonlanır.\n",
    "'''"
   ]
  },
  {
   "cell_type": "code",
   "execution_count": 4,
   "metadata": {},
   "outputs": [
    {
     "name": "stderr",
     "output_type": "stream",
     "text": [
      "qt.qpa.plugin: Could not find the Qt platform plugin \"wayland\" in \"/home/ibrahim/.local/lib/python3.10/site-packages/cv2/qt/plugins\"\n"
     ]
    }
   ],
   "source": [
    "cap=cv2.VideoCapture(0)\n",
    "# Check if the camera opened successfully\n",
    "if not cap.isOpened():\n",
    "    print(\"Error: Could not open video capture device.\")\n",
    "    exit()\n",
    "# Give the camera some time to initialize\n",
    "cv2.waitKey(1000)\n",
    "ret, prev_frame = cap.read()\n",
    "if not ret:\n",
    "    print(\"Error: Could not read frame from video capture device.\")\n",
    "    cap.release()\n",
    "    exit()\n",
    "prev_gray = cv2.cvtColor(prev_frame, cv2.COLOR_BGR2GRAY)\n",
    "\n",
    "prevPts = cv2.goodFeaturesToTrack(prev_gray, mask=None, **corner_track_params)\n",
    "'''\n",
    "Bu satır, bir görüntüde izlenebilecek iyi köşe noktalarını (özellik noktalarını) bulur. Bu özellik noktaları, genellikle optik akış veya nesne takibi gibi görevlerde kullanılır. \n",
    "Kodun her bir parçasını inceleyelim:\n",
    "\n",
    "cv2.goodFeaturesToTrack: Bu, Shi-Tomasi algoritmasını kullanarak bir görüntüdeki iyi köşe noktalarını bulan OpenCV fonksiyonudur.\n",
    "prev_gray: Bu, köşe noktalarını bulmak istediğimiz gri tonlamalı görüntüdür. Renkli bir görüntü kullanılıyorsa, önce gri tonlamalıya dönüştürülmesi gerekir.\n",
    "mask=None: Bu, isteğe bağlı bir maskedir. Eğer mask belirtilirse, sadece maskenin içindeki piksellerde köşe noktaları aranır. \n",
    "Burada None kullanıldığı için, tüm görüntüde köşe noktaları aranacaktır.\n",
    "**corner_track_params: Bu, fonksiyona ek parametreler sağlamak için kullanılan bir yapıdır. \n",
    "Python'da iki yıldız (**) bir sözlüğün (dictionary) içeriğini fonksiyona parametre olarak geçirmeye yarar. \n",
    "'''\n",
    "mask = np.zeros_like(prev_frame)\n",
    "'''\n",
    "Bu satır, prev_frame ile aynı boyutlarda bir maske oluşturur ve bu maske tamamen sıfırlardan oluşur. Kodun her bir parçasını inceleyelim:\n",
    "\n",
    "np.zeros_like(prev_frame): Bu, NumPy kütüphanesinin zeros_like fonksiyonunu kullanarak, prev_frame ile aynı boyutlarda ve aynı veri türünde bir dizi (array) oluşturur ve bu dizinin tüm elemanları sıfır olarak ayarlanır.\n",
    "    prev_frame: Bu, maskenin boyutlarını ve veri türünü belirlemek için referans olarak kullanılan görüntüdür.\n",
    "mask: Bu, oluşturulan sıfırlardan oluşan diziyi tutacak değişkendir.\n",
    "\n",
    "Bu maske genellikle görüntüdeki belirli bölgeleri işaretlemek veya işlemek için kullanılır. Örneğin, optik akış hesaplamalarında belirli bölgeleri maskelemek için kullanılabilir.\n",
    "'''\n",
    "\n",
    "# döngüyü oluşturalım\n",
    "while True:\n",
    "    # yukarıda tanımladığım önceki frame burada tanımladığım soraki frame olacak ve karşılaştırmalarını yapacagim\n",
    "    ret, frame = cap.read()\n",
    "    #kamera görüntüsü ters çevirelim\n",
    "    frame=cv2.flip(frame,1)\n",
    "    if not ret:\n",
    "        print(\"Error: Could not read frame from video capture device.\")\n",
    "        break\n",
    "\n",
    "    frame_gray = cv2.cvtColor(frame, cv2.COLOR_BGR2GRAY)\n",
    "\n",
    "    # Simdi Optical Flow uygulayacagiz\n",
    "    nextPts, status, err = cv2.calcOpticalFlowPyrLK(prev_gray, frame_gray, prevPts, None, **lk_params)\n",
    "   \n",
    "    # takip edeceğimiz noktaları belirleyelim\n",
    "    # eğer status==1 olması Tracking işleminde hata olmadığı manasına gelir\n",
    "    good_new = nextPts[status == 1]\n",
    "    good_prev = prevPts[status == 1]\n",
    "\n",
    "    # for döngüsüyle gezelim\n",
    "    for i ,(new,prev) in enumerate(zip(good_new,good_prev)):\n",
    "        x_new, y_new = map(int, new.ravel())\n",
    "        x_prev, y_prev = map(int, prev.ravel())\n",
    "        '''\n",
    "        Bu kod bloğu, iki dizi üzerinde eş zamanlı olarak iterasyon yapar ve bu dizilerdeki her bir öğeyi işler. \n",
    "            for i, (new, prev) in enumerate(zip(good_new, good_prev))::\n",
    "        zip(good_new, good_prev): Bu fonksiyon, iki diziyi eleman bazında eşleştirir ve her bir eşleştirilmiş çifti bir demet (tuple) olarak döner. Örneğin, good_new ve good_prev dizilerinin ilk elemanlarını new ve prev olarak birleştirir, ikinci elemanlarını ikinci demet olarak, vb.\n",
    "        enumerate(...): Bu fonksiyon, her bir eşleştirilmiş çiftin indeksini de döner. Yani, i indeksini, (new, prev) ise good_new ve good_prev dizilerinin eşleştirilmiş öğelerini temsil eder.\n",
    "        i: Bu, her iterasyonun indeksini temsil eder. Örneğin, ilk iterasyonda i sıfır olur, ikinci iterasyonda bir olur, vb.\n",
    "        new ve prev: Bunlar, good_new ve good_prev dizilerinden gelen eşleştirilmiş köşe noktalarını temsil eder. new yeni çerçevedeki köşe noktasını, prev ise önceki çerçevedeki köşe noktasını temsil eder.\n",
    "\n",
    "        x_new, y_new = new.ravel():\n",
    "        new: Bu, good_new dizisinden gelen bir köşe noktasıdır ve genellikle bir 2D koordinat içerir.\n",
    "        .ravel(): Bu NumPy fonksiyonu, bir diziyi düzleştirir. new genellikle (x, y) koordinatlarını içeren bir dizidir, ve new.ravel() bu diziyi düzleştirir (yani, [x, y] şeklinde bir dizi yapar).\n",
    "        x_new, y_new: Bu, new.ravel() tarafından döndürülen düzleştirilmiş dizinin elemanlarını sırasıyla x_new ve y_new değişkenlerine atar. Bu şekilde, yeni çerçevedeki köşe noktasının x ve y koordinatlarını almış oluruz.\n",
    "\n",
    "        Özet\n",
    "\n",
    "        Bu kod bloğu, good_new ve good_prev dizilerindeki her bir köşe noktası çifti için iterasyon yapar ve her çiftin yeni çerçevedeki (x, y) koordinatlarını elde eder. \n",
    "        Bu tür bir işlem genellikle nesne takibi, optik akış veya görüntüdeki hareketin izlenmesi gibi görevlerde kullanılır. \n",
    "        Her iterasyonda, new yeni çerçevedeki köşe noktasını, prev ise önceki çerçevedeki köşe noktasını temsil eder. \n",
    "        x_new ve y_new değişkenleri, yeni çerçevedeki köşe noktasının koordinatlarını tutar.\n",
    "        '''\n",
    "\n",
    "        # şimdi de çizgi ve daire çizeceğiz\n",
    "        mask = cv2.line(mask, (x_new, y_new), (x_prev, y_prev), (0, 0, 255), 3)\n",
    "        frame = cv2.circle(frame, (x_new, y_new), 8, (255, 0, 0), -1)\n",
    "\n",
    "    # 2 görüntüyü birleştirelim\n",
    "    img=cv2.add(frame,mask)\n",
    "    \n",
    "    cimg = cv2.add(frame, mask)\n",
    "\n",
    "    cv2.imshow(\"frame\", img)\n",
    "    if cv2.waitKey(30) & 0xff == ord('q'):\n",
    "        break\n",
    "\n",
    "    prev_gray = frame_gray.copy()\n",
    "    prevPts = good_new.reshape(-1, 1, 2)\n",
    "\n",
    "cv2.destroyAllWindows()\n",
    "cap.release()\n"
   ]
  },
  {
   "cell_type": "markdown",
   "metadata": {},
   "source": [
    "Özet:\n",
    "    cv2.goodFeaturesToTrack fonksiyonu, belirtilen parametrelere göre izlenecek iyi köşe noktalarını tespit eder.\n",
    "    cv2.calcOpticalFlowPyrLK fonksiyonu, bu köşe noktalarının yeni karedeki konumlarını hesaplar.\n",
    "    status dizisi, hangi noktaların başarıyla takip edildiğini belirler.\n",
    "    Başarıyla takip edilen noktalar üzerinde çizgi ve daire çizilerek görselleştirilir.\n",
    "\n",
    "Bu şekilde, köşe noktalarını tespit eder ve hareketlerini takip edersiniz. Köşe noktaları, Shi-Tomasi algoritması ile belirlenir ve bu noktalar, optik akış yöntemi ile bir kareden diğerine izlenir."
   ]
  }
 ],
 "metadata": {
  "kernelspec": {
   "display_name": "Python 3",
   "language": "python",
   "name": "python3"
  },
  "language_info": {
   "codemirror_mode": {
    "name": "ipython",
    "version": 3
   },
   "file_extension": ".py",
   "mimetype": "text/x-python",
   "name": "python",
   "nbconvert_exporter": "python",
   "pygments_lexer": "ipython3",
   "version": "3.10.12"
  }
 },
 "nbformat": 4,
 "nbformat_minor": 2
}
