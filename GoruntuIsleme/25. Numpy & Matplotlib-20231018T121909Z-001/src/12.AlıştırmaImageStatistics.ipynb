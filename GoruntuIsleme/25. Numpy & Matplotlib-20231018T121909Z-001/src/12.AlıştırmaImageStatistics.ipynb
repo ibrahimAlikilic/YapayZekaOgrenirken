{
 "cells": [
  {
   "cell_type": "markdown",
   "metadata": {},
   "source": [
    "Piksellerdeki renk değerlerini kullanarak istatistiksel hesaplamalar yaptıracağız"
   ]
  },
  {
   "cell_type": "code",
   "execution_count": 6,
   "metadata": {},
   "outputs": [],
   "source": [
    "import numpy as np\n",
    "import matplotlib.pyplot as plt"
   ]
  },
  {
   "cell_type": "code",
   "execution_count": 3,
   "metadata": {},
   "outputs": [
    {
     "name": "stdout",
     "output_type": "stream",
     "text": [
      "0\n",
      "255\n"
     ]
    }
   ],
   "source": [
    "img=plt.imread(\"11.2 smile.jpg.jpg\")\n",
    "print(img.min()) # arka plandaki en küçük sayısal değer\n",
    "print(img.max())"
   ]
  },
  {
   "cell_type": "code",
   "execution_count": 5,
   "metadata": {},
   "outputs": [
    {
     "name": "stdout",
     "output_type": "stream",
     "text": [
      "bu renklerin ortalaması :  183.1447342038341\n"
     ]
    }
   ],
   "source": [
    "print(\"bu renklerin ortalaması : \",img.mean())"
   ]
  },
  {
   "cell_type": "code",
   "execution_count": 8,
   "metadata": {},
   "outputs": [
    {
     "name": "stdout",
     "output_type": "stream",
     "text": [
      "median: 210.0\n",
      "average: 183.1447342038341\n",
      "bu renklerin ortalaması :  183.1447342038341\n"
     ]
    }
   ],
   "source": [
    "print(\"median:\",np.median(img))\n",
    "print(\"average:\" ,np.average(img))\n",
    "print(\"bu renklerin ortalaması : \",np.mean(img)) # bu şekillerde de olur"
   ]
  },
  {
   "cell_type": "code",
   "execution_count": null,
   "metadata": {},
   "outputs": [],
   "source": []
  }
 ],
 "metadata": {
  "kernelspec": {
   "display_name": "Python 3",
   "language": "python",
   "name": "python3"
  },
  "language_info": {
   "codemirror_mode": {
    "name": "ipython",
    "version": 3
   },
   "file_extension": ".py",
   "mimetype": "text/x-python",
   "name": "python",
   "nbconvert_exporter": "python",
   "pygments_lexer": "ipython3",
   "version": "3.11.4"
  }
 },
 "nbformat": 4,
 "nbformat_minor": 2
}
