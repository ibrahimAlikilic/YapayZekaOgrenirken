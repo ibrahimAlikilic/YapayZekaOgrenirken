{
 "cells": [
  {
   "cell_type": "code",
   "execution_count": 3,
   "metadata": {},
   "outputs": [],
   "source": [
    "import cv2\n",
    "import os\n",
    "\n",
    "vid = cv2.VideoCapture(\"input/4.2 dog.mp4.mp4\")\n",
    "# penceremi oluşturup boyutunu ayarlıyorum\n",
    "cv2.namedWindow(\"frame\", cv2.WINDOW_NORMAL)\n",
    "cv2.resizeWindow(\"frame\", 500, 500)\n",
    "\n",
    "# output adında klasörüm var mı diye kontrol edip yoksa oluşturuyorum\n",
    "output_folder = \"output\"\n",
    "if not os.path.exists(output_folder):\n",
    "    os.makedirs(output_folder)\n",
    "\n",
    "frame_counter = 0 # isimlendirme için sayaç\n",
    "\n",
    "while True:\n",
    "    ret, frame = vid.read()\n",
    "    # video bitince hata almamk için ret kontrolü\n",
    "    if not ret: \n",
    "        break\n",
    "    cv2.imshow(\"frame\", frame)\n",
    "\n",
    "    key = cv2.waitKey(20) & 0xFF\n",
    "\n",
    "    if key == ord(\"q\"):\n",
    "        break\n",
    "    elif key == ord(\"s\"):\n",
    "        frame_counter += 1\n",
    "        output_path = os.path.join(output_folder, f\"frame_{frame_counter}.png\") # yolu ve adı oluşturdum\n",
    "        cv2.imwrite(output_path, frame)  # bu adrese frame kaydet dedim\n",
    "        print(f\"Frame saved: {output_path}\") # ekranıma çıktı verdim\n",
    "\n",
    "vid.release()\n",
    "cv2.destroyAllWindows()\n"
   ]
  },
  {
   "cell_type": "code",
   "execution_count": null,
   "metadata": {},
   "outputs": [],
   "source": []
  }
 ],
 "metadata": {
  "kernelspec": {
   "display_name": "Python 3",
   "language": "python",
   "name": "python3"
  },
  "language_info": {
   "codemirror_mode": {
    "name": "ipython",
    "version": 3
   },
   "file_extension": ".py",
   "mimetype": "text/x-python",
   "name": "python",
   "nbconvert_exporter": "python",
   "pygments_lexer": "ipython3",
   "version": "3.10.12"
  }
 },
 "nbformat": 4,
 "nbformat_minor": 2
}
