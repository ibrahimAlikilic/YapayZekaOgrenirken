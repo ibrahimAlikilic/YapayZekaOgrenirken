{
 "cells": [
  {
   "cell_type": "markdown",
   "metadata": {},
   "source": [
    "# SS aldın ona bakarak değer ayarla tespit yap"
   ]
  },
  {
   "cell_type": "code",
   "execution_count": 1,
   "metadata": {},
   "outputs": [],
   "source": [
    "import cv2\n",
    "import numpy as np"
   ]
  },
  {
   "cell_type": "code",
   "execution_count": 2,
   "metadata": {},
   "outputs": [],
   "source": [
    "def nothing(x):\n",
    "    pass"
   ]
  },
  {
   "cell_type": "code",
   "execution_count": 3,
   "metadata": {},
   "outputs": [
    {
     "name": "stderr",
     "output_type": "stream",
     "text": [
      "qt.qpa.plugin: Could not find the Qt platform plugin \"wayland\" in \"/home/ibrahim/.local/lib/python3.10/site-packages/cv2/qt/plugins\"\n"
     ]
    }
   ],
   "source": [
    "'''HSL (hue, saturation, lightness) ve HSV (hue, saturation, value) \n",
    "(Türkçe: renk, doygunluk, açıklık ve renk, doygunluk, değer),\n",
    "1970'lerde bilgisayar grafikleri araştırmacıları tarafından insan vizyonunun renk \n",
    "oluşturma özelliklerini algılama biçimiyle daha yakından uyumlu olması için tasarlanan \n",
    "RGB renk modelinin alternatif temsilleridir. '''\n",
    "cv2.namedWindow(\"Trackbar\")\n",
    "cv2.resizeWindow(\"Trackbar\",500,500) # frame ya da görüntü yeniden boyutlandırmak için resize ama Trackbar için resizeWindow\n",
    "cv2.createTrackbar(\"Lower - H\",\"Trackbar\",0,180,nothing)# adı ,bulunacağı pencere adı , min değer , max değer\n",
    "cv2.createTrackbar(\"Lower - S\",\"Trackbar\",0,255,nothing)\n",
    "cv2.createTrackbar(\"Lower - V\",\"Trackbar\",0,255,nothing)\n",
    "\n",
    "cv2.createTrackbar(\"Upper - H\",\"Trackbar\",0,180,nothing)\n",
    "cv2.createTrackbar(\"Upper - S\",\"Trackbar\",0,255,nothing)\n",
    "cv2.createTrackbar(\"Upper - V\",\"Trackbar\",0,255,nothing)\n",
    "\n",
    "# Alt değerlerin 0 dan başlaması normal ama üst değerler için mantıksız o yüzden\n",
    "cv2.setTrackbarPos(\"Upper - H\",\"Trackbar\",180)\n",
    "cv2.setTrackbarPos(\"Upper - S\",\"Trackbar\",255)\n",
    "cv2.setTrackbarPos(\"Upper - V\",\"Trackbar\",255)\n",
    "\n",
    "cv2.namedWindow(\"Mask\",cv2.WINDOW_NORMAL)\n",
    "cv2.resizeWindow(\"Mask\",620,590)\n"
   ]
  },
  {
   "cell_type": "code",
   "execution_count": 4,
   "metadata": {},
   "outputs": [],
   "source": [
    "while True:\n",
    "    image_path = 'input/2.png'\n",
    "    img = cv2.imread(image_path)\n",
    "    frame=img\n",
    "    \n",
    "    # renkleri HSV formatına çeviriyoruz\n",
    "    frame_hsv=cv2.cvtColor(frame,cv2.COLOR_BGR2HSV)\n",
    "    \n",
    "    # şimdi trackebarlardaki pozisyonları alıcaz\n",
    "    lower_h=cv2.getTrackbarPos(\"Lower - H\",\"Trackbar\")\n",
    "    lower_s=cv2.getTrackbarPos(\"Lower - S\",\"Trackbar\")\n",
    "    lower_v=cv2.getTrackbarPos(\"Lower - V\",\"Trackbar\")\n",
    "    \n",
    "    upper_h=cv2.getTrackbarPos(\"Upper - H\",\"Trackbar\")\n",
    "    upper_s=cv2.getTrackbarPos(\"Upper - S\",\"Trackbar\")\n",
    "    upper_v=cv2.getTrackbarPos(\"Upper - V\",\"Trackbar\")\n",
    "    \n",
    "    # dizi içerisinde saklama aşamasına geldik\n",
    "    lower_color=np.array([lower_h,lower_s,lower_v])\n",
    "    upper_color=np.array([upper_h,upper_s,upper_v])\n",
    "    \n",
    "    mask=cv2.inRange(frame_hsv,lower_color,upper_color)\n",
    "    \n",
    "    # görüntüleme aşamasına geldik\n",
    "    cv2.imshow(\"Orijinal\",frame)\n",
    "    cv2.imshow(\"Mask\",mask)\n",
    "    \n",
    "    if cv2.waitKey(0) & 0xFF==ord(\"q\"):\n",
    "        break\n",
    "cv2.destroyAllWindows()"
   ]
  },
  {
   "cell_type": "code",
   "execution_count": null,
   "metadata": {},
   "outputs": [],
   "source": []
  }
 ],
 "metadata": {
  "kernelspec": {
   "display_name": "Python 3",
   "language": "python",
   "name": "python3"
  },
  "language_info": {
   "codemirror_mode": {
    "name": "ipython",
    "version": 3
   },
   "file_extension": ".py",
   "mimetype": "text/x-python",
   "name": "python",
   "nbconvert_exporter": "python",
   "pygments_lexer": "ipython3",
   "version": "3.10.12"
  },
  "orig_nbformat": 4
 },
 "nbformat": 4,
 "nbformat_minor": 2
}
