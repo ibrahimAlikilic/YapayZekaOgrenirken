{
 "cells": [
  {
   "cell_type": "code",
   "execution_count": 1,
   "metadata": {},
   "outputs": [],
   "source": [
    "import cv2\n",
    "import numpy as np\n",
    "from collections import deque\n",
    "import pyautogui\n",
    "\n",
    "cap = cv2.VideoCapture(0)"
   ]
  },
  {
   "cell_type": "code",
   "execution_count": 2,
   "metadata": {},
   "outputs": [
    {
     "name": "stderr",
     "output_type": "stream",
     "text": [
      "qt.qpa.plugin: Could not find the Qt platform plugin \"wayland\" in \"/home/ibrahim/.local/lib/python3.10/site-packages/cv2/qt/plugins\"\n"
     ]
    }
   ],
   "source": [
    "\n",
    "lower_blue = np.array([100, 108, 100])\n",
    "upper_blue = np.array([140, 255, 255])\n",
    "\n",
    "# Pencereleri oluşturma ve ayarlama\n",
    "cv2.namedWindow(\"frame\", cv2.WND_PROP_FULLSCREEN)\n",
    "cv2.setWindowProperty(\"frame\", cv2.WND_PROP_FULLSCREEN, cv2.WINDOW_FULLSCREEN)\n",
    "cv2.namedWindow(\"mask\", cv2.WND_PROP_FULLSCREEN)\n",
    "cv2.setWindowProperty(\"mask\", cv2.WND_PROP_FULLSCREEN, cv2.WINDOW_FULLSCREEN)\n",
    "\n",
    "while 1:\n",
    "    ret, frame = cap.read()\n",
    "    frame = cv2.flip(frame, 1)\n",
    "    hsv = cv2.cvtColor(frame, cv2.COLOR_BGR2HSV)\n",
    "\n",
    "    if ret is False:\n",
    "        break\n",
    "\n",
    "    # mask ayarı\n",
    "    mask = cv2.inRange(hsv, lower_blue, upper_blue)\n",
    "    mask = cv2.erode(mask, (5, 5), iterations=2)\n",
    "    mask = cv2.morphologyEx(mask, cv2.MORPH_OPEN, (5, 5))\n",
    "    mask = cv2.dilate(mask, (5, 5), iterations=1)\n",
    "\n",
    "    contours, _ = cv2.findContours(mask, cv2.RETR_TREE, cv2.CHAIN_APPROX_SIMPLE) # contours buldum\n",
    "\n",
    "    if len(contours) > 0:\n",
    "        max_contours = sorted(contours, key=cv2.contourArea, reverse=True)[0]\n",
    "        ((x, y), radius) = cv2.minEnclosingCircle(max_contours)\n",
    "        cv2.circle(frame, (int(x), int(y)), int(radius), (255, 0, 255), 3)\n",
    "        M = cv2.moments(max_contours)\n",
    "        try:\n",
    "            center = (int(M[\"m10\"] / M[\"m00\"]), int(M[\"m01\"] / M[\"m00\"]))\n",
    "            pyautogui.moveTo(center[0]*3, center[1]*2, duration=0.1)  # Mouse'u mavi cismin merkezine taşı\n",
    "        except ZeroDivisionError:\n",
    "            continue\n",
    "\n",
    "    cv2.imshow(\"frame\", frame)\n",
    "    cv2.imshow(\"mask\", mask)\n",
    "\n",
    "    # Çıkış koşulu\n",
    "    if cv2.waitKey(3) & 0xFF == ord('q'):\n",
    "        break\n",
    "\n",
    "cap.release()\n",
    "cv2.destroyAllWindows()"
   ]
  },
  {
   "cell_type": "code",
   "execution_count": null,
   "metadata": {},
   "outputs": [],
   "source": []
  }
 ],
 "metadata": {
  "kernelspec": {
   "display_name": "Python 3",
   "language": "python",
   "name": "python3"
  },
  "language_info": {
   "codemirror_mode": {
    "name": "ipython",
    "version": 3
   },
   "file_extension": ".py",
   "mimetype": "text/x-python",
   "name": "python",
   "nbconvert_exporter": "python",
   "pygments_lexer": "ipython3",
   "version": "3.10.12"
  }
 },
 "nbformat": 4,
 "nbformat_minor": 2
}
