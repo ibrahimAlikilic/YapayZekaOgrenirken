{
 "cells": [
  {
   "cell_type": "code",
   "execution_count": 1,
   "metadata": {},
   "outputs": [
    {
     "name": "stderr",
     "output_type": "stream",
     "text": [
      "qt.qpa.plugin: Could not find the Qt platform plugin \"wayland\" in \"/home/ibrahim/.local/lib/python3.10/site-packages/cv2/qt/plugins\"\n"
     ]
    }
   ],
   "source": [
    "import cv2\n",
    "import numpy as np\n",
    "\n",
    "cap = cv2.VideoCapture(0)\n",
    "\n",
    "lower_blue = np.array([100, 108, 100])\n",
    "upper_blue = np.array([140, 255, 255])\n",
    "\n",
    "# Pencereleri oluşturma ve ayarlama\n",
    "cv2.namedWindow(\"frame\", cv2.WND_PROP_FULLSCREEN)\n",
    "cv2.setWindowProperty(\"frame\", cv2.WND_PROP_FULLSCREEN, cv2.WINDOW_FULLSCREEN)\n",
    "cv2.namedWindow(\"mask\", cv2.WND_PROP_FULLSCREEN)\n",
    "cv2.setWindowProperty(\"mask\", cv2.WND_PROP_FULLSCREEN, cv2.WINDOW_FULLSCREEN)\n",
    "\n",
    "font = cv2.FONT_HERSHEY_SIMPLEX\n",
    "font_scale = 1\n",
    "font_color = (255, 255, 255)\n",
    "font_thickness = 2\n",
    "font_position = (10, 30)\n",
    "\n",
    "while 1:\n",
    "    ret, frame = cap.read()\n",
    "    if ret is False:\n",
    "        break\n",
    "    frame = cv2.flip(frame, 1)\n",
    "    hsv = cv2.cvtColor(frame, cv2.COLOR_BGR2HSV)\n",
    "    # Pencerenin boyutlarını\n",
    "    height, width, _ = frame.shape\n",
    "\n",
    "    # mask ayarı\n",
    "    mask = cv2.inRange(hsv, lower_blue, upper_blue)\n",
    "    mask = cv2.erode(mask, (5, 5), iterations=2)\n",
    "    mask = cv2.morphologyEx(mask, cv2.MORPH_OPEN, (5, 5))\n",
    "    mask = cv2.dilate(mask, (5, 5), iterations=1)\n",
    "\n",
    "    contours, _ = cv2.findContours(mask, cv2.RETR_TREE, cv2.CHAIN_APPROX_SIMPLE) # contours buldum\n",
    "\n",
    "    for contour in contours:\n",
    "        x, y, w, h = cv2.boundingRect(contour)\n",
    "        cv2.rectangle(frame, (x, y), (x + w, y + h), (0, 0, 255), 2)\n",
    "        cv2.line(frame, (x+(int)(w/2), 0), (x+(int)(w/2), height), (0, 255, 0), 1)\n",
    "        cv2.line(frame, (0, y+(int)(h/2)), (width, y+(int)(h/2)), (0, 255, 0), 1)\n",
    "\n",
    "    # Cisim sayısını ekrana yazdırma\n",
    "    object_count = len(contours)\n",
    "    cv2.putText(frame, f'Bulunan obje sayısı : {object_count}', font_position, font, font_scale, font_color, font_thickness)\n",
    "\n",
    "    cv2.imshow(\"frame\", frame)\n",
    "    cv2.imshow(\"mask\", mask)\n",
    "\n",
    "    # Çıkış koşulu\n",
    "    if cv2.waitKey(3) & 0xFF == ord('q'):\n",
    "        break\n",
    "\n",
    "cap.release()\n",
    "cv2.destroyAllWindows()\n"
   ]
  },
  {
   "cell_type": "code",
   "execution_count": null,
   "metadata": {},
   "outputs": [],
   "source": []
  }
 ],
 "metadata": {
  "kernelspec": {
   "display_name": "Python 3",
   "language": "python",
   "name": "python3"
  },
  "language_info": {
   "codemirror_mode": {
    "name": "ipython",
    "version": 3
   },
   "file_extension": ".py",
   "mimetype": "text/x-python",
   "name": "python",
   "nbconvert_exporter": "python",
   "pygments_lexer": "ipython3",
   "version": "3.10.12"
  }
 },
 "nbformat": 4,
 "nbformat_minor": 2
}
