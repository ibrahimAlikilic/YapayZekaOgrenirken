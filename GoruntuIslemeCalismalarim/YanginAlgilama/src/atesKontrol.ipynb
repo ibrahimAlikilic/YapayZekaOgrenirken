{
 "cells": [
  {
   "cell_type": "code",
   "execution_count": 1,
   "metadata": {},
   "outputs": [
    {
     "name": "stderr",
     "output_type": "stream",
     "text": [
      "qt.qpa.plugin: Could not find the Qt platform plugin \"wayland\" in \"/home/ibrahim/.local/lib/python3.10/site-packages/cv2/qt/plugins\"\n"
     ]
    },
    {
     "name": "stdout",
     "output_type": "stream",
     "text": [
      "YANGİN\n",
      "YANGİN\n",
      "YANGİN\n",
      "YANGİN\n",
      "YANGİN\n",
      "YANGİN\n",
      "YANGİN\n",
      "YANGİN\n",
      "YANGİN\n",
      "YANGİN\n",
      "YANGİN\n",
      "YANGİN\n",
      "YANGİN\n",
      "YANGİN\n",
      "YANGİN\n",
      "YANGİN\n",
      "YANGİN\n",
      "YANGİN\n",
      "YANGİN\n",
      "YANGİN\n",
      "YANGİN\n",
      "YANGİN\n",
      "YANGİN\n",
      "YANGİN\n",
      "YANGİN\n",
      "YANGİN\n",
      "YANGİN\n",
      "YANGİN\n",
      "YANGİN\n",
      "YANGİN\n",
      "YANGİN\n"
     ]
    }
   ],
   "source": [
    "# bunda aynı bölge mi kontrolü var\n",
    "import cv2\n",
    "# kameramı açtım\n",
    "cap = cv2.VideoCapture(0)\n",
    "# cascadelerimi okudum\n",
    "fire_cascade1 = cv2.CascadeClassifier(\"input/fireCascade.xml\")\n",
    "fire_cascade2 = cv2.CascadeClassifier(\"input/fireCascade2.xml\")\n",
    "\n",
    "sayac = 0 # süre için\n",
    "last_fire_rects = []  # Son algılanan yangın dikdörtgenlerinin listesi\n",
    "\n",
    "while 1:\n",
    "    # okuma ve grileştieme\n",
    "    ret, frame = cap.read()\n",
    "    frame = cv2.flip(frame, 1)\n",
    "    gray = cv2.cvtColor(frame, cv2.COLOR_BGR2GRAY)\n",
    "    fire1 = fire_cascade1.detectMultiScale(gray, 1.3, 2)\n",
    "    fire2 = fire_cascade2.detectMultiScale(gray, 1.3, 2)\n",
    "\n",
    "    # Son algılanan yangın bölgelerini temizle\n",
    "    last_fire_rects = []\n",
    "\n",
    "    # Yangın bölgelerini işaretle ve son algılanan yangın bölgelerini kaydet\n",
    "    for (x, y, w, h) in fire1:\n",
    "        cv2.rectangle(frame, (x, y), (x + w, y + h), (0, 255,0), 2)\n",
    "        last_fire_rects.append((x, y, w, h))\n",
    "    for (x, y, w, h) in fire2:\n",
    "        cv2.rectangle(frame, (x, y), (x + w, y + h), (255, 0, 0), 2)\n",
    "        last_fire_rects.append((x, y, w, h))\n",
    "\n",
    "    # Yangın bölgesinde algılama yapıldığında sayacı artır\n",
    "    if len(fire1) > 0 and len(fire2) > 0:\n",
    "        sayac += 1\n",
    "        if sayac >= 175:  # 10 saniye için 175 kare (1 saniyede 25 kare olduğu varsayılarak)\n",
    "            # Son algılanan yangın bölgelerini kontrol et\n",
    "            # Koordinatlar aynı mı diye bak\n",
    "            if last_fire_rects[0]==last_fire_rects[1]:\n",
    "                cv2.putText(frame, \"YANGIN\", (10, 30), cv2.FONT_HERSHEY_SIMPLEX, 1, (0, 0, 255), 2)\n",
    "                print(\"YANGİN\")\n",
    "            ''' Burada aynı mı diye değil de yakın mı diye kontrol ediyoruz hangisi daha uygun olur karar veremedim\n",
    "            x1, y1, w1, h1 = last_fire_rects[0]  # fire1'den gelen ilk dikdörtgen\n",
    "            x2, y2, w2, h2 = last_fire_rects[1]  # fire2'den gelen ilk dikdörtgen\n",
    "            # Eğer koordinatlar birbirine yakınsa, aynı yeri gösteriyoruz\n",
    "            if abs(x1 - x2) <= 20 and abs(y1 - y2) <= 20:\n",
    "                cv2.putText(frame, \"YANGIN\", (10, 30), cv2.FONT_HERSHEY_SIMPLEX, 1, (0, 0, 255), 2)\n",
    "                print(\"YANGİN\")\n",
    "            '''\n",
    "    else:\n",
    "        sayac = 0\n",
    "\n",
    "    cv2.putText(frame, f\"Sayac : {sayac}\", (10, 30), cv2.FONT_HERSHEY_SIMPLEX, 1, (255, 0, 0), 2)\n",
    "\n",
    "    cv2.imshow(\"frame\", frame)\n",
    "    if cv2.waitKey(20) & 0xFF == ord('q'):\n",
    "        break\n",
    "\n",
    "cap.release()\n",
    "cv2.destroyAllWindows()\n"
   ]
  },
  {
   "cell_type": "code",
   "execution_count": null,
   "metadata": {},
   "outputs": [],
   "source": []
  }
 ],
 "metadata": {
  "kernelspec": {
   "display_name": "Python 3",
   "language": "python",
   "name": "python3"
  },
  "language_info": {
   "codemirror_mode": {
    "name": "ipython",
    "version": 3
   },
   "file_extension": ".py",
   "mimetype": "text/x-python",
   "name": "python",
   "nbconvert_exporter": "python",
   "pygments_lexer": "ipython3",
   "version": "3.10.12"
  }
 },
 "nbformat": 4,
 "nbformat_minor": 2
}
